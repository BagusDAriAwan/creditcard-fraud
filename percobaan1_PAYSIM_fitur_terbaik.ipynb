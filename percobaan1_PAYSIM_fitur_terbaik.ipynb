{
  "nbformat": 4,
  "nbformat_minor": 0,
  "metadata": {
    "colab": {
      "name": "percobaan1-PAYSIM-fitur_terbaik.ipynb",
      "version": "0.3.2",
      "provenance": [],
      "collapsed_sections": [],
      "include_colab_link": true
    },
    "language_info": {
      "codemirror_mode": {
        "name": "ipython",
        "version": 3
      },
      "file_extension": ".py",
      "mimetype": "text/x-python",
      "name": "python",
      "nbconvert_exporter": "python",
      "pygments_lexer": "ipython3",
      "version": "3.7.2"
    },
    "kernelspec": {
      "name": "python3",
      "display_name": "Python 3"
    },
    "accelerator": "GPU"
  },
  "cells": [
    {
      "cell_type": "markdown",
      "metadata": {
        "id": "view-in-github",
        "colab_type": "text"
      },
      "source": [
        "<a href=\"https://colab.research.google.com/github/BagusDAriAwan/creditcard-fraud/blob/master/percobaan1_PAYSIM_fitur_terbaik.ipynb\" target=\"_parent\"><img src=\"https://colab.research.google.com/assets/colab-badge.svg\" alt=\"Open In Colab\"/></a>"
      ]
    },
    {
      "cell_type": "code",
      "metadata": {
        "_cell_guid": "b1076dfc-b9ad-4769-8c92-a6c4dae69d19",
        "_uuid": "8f2839f25d086af736a60e9eeb907d3b93b6e0e5",
        "id": "22FDysHu394t",
        "colab_type": "code",
        "colab": {}
      },
      "source": [
        "import math\n",
        "import collections\n",
        "import time\n",
        "from scipy import stats"
      ],
      "execution_count": 0,
      "outputs": []
    },
    {
      "cell_type": "code",
      "metadata": {
        "id": "KRq2vXuekIhB",
        "colab_type": "code",
        "outputId": "1ca657af-6833-43c1-a14f-9158253e4d42",
        "colab": {
          "base_uri": "https://localhost:8080/",
          "height": 35
        }
      },
      "source": [
        "from google.colab import drive\n",
        "drive.mount('/content/drive')"
      ],
      "execution_count": 8,
      "outputs": [
        {
          "output_type": "stream",
          "text": [
            "Drive already mounted at /content/drive; to attempt to forcibly remount, call drive.mount(\"/content/drive\", force_remount=True).\n"
          ],
          "name": "stdout"
        }
      ]
    },
    {
      "cell_type": "code",
      "metadata": {
        "_cell_guid": "79c7e3d0-c299-4dcb-8224-4455121ee9b0",
        "_uuid": "d629ff2d2480ee46fbb7e2d37f6b5fab8052498a",
        "id": "tbTfL4fy3943",
        "colab_type": "code",
        "colab": {}
      },
      "source": [
        "from sklearn.externals.six import StringIO  \n",
        "import pydotplus"
      ],
      "execution_count": 0,
      "outputs": []
    },
    {
      "cell_type": "code",
      "metadata": {
        "id": "zMphm3tmtXQ1",
        "colab_type": "code",
        "colab": {}
      },
      "source": [
        "import pandas as pd\n",
        "import numpy as np\n",
        "%matplotlib inline\n",
        "import matplotlib.pyplot as plt\n",
        "import matplotlib.lines as mlines\n",
        "from mpl_toolkits.mplot3d import Axes3D\n",
        "import seaborn as sb\n",
        "from sklearn.model_selection import train_test_split, learning_curve"
      ],
      "execution_count": 0,
      "outputs": []
    },
    {
      "cell_type": "code",
      "metadata": {
        "id": "MAkbZM4v395F",
        "colab_type": "code",
        "colab": {}
      },
      "source": [
        "# np.random.seed(1)"
      ],
      "execution_count": 0,
      "outputs": []
    },
    {
      "cell_type": "code",
      "metadata": {
        "id": "c5HYDZW8395L",
        "colab_type": "code",
        "colab": {}
      },
      "source": [
        "def confussion_matrik(actual,predict):\n",
        "    TP,FP,FN,TN = 0,0,0,0\n",
        "    for i,val in enumerate(actual):\n",
        "        if val == 0:\n",
        "            if val == predict[i]:\n",
        "                TN += 1\n",
        "            else:\n",
        "                FP += 1\n",
        "        if val == 1:\n",
        "            if val == predict[i]:\n",
        "                TP += 1\n",
        "            else:\n",
        "                FN += 1\n",
        "    return TP,FP,FN,TN\n",
        " \n",
        "def acc_sens_spec(actual,predict):\n",
        "    TP,FP,FN,TN = confussion_matrik(actual,predict)\n",
        "# akurasi\n",
        "    if (TP+FP+FN+TN) == 0 :\n",
        "        accuracy = 0 \n",
        "    else :\n",
        "        accuracy = (TP+TN)/(TP+FP+FN+TN)\n",
        "        \n",
        "# sensitivity\n",
        "    if (TP+FN) == 0 :\n",
        "        sensitivity = 0\n",
        "    else :\n",
        "        sensitivity = TP/(TP+FN)\n",
        "        \n",
        "# specifity    \n",
        "    if (TN +FP) == 0 :\n",
        "        specifity = 0\n",
        "    else :\n",
        "        specifity = TN/(TN +FP)\n",
        "        \n",
        "# precision\n",
        "    if (TP+FP) == 0 :\n",
        "        precision = 0\n",
        "    else :\n",
        "        precision = TP/(TP+FP)\n",
        "\n",
        "# recall\n",
        "    recall = sensitivity\n",
        "\n",
        "# f1_score\n",
        "    if (precision+recall) == 0 :\n",
        "        f1_score = 0\n",
        "    else :\n",
        "        f1_score = 2*((precision*recall)/(precision+recall))  \n",
        "    \n",
        "    return accuracy,sensitivity,specifity,precision,recall,f1_score\n",
        "\n",
        "# Calculate accuracy percentage\n",
        "def accuracy_metric(actual, predicted):\n",
        "    #how many correct predictions?\n",
        "    correct = 0\n",
        "    #for each actual label\n",
        "    for i in range(len(actual)):\n",
        "        #if actual matches predicted label\n",
        "        if actual[i] == predicted[i]:\n",
        "            #add 1 to the correct iterator\n",
        "            correct += 1\n",
        "    #return percentage of predictions that were correct\n",
        "    return correct / float(len(actual)) * 100.0"
      ],
      "execution_count": 0,
      "outputs": []
    },
    {
      "cell_type": "code",
      "metadata": {
        "id": "v9PVS2Z-395k",
        "colab_type": "code",
        "colab": {}
      },
      "source": [
        "from sklearn.decomposition import PCA\n",
        "import pylab as pl\n",
        "def plot_this(X_rs,y_rs,method):\n",
        "  # Use principal component to condense the 10 features to 2 features\n",
        "  pca = PCA(n_components=2).fit(X_rs)\n",
        "  pca_2d = pca.transform(X_rs)\n",
        "  # Assign colors\n",
        "  for i in range(0, pca_2d.shape[0]):\n",
        "    if y_rs[i] == 0:\n",
        "      c1 = pl.scatter(pca_2d[i,0],pca_2d[i,1],c='r', marker='o')\n",
        "    elif y_rs[i] == 1:\n",
        "      c2 = pl.scatter(pca_2d[i,0],pca_2d[i,1],c='g', marker='*')  \n",
        "  pl.legend([c1, c2], ['Class 1', 'Class 2'])\n",
        "  pl.title(method)\n",
        "  pl.axis([-4, 5, -4, 4])  # x axis (-4,5), y axis (-4,4)\n",
        "  pl.show()\n",
        "    \n"
      ],
      "execution_count": 0,
      "outputs": []
    },
    {
      "cell_type": "code",
      "metadata": {
        "id": "kadG5kuI_1Nu",
        "colab_type": "code",
        "colab": {}
      },
      "source": [
        "def convert(y):\n",
        "    for i in range(y.shape[0]):\n",
        "        if y[i]==-1:\n",
        "            y[i]=1;\n",
        "        else:\n",
        "            y[i]=0\n",
        "    return y"
      ],
      "execution_count": 0,
      "outputs": []
    },
    {
      "cell_type": "code",
      "metadata": {
        "id": "GxDkmVJXAh3-",
        "colab_type": "code",
        "colab": {}
      },
      "source": [
        "from sklearn.ensemble import IsolationForest\n",
        "def iForest(X, ntree, sample, th):\n",
        "    ifor = IsolationForest(n_estimators=ntree, max_samples=sample, contamination=th, random_state=1)\n",
        "#     ifor = IsolationForest(n_estimators=100, max_samples='auto', contamination=0.0039, max_features=1.0, random_state=42, verbose=0)\n",
        "    ifor.fit(X)\n",
        "    return ifor"
      ],
      "execution_count": 0,
      "outputs": []
    },
    {
      "cell_type": "code",
      "metadata": {
        "id": "k-doo_j4AtBd",
        "colab_type": "code",
        "colab": {}
      },
      "source": [
        "def model_evaluate(ifor,X,y):\n",
        "    ts = time.time()\n",
        "    y_pred=ifor.predict(X)\n",
        "    tf = time.time()\n",
        "    print('time : ', tf-ts)\n",
        "    y_pred=convert(y_pred)\n",
        "    \n",
        "    accuracy,sensitivity,specifity,precision,recall,f1_score = acc_sens_spec(y,y_pred)\n",
        "    print('accuracy : ',accuracy)\n",
        "    print('sensitivity : ',sensitivity)\n",
        "    print('specifity : ', specifity)\n",
        "    print('precision : ',precision)\n",
        "    print('recall : ',recall)\n",
        "    print('f1 score : ',f1_score)\n",
        "    print('Confusion matrix')\n",
        "    TP,FP,FN,TN = confussion_matrik(y,y_pred)\n",
        "    print('TP = ',TP,'FP = ',FP,'FN = ',FN,'TN = ',TN)\n",
        "    df_cm = pd.DataFrame([[TN,FP],[FN,TP]],\n",
        "                  ['True Normal','True Fraud'],['Pred Normal','Pred Fraud'])\n",
        "    plt.figure(figsize = (8,4))\n",
        "    sb.set(font_scale=1.4)#for label size\n",
        "    sb.heatmap(df_cm, annot=True,annot_kws={\"size\": 16},fmt='g')# font size"
      ],
      "execution_count": 0,
      "outputs": []
    },
    {
      "cell_type": "code",
      "metadata": {
        "id": "oBIVfRWgAyyQ",
        "colab_type": "code",
        "colab": {}
      },
      "source": [
        "def eval_model(ifor,X,y):\n",
        "#     ts = time.time()\n",
        "    y_pred=ifor.predict(X)\n",
        "#     tf = time.time()\n",
        "    y_pred=convert(y_pred)\n",
        "    accuracy,sensitivity,specifity,precision,recall,f1_score = acc_sens_spec(y,y_pred)\n",
        "    return accuracy,sensitivity,specifity,precision,recall,f1_score"
      ],
      "execution_count": 0,
      "outputs": []
    },
    {
      "cell_type": "markdown",
      "metadata": {
        "id": "FCAnjxbX395s",
        "colab_type": "text"
      },
      "source": [
        "## ---------"
      ]
    },
    {
      "cell_type": "code",
      "metadata": {
        "id": "dBC8yAEd3954",
        "colab_type": "code",
        "colab": {}
      },
      "source": [
        "df = pd.read_csv(\"drive/My Drive/Colab Notebooks/paysim/paysimdata.csv\")\n",
        "df['Class'] = df['isFraud']\n",
        "df = df.drop(['isFraud'], axis=1)"
      ],
      "execution_count": 0,
      "outputs": []
    },
    {
      "cell_type": "code",
      "metadata": {
        "id": "gl55E3qX396A",
        "colab_type": "code",
        "outputId": "01c61475-f85d-4c2a-e4bb-8aa752454c7c",
        "colab": {
          "base_uri": "https://localhost:8080/",
          "height": 35
        }
      },
      "source": [
        "df.shape"
      ],
      "execution_count": 19,
      "outputs": [
        {
          "output_type": "execute_result",
          "data": {
            "text/plain": [
              "(6362620, 11)"
            ]
          },
          "metadata": {
            "tags": []
          },
          "execution_count": 19
        }
      ]
    },
    {
      "cell_type": "code",
      "metadata": {
        "scrolled": true,
        "id": "TgGWtIER396Y",
        "colab_type": "code",
        "outputId": "38056b99-398b-4d03-aeb8-9bd8328df527",
        "colab": {
          "base_uri": "https://localhost:8080/",
          "height": 311
        }
      },
      "source": [
        "df.info()"
      ],
      "execution_count": 20,
      "outputs": [
        {
          "output_type": "stream",
          "text": [
            "<class 'pandas.core.frame.DataFrame'>\n",
            "RangeIndex: 6362620 entries, 0 to 6362619\n",
            "Data columns (total 11 columns):\n",
            "step              int64\n",
            "type              object\n",
            "amount            float64\n",
            "nameOrig          object\n",
            "oldbalanceOrg     float64\n",
            "newbalanceOrig    float64\n",
            "nameDest          object\n",
            "oldbalanceDest    float64\n",
            "newbalanceDest    float64\n",
            "isFlaggedFraud    int64\n",
            "Class             int64\n",
            "dtypes: float64(5), int64(3), object(3)\n",
            "memory usage: 534.0+ MB\n"
          ],
          "name": "stdout"
        }
      ]
    },
    {
      "cell_type": "code",
      "metadata": {
        "id": "yexsmrNA396g",
        "colab_type": "code",
        "outputId": "d93222e2-e04f-400a-fc95-5ed300d65dbf",
        "colab": {
          "base_uri": "https://localhost:8080/",
          "height": 72
        }
      },
      "source": [
        "df['Class'].value_counts()"
      ],
      "execution_count": 21,
      "outputs": [
        {
          "output_type": "execute_result",
          "data": {
            "text/plain": [
              "0    6354407\n",
              "1       8213\n",
              "Name: Class, dtype: int64"
            ]
          },
          "metadata": {
            "tags": []
          },
          "execution_count": 21
        }
      ]
    },
    {
      "cell_type": "code",
      "metadata": {
        "id": "QAZze2R5396q",
        "colab_type": "code",
        "outputId": "e075160f-c9ea-46e4-fa2a-ff725552eaaa",
        "colab": {
          "base_uri": "https://localhost:8080/",
          "height": 421
        }
      },
      "source": [
        "plt.figure(1,figsize=(5, 5), dpi=80)\n",
        "plt.grid(color='b', linestyle='-', linewidth=0.2)\n",
        "plt.title('Class Distributions \\n (0: No Fraud || 1: Fraud)', fontsize=14)\n",
        "sb.countplot('Class', data=df,palette='Set2')\n"
      ],
      "execution_count": 22,
      "outputs": [
        {
          "output_type": "execute_result",
          "data": {
            "text/plain": [
              "<matplotlib.axes._subplots.AxesSubplot at 0x7f3e8149fcc0>"
            ]
          },
          "metadata": {
            "tags": []
          },
          "execution_count": 22
        },
        {
          "output_type": "display_data",
          "data": {
            "image/png": "[encoded data removed]",
            "text/plain": [
              "<Figure size 400x400 with 1 Axes>"
            ]
          },
          "metadata": {
            "tags": []
          }
        }
      ]
    },
    {
      "cell_type": "code",
      "metadata": {
        "id": "UKC6IDWt3962",
        "colab_type": "code",
        "outputId": "4f957114-8763-4344-c382-7558af16ddcb",
        "colab": {
          "base_uri": "https://localhost:8080/",
          "height": 35
        }
      },
      "source": [
        "count = 0\n",
        "for a in df.columns:\n",
        "    if df[a].isnull().sum() > 0 :\n",
        "        print(a)\n",
        "        count+=1\n",
        "count"
      ],
      "execution_count": 23,
      "outputs": [
        {
          "output_type": "execute_result",
          "data": {
            "text/plain": [
              "0"
            ]
          },
          "metadata": {
            "tags": []
          },
          "execution_count": 23
        }
      ]
    },
    {
      "cell_type": "code",
      "metadata": {
        "id": "0Z7udCLl397c",
        "colab_type": "code",
        "outputId": "7422f1da-78a3-4543-cd5f-1288390a121f",
        "colab": {
          "base_uri": "https://localhost:8080/",
          "height": 35
        }
      },
      "source": [
        "len(df.columns)"
      ],
      "execution_count": 24,
      "outputs": [
        {
          "output_type": "execute_result",
          "data": {
            "text/plain": [
              "11"
            ]
          },
          "metadata": {
            "tags": []
          },
          "execution_count": 24
        }
      ]
    },
    {
      "cell_type": "code",
      "metadata": {
        "id": "fk2n9eoQ397j",
        "colab_type": "code",
        "outputId": "58a5a68e-344d-42bc-8cb8-5949435ebc1d",
        "colab": {
          "base_uri": "https://localhost:8080/",
          "height": 363
        }
      },
      "source": [
        "df.head(10)"
      ],
      "execution_count": 25,
      "outputs": [
        {
          "output_type": "execute_result",
          "data": {
            "text/html": [
              "<div>\n",
              "<style scoped>\n",
              "    .dataframe tbody tr th:only-of-type {\n",
              "        vertical-align: middle;\n",
              "    }\n",
              "\n",
              "    .dataframe tbody tr th {\n",
              "        vertical-align: top;\n",
              "    }\n",
              "\n",
              "    .dataframe thead th {\n",
              "        text-align: right;\n",
              "    }\n",
              "</style>\n",
              "<table border=\"1\" class=\"dataframe\">\n",
              "  <thead>\n",
              "    <tr style=\"text-align: right;\">\n",
              "      <th></th>\n",
              "      <th>step</th>\n",
              "      <th>type</th>\n",
              "      <th>amount</th>\n",
              "      <th>nameOrig</th>\n",
              "      <th>oldbalanceOrg</th>\n",
              "      <th>newbalanceOrig</th>\n",
              "      <th>nameDest</th>\n",
              "      <th>oldbalanceDest</th>\n",
              "      <th>newbalanceDest</th>\n",
              "      <th>isFlaggedFraud</th>\n",
              "      <th>Class</th>\n",
              "    </tr>\n",
              "  </thead>\n",
              "  <tbody>\n",
              "    <tr>\n",
              "      <th>0</th>\n",
              "      <td>1</td>\n",
              "      <td>PAYMENT</td>\n",
              "      <td>9839.64</td>\n",
              "      <td>C1231006815</td>\n",
              "      <td>170136.00</td>\n",
              "      <td>160296.36</td>\n",
              "      <td>M1979787155</td>\n",
              "      <td>0.0</td>\n",
              "      <td>0.00</td>\n",
              "      <td>0</td>\n",
              "      <td>0</td>\n",
              "    </tr>\n",
              "    <tr>\n",
              "      <th>1</th>\n",
              "      <td>1</td>\n",
              "      <td>PAYMENT</td>\n",
              "      <td>1864.28</td>\n",
              "      <td>C1666544295</td>\n",
              "      <td>21249.00</td>\n",
              "      <td>19384.72</td>\n",
              "      <td>M2044282225</td>\n",
              "      <td>0.0</td>\n",
              "      <td>0.00</td>\n",
              "      <td>0</td>\n",
              "      <td>0</td>\n",
              "    </tr>\n",
              "    <tr>\n",
              "      <th>2</th>\n",
              "      <td>1</td>\n",
              "      <td>TRANSFER</td>\n",
              "      <td>181.00</td>\n",
              "      <td>C1305486145</td>\n",
              "      <td>181.00</td>\n",
              "      <td>0.00</td>\n",
              "      <td>C553264065</td>\n",
              "      <td>0.0</td>\n",
              "      <td>0.00</td>\n",
              "      <td>0</td>\n",
              "      <td>1</td>\n",
              "    </tr>\n",
              "    <tr>\n",
              "      <th>3</th>\n",
              "      <td>1</td>\n",
              "      <td>CASH_OUT</td>\n",
              "      <td>181.00</td>\n",
              "      <td>C840083671</td>\n",
              "      <td>181.00</td>\n",
              "      <td>0.00</td>\n",
              "      <td>C38997010</td>\n",
              "      <td>21182.0</td>\n",
              "      <td>0.00</td>\n",
              "      <td>0</td>\n",
              "      <td>1</td>\n",
              "    </tr>\n",
              "    <tr>\n",
              "      <th>4</th>\n",
              "      <td>1</td>\n",
              "      <td>PAYMENT</td>\n",
              "      <td>11668.14</td>\n",
              "      <td>C2048537720</td>\n",
              "      <td>41554.00</td>\n",
              "      <td>29885.86</td>\n",
              "      <td>M1230701703</td>\n",
              "      <td>0.0</td>\n",
              "      <td>0.00</td>\n",
              "      <td>0</td>\n",
              "      <td>0</td>\n",
              "    </tr>\n",
              "    <tr>\n",
              "      <th>5</th>\n",
              "      <td>1</td>\n",
              "      <td>PAYMENT</td>\n",
              "      <td>7817.71</td>\n",
              "      <td>C90045638</td>\n",
              "      <td>53860.00</td>\n",
              "      <td>46042.29</td>\n",
              "      <td>M573487274</td>\n",
              "      <td>0.0</td>\n",
              "      <td>0.00</td>\n",
              "      <td>0</td>\n",
              "      <td>0</td>\n",
              "    </tr>\n",
              "    <tr>\n",
              "      <th>6</th>\n",
              "      <td>1</td>\n",
              "      <td>PAYMENT</td>\n",
              "      <td>7107.77</td>\n",
              "      <td>C154988899</td>\n",
              "      <td>183195.00</td>\n",
              "      <td>176087.23</td>\n",
              "      <td>M408069119</td>\n",
              "      <td>0.0</td>\n",
              "      <td>0.00</td>\n",
              "      <td>0</td>\n",
              "      <td>0</td>\n",
              "    </tr>\n",
              "    <tr>\n",
              "      <th>7</th>\n",
              "      <td>1</td>\n",
              "      <td>PAYMENT</td>\n",
              "      <td>7861.64</td>\n",
              "      <td>C1912850431</td>\n",
              "      <td>176087.23</td>\n",
              "      <td>168225.59</td>\n",
              "      <td>M633326333</td>\n",
              "      <td>0.0</td>\n",
              "      <td>0.00</td>\n",
              "      <td>0</td>\n",
              "      <td>0</td>\n",
              "    </tr>\n",
              "    <tr>\n",
              "      <th>8</th>\n",
              "      <td>1</td>\n",
              "      <td>PAYMENT</td>\n",
              "      <td>4024.36</td>\n",
              "      <td>C1265012928</td>\n",
              "      <td>2671.00</td>\n",
              "      <td>0.00</td>\n",
              "      <td>M1176932104</td>\n",
              "      <td>0.0</td>\n",
              "      <td>0.00</td>\n",
              "      <td>0</td>\n",
              "      <td>0</td>\n",
              "    </tr>\n",
              "    <tr>\n",
              "      <th>9</th>\n",
              "      <td>1</td>\n",
              "      <td>DEBIT</td>\n",
              "      <td>5337.77</td>\n",
              "      <td>C712410124</td>\n",
              "      <td>41720.00</td>\n",
              "      <td>36382.23</td>\n",
              "      <td>C195600860</td>\n",
              "      <td>41898.0</td>\n",
              "      <td>40348.79</td>\n",
              "      <td>0</td>\n",
              "      <td>0</td>\n",
              "    </tr>\n",
              "  </tbody>\n",
              "</table>\n",
              "</div>"
            ],
            "text/plain": [
              "   step      type    amount  ... newbalanceDest  isFlaggedFraud  Class\n",
              "0     1   PAYMENT   9839.64  ...           0.00               0      0\n",
              "1     1   PAYMENT   1864.28  ...           0.00               0      0\n",
              "2     1  TRANSFER    181.00  ...           0.00               0      1\n",
              "3     1  CASH_OUT    181.00  ...           0.00               0      1\n",
              "4     1   PAYMENT  11668.14  ...           0.00               0      0\n",
              "5     1   PAYMENT   7817.71  ...           0.00               0      0\n",
              "6     1   PAYMENT   7107.77  ...           0.00               0      0\n",
              "7     1   PAYMENT   7861.64  ...           0.00               0      0\n",
              "8     1   PAYMENT   4024.36  ...           0.00               0      0\n",
              "9     1     DEBIT   5337.77  ...       40348.79               0      0\n",
              "\n",
              "[10 rows x 11 columns]"
            ]
          },
          "metadata": {
            "tags": []
          },
          "execution_count": 25
        }
      ]
    },
    {
      "cell_type": "code",
      "metadata": {
        "id": "4N_0YeQ2397p",
        "colab_type": "code",
        "colab": {}
      },
      "source": [
        "df = df.rename(columns={'oldbalanceOrg':'oldBalanceOrig', 'newbalanceOrig':'newBalanceOrig',\n",
        "                        'oldbalanceDest':'oldBalanceDest', 'newbalanceDest':'newBalanceDest'})"
      ],
      "execution_count": 0,
      "outputs": []
    },
    {
      "cell_type": "code",
      "metadata": {
        "id": "pVnvdUNA397u",
        "colab_type": "code",
        "outputId": "832a3295-7036-4420-d372-b90ebe079341",
        "colab": {
          "base_uri": "https://localhost:8080/",
          "height": 35
        }
      },
      "source": [
        "df.isnull().values.any()"
      ],
      "execution_count": 27,
      "outputs": [
        {
          "output_type": "execute_result",
          "data": {
            "text/plain": [
              "False"
            ]
          },
          "metadata": {
            "tags": []
          },
          "execution_count": 27
        }
      ]
    },
    {
      "cell_type": "markdown",
      "metadata": {
        "id": "uh9J6nJhEK72",
        "colab_type": "text"
      },
      "source": [
        "----------------------------------"
      ]
    },
    {
      "cell_type": "markdown",
      "metadata": {
        "id": "qOkRFKnJEEMJ",
        "colab_type": "text"
      },
      "source": [
        "2.1. Which types of transactions are fraudulent?\n",
        "We find that of the five types of transactions, fraud occurs only in two of them (see also kernels by Net, Philipp Schmidt and Ibe_Noriaki): 'TRANSFER' where money is sent to a customer / fraudster and 'CASH_OUT' where money is sent to a merchant who pays the customer / fraudster in cash. Remarkably, the number of fraudulent TRANSFERs almost equals the number of fraudulent CASH_OUTs (see the right half of the plot in section 5.1). These observations appear, at first, to bear out the description provided on Kaggle for the modus operandi of fraudulent transactions in this dataset, namely, fraud is committed by first transferring out funds to another account which subsequently cashes it out. We will return to this issue later in section 2.4"
      ]
    },
    {
      "cell_type": "code",
      "metadata": {
        "id": "KD_TlEgGDhD6",
        "colab_type": "code",
        "colab": {}
      },
      "source": [
        "# print('\\n The types of fraudulent transactions are {}'.format(\\\n",
        "# list(df.loc[df.Class == 1].type.drop_duplicates().values))) # only 'CASH_OUT' \n",
        "#                                                              # & 'TRANSFER'\n",
        "\n",
        "# dfFraudTransfer = df.loc[(df.Class == 1) & (df.type == 'TRANSFER')]\n",
        "# dfFraudCashout = df.loc[(df.Class == 1) & (df.type == 'CASH_OUT')]\n",
        "\n",
        "# print ('\\n The number of fraudulent TRANSFERs = {}'.\\\n",
        "#        format(len(dfFraudTransfer))) # 4097\n",
        "\n",
        "# print ('\\n The number of fraudulent CASH_OUTs = {}'.\\\n",
        "#        format(len(dfFraudCashout))) # 4116"
      ],
      "execution_count": 0,
      "outputs": []
    },
    {
      "cell_type": "code",
      "metadata": {
        "id": "2RtKlVwwhIrX",
        "colab_type": "code",
        "outputId": "74ac1caa-b79a-421e-a7e5-653bd671abc7",
        "colab": {
          "base_uri": "https://localhost:8080/",
          "height": 127
        }
      },
      "source": [
        "df['type'].value_counts()"
      ],
      "execution_count": 29,
      "outputs": [
        {
          "output_type": "execute_result",
          "data": {
            "text/plain": [
              "CASH_OUT    2237500\n",
              "PAYMENT     2151495\n",
              "CASH_IN     1399284\n",
              "TRANSFER     532909\n",
              "DEBIT         41432\n",
              "Name: type, dtype: int64"
            ]
          },
          "metadata": {
            "tags": []
          },
          "execution_count": 29
        }
      ]
    },
    {
      "cell_type": "code",
      "metadata": {
        "id": "MuzLSX29hpCn",
        "colab_type": "code",
        "outputId": "9322d15d-1dae-45ff-a663-d34f508f841f",
        "colab": {
          "base_uri": "https://localhost:8080/",
          "height": 72
        }
      },
      "source": [
        "df['Class'].value_counts()"
      ],
      "execution_count": 30,
      "outputs": [
        {
          "output_type": "execute_result",
          "data": {
            "text/plain": [
              "0    6354407\n",
              "1       8213\n",
              "Name: Class, dtype: int64"
            ]
          },
          "metadata": {
            "tags": []
          },
          "execution_count": 30
        }
      ]
    },
    {
      "cell_type": "markdown",
      "metadata": {
        "id": "X7EsR5emnpm8",
        "colab_type": "text"
      },
      "source": [
        "From the exploratory data analysis (EDA) of section 2, we know that fraud only occurs in 'TRANSFER's and 'CASH_OUT's. So we assemble only the corresponding data in X for analysis"
      ]
    },
    {
      "cell_type": "code",
      "metadata": {
        "id": "UJQyhp9uk79i",
        "colab_type": "code",
        "outputId": "d0f1d3f6-03d3-4ef4-bf75-eb79850ba3ca",
        "colab": {
          "base_uri": "https://localhost:8080/",
          "height": 237
        }
      },
      "source": [
        "X = df.loc[(df.type == 'TRANSFER') | (df.type == 'CASH_OUT')]\n",
        "\n",
        "randomState = 5\n",
        "np.random.seed(randomState)\n",
        "\n",
        "#X = X.loc[np.random.choice(X.index, 100000, replace = False)]\n",
        "\n",
        "Y = X['Class']\n",
        "del X['Class']\n",
        "\n",
        "# Eliminate columns shown to be irrelevant for analysis in the EDA\n",
        "# X = X.drop(['nameOrig', 'nameDest', 'isFlaggedFraud'], axis = 1)\n",
        "\n",
        "# Binary-encoding of labelled data in 'type'\n",
        "X.loc[X.type == 'TRANSFER', 'type'] = 0\n",
        "X.loc[X.type == 'CASH_OUT', 'type'] = 1\n",
        "X.type = X.type.astype(int) # convert dtype('O') to dtype(int)"
      ],
      "execution_count": 31,
      "outputs": [
        {
          "output_type": "stream",
          "text": [
            "/usr/local/lib/python3.6/dist-packages/pandas/core/indexing.py:543: SettingWithCopyWarning: \n",
            "A value is trying to be set on a copy of a slice from a DataFrame.\n",
            "Try using .loc[row_indexer,col_indexer] = value instead\n",
            "\n",
            "See the caveats in the documentation: http://pandas.pydata.org/pandas-docs/stable/indexing.html#indexing-view-versus-copy\n",
            "  self.obj[item] = s\n",
            "/usr/local/lib/python3.6/dist-packages/pandas/core/generic.py:5096: SettingWithCopyWarning: \n",
            "A value is trying to be set on a copy of a slice from a DataFrame.\n",
            "Try using .loc[row_indexer,col_indexer] = value instead\n",
            "\n",
            "See the caveats in the documentation: http://pandas.pydata.org/pandas-docs/stable/indexing.html#indexing-view-versus-copy\n",
            "  self[name] = value\n"
          ],
          "name": "stderr"
        }
      ]
    },
    {
      "cell_type": "markdown",
      "metadata": {
        "id": "HIpQ1FCnnfGV",
        "colab_type": "text"
      },
      "source": [
        "The data has several transactions with zero balances in the destination account both before and after a non-zero amount is transacted. The fraction of such transactions, where zero likely denotes a missing value, is much larger in fraudulent (50%) compared to genuine transactions (0.06%)."
      ]
    },
    {
      "cell_type": "code",
      "metadata": {
        "id": "Wbs-OryFk705",
        "colab_type": "code",
        "outputId": "527fef95-ef88-4e2a-fa6c-cc7b459c350c",
        "colab": {
          "base_uri": "https://localhost:8080/",
          "height": 90
        }
      },
      "source": [
        "Xfraud = X.loc[Y == 1]\n",
        "XnonFraud = X.loc[Y == 0]\n",
        "print('\\nThe fraction of fraudulent transactions with \\'oldBalanceDest\\' = \\\n",
        "\\'newBalanceDest\\' = 0 although the transacted \\'amount\\' is non-zero is: {}'.\\\n",
        "format(len(Xfraud.loc[(Xfraud.oldBalanceDest == 0) & \\\n",
        "(Xfraud.newBalanceDest == 0) & (Xfraud.amount)]) / (1.0 * len(Xfraud))))\n",
        "\n",
        "print('\\nThe fraction of genuine transactions with \\'oldBalanceDest\\' = \\\n",
        "newBalanceDest\\' = 0 although the transacted \\'amount\\' is non-zero is: {}'.\\\n",
        "format(len(XnonFraud.loc[(XnonFraud.oldBalanceDest == 0) & \\\n",
        "(XnonFraud.newBalanceDest == 0) & (XnonFraud.amount)]) / (1.0 * len(XnonFraud))))"
      ],
      "execution_count": 32,
      "outputs": [
        {
          "output_type": "stream",
          "text": [
            "\n",
            "The fraction of fraudulent transactions with 'oldBalanceDest' = 'newBalanceDest' = 0 although the transacted 'amount' is non-zero is: 0.4955558261293072\n",
            "\n",
            "The fraction of genuine transactions with 'oldBalanceDest' = newBalanceDest' = 0 although the transacted 'amount' is non-zero is: 0.0006176245277308345\n"
          ],
          "name": "stdout"
        }
      ]
    },
    {
      "cell_type": "markdown",
      "metadata": {
        "id": "IrkiEg5loaOk",
        "colab_type": "text"
      },
      "source": [
        "Since the destination account balances being zero is a strong indicator of fraud, we do not impute the account balance (before the transaction is made) with a statistic or from a distribution with a subsequent adjustment for the amount transacted. Doing so would mask this indicator of fraud and make fraudulent transactions appear genuine. Instead, below we replace the value of 0 with -1 which will be more useful to a suitable machine-learning (ML) algorithm detecting fraud."
      ]
    },
    {
      "cell_type": "code",
      "metadata": {
        "id": "fqXj6mAPk7gb",
        "colab_type": "code",
        "outputId": "41d402be-afb0-467b-ac36-7f16464187f3",
        "colab": {
          "base_uri": "https://localhost:8080/",
          "height": 127
        }
      },
      "source": [
        "X.loc[(X.oldBalanceDest == 0) & (X.newBalanceDest == 0) & (X.amount != 0), \\\n",
        "      ['oldBalanceDest', 'newBalanceDest']] = - 1"
      ],
      "execution_count": 33,
      "outputs": [
        {
          "output_type": "stream",
          "text": [
            "/usr/local/lib/python3.6/dist-packages/pandas/core/indexing.py:543: SettingWithCopyWarning: \n",
            "A value is trying to be set on a copy of a slice from a DataFrame.\n",
            "Try using .loc[row_indexer,col_indexer] = value instead\n",
            "\n",
            "See the caveats in the documentation: http://pandas.pydata.org/pandas-docs/stable/indexing.html#indexing-view-versus-copy\n",
            "  self.obj[item] = s\n"
          ],
          "name": "stderr"
        }
      ]
    },
    {
      "cell_type": "code",
      "metadata": {
        "id": "UWaulndOrVFl",
        "colab_type": "code",
        "outputId": "b460b05e-1e1c-4de4-bddb-f4547df156d5",
        "colab": {
          "base_uri": "https://localhost:8080/",
          "height": 127
        }
      },
      "source": [
        "X.loc[(X.oldBalanceOrig == 0) & (X.newBalanceOrig == 0) & (X.amount != 0), \\\n",
        "      ['oldBalanceOrig', 'newBalanceOrig']] = -1"
      ],
      "execution_count": 34,
      "outputs": [
        {
          "output_type": "stream",
          "text": [
            "/usr/local/lib/python3.6/dist-packages/pandas/core/indexing.py:543: SettingWithCopyWarning: \n",
            "A value is trying to be set on a copy of a slice from a DataFrame.\n",
            "Try using .loc[row_indexer,col_indexer] = value instead\n",
            "\n",
            "See the caveats in the documentation: http://pandas.pydata.org/pandas-docs/stable/indexing.html#indexing-view-versus-copy\n",
            "  self.obj[item] = s\n"
          ],
          "name": "stderr"
        }
      ]
    },
    {
      "cell_type": "code",
      "metadata": {
        "id": "juF6JMNOof-q",
        "colab_type": "code",
        "outputId": "00f7d4ba-e6eb-4381-d630-cd60fb7f9a09",
        "colab": {
          "base_uri": "https://localhost:8080/",
          "height": 237
        }
      },
      "source": [
        "X['errorBalanceOrig'] = X.newBalanceOrig + X.amount - X.oldBalanceOrig\n",
        "X['errorBalanceDest'] = X.oldBalanceDest + X.amount - X.newBalanceDest"
      ],
      "execution_count": 35,
      "outputs": [
        {
          "output_type": "stream",
          "text": [
            "/usr/local/lib/python3.6/dist-packages/ipykernel_launcher.py:1: SettingWithCopyWarning: \n",
            "A value is trying to be set on a copy of a slice from a DataFrame.\n",
            "Try using .loc[row_indexer,col_indexer] = value instead\n",
            "\n",
            "See the caveats in the documentation: http://pandas.pydata.org/pandas-docs/stable/indexing.html#indexing-view-versus-copy\n",
            "  \"\"\"Entry point for launching an IPython kernel.\n",
            "/usr/local/lib/python3.6/dist-packages/ipykernel_launcher.py:2: SettingWithCopyWarning: \n",
            "A value is trying to be set on a copy of a slice from a DataFrame.\n",
            "Try using .loc[row_indexer,col_indexer] = value instead\n",
            "\n",
            "See the caveats in the documentation: http://pandas.pydata.org/pandas-docs/stable/indexing.html#indexing-view-versus-copy\n",
            "  \n"
          ],
          "name": "stderr"
        }
      ]
    },
    {
      "cell_type": "code",
      "metadata": {
        "id": "1Fqxyucj398h",
        "colab_type": "code",
        "colab": {}
      },
      "source": [
        "df = X.copy()\n",
        "df['Class'] = Y.copy()"
      ],
      "execution_count": 0,
      "outputs": []
    },
    {
      "cell_type": "code",
      "metadata": {
        "id": "LLOAU2KA398m",
        "colab_type": "code",
        "outputId": "30f57162-c48b-4f7c-fa8f-69d35ba2f2f6",
        "colab": {
          "base_uri": "https://localhost:8080/",
          "height": 72
        }
      },
      "source": [
        "df['Class'].value_counts()"
      ],
      "execution_count": 37,
      "outputs": [
        {
          "output_type": "execute_result",
          "data": {
            "text/plain": [
              "0    2762196\n",
              "1       8213\n",
              "Name: Class, dtype: int64"
            ]
          },
          "metadata": {
            "tags": []
          },
          "execution_count": 37
        }
      ]
    },
    {
      "cell_type": "code",
      "metadata": {
        "id": "aMVNk7JCtw4l",
        "colab_type": "code",
        "outputId": "923f16c3-2f7c-4597-c22d-e19307d603bc",
        "colab": {
          "base_uri": "https://localhost:8080/",
          "height": 90
        }
      },
      "source": [
        "df.columns"
      ],
      "execution_count": 38,
      "outputs": [
        {
          "output_type": "execute_result",
          "data": {
            "text/plain": [
              "Index(['step', 'type', 'amount', 'nameOrig', 'oldBalanceOrig',\n",
              "       'newBalanceOrig', 'nameDest', 'oldBalanceDest', 'newBalanceDest',\n",
              "       'isFlaggedFraud', 'errorBalanceOrig', 'errorBalanceDest', 'Class'],\n",
              "      dtype='object')"
            ]
          },
          "metadata": {
            "tags": []
          },
          "execution_count": 38
        }
      ]
    },
    {
      "cell_type": "code",
      "metadata": {
        "id": "hb7-UGV8x-RK",
        "colab_type": "code",
        "colab": {}
      },
      "source": [
        "df_ = df.copy()"
      ],
      "execution_count": 0,
      "outputs": []
    },
    {
      "cell_type": "code",
      "metadata": {
        "id": "-MfO9x-fqWWP",
        "colab_type": "code",
        "outputId": "acebe151-c0cc-495c-d05e-19665814d5a3",
        "colab": {
          "base_uri": "https://localhost:8080/",
          "height": 226
        }
      },
      "source": [
        "df_.tail()"
      ],
      "execution_count": 40,
      "outputs": [
        {
          "output_type": "execute_result",
          "data": {
            "text/html": [
              "<div>\n",
              "<style scoped>\n",
              "    .dataframe tbody tr th:only-of-type {\n",
              "        vertical-align: middle;\n",
              "    }\n",
              "\n",
              "    .dataframe tbody tr th {\n",
              "        vertical-align: top;\n",
              "    }\n",
              "\n",
              "    .dataframe thead th {\n",
              "        text-align: right;\n",
              "    }\n",
              "</style>\n",
              "<table border=\"1\" class=\"dataframe\">\n",
              "  <thead>\n",
              "    <tr style=\"text-align: right;\">\n",
              "      <th></th>\n",
              "      <th>step</th>\n",
              "      <th>type</th>\n",
              "      <th>amount</th>\n",
              "      <th>nameOrig</th>\n",
              "      <th>oldBalanceOrig</th>\n",
              "      <th>newBalanceOrig</th>\n",
              "      <th>nameDest</th>\n",
              "      <th>oldBalanceDest</th>\n",
              "      <th>newBalanceDest</th>\n",
              "      <th>isFlaggedFraud</th>\n",
              "      <th>errorBalanceOrig</th>\n",
              "      <th>errorBalanceDest</th>\n",
              "      <th>Class</th>\n",
              "    </tr>\n",
              "  </thead>\n",
              "  <tbody>\n",
              "    <tr>\n",
              "      <th>6362615</th>\n",
              "      <td>743</td>\n",
              "      <td>1</td>\n",
              "      <td>339682.13</td>\n",
              "      <td>C786484425</td>\n",
              "      <td>339682.13</td>\n",
              "      <td>0.0</td>\n",
              "      <td>C776919290</td>\n",
              "      <td>0.00</td>\n",
              "      <td>339682.13</td>\n",
              "      <td>0</td>\n",
              "      <td>0.0</td>\n",
              "      <td>0.000000e+00</td>\n",
              "      <td>1</td>\n",
              "    </tr>\n",
              "    <tr>\n",
              "      <th>6362616</th>\n",
              "      <td>743</td>\n",
              "      <td>0</td>\n",
              "      <td>6311409.28</td>\n",
              "      <td>C1529008245</td>\n",
              "      <td>6311409.28</td>\n",
              "      <td>0.0</td>\n",
              "      <td>C1881841831</td>\n",
              "      <td>-1.00</td>\n",
              "      <td>-1.00</td>\n",
              "      <td>0</td>\n",
              "      <td>0.0</td>\n",
              "      <td>6.311409e+06</td>\n",
              "      <td>1</td>\n",
              "    </tr>\n",
              "    <tr>\n",
              "      <th>6362617</th>\n",
              "      <td>743</td>\n",
              "      <td>1</td>\n",
              "      <td>6311409.28</td>\n",
              "      <td>C1162922333</td>\n",
              "      <td>6311409.28</td>\n",
              "      <td>0.0</td>\n",
              "      <td>C1365125890</td>\n",
              "      <td>68488.84</td>\n",
              "      <td>6379898.11</td>\n",
              "      <td>0</td>\n",
              "      <td>0.0</td>\n",
              "      <td>1.000000e-02</td>\n",
              "      <td>1</td>\n",
              "    </tr>\n",
              "    <tr>\n",
              "      <th>6362618</th>\n",
              "      <td>743</td>\n",
              "      <td>0</td>\n",
              "      <td>850002.52</td>\n",
              "      <td>C1685995037</td>\n",
              "      <td>850002.52</td>\n",
              "      <td>0.0</td>\n",
              "      <td>C2080388513</td>\n",
              "      <td>-1.00</td>\n",
              "      <td>-1.00</td>\n",
              "      <td>0</td>\n",
              "      <td>0.0</td>\n",
              "      <td>8.500025e+05</td>\n",
              "      <td>1</td>\n",
              "    </tr>\n",
              "    <tr>\n",
              "      <th>6362619</th>\n",
              "      <td>743</td>\n",
              "      <td>1</td>\n",
              "      <td>850002.52</td>\n",
              "      <td>C1280323807</td>\n",
              "      <td>850002.52</td>\n",
              "      <td>0.0</td>\n",
              "      <td>C873221189</td>\n",
              "      <td>6510099.11</td>\n",
              "      <td>7360101.63</td>\n",
              "      <td>0</td>\n",
              "      <td>0.0</td>\n",
              "      <td>9.313226e-10</td>\n",
              "      <td>1</td>\n",
              "    </tr>\n",
              "  </tbody>\n",
              "</table>\n",
              "</div>"
            ],
            "text/plain": [
              "         step  type      amount  ... errorBalanceOrig  errorBalanceDest  Class\n",
              "6362615   743     1   339682.13  ...              0.0      0.000000e+00      1\n",
              "6362616   743     0  6311409.28  ...              0.0      6.311409e+06      1\n",
              "6362617   743     1  6311409.28  ...              0.0      1.000000e-02      1\n",
              "6362618   743     0   850002.52  ...              0.0      8.500025e+05      1\n",
              "6362619   743     1   850002.52  ...              0.0      9.313226e-10      1\n",
              "\n",
              "[5 rows x 13 columns]"
            ]
          },
          "metadata": {
            "tags": []
          },
          "execution_count": 40
        }
      ]
    },
    {
      "cell_type": "code",
      "metadata": {
        "id": "XBwckOOd398w",
        "colab_type": "code",
        "colab": {}
      },
      "source": [
        "# df['type'].unique()"
      ],
      "execution_count": 0,
      "outputs": []
    },
    {
      "cell_type": "code",
      "metadata": {
        "id": "ZwPljWNgv3Zu",
        "colab_type": "code",
        "colab": {}
      },
      "source": [
        "a = {}\n",
        "i = 1\n",
        "for m in df_['type'].unique():\n",
        "  if m not in a :\n",
        "    a[m] = i\n",
        "    i +=1\n",
        "    \n",
        "df_['type'] = df_['type'].map(a)\n",
        "# a"
      ],
      "execution_count": 0,
      "outputs": []
    },
    {
      "cell_type": "code",
      "metadata": {
        "id": "m7Q41GZR1wtz",
        "colab_type": "code",
        "colab": {}
      },
      "source": [
        "a = {}\n",
        "i = 1\n",
        "for m in df_['nameOrig'].unique():\n",
        "  if m not in a :\n",
        "    a[m] = i\n",
        "    i +=1\n",
        "    \n",
        "df_['nameOrig'] = df_['nameOrig'].map(a)"
      ],
      "execution_count": 0,
      "outputs": []
    },
    {
      "cell_type": "code",
      "metadata": {
        "id": "vPpacNcv12Bk",
        "colab_type": "code",
        "colab": {}
      },
      "source": [
        "a = {}\n",
        "i = 1\n",
        "for m in df_['nameDest'].unique():\n",
        "  if m not in a :\n",
        "    a[m] = i\n",
        "    i +=1\n",
        "    \n",
        "df_['nameDest'] = df_['nameDest'].map(a)"
      ],
      "execution_count": 0,
      "outputs": []
    },
    {
      "cell_type": "code",
      "metadata": {
        "id": "JrOOo4FVwfCl",
        "colab_type": "code",
        "outputId": "2ca0b5dc-d1f3-4d73-f232-12dc56d58c9b",
        "colab": {
          "base_uri": "https://localhost:8080/",
          "height": 226
        }
      },
      "source": [
        "df_.tail()"
      ],
      "execution_count": 45,
      "outputs": [
        {
          "output_type": "execute_result",
          "data": {
            "text/html": [
              "<div>\n",
              "<style scoped>\n",
              "    .dataframe tbody tr th:only-of-type {\n",
              "        vertical-align: middle;\n",
              "    }\n",
              "\n",
              "    .dataframe tbody tr th {\n",
              "        vertical-align: top;\n",
              "    }\n",
              "\n",
              "    .dataframe thead th {\n",
              "        text-align: right;\n",
              "    }\n",
              "</style>\n",
              "<table border=\"1\" class=\"dataframe\">\n",
              "  <thead>\n",
              "    <tr style=\"text-align: right;\">\n",
              "      <th></th>\n",
              "      <th>step</th>\n",
              "      <th>type</th>\n",
              "      <th>amount</th>\n",
              "      <th>nameOrig</th>\n",
              "      <th>oldBalanceOrig</th>\n",
              "      <th>newBalanceOrig</th>\n",
              "      <th>nameDest</th>\n",
              "      <th>oldBalanceDest</th>\n",
              "      <th>newBalanceDest</th>\n",
              "      <th>isFlaggedFraud</th>\n",
              "      <th>errorBalanceOrig</th>\n",
              "      <th>errorBalanceDest</th>\n",
              "      <th>Class</th>\n",
              "    </tr>\n",
              "  </thead>\n",
              "  <tbody>\n",
              "    <tr>\n",
              "      <th>6362615</th>\n",
              "      <td>743</td>\n",
              "      <td>2</td>\n",
              "      <td>339682.13</td>\n",
              "      <td>2768626</td>\n",
              "      <td>339682.13</td>\n",
              "      <td>0.0</td>\n",
              "      <td>509563</td>\n",
              "      <td>0.00</td>\n",
              "      <td>339682.13</td>\n",
              "      <td>0</td>\n",
              "      <td>0.0</td>\n",
              "      <td>0.000000e+00</td>\n",
              "      <td>1</td>\n",
              "    </tr>\n",
              "    <tr>\n",
              "      <th>6362616</th>\n",
              "      <td>743</td>\n",
              "      <td>1</td>\n",
              "      <td>6311409.28</td>\n",
              "      <td>2768627</td>\n",
              "      <td>6311409.28</td>\n",
              "      <td>0.0</td>\n",
              "      <td>509564</td>\n",
              "      <td>-1.00</td>\n",
              "      <td>-1.00</td>\n",
              "      <td>0</td>\n",
              "      <td>0.0</td>\n",
              "      <td>6.311409e+06</td>\n",
              "      <td>1</td>\n",
              "    </tr>\n",
              "    <tr>\n",
              "      <th>6362617</th>\n",
              "      <td>743</td>\n",
              "      <td>2</td>\n",
              "      <td>6311409.28</td>\n",
              "      <td>2768628</td>\n",
              "      <td>6311409.28</td>\n",
              "      <td>0.0</td>\n",
              "      <td>204812</td>\n",
              "      <td>68488.84</td>\n",
              "      <td>6379898.11</td>\n",
              "      <td>0</td>\n",
              "      <td>0.0</td>\n",
              "      <td>1.000000e-02</td>\n",
              "      <td>1</td>\n",
              "    </tr>\n",
              "    <tr>\n",
              "      <th>6362618</th>\n",
              "      <td>743</td>\n",
              "      <td>1</td>\n",
              "      <td>850002.52</td>\n",
              "      <td>2768629</td>\n",
              "      <td>850002.52</td>\n",
              "      <td>0.0</td>\n",
              "      <td>509565</td>\n",
              "      <td>-1.00</td>\n",
              "      <td>-1.00</td>\n",
              "      <td>0</td>\n",
              "      <td>0.0</td>\n",
              "      <td>8.500025e+05</td>\n",
              "      <td>1</td>\n",
              "    </tr>\n",
              "    <tr>\n",
              "      <th>6362619</th>\n",
              "      <td>743</td>\n",
              "      <td>2</td>\n",
              "      <td>850002.52</td>\n",
              "      <td>2768630</td>\n",
              "      <td>850002.52</td>\n",
              "      <td>0.0</td>\n",
              "      <td>52618</td>\n",
              "      <td>6510099.11</td>\n",
              "      <td>7360101.63</td>\n",
              "      <td>0</td>\n",
              "      <td>0.0</td>\n",
              "      <td>9.313226e-10</td>\n",
              "      <td>1</td>\n",
              "    </tr>\n",
              "  </tbody>\n",
              "</table>\n",
              "</div>"
            ],
            "text/plain": [
              "         step  type      amount  ...  errorBalanceOrig  errorBalanceDest  Class\n",
              "6362615   743     2   339682.13  ...               0.0      0.000000e+00      1\n",
              "6362616   743     1  6311409.28  ...               0.0      6.311409e+06      1\n",
              "6362617   743     2  6311409.28  ...               0.0      1.000000e-02      1\n",
              "6362618   743     1   850002.52  ...               0.0      8.500025e+05      1\n",
              "6362619   743     2   850002.52  ...               0.0      9.313226e-10      1\n",
              "\n",
              "[5 rows x 13 columns]"
            ]
          },
          "metadata": {
            "tags": []
          },
          "execution_count": 45
        }
      ]
    },
    {
      "cell_type": "code",
      "metadata": {
        "id": "tNGCqC743982",
        "colab_type": "code",
        "colab": {}
      },
      "source": [
        "# # Since most of our data has already been scaled we should scale the columns that are left to scale (Amount and Time)\n",
        "# from sklearn.preprocessing import StandardScaler, RobustScaler, MinMaxScaler\n",
        "\n",
        "# # RobustScaler is less prone to outliers.\n",
        "\n",
        "# std_scaler = StandardScaler()\n",
        "# rob_scaler = RobustScaler()\n",
        "# minmax_scaler = MinMaxScaler()\n",
        "\n",
        "# # df['scaled_amount'] = rob_scaler.fit_transform(df['Amount'].values.reshape(-1,1))\n",
        "# # df['scaled_time'] = rob_scaler.fit_transform(df['Time'].values.reshape(-1,1))\n",
        "\n",
        "# df['scaled_amount'] = minmax_scaler.fit_transform(df['Amount'].values.reshape(-1,1))\n",
        "# df['scaled_time'] = minmax_scaler.fit_transform(df['Time'].values.reshape(-1,1))\n",
        "\n",
        "# df.drop(['Time','Amount'], axis=1, inplace=True)\n",
        "\n",
        "# scaled_amount = df['scaled_amount']\n",
        "# scaled_time = df['scaled_time']\n",
        "\n",
        "# df.drop(['scaled_amount', 'scaled_time'], axis=1, inplace=True)\n",
        "# df.insert(0, 'scaled_amount', scaled_amount)\n",
        "# df.insert(1, 'scaled_time', scaled_time)\n",
        "\n",
        "# # Amount and Time are Scaled!\n",
        "\n",
        "# df.head()"
      ],
      "execution_count": 0,
      "outputs": []
    },
    {
      "cell_type": "code",
      "metadata": {
        "id": "0vO4OIrV399R",
        "colab_type": "code",
        "colab": {}
      },
      "source": [
        ""
      ],
      "execution_count": 0,
      "outputs": []
    },
    {
      "cell_type": "code",
      "metadata": {
        "id": "rTb3ztmq399Z",
        "colab_type": "code",
        "colab": {}
      },
      "source": [
        "X = df_.drop(['Class'], axis=1)\n",
        "y = df_['Class'].copy()"
      ],
      "execution_count": 0,
      "outputs": []
    },
    {
      "cell_type": "code",
      "metadata": {
        "id": "PtmcmqoB399g",
        "colab_type": "code",
        "colab": {}
      },
      "source": [
        "# X_new = df_new.drop('Class', axis=1)\n",
        "# y_new = df_new['Class'].copy()"
      ],
      "execution_count": 0,
      "outputs": []
    },
    {
      "cell_type": "code",
      "metadata": {
        "id": "VcBousJh399o",
        "colab_type": "code",
        "colab": {}
      },
      "source": [
        "# y_new.value_counts()"
      ],
      "execution_count": 0,
      "outputs": []
    },
    {
      "cell_type": "code",
      "metadata": {
        "id": "XaNvV7pJ3994",
        "colab_type": "code",
        "colab": {}
      },
      "source": [
        "# from sklearn.preprocessing import StandardScaler, RobustScaler, MinMaxScaler\n",
        "\n",
        "# # RobustScaler is less prone to outliers.\n",
        "\n",
        "# std_scaler = StandardScaler()\n",
        "# rob_scaler = RobustScaler()\n",
        "# minmax_scaler = MinMaxScaler()\n",
        "\n",
        "# X_neww = minmax_scaler.fit_transform(X_new)\n",
        "# X_new = pd.DataFrame(X_neww, columns=X_new.columns)\n",
        "# X_new.tail()"
      ],
      "execution_count": 0,
      "outputs": []
    },
    {
      "cell_type": "code",
      "metadata": {
        "id": "yNzN7dJh39-F",
        "colab_type": "code",
        "outputId": "c4b55dd5-bf3f-4344-ab86-5b41d38493e7",
        "colab": {
          "base_uri": "https://localhost:8080/",
          "height": 90
        }
      },
      "source": [
        "X.columns"
      ],
      "execution_count": 51,
      "outputs": [
        {
          "output_type": "execute_result",
          "data": {
            "text/plain": [
              "Index(['step', 'type', 'amount', 'nameOrig', 'oldBalanceOrig',\n",
              "       'newBalanceOrig', 'nameDest', 'oldBalanceDest', 'newBalanceDest',\n",
              "       'isFlaggedFraud', 'errorBalanceOrig', 'errorBalanceDest'],\n",
              "      dtype='object')"
            ]
          },
          "metadata": {
            "tags": []
          },
          "execution_count": 51
        }
      ]
    },
    {
      "cell_type": "code",
      "metadata": {
        "id": "Pu8LMIqmlxaq",
        "colab_type": "code",
        "colab": {}
      },
      "source": [
        "from sklearn.model_selection import train_test_split"
      ],
      "execution_count": 0,
      "outputs": []
    },
    {
      "cell_type": "code",
      "metadata": {
        "id": "IFmd5JsgmHaI",
        "colab_type": "code",
        "colab": {}
      },
      "source": [
        "X_train, X_test, y_train, y_test = train_test_split(X, y, test_size=0.1, random_state=1, stratify=y)\n",
        "X_train, X_val, y_train, y_val = train_test_split(X_train, y_train, test_size=0.1111, random_state=1, stratify=y_train)\n"
      ],
      "execution_count": 0,
      "outputs": []
    },
    {
      "cell_type": "code",
      "metadata": {
        "id": "j8HPE-IKmJm_",
        "colab_type": "code",
        "outputId": "b7cf8541-1444-4b2e-de23-c47f21557745",
        "colab": {
          "base_uri": "https://localhost:8080/",
          "height": 226
        }
      },
      "source": [
        "X_train.head()"
      ],
      "execution_count": 54,
      "outputs": [
        {
          "output_type": "execute_result",
          "data": {
            "text/html": [
              "<div>\n",
              "<style scoped>\n",
              "    .dataframe tbody tr th:only-of-type {\n",
              "        vertical-align: middle;\n",
              "    }\n",
              "\n",
              "    .dataframe tbody tr th {\n",
              "        vertical-align: top;\n",
              "    }\n",
              "\n",
              "    .dataframe thead th {\n",
              "        text-align: right;\n",
              "    }\n",
              "</style>\n",
              "<table border=\"1\" class=\"dataframe\">\n",
              "  <thead>\n",
              "    <tr style=\"text-align: right;\">\n",
              "      <th></th>\n",
              "      <th>step</th>\n",
              "      <th>type</th>\n",
              "      <th>amount</th>\n",
              "      <th>nameOrig</th>\n",
              "      <th>oldBalanceOrig</th>\n",
              "      <th>newBalanceOrig</th>\n",
              "      <th>nameDest</th>\n",
              "      <th>oldBalanceDest</th>\n",
              "      <th>newBalanceDest</th>\n",
              "      <th>isFlaggedFraud</th>\n",
              "      <th>errorBalanceOrig</th>\n",
              "      <th>errorBalanceDest</th>\n",
              "    </tr>\n",
              "  </thead>\n",
              "  <tbody>\n",
              "    <tr>\n",
              "      <th>5520643</th>\n",
              "      <td>380</td>\n",
              "      <td>2</td>\n",
              "      <td>131499.46</td>\n",
              "      <td>2413154</td>\n",
              "      <td>-1.0</td>\n",
              "      <td>-1.0</td>\n",
              "      <td>2300</td>\n",
              "      <td>7552658.53</td>\n",
              "      <td>7684158.00</td>\n",
              "      <td>0</td>\n",
              "      <td>131499.46</td>\n",
              "      <td>-1.000000e-02</td>\n",
              "    </tr>\n",
              "    <tr>\n",
              "      <th>1732672</th>\n",
              "      <td>161</td>\n",
              "      <td>1</td>\n",
              "      <td>166186.31</td>\n",
              "      <td>762018</td>\n",
              "      <td>-1.0</td>\n",
              "      <td>-1.0</td>\n",
              "      <td>108042</td>\n",
              "      <td>951079.01</td>\n",
              "      <td>1117265.32</td>\n",
              "      <td>0</td>\n",
              "      <td>166186.31</td>\n",
              "      <td>0.000000e+00</td>\n",
              "    </tr>\n",
              "    <tr>\n",
              "      <th>6040663</th>\n",
              "      <td>487</td>\n",
              "      <td>2</td>\n",
              "      <td>111000.58</td>\n",
              "      <td>2634954</td>\n",
              "      <td>-1.0</td>\n",
              "      <td>-1.0</td>\n",
              "      <td>14413</td>\n",
              "      <td>1604936.10</td>\n",
              "      <td>1715936.68</td>\n",
              "      <td>0</td>\n",
              "      <td>111000.58</td>\n",
              "      <td>2.328306e-10</td>\n",
              "    </tr>\n",
              "    <tr>\n",
              "      <th>3042360</th>\n",
              "      <td>234</td>\n",
              "      <td>2</td>\n",
              "      <td>144557.75</td>\n",
              "      <td>1335060</td>\n",
              "      <td>49580.0</td>\n",
              "      <td>0.0</td>\n",
              "      <td>10947</td>\n",
              "      <td>260817.97</td>\n",
              "      <td>405375.72</td>\n",
              "      <td>0</td>\n",
              "      <td>94977.75</td>\n",
              "      <td>0.000000e+00</td>\n",
              "    </tr>\n",
              "    <tr>\n",
              "      <th>2533668</th>\n",
              "      <td>205</td>\n",
              "      <td>2</td>\n",
              "      <td>194584.08</td>\n",
              "      <td>1112424</td>\n",
              "      <td>26536.0</td>\n",
              "      <td>0.0</td>\n",
              "      <td>204396</td>\n",
              "      <td>505059.00</td>\n",
              "      <td>495973.84</td>\n",
              "      <td>0</td>\n",
              "      <td>168048.08</td>\n",
              "      <td>2.036692e+05</td>\n",
              "    </tr>\n",
              "  </tbody>\n",
              "</table>\n",
              "</div>"
            ],
            "text/plain": [
              "         step  type  ...  errorBalanceOrig  errorBalanceDest\n",
              "5520643   380     2  ...         131499.46     -1.000000e-02\n",
              "1732672   161     1  ...         166186.31      0.000000e+00\n",
              "6040663   487     2  ...         111000.58      2.328306e-10\n",
              "3042360   234     2  ...          94977.75      0.000000e+00\n",
              "2533668   205     2  ...         168048.08      2.036692e+05\n",
              "\n",
              "[5 rows x 12 columns]"
            ]
          },
          "metadata": {
            "tags": []
          },
          "execution_count": 54
        }
      ]
    },
    {
      "cell_type": "code",
      "metadata": {
        "id": "ff0BQiKqmXsQ",
        "colab_type": "code",
        "colab": {}
      },
      "source": [
        ""
      ],
      "execution_count": 0,
      "outputs": []
    },
    {
      "cell_type": "code",
      "metadata": {
        "id": "cKjDD2XjmbII",
        "colab_type": "code",
        "colab": {}
      },
      "source": [
        "y_test0 = np.array(y_test)\n",
        "y_train0=np.array(y_train)\n",
        "y_val0 = np.array(y_val)"
      ],
      "execution_count": 0,
      "outputs": []
    },
    {
      "cell_type": "code",
      "metadata": {
        "id": "8Quv9eFqmdq3",
        "colab_type": "code",
        "outputId": "e85c2ab7-e787-46c5-afe5-9f41df1259dc",
        "colab": {
          "base_uri": "https://localhost:8080/",
          "height": 35
        }
      },
      "source": [
        "print(len(X_train),len(X_val),len(X_test))"
      ],
      "execution_count": 56,
      "outputs": [
        {
          "output_type": "stream",
          "text": [
            "2216354 277014 277041\n"
          ],
          "name": "stdout"
        }
      ]
    },
    {
      "cell_type": "code",
      "metadata": {
        "id": "xHD1xaqFmgC2",
        "colab_type": "code",
        "outputId": "b0c8ef84-cf40-4d90-b3f3-1f02701c1188",
        "colab": {
          "base_uri": "https://localhost:8080/",
          "height": 35
        }
      },
      "source": [
        "ytrain_ab = y_train[y_train==1]\n",
        "yval_ab = y_val[y_val==1]\n",
        "ytest_ab = y_test[y_test==1]\n",
        "print('fraud train =',len(ytrain_ab),'fraud val =',len(yval_ab),'fraud test =',len(ytest_ab))"
      ],
      "execution_count": 57,
      "outputs": [
        {
          "output_type": "stream",
          "text": [
            "fraud train = 6571 fraud val = 821 fraud test = 821\n"
          ],
          "name": "stdout"
        }
      ]
    },
    {
      "cell_type": "code",
      "metadata": {
        "id": "utbwEq02mj6-",
        "colab_type": "code",
        "outputId": "a2732323-f4fc-410a-dd01-d02926bfef63",
        "colab": {
          "base_uri": "https://localhost:8080/",
          "height": 35
        }
      },
      "source": [
        "th_train=len(ytrain_ab)/len(y_train)\n",
        "th_test=len(ytest_ab)/len(y_test)\n",
        "th_val=len(yval_ab)/len(y_val)\n",
        "print('threshold train =',th_train, 'threshold test =', th_test,'threshold val =', th_val)"
      ],
      "execution_count": 58,
      "outputs": [
        {
          "output_type": "stream",
          "text": [
            "threshold train = 0.002964779092148637 threshold test = 0.002963460282052115 threshold val = 0.002963749124592981\n"
          ],
          "name": "stdout"
        }
      ]
    },
    {
      "cell_type": "code",
      "metadata": {
        "id": "LJmJ--henASk",
        "colab_type": "code",
        "outputId": "aaa7a342-b88c-425b-f00f-5bc288bc0f17",
        "colab": {
          "base_uri": "https://localhost:8080/",
          "height": 74
        }
      },
      "source": [
        "nTree= 100\n",
        "sample = 256\n",
        "ifo = iForest(X_train, nTree, sample, th_train)"
      ],
      "execution_count": 59,
      "outputs": [
        {
          "output_type": "stream",
          "text": [
            "/usr/local/lib/python3.6/dist-packages/sklearn/ensemble/iforest.py:247: FutureWarning: behaviour=\"old\" is deprecated and will be removed in version 0.22. Please use behaviour=\"new\", which makes the decision_function change to match other anomaly detection algorithm API.\n",
            "  FutureWarning)\n"
          ],
          "name": "stderr"
        }
      ]
    },
    {
      "cell_type": "code",
      "metadata": {
        "id": "JK-NK7FLnDUU",
        "colab_type": "code",
        "outputId": "776c4511-4271-4060-a065-a34921f51d22",
        "colab": {
          "base_uri": "https://localhost:8080/",
          "height": 501
        }
      },
      "source": [
        "model_evaluate(ifo,X_val,y_val0)"
      ],
      "execution_count": 60,
      "outputs": [
        {
          "output_type": "stream",
          "text": [
            "/usr/local/lib/python3.6/dist-packages/sklearn/ensemble/iforest.py:415: DeprecationWarning: threshold_ attribute is deprecated in 0.20 and will be removed in 0.22.\n",
            "  \" be removed in 0.22.\", DeprecationWarning)\n"
          ],
          "name": "stderr"
        },
        {
          "output_type": "stream",
          "text": [
            "time :  8.500968933105469\n",
            "accuracy :  0.994455153891139\n",
            "sensitivity :  0.05968331303288672\n",
            "specifity :  0.9972338183806252\n",
            "precision :  0.06027060270602706\n",
            "recall :  0.05968331303288672\n",
            "f1 score :  0.05997552019583843\n",
            "Confusion matrix\n",
            "TP =  49 FP =  764 FN =  772 TN =  275429\n"
          ],
          "name": "stdout"
        },
        {
          "output_type": "display_data",
          "data": {
            "image/png": "[encoded data removed]",
            "text/plain": [
              "<Figure size 576x288 with 2 Axes>"
            ]
          },
          "metadata": {
            "tags": []
          }
        }
      ]
    },
    {
      "cell_type": "code",
      "metadata": {
        "id": "X414VCovnW0y",
        "colab_type": "code",
        "outputId": "66a2582f-888d-4dff-b0a1-21ce27732eb7",
        "colab": {
          "base_uri": "https://localhost:8080/",
          "height": 501
        }
      },
      "source": [
        "model_evaluate(ifo, X_test, y_test0)"
      ],
      "execution_count": 61,
      "outputs": [
        {
          "output_type": "stream",
          "text": [
            "/usr/local/lib/python3.6/dist-packages/sklearn/ensemble/iforest.py:415: DeprecationWarning: threshold_ attribute is deprecated in 0.20 and will be removed in 0.22.\n",
            "  \" be removed in 0.22.\", DeprecationWarning)\n"
          ],
          "name": "stderr"
        },
        {
          "output_type": "stream",
          "text": [
            "time :  8.49535083770752\n",
            "accuracy :  0.9945531527824402\n",
            "sensitivity :  0.06090133982947625\n",
            "specifity :  0.997328216638911\n",
            "precision :  0.06345177664974619\n",
            "recall :  0.06090133982947625\n",
            "f1 score :  0.062150403977625855\n",
            "Confusion matrix\n",
            "TP =  50 FP =  738 FN =  771 TN =  275482\n"
          ],
          "name": "stdout"
        },
        {
          "output_type": "display_data",
          "data": {
            "image/png": "[encoded data removed]",
            "text/plain": [
              "<Figure size 576x288 with 2 Axes>"
            ]
          },
          "metadata": {
            "tags": []
          }
        }
      ]
    },
    {
      "cell_type": "code",
      "metadata": {
        "id": "4aZ1szTnBc9A",
        "colab_type": "code",
        "colab": {}
      },
      "source": [
        ""
      ],
      "execution_count": 0,
      "outputs": []
    },
    {
      "cell_type": "markdown",
      "metadata": {
        "id": "VbSMZBtMbLvH",
        "colab_type": "text"
      },
      "source": [
        "### percobaan1.1- 3 fitur terbaik"
      ]
    },
    {
      "cell_type": "code",
      "metadata": {
        "id": "zQYjYjAwc8zY",
        "colab_type": "code",
        "outputId": "0ad0ad89-1000-4623-8dc9-0b928eed7c60",
        "colab": {
          "base_uri": "https://localhost:8080/",
          "height": 206
        }
      },
      "source": [
        "X1 = X[['errorBalanceOrig','oldBalanceOrig','newBalanceDest']]\n",
        "X1.head()"
      ],
      "execution_count": 62,
      "outputs": [
        {
          "output_type": "execute_result",
          "data": {
            "text/html": [
              "<div>\n",
              "<style scoped>\n",
              "    .dataframe tbody tr th:only-of-type {\n",
              "        vertical-align: middle;\n",
              "    }\n",
              "\n",
              "    .dataframe tbody tr th {\n",
              "        vertical-align: top;\n",
              "    }\n",
              "\n",
              "    .dataframe thead th {\n",
              "        text-align: right;\n",
              "    }\n",
              "</style>\n",
              "<table border=\"1\" class=\"dataframe\">\n",
              "  <thead>\n",
              "    <tr style=\"text-align: right;\">\n",
              "      <th></th>\n",
              "      <th>errorBalanceOrig</th>\n",
              "      <th>oldBalanceOrig</th>\n",
              "      <th>newBalanceDest</th>\n",
              "    </tr>\n",
              "  </thead>\n",
              "  <tbody>\n",
              "    <tr>\n",
              "      <th>2</th>\n",
              "      <td>0.00</td>\n",
              "      <td>181.0</td>\n",
              "      <td>-1.00</td>\n",
              "    </tr>\n",
              "    <tr>\n",
              "      <th>3</th>\n",
              "      <td>0.00</td>\n",
              "      <td>181.0</td>\n",
              "      <td>0.00</td>\n",
              "    </tr>\n",
              "    <tr>\n",
              "      <th>15</th>\n",
              "      <td>213808.94</td>\n",
              "      <td>15325.0</td>\n",
              "      <td>51513.44</td>\n",
              "    </tr>\n",
              "    <tr>\n",
              "      <th>19</th>\n",
              "      <td>214605.30</td>\n",
              "      <td>705.0</td>\n",
              "      <td>0.00</td>\n",
              "    </tr>\n",
              "    <tr>\n",
              "      <th>24</th>\n",
              "      <td>300850.89</td>\n",
              "      <td>10835.0</td>\n",
              "      <td>2719172.89</td>\n",
              "    </tr>\n",
              "  </tbody>\n",
              "</table>\n",
              "</div>"
            ],
            "text/plain": [
              "    errorBalanceOrig  oldBalanceOrig  newBalanceDest\n",
              "2               0.00           181.0           -1.00\n",
              "3               0.00           181.0            0.00\n",
              "15         213808.94         15325.0        51513.44\n",
              "19         214605.30           705.0            0.00\n",
              "24         300850.89         10835.0      2719172.89"
            ]
          },
          "metadata": {
            "tags": []
          },
          "execution_count": 62
        }
      ]
    },
    {
      "cell_type": "code",
      "metadata": {
        "id": "zYwLb99mjtfm",
        "colab_type": "code",
        "outputId": "516b4043-c7b2-4bdc-951e-a18479181911",
        "colab": {
          "base_uri": "https://localhost:8080/",
          "height": 72
        }
      },
      "source": [
        "y.value_counts()"
      ],
      "execution_count": 63,
      "outputs": [
        {
          "output_type": "execute_result",
          "data": {
            "text/plain": [
              "0    2762196\n",
              "1       8213\n",
              "Name: Class, dtype: int64"
            ]
          },
          "metadata": {
            "tags": []
          },
          "execution_count": 63
        }
      ]
    },
    {
      "cell_type": "code",
      "metadata": {
        "id": "91-uDNbLc8zp",
        "colab_type": "code",
        "colab": {}
      },
      "source": [
        "X1_train, X1_test, y1_train, y1_test = train_test_split(X1, y, test_size=0.2, random_state=1, stratify=y)\n",
        "X1_train, X1_val, y1_train, y1_val = train_test_split(X1_train, y1_train, test_size=0.25, random_state=1, stratify=y1_train)"
      ],
      "execution_count": 0,
      "outputs": []
    },
    {
      "cell_type": "code",
      "metadata": {
        "id": "MzhMmXpZFNEN",
        "colab_type": "code",
        "outputId": "2095e55b-7f30-42d8-ef1c-e4d562fe3014",
        "colab": {
          "base_uri": "https://localhost:8080/",
          "height": 206
        }
      },
      "source": [
        "X1_train.head()"
      ],
      "execution_count": 66,
      "outputs": [
        {
          "output_type": "execute_result",
          "data": {
            "text/html": [
              "<div>\n",
              "<style scoped>\n",
              "    .dataframe tbody tr th:only-of-type {\n",
              "        vertical-align: middle;\n",
              "    }\n",
              "\n",
              "    .dataframe tbody tr th {\n",
              "        vertical-align: top;\n",
              "    }\n",
              "\n",
              "    .dataframe thead th {\n",
              "        text-align: right;\n",
              "    }\n",
              "</style>\n",
              "<table border=\"1\" class=\"dataframe\">\n",
              "  <thead>\n",
              "    <tr style=\"text-align: right;\">\n",
              "      <th></th>\n",
              "      <th>errorBalanceOrig</th>\n",
              "      <th>oldBalanceOrig</th>\n",
              "      <th>newBalanceDest</th>\n",
              "    </tr>\n",
              "  </thead>\n",
              "  <tbody>\n",
              "    <tr>\n",
              "      <th>729820</th>\n",
              "      <td>6137.67</td>\n",
              "      <td>114335.0</td>\n",
              "      <td>170639.67</td>\n",
              "    </tr>\n",
              "    <tr>\n",
              "      <th>2902152</th>\n",
              "      <td>190839.24</td>\n",
              "      <td>-1.0</td>\n",
              "      <td>722675.61</td>\n",
              "    </tr>\n",
              "    <tr>\n",
              "      <th>1722900</th>\n",
              "      <td>187165.36</td>\n",
              "      <td>-1.0</td>\n",
              "      <td>416543.45</td>\n",
              "    </tr>\n",
              "    <tr>\n",
              "      <th>4751057</th>\n",
              "      <td>160829.23</td>\n",
              "      <td>-1.0</td>\n",
              "      <td>2135999.53</td>\n",
              "    </tr>\n",
              "    <tr>\n",
              "      <th>3262058</th>\n",
              "      <td>120123.80</td>\n",
              "      <td>-1.0</td>\n",
              "      <td>583842.22</td>\n",
              "    </tr>\n",
              "  </tbody>\n",
              "</table>\n",
              "</div>"
            ],
            "text/plain": [
              "         errorBalanceOrig  oldBalanceOrig  newBalanceDest\n",
              "729820            6137.67        114335.0       170639.67\n",
              "2902152         190839.24            -1.0       722675.61\n",
              "1722900         187165.36            -1.0       416543.45\n",
              "4751057         160829.23            -1.0      2135999.53\n",
              "3262058         120123.80            -1.0       583842.22"
            ]
          },
          "metadata": {
            "tags": []
          },
          "execution_count": 66
        }
      ]
    },
    {
      "cell_type": "code",
      "metadata": {
        "id": "p2lL6waGc8zy",
        "colab_type": "code",
        "outputId": "d31fc8da-0259-4461-981e-d49ad1c45796",
        "colab": {
          "base_uri": "https://localhost:8080/",
          "height": 35
        }
      },
      "source": [
        "print(len(X1_train),len(X1_val),len(X1_test))"
      ],
      "execution_count": 67,
      "outputs": [
        {
          "output_type": "stream",
          "text": [
            "1662245 554082 554082\n"
          ],
          "name": "stdout"
        }
      ]
    },
    {
      "cell_type": "code",
      "metadata": {
        "id": "5QozDgtmkKrv",
        "colab_type": "code",
        "outputId": "1e51721a-fe53-4067-b642-24ec062bcf8a",
        "colab": {
          "base_uri": "https://localhost:8080/",
          "height": 35
        }
      },
      "source": [
        "y1train_ab = y1_train[y1_train==1]\n",
        "y1val_ab = y1_val[y1_val==1]\n",
        "y1test_ab = y1_test[y1_test==1]\n",
        "print('fraud train =',len(y1train_ab),'fraud val =',len(y1val_ab),'fraud test =',len(ytest_ab))"
      ],
      "execution_count": 68,
      "outputs": [
        {
          "output_type": "stream",
          "text": [
            "fraud train = 4927 fraud val = 1643 fraud test = 821\n"
          ],
          "name": "stdout"
        }
      ]
    },
    {
      "cell_type": "code",
      "metadata": {
        "id": "yDXhY2HMc80j",
        "colab_type": "code",
        "colab": {}
      },
      "source": [
        "y_test1 = np.array(y1_test)\n",
        "y_train1=np.array(y1_train)\n",
        "y_val1 = np.array(y1_val)"
      ],
      "execution_count": 0,
      "outputs": []
    },
    {
      "cell_type": "code",
      "metadata": {
        "id": "-u4f_fDwc802",
        "colab_type": "code",
        "outputId": "0497942f-590a-4474-e1c1-28d6ee895d6c",
        "colab": {
          "base_uri": "https://localhost:8080/",
          "height": 35
        }
      },
      "source": [
        "th_train1=len(y1train_ab)/len(y1_train)\n",
        "th_test1=len(y1test_ab)/len(y1_test)\n",
        "th_val1=len(y1val_ab)/len(y1_val)\n",
        "print('threshold train =',th_train1, 'threshold test =', th_test1,'threshold val =', th_val1)"
      ],
      "execution_count": 70,
      "outputs": [
        {
          "output_type": "stream",
          "text": [
            "threshold train = 0.002964063660892347 threshold test = 0.002965265069069199 threshold val = 0.002965265069069199\n"
          ],
          "name": "stdout"
        }
      ]
    },
    {
      "cell_type": "code",
      "metadata": {
        "id": "P5wxl_xO12kR",
        "colab_type": "code",
        "outputId": "a90feb3d-e4a4-4b27-b69f-2b96720e4c0b",
        "colab": {
          "base_uri": "https://localhost:8080/",
          "height": 74
        }
      },
      "source": [
        "ifo1 = iForest(X1_train, 100, 256, th_train1)"
      ],
      "execution_count": 71,
      "outputs": [
        {
          "output_type": "stream",
          "text": [
            "/usr/local/lib/python3.6/dist-packages/sklearn/ensemble/iforest.py:247: FutureWarning: behaviour=\"old\" is deprecated and will be removed in version 0.22. Please use behaviour=\"new\", which makes the decision_function change to match other anomaly detection algorithm API.\n",
            "  FutureWarning)\n"
          ],
          "name": "stderr"
        }
      ]
    },
    {
      "cell_type": "code",
      "metadata": {
        "id": "BLADtkriIo3v",
        "colab_type": "code",
        "outputId": "5f77c891-ee9d-433a-d777-a6143a359530",
        "colab": {
          "base_uri": "https://localhost:8080/",
          "height": 501
        }
      },
      "source": [
        "model_evaluate(ifo1,X1_val,y_val1)"
      ],
      "execution_count": 72,
      "outputs": [
        {
          "output_type": "stream",
          "text": [
            "/usr/local/lib/python3.6/dist-packages/sklearn/ensemble/iforest.py:415: DeprecationWarning: threshold_ attribute is deprecated in 0.20 and will be removed in 0.22.\n",
            "  \" be removed in 0.22.\", DeprecationWarning)\n"
          ],
          "name": "stderr"
        },
        {
          "output_type": "stream",
          "text": [
            "time :  14.667823791503906\n",
            "accuracy :  0.9940821033709812\n",
            "sensitivity :  0.006695069993913573\n",
            "specifity :  0.997018675365063\n",
            "precision :  0.0066344993968636915\n",
            "recall :  0.006695069993913573\n",
            "f1 score :  0.006664647076643442\n",
            "Confusion matrix\n",
            "TP =  11 FP =  1647 FN =  1632 TN =  550792\n"
          ],
          "name": "stdout"
        },
        {
          "output_type": "display_data",
          "data": {
            "image/png": "[encoded data removed]",
            "text/plain": [
              "<Figure size 576x288 with 2 Axes>"
            ]
          },
          "metadata": {
            "tags": []
          }
        }
      ]
    },
    {
      "cell_type": "code",
      "metadata": {
        "id": "hu3h5yO3c821",
        "colab_type": "code",
        "outputId": "fde81a5b-f6b8-46cc-e617-0475eeb66499",
        "colab": {
          "base_uri": "https://localhost:8080/",
          "height": 501
        }
      },
      "source": [
        "model_evaluate(ifo1, X1_test, y_test1)"
      ],
      "execution_count": 73,
      "outputs": [
        {
          "output_type": "stream",
          "text": [
            "/usr/local/lib/python3.6/dist-packages/sklearn/ensemble/iforest.py:415: DeprecationWarning: threshold_ attribute is deprecated in 0.20 and will be removed in 0.22.\n",
            "  \" be removed in 0.22.\", DeprecationWarning)\n"
          ],
          "name": "stderr"
        },
        {
          "output_type": "stream",
          "text": [
            "time :  14.699686288833618\n",
            "accuracy :  0.9943058969610996\n",
            "sensitivity :  0.0036518563603164943\n",
            "specifity :  0.9972521853091473\n",
            "precision :  0.003937007874015748\n",
            "recall :  0.0036518563603164943\n",
            "f1 score :  0.003789074834227976\n",
            "Confusion matrix\n",
            "TP =  6 FP =  1518 FN =  1637 TN =  550921\n"
          ],
          "name": "stdout"
        },
        {
          "output_type": "display_data",
          "data": {
            "image/png": "[encoded data removed]",
            "text/plain": [
              "<Figure size 576x288 with 2 Axes>"
            ]
          },
          "metadata": {
            "tags": []
          }
        }
      ]
    },
    {
      "cell_type": "code",
      "metadata": {
        "id": "8IPuIl2e4JoJ",
        "colab_type": "code",
        "colab": {}
      },
      "source": [
        ""
      ],
      "execution_count": 0,
      "outputs": []
    },
    {
      "cell_type": "markdown",
      "metadata": {
        "id": "VoSewArKfODM",
        "colab_type": "text"
      },
      "source": [
        "### percobaan1.2 - 5 fitur terbaik"
      ]
    },
    {
      "cell_type": "code",
      "metadata": {
        "id": "u03kXu_yfRjJ",
        "colab_type": "code",
        "outputId": "6d9b8e00-8612-4525-8c1e-02915d8b1736",
        "colab": {
          "base_uri": "https://localhost:8080/",
          "height": 206
        }
      },
      "source": [
        "X2 = X[['errorBalanceOrig','oldBalanceOrig','newBalanceDest','newBalanceOrig','oldBalanceDest']]\n",
        "X2.head()"
      ],
      "execution_count": 74,
      "outputs": [
        {
          "output_type": "execute_result",
          "data": {
            "text/html": [
              "<div>\n",
              "<style scoped>\n",
              "    .dataframe tbody tr th:only-of-type {\n",
              "        vertical-align: middle;\n",
              "    }\n",
              "\n",
              "    .dataframe tbody tr th {\n",
              "        vertical-align: top;\n",
              "    }\n",
              "\n",
              "    .dataframe thead th {\n",
              "        text-align: right;\n",
              "    }\n",
              "</style>\n",
              "<table border=\"1\" class=\"dataframe\">\n",
              "  <thead>\n",
              "    <tr style=\"text-align: right;\">\n",
              "      <th></th>\n",
              "      <th>errorBalanceOrig</th>\n",
              "      <th>oldBalanceOrig</th>\n",
              "      <th>newBalanceDest</th>\n",
              "      <th>newBalanceOrig</th>\n",
              "      <th>oldBalanceDest</th>\n",
              "    </tr>\n",
              "  </thead>\n",
              "  <tbody>\n",
              "    <tr>\n",
              "      <th>2</th>\n",
              "      <td>0.00</td>\n",
              "      <td>181.0</td>\n",
              "      <td>-1.00</td>\n",
              "      <td>0.0</td>\n",
              "      <td>-1.0</td>\n",
              "    </tr>\n",
              "    <tr>\n",
              "      <th>3</th>\n",
              "      <td>0.00</td>\n",
              "      <td>181.0</td>\n",
              "      <td>0.00</td>\n",
              "      <td>0.0</td>\n",
              "      <td>21182.0</td>\n",
              "    </tr>\n",
              "    <tr>\n",
              "      <th>15</th>\n",
              "      <td>213808.94</td>\n",
              "      <td>15325.0</td>\n",
              "      <td>51513.44</td>\n",
              "      <td>0.0</td>\n",
              "      <td>5083.0</td>\n",
              "    </tr>\n",
              "    <tr>\n",
              "      <th>19</th>\n",
              "      <td>214605.30</td>\n",
              "      <td>705.0</td>\n",
              "      <td>0.00</td>\n",
              "      <td>0.0</td>\n",
              "      <td>22425.0</td>\n",
              "    </tr>\n",
              "    <tr>\n",
              "      <th>24</th>\n",
              "      <td>300850.89</td>\n",
              "      <td>10835.0</td>\n",
              "      <td>2719172.89</td>\n",
              "      <td>0.0</td>\n",
              "      <td>6267.0</td>\n",
              "    </tr>\n",
              "  </tbody>\n",
              "</table>\n",
              "</div>"
            ],
            "text/plain": [
              "    errorBalanceOrig  oldBalanceOrig  ...  newBalanceOrig  oldBalanceDest\n",
              "2               0.00           181.0  ...             0.0            -1.0\n",
              "3               0.00           181.0  ...             0.0         21182.0\n",
              "15         213808.94         15325.0  ...             0.0          5083.0\n",
              "19         214605.30           705.0  ...             0.0         22425.0\n",
              "24         300850.89         10835.0  ...             0.0          6267.0\n",
              "\n",
              "[5 rows x 5 columns]"
            ]
          },
          "metadata": {
            "tags": []
          },
          "execution_count": 74
        }
      ]
    },
    {
      "cell_type": "code",
      "metadata": {
        "id": "TYJBxbJrfXG3",
        "colab_type": "code",
        "colab": {}
      },
      "source": [
        "X2_train, X2_test, y2_train, y2_test = train_test_split(X2, y, test_size=0.2, random_state=1, stratify=y)\n",
        "X2_train, X2_val, y2_train, y2_val = train_test_split(X2_train, y2_train, test_size=0.25, random_state=1, stratify=y2_train)"
      ],
      "execution_count": 0,
      "outputs": []
    },
    {
      "cell_type": "code",
      "metadata": {
        "id": "zKy9Guqcfd1h",
        "colab_type": "code",
        "outputId": "8af9e874-e68f-445a-8f39-dff318dfef7e",
        "colab": {
          "base_uri": "https://localhost:8080/",
          "height": 35
        }
      },
      "source": [
        "print(len(X2_train),len(X2_val),len(X2_test))"
      ],
      "execution_count": 76,
      "outputs": [
        {
          "output_type": "stream",
          "text": [
            "1662245 554082 554082\n"
          ],
          "name": "stdout"
        }
      ]
    },
    {
      "cell_type": "code",
      "metadata": {
        "id": "rMkv7TkvfiLX",
        "colab_type": "code",
        "colab": {}
      },
      "source": [
        "y2train_ab = y2_train[y2_train==1]\n",
        "y2val_ab = y2_val[y2_val==1]\n",
        "y2test_ab = y2_test[y2_test==1]"
      ],
      "execution_count": 0,
      "outputs": []
    },
    {
      "cell_type": "code",
      "metadata": {
        "id": "GQm0ago5fsUL",
        "colab_type": "code",
        "colab": {}
      },
      "source": [
        "y_test2 = np.array(y2_test)\n",
        "y_train2=np.array(y2_train)\n",
        "y_val2 = np.array(y2_val)"
      ],
      "execution_count": 0,
      "outputs": []
    },
    {
      "cell_type": "code",
      "metadata": {
        "id": "QN-70jAKfs--",
        "colab_type": "code",
        "outputId": "3737d33f-c732-41ee-91a4-2e390a237a33",
        "colab": {
          "base_uri": "https://localhost:8080/",
          "height": 35
        }
      },
      "source": [
        "th_train2=len(y2train_ab)/len(y2_train)\n",
        "th_test2=len(y2test_ab)/len(y2_test)\n",
        "th_val2=len(y2val_ab)/len(y2_val)\n",
        "print('threshold train =',th_train2, 'threshold test =', th_test2,'threshold val =', th_val2)"
      ],
      "execution_count": 79,
      "outputs": [
        {
          "output_type": "stream",
          "text": [
            "threshold train = 0.002964063660892347 threshold test = 0.002965265069069199 threshold val = 0.002965265069069199\n"
          ],
          "name": "stdout"
        }
      ]
    },
    {
      "cell_type": "code",
      "metadata": {
        "id": "ppQUG8sKfvmM",
        "colab_type": "code",
        "outputId": "fec39ef4-f875-47e2-dcf8-468252982563",
        "colab": {
          "base_uri": "https://localhost:8080/",
          "height": 74
        }
      },
      "source": [
        "ifo2 = iForest(X2_train, 100, 256, th_train2)"
      ],
      "execution_count": 80,
      "outputs": [
        {
          "output_type": "stream",
          "text": [
            "/usr/local/lib/python3.6/dist-packages/sklearn/ensemble/iforest.py:247: FutureWarning: behaviour=\"old\" is deprecated and will be removed in version 0.22. Please use behaviour=\"new\", which makes the decision_function change to match other anomaly detection algorithm API.\n",
            "  FutureWarning)\n"
          ],
          "name": "stderr"
        }
      ]
    },
    {
      "cell_type": "code",
      "metadata": {
        "id": "otVaCkqKfy7D",
        "colab_type": "code",
        "outputId": "5a9edefb-8f71-4212-af20-3d91448c625c",
        "colab": {
          "base_uri": "https://localhost:8080/",
          "height": 501
        }
      },
      "source": [
        "model_evaluate(ifo2,X2_val,y_val2)"
      ],
      "execution_count": 81,
      "outputs": [
        {
          "output_type": "stream",
          "text": [
            "/usr/local/lib/python3.6/dist-packages/sklearn/ensemble/iforest.py:415: DeprecationWarning: threshold_ attribute is deprecated in 0.20 and will be removed in 0.22.\n",
            "  \" be removed in 0.22.\", DeprecationWarning)\n"
          ],
          "name": "stderr"
        },
        {
          "output_type": "stream",
          "text": [
            "time :  14.849754810333252\n",
            "accuracy :  0.9941326374074595\n",
            "sensitivity :  0.023128423615337797\n",
            "specifity :  0.9970204855196683\n",
            "precision :  0.022565320665083134\n",
            "recall :  0.023128423615337797\n",
            "f1 score :  0.0228434024646829\n",
            "Confusion matrix\n",
            "TP =  38 FP =  1646 FN =  1605 TN =  550793\n"
          ],
          "name": "stdout"
        },
        {
          "output_type": "display_data",
          "data": {
            "image/png": "[encoded data removed]",
            "text/plain": [
              "<Figure size 576x288 with 2 Axes>"
            ]
          },
          "metadata": {
            "tags": []
          }
        }
      ]
    },
    {
      "cell_type": "code",
      "metadata": {
        "id": "QhGGzCuAf1Zy",
        "colab_type": "code",
        "outputId": "218033bd-7755-49b1-f7a1-39699db4ecb3",
        "colab": {
          "base_uri": "https://localhost:8080/",
          "height": 501
        }
      },
      "source": [
        "model_evaluate(ifo2, X2_test, y_test2)"
      ],
      "execution_count": 82,
      "outputs": [
        {
          "output_type": "stream",
          "text": [
            "/usr/local/lib/python3.6/dist-packages/sklearn/ensemble/iforest.py:415: DeprecationWarning: threshold_ attribute is deprecated in 0.20 and will be removed in 0.22.\n",
            "  \" be removed in 0.22.\", DeprecationWarning)\n"
          ],
          "name": "stderr"
        },
        {
          "output_type": "stream",
          "text": [
            "time :  14.911176204681396\n",
            "accuracy :  0.9942048288881429\n",
            "sensitivity :  0.019476567255021303\n",
            "specifity :  0.9971037526315123\n",
            "precision :  0.0196078431372549\n",
            "recall :  0.019476567255021303\n",
            "f1 score :  0.019541984732824428\n",
            "Confusion matrix\n",
            "TP =  32 FP =  1600 FN =  1611 TN =  550839\n"
          ],
          "name": "stdout"
        },
        {
          "output_type": "display_data",
          "data": {
            "image/png": "[encoded data removed]",
            "text/plain": [
              "<Figure size 576x288 with 2 Axes>"
            ]
          },
          "metadata": {
            "tags": []
          }
        }
      ]
    },
    {
      "cell_type": "code",
      "metadata": {
        "id": "eoeRNpQdgtPn",
        "colab_type": "code",
        "colab": {}
      },
      "source": [
        ""
      ],
      "execution_count": 0,
      "outputs": []
    },
    {
      "cell_type": "code",
      "metadata": {
        "id": "5jGf6PJnDYUC",
        "colab_type": "code",
        "colab": {}
      },
      "source": [
        ""
      ],
      "execution_count": 0,
      "outputs": []
    },
    {
      "cell_type": "markdown",
      "metadata": {
        "colab_type": "text",
        "id": "MmeQbdX9iFJ2"
      },
      "source": [
        "### percobaan1.3 - 7 fitur terbaik"
      ]
    },
    {
      "cell_type": "code",
      "metadata": {
        "colab_type": "code",
        "outputId": "357133f9-8bfe-4e44-81e0-31fc0c425686",
        "id": "UK4vnpPUiFKL",
        "colab": {
          "base_uri": "https://localhost:8080/",
          "height": 206
        }
      },
      "source": [
        "X3 = X[['errorBalanceOrig','oldBalanceOrig','newBalanceDest','newBalanceOrig','oldBalanceDest','amount','step']]\n",
        "X3.head()"
      ],
      "execution_count": 110,
      "outputs": [
        {
          "output_type": "execute_result",
          "data": {
            "text/html": [
              "<div>\n",
              "<style scoped>\n",
              "    .dataframe tbody tr th:only-of-type {\n",
              "        vertical-align: middle;\n",
              "    }\n",
              "\n",
              "    .dataframe tbody tr th {\n",
              "        vertical-align: top;\n",
              "    }\n",
              "\n",
              "    .dataframe thead th {\n",
              "        text-align: right;\n",
              "    }\n",
              "</style>\n",
              "<table border=\"1\" class=\"dataframe\">\n",
              "  <thead>\n",
              "    <tr style=\"text-align: right;\">\n",
              "      <th></th>\n",
              "      <th>errorBalanceOrig</th>\n",
              "      <th>oldBalanceOrig</th>\n",
              "      <th>newBalanceDest</th>\n",
              "      <th>newBalanceOrig</th>\n",
              "      <th>oldBalanceDest</th>\n",
              "      <th>amount</th>\n",
              "      <th>step</th>\n",
              "    </tr>\n",
              "  </thead>\n",
              "  <tbody>\n",
              "    <tr>\n",
              "      <th>2</th>\n",
              "      <td>0.00</td>\n",
              "      <td>181.0</td>\n",
              "      <td>-1.00</td>\n",
              "      <td>0.0</td>\n",
              "      <td>-1.0</td>\n",
              "      <td>181.00</td>\n",
              "      <td>1</td>\n",
              "    </tr>\n",
              "    <tr>\n",
              "      <th>3</th>\n",
              "      <td>0.00</td>\n",
              "      <td>181.0</td>\n",
              "      <td>0.00</td>\n",
              "      <td>0.0</td>\n",
              "      <td>21182.0</td>\n",
              "      <td>181.00</td>\n",
              "      <td>1</td>\n",
              "    </tr>\n",
              "    <tr>\n",
              "      <th>15</th>\n",
              "      <td>213808.94</td>\n",
              "      <td>15325.0</td>\n",
              "      <td>51513.44</td>\n",
              "      <td>0.0</td>\n",
              "      <td>5083.0</td>\n",
              "      <td>229133.94</td>\n",
              "      <td>1</td>\n",
              "    </tr>\n",
              "    <tr>\n",
              "      <th>19</th>\n",
              "      <td>214605.30</td>\n",
              "      <td>705.0</td>\n",
              "      <td>0.00</td>\n",
              "      <td>0.0</td>\n",
              "      <td>22425.0</td>\n",
              "      <td>215310.30</td>\n",
              "      <td>1</td>\n",
              "    </tr>\n",
              "    <tr>\n",
              "      <th>24</th>\n",
              "      <td>300850.89</td>\n",
              "      <td>10835.0</td>\n",
              "      <td>2719172.89</td>\n",
              "      <td>0.0</td>\n",
              "      <td>6267.0</td>\n",
              "      <td>311685.89</td>\n",
              "      <td>1</td>\n",
              "    </tr>\n",
              "  </tbody>\n",
              "</table>\n",
              "</div>"
            ],
            "text/plain": [
              "    errorBalanceOrig  oldBalanceOrig  ...     amount  step\n",
              "2               0.00           181.0  ...     181.00     1\n",
              "3               0.00           181.0  ...     181.00     1\n",
              "15         213808.94         15325.0  ...  229133.94     1\n",
              "19         214605.30           705.0  ...  215310.30     1\n",
              "24         300850.89         10835.0  ...  311685.89     1\n",
              "\n",
              "[5 rows x 7 columns]"
            ]
          },
          "metadata": {
            "tags": []
          },
          "execution_count": 110
        }
      ]
    },
    {
      "cell_type": "code",
      "metadata": {
        "colab_type": "code",
        "id": "ZTDmZXSziFLX",
        "colab": {}
      },
      "source": [
        "X3_train, X3_test, y3_train, y3_test = train_test_split(X3, y, test_size=0.2, random_state=1, stratify=y)\n",
        "X3_train, X3_val, y3_train, y3_val = train_test_split(X3_train, y3_train, test_size=0.25, random_state=1, stratify=y3_train)"
      ],
      "execution_count": 0,
      "outputs": []
    },
    {
      "cell_type": "code",
      "metadata": {
        "colab_type": "code",
        "outputId": "1d391f87-9016-442d-fb87-b5a3e3db0552",
        "id": "4tId0zLdiFMD",
        "colab": {
          "base_uri": "https://localhost:8080/",
          "height": 35
        }
      },
      "source": [
        "print(len(X3_train),len(X3_val),len(X3_test))"
      ],
      "execution_count": 112,
      "outputs": [
        {
          "output_type": "stream",
          "text": [
            "1662245 554082 554082\n"
          ],
          "name": "stdout"
        }
      ]
    },
    {
      "cell_type": "code",
      "metadata": {
        "colab_type": "code",
        "id": "ONHNwT7UiFMu",
        "colab": {}
      },
      "source": [
        "y3train_ab = y3_train[y3_train==1]\n",
        "y3val_ab = y3_val[y3_val==1]\n",
        "y3test_ab = y3_test[y3_test==1]"
      ],
      "execution_count": 0,
      "outputs": []
    },
    {
      "cell_type": "code",
      "metadata": {
        "colab_type": "code",
        "id": "Q_f0bxiXiFM4",
        "colab": {}
      },
      "source": [
        "y_test3 = np.array(y3_test)\n",
        "y_train3=np.array(y3_train)\n",
        "y_val3 = np.array(y3_val)"
      ],
      "execution_count": 0,
      "outputs": []
    },
    {
      "cell_type": "code",
      "metadata": {
        "colab_type": "code",
        "outputId": "bcdf834c-8c77-4faf-cbaa-2b215dbe1385",
        "id": "KF9JdVAZiFND",
        "colab": {
          "base_uri": "https://localhost:8080/",
          "height": 35
        }
      },
      "source": [
        "th_train3=len(y3train_ab)/len(y3_train)\n",
        "th_test3=len(y3test_ab)/len(y3_test)\n",
        "th_val3=len(y3val_ab)/len(y3_val)\n",
        "print('threshold train =',th_train3, 'threshold test =', th_test3,'threshold val =', th_val3)"
      ],
      "execution_count": 115,
      "outputs": [
        {
          "output_type": "stream",
          "text": [
            "threshold train = 0.002964063660892347 threshold test = 0.002965265069069199 threshold val = 0.002965265069069199\n"
          ],
          "name": "stdout"
        }
      ]
    },
    {
      "cell_type": "code",
      "metadata": {
        "colab_type": "code",
        "outputId": "48bdbb6a-92d1-4f41-a9d4-f404a0c51e48",
        "id": "tCfI_Cd5iFNT",
        "colab": {
          "base_uri": "https://localhost:8080/",
          "height": 74
        }
      },
      "source": [
        "ifo3 = iForest(X3_train, 100, 256, th_train3)"
      ],
      "execution_count": 116,
      "outputs": [
        {
          "output_type": "stream",
          "text": [
            "/usr/local/lib/python3.6/dist-packages/sklearn/ensemble/iforest.py:247: FutureWarning: behaviour=\"old\" is deprecated and will be removed in version 0.22. Please use behaviour=\"new\", which makes the decision_function change to match other anomaly detection algorithm API.\n",
            "  FutureWarning)\n"
          ],
          "name": "stderr"
        }
      ]
    },
    {
      "cell_type": "code",
      "metadata": {
        "colab_type": "code",
        "outputId": "2aa203d6-6ff6-4167-d0ec-8bee6791d944",
        "id": "z3pYoZhXiFNg",
        "colab": {
          "base_uri": "https://localhost:8080/",
          "height": 501
        }
      },
      "source": [
        "model_evaluate(ifo3,X3_val,y_val3)"
      ],
      "execution_count": 117,
      "outputs": [
        {
          "output_type": "stream",
          "text": [
            "/usr/local/lib/python3.6/dist-packages/sklearn/ensemble/iforest.py:415: DeprecationWarning: threshold_ attribute is deprecated in 0.20 and will be removed in 0.22.\n",
            "  \" be removed in 0.22.\", DeprecationWarning)\n"
          ],
          "name": "stderr"
        },
        {
          "output_type": "stream",
          "text": [
            "time :  15.98757028579712\n",
            "accuracy :  0.9944845708757909\n",
            "sensitivity :  0.06634205721241632\n",
            "specifity :  0.997244944690726\n",
            "precision :  0.0668301655426119\n",
            "recall :  0.06634205721241632\n",
            "f1 score :  0.06658521686010996\n",
            "Confusion matrix\n",
            "TP =  109 FP =  1522 FN =  1534 TN =  550917\n"
          ],
          "name": "stdout"
        },
        {
          "output_type": "display_data",
          "data": {
            "image/png": "[encoded data removed]",
            "text/plain": [
              "<Figure size 576x288 with 2 Axes>"
            ]
          },
          "metadata": {
            "tags": []
          }
        }
      ]
    },
    {
      "cell_type": "code",
      "metadata": {
        "colab_type": "code",
        "outputId": "9277ebe8-9acd-4c27-dec3-af9aa35e0541",
        "id": "QBxNoId8iFNt",
        "colab": {
          "base_uri": "https://localhost:8080/",
          "height": 501
        }
      },
      "source": [
        "model_evaluate(ifo3, X3_test, y_test3)"
      ],
      "execution_count": 118,
      "outputs": [
        {
          "output_type": "stream",
          "text": [
            "/usr/local/lib/python3.6/dist-packages/sklearn/ensemble/iforest.py:415: DeprecationWarning: threshold_ attribute is deprecated in 0.20 and will be removed in 0.22.\n",
            "  \" be removed in 0.22.\", DeprecationWarning)\n"
          ],
          "name": "stderr"
        },
        {
          "output_type": "stream",
          "text": [
            "time :  16.14934730529785\n",
            "accuracy :  0.9946091011799697\n",
            "sensitivity :  0.06938527084601338\n",
            "specifity :  0.9973607945854656\n",
            "precision :  0.07251908396946564\n",
            "recall :  0.06938527084601338\n",
            "f1 score :  0.07091757387247277\n",
            "Confusion matrix\n",
            "TP =  114 FP =  1458 FN =  1529 TN =  550981\n"
          ],
          "name": "stdout"
        },
        {
          "output_type": "display_data",
          "data": {
            "image/png": "[encoded data removed]",
            "text/plain": [
              "<Figure size 576x288 with 2 Axes>"
            ]
          },
          "metadata": {
            "tags": []
          }
        }
      ]
    },
    {
      "cell_type": "code",
      "metadata": {
        "colab_type": "code",
        "id": "RN-nMnqRiFN3",
        "colab": {}
      },
      "source": [
        ""
      ],
      "execution_count": 0,
      "outputs": []
    },
    {
      "cell_type": "markdown",
      "metadata": {
        "colab_type": "text",
        "id": "9GkkEbALjLsP"
      },
      "source": [
        "### percobaan1.4 - 10 fitur terbaik"
      ]
    },
    {
      "cell_type": "code",
      "metadata": {
        "colab_type": "code",
        "outputId": "5cfda63d-83f1-4d90-f5c9-1202d565edab",
        "id": "4mI-O87AjLtZ",
        "colab": {
          "base_uri": "https://localhost:8080/",
          "height": 206
        }
      },
      "source": [
        "X4 = X[['errorBalanceOrig','oldBalanceOrig','newBalanceDest','newBalanceOrig','oldBalanceDest','amount','step','nameOrig','type','errorBalanceDest']]\n",
        "X4.head()"
      ],
      "execution_count": 92,
      "outputs": [
        {
          "output_type": "execute_result",
          "data": {
            "text/html": [
              "<div>\n",
              "<style scoped>\n",
              "    .dataframe tbody tr th:only-of-type {\n",
              "        vertical-align: middle;\n",
              "    }\n",
              "\n",
              "    .dataframe tbody tr th {\n",
              "        vertical-align: top;\n",
              "    }\n",
              "\n",
              "    .dataframe thead th {\n",
              "        text-align: right;\n",
              "    }\n",
              "</style>\n",
              "<table border=\"1\" class=\"dataframe\">\n",
              "  <thead>\n",
              "    <tr style=\"text-align: right;\">\n",
              "      <th></th>\n",
              "      <th>errorBalanceOrig</th>\n",
              "      <th>oldBalanceOrig</th>\n",
              "      <th>newBalanceDest</th>\n",
              "      <th>newBalanceOrig</th>\n",
              "      <th>oldBalanceDest</th>\n",
              "      <th>amount</th>\n",
              "      <th>step</th>\n",
              "      <th>nameOrig</th>\n",
              "      <th>type</th>\n",
              "      <th>errorBalanceDest</th>\n",
              "    </tr>\n",
              "  </thead>\n",
              "  <tbody>\n",
              "    <tr>\n",
              "      <th>2</th>\n",
              "      <td>0.00</td>\n",
              "      <td>181.0</td>\n",
              "      <td>-1.00</td>\n",
              "      <td>0.0</td>\n",
              "      <td>-1.0</td>\n",
              "      <td>181.00</td>\n",
              "      <td>1</td>\n",
              "      <td>1</td>\n",
              "      <td>1</td>\n",
              "      <td>181.0</td>\n",
              "    </tr>\n",
              "    <tr>\n",
              "      <th>3</th>\n",
              "      <td>0.00</td>\n",
              "      <td>181.0</td>\n",
              "      <td>0.00</td>\n",
              "      <td>0.0</td>\n",
              "      <td>21182.0</td>\n",
              "      <td>181.00</td>\n",
              "      <td>1</td>\n",
              "      <td>2</td>\n",
              "      <td>2</td>\n",
              "      <td>21363.0</td>\n",
              "    </tr>\n",
              "    <tr>\n",
              "      <th>15</th>\n",
              "      <td>213808.94</td>\n",
              "      <td>15325.0</td>\n",
              "      <td>51513.44</td>\n",
              "      <td>0.0</td>\n",
              "      <td>5083.0</td>\n",
              "      <td>229133.94</td>\n",
              "      <td>1</td>\n",
              "      <td>3</td>\n",
              "      <td>2</td>\n",
              "      <td>182703.5</td>\n",
              "    </tr>\n",
              "    <tr>\n",
              "      <th>19</th>\n",
              "      <td>214605.30</td>\n",
              "      <td>705.0</td>\n",
              "      <td>0.00</td>\n",
              "      <td>0.0</td>\n",
              "      <td>22425.0</td>\n",
              "      <td>215310.30</td>\n",
              "      <td>1</td>\n",
              "      <td>4</td>\n",
              "      <td>1</td>\n",
              "      <td>237735.3</td>\n",
              "    </tr>\n",
              "    <tr>\n",
              "      <th>24</th>\n",
              "      <td>300850.89</td>\n",
              "      <td>10835.0</td>\n",
              "      <td>2719172.89</td>\n",
              "      <td>0.0</td>\n",
              "      <td>6267.0</td>\n",
              "      <td>311685.89</td>\n",
              "      <td>1</td>\n",
              "      <td>5</td>\n",
              "      <td>1</td>\n",
              "      <td>-2401220.0</td>\n",
              "    </tr>\n",
              "  </tbody>\n",
              "</table>\n",
              "</div>"
            ],
            "text/plain": [
              "    errorBalanceOrig  oldBalanceOrig  ...  type  errorBalanceDest\n",
              "2               0.00           181.0  ...     1             181.0\n",
              "3               0.00           181.0  ...     2           21363.0\n",
              "15         213808.94         15325.0  ...     2          182703.5\n",
              "19         214605.30           705.0  ...     1          237735.3\n",
              "24         300850.89         10835.0  ...     1        -2401220.0\n",
              "\n",
              "[5 rows x 10 columns]"
            ]
          },
          "metadata": {
            "tags": []
          },
          "execution_count": 92
        }
      ]
    },
    {
      "cell_type": "code",
      "metadata": {
        "colab_type": "code",
        "id": "M67VBZ9CjLv-",
        "colab": {}
      },
      "source": [
        "X4_train, X4_test, y4_train, y4_test = train_test_split(X4, y, test_size=0.2, random_state=1, stratify=y)\n",
        "X4_train, X4_val, y4_train, y4_val = train_test_split(X4_train, y4_train, test_size=0.25, random_state=1, stratify=y4_train)"
      ],
      "execution_count": 0,
      "outputs": []
    },
    {
      "cell_type": "code",
      "metadata": {
        "colab_type": "code",
        "outputId": "ef1cb62a-9851-42bf-f334-d4be09f10b34",
        "id": "R6q76RIsjLwq",
        "colab": {
          "base_uri": "https://localhost:8080/",
          "height": 35
        }
      },
      "source": [
        "print(len(X4_train),len(X4_val),len(X4_test))"
      ],
      "execution_count": 94,
      "outputs": [
        {
          "output_type": "stream",
          "text": [
            "1662245 554082 554082\n"
          ],
          "name": "stdout"
        }
      ]
    },
    {
      "cell_type": "code",
      "metadata": {
        "colab_type": "code",
        "id": "1_rsLn1LjLx2",
        "colab": {}
      },
      "source": [
        "y4train_ab = y4_train[y4_train==1]\n",
        "y4val_ab = y4_val[y4_val==1]\n",
        "y4test_ab = y4_test[y4_test==1]"
      ],
      "execution_count": 0,
      "outputs": []
    },
    {
      "cell_type": "code",
      "metadata": {
        "colab_type": "code",
        "id": "lyz7MLVbjLyK",
        "colab": {}
      },
      "source": [
        "y_test4 = np.array(y4_test)\n",
        "y_train4=np.array(y4_train)\n",
        "y_val4 = np.array(y4_val)"
      ],
      "execution_count": 0,
      "outputs": []
    },
    {
      "cell_type": "code",
      "metadata": {
        "colab_type": "code",
        "outputId": "e41c394b-3e4b-4ba5-cdc3-27123397ff23",
        "id": "7Aj6BWppjLye",
        "colab": {
          "base_uri": "https://localhost:8080/",
          "height": 35
        }
      },
      "source": [
        "th_train4=len(y4train_ab)/len(y4_train)\n",
        "th_test4=len(y4test_ab)/len(y4_test)\n",
        "th_val4=len(y4val_ab)/len(y4_val)\n",
        "print('threshold train =',th_train4, 'threshold test =', th_test4,'threshold val =', th_val4)"
      ],
      "execution_count": 97,
      "outputs": [
        {
          "output_type": "stream",
          "text": [
            "threshold train = 0.002964063660892347 threshold test = 0.002965265069069199 threshold val = 0.002965265069069199\n"
          ],
          "name": "stdout"
        }
      ]
    },
    {
      "cell_type": "code",
      "metadata": {
        "colab_type": "code",
        "outputId": "89c198a0-f0ee-4579-c72c-5cac0f17b89f",
        "id": "sf-cQE5TjLyz",
        "colab": {
          "base_uri": "https://localhost:8080/",
          "height": 74
        }
      },
      "source": [
        "ifo4 = iForest(X4_train, 100, 256, th_train4)"
      ],
      "execution_count": 98,
      "outputs": [
        {
          "output_type": "stream",
          "text": [
            "/usr/local/lib/python3.6/dist-packages/sklearn/ensemble/iforest.py:247: FutureWarning: behaviour=\"old\" is deprecated and will be removed in version 0.22. Please use behaviour=\"new\", which makes the decision_function change to match other anomaly detection algorithm API.\n",
            "  FutureWarning)\n"
          ],
          "name": "stderr"
        }
      ]
    },
    {
      "cell_type": "code",
      "metadata": {
        "colab_type": "code",
        "outputId": "e11233f1-9faa-41c4-f0b3-28d6a6a30e5a",
        "id": "nMaDA_b0jLy_",
        "colab": {
          "base_uri": "https://localhost:8080/",
          "height": 501
        }
      },
      "source": [
        "model_evaluate(ifo4,X4_val,y_val4)"
      ],
      "execution_count": 99,
      "outputs": [
        {
          "output_type": "stream",
          "text": [
            "/usr/local/lib/python3.6/dist-packages/sklearn/ensemble/iforest.py:415: DeprecationWarning: threshold_ attribute is deprecated in 0.20 and will be removed in 0.22.\n",
            "  \" be removed in 0.22.\", DeprecationWarning)\n"
          ],
          "name": "stderr"
        },
        {
          "output_type": "stream",
          "text": [
            "time :  17.02557897567749\n",
            "accuracy :  0.9941940001660404\n",
            "sensitivity :  0.02251978088861838\n",
            "specifity :  0.9970838409308539\n",
            "precision :  0.022451456310679612\n",
            "recall :  0.02251978088861838\n",
            "f1 score :  0.022485566697052567\n",
            "Confusion matrix\n",
            "TP =  37 FP =  1611 FN =  1606 TN =  550828\n"
          ],
          "name": "stdout"
        },
        {
          "output_type": "display_data",
          "data": {
            "image/png": "[encoded data removed]",
            "text/plain": [
              "<Figure size 576x288 with 2 Axes>"
            ]
          },
          "metadata": {
            "tags": []
          }
        }
      ]
    },
    {
      "cell_type": "code",
      "metadata": {
        "colab_type": "code",
        "outputId": "f8b14fd2-5812-47b1-f1a0-3257c6883302",
        "id": "qy_v4HZ2jLzN",
        "colab": {
          "base_uri": "https://localhost:8080/",
          "height": 501
        }
      },
      "source": [
        "model_evaluate(ifo4, X4_test, y_test4)"
      ],
      "execution_count": 100,
      "outputs": [
        {
          "output_type": "stream",
          "text": [
            "/usr/local/lib/python3.6/dist-packages/sklearn/ensemble/iforest.py:415: DeprecationWarning: threshold_ attribute is deprecated in 0.20 and will be removed in 0.22.\n",
            "  \" be removed in 0.22.\", DeprecationWarning)\n"
          ],
          "name": "stderr"
        },
        {
          "output_type": "stream",
          "text": [
            "time :  17.006256341934204\n",
            "accuracy :  0.9943835028028343\n",
            "sensitivity :  0.023128423615337797\n",
            "specifity :  0.9972720970098056\n",
            "precision :  0.02459546925566343\n",
            "recall :  0.023128423615337797\n",
            "f1 score :  0.023839397741530738\n",
            "Confusion matrix\n",
            "TP =  38 FP =  1507 FN =  1605 TN =  550932\n"
          ],
          "name": "stdout"
        },
        {
          "output_type": "display_data",
          "data": {
            "image/png": "[encoded data removed]",
            "text/plain": [
              "<Figure size 576x288 with 2 Axes>"
            ]
          },
          "metadata": {
            "tags": []
          }
        }
      ]
    },
    {
      "cell_type": "code",
      "metadata": {
        "colab_type": "code",
        "id": "45RH-NhZjLzd",
        "colab": {}
      },
      "source": [
        ""
      ],
      "execution_count": 0,
      "outputs": []
    },
    {
      "cell_type": "markdown",
      "metadata": {
        "colab_type": "text",
        "id": "XIhMcq1V7N2l"
      },
      "source": [
        "### percobaan1.5 - 6 fitur terbaik"
      ]
    },
    {
      "cell_type": "code",
      "metadata": {
        "colab_type": "code",
        "outputId": "231a4754-68f5-413b-bac3-a06cace4eb49",
        "id": "G4WAqx6u7N3t",
        "colab": {
          "base_uri": "https://localhost:8080/",
          "height": 206
        }
      },
      "source": [
        "X5 = X[['errorBalanceOrig','oldBalanceOrig','newBalanceDest','newBalanceOrig','oldBalanceDest','amount']]\n",
        "X5.head()"
      ],
      "execution_count": 119,
      "outputs": [
        {
          "output_type": "execute_result",
          "data": {
            "text/html": [
              "<div>\n",
              "<style scoped>\n",
              "    .dataframe tbody tr th:only-of-type {\n",
              "        vertical-align: middle;\n",
              "    }\n",
              "\n",
              "    .dataframe tbody tr th {\n",
              "        vertical-align: top;\n",
              "    }\n",
              "\n",
              "    .dataframe thead th {\n",
              "        text-align: right;\n",
              "    }\n",
              "</style>\n",
              "<table border=\"1\" class=\"dataframe\">\n",
              "  <thead>\n",
              "    <tr style=\"text-align: right;\">\n",
              "      <th></th>\n",
              "      <th>errorBalanceOrig</th>\n",
              "      <th>oldBalanceOrig</th>\n",
              "      <th>newBalanceDest</th>\n",
              "      <th>newBalanceOrig</th>\n",
              "      <th>oldBalanceDest</th>\n",
              "      <th>amount</th>\n",
              "    </tr>\n",
              "  </thead>\n",
              "  <tbody>\n",
              "    <tr>\n",
              "      <th>2</th>\n",
              "      <td>0.00</td>\n",
              "      <td>181.0</td>\n",
              "      <td>-1.00</td>\n",
              "      <td>0.0</td>\n",
              "      <td>-1.0</td>\n",
              "      <td>181.00</td>\n",
              "    </tr>\n",
              "    <tr>\n",
              "      <th>3</th>\n",
              "      <td>0.00</td>\n",
              "      <td>181.0</td>\n",
              "      <td>0.00</td>\n",
              "      <td>0.0</td>\n",
              "      <td>21182.0</td>\n",
              "      <td>181.00</td>\n",
              "    </tr>\n",
              "    <tr>\n",
              "      <th>15</th>\n",
              "      <td>213808.94</td>\n",
              "      <td>15325.0</td>\n",
              "      <td>51513.44</td>\n",
              "      <td>0.0</td>\n",
              "      <td>5083.0</td>\n",
              "      <td>229133.94</td>\n",
              "    </tr>\n",
              "    <tr>\n",
              "      <th>19</th>\n",
              "      <td>214605.30</td>\n",
              "      <td>705.0</td>\n",
              "      <td>0.00</td>\n",
              "      <td>0.0</td>\n",
              "      <td>22425.0</td>\n",
              "      <td>215310.30</td>\n",
              "    </tr>\n",
              "    <tr>\n",
              "      <th>24</th>\n",
              "      <td>300850.89</td>\n",
              "      <td>10835.0</td>\n",
              "      <td>2719172.89</td>\n",
              "      <td>0.0</td>\n",
              "      <td>6267.0</td>\n",
              "      <td>311685.89</td>\n",
              "    </tr>\n",
              "  </tbody>\n",
              "</table>\n",
              "</div>"
            ],
            "text/plain": [
              "    errorBalanceOrig  oldBalanceOrig  ...  oldBalanceDest     amount\n",
              "2               0.00           181.0  ...            -1.0     181.00\n",
              "3               0.00           181.0  ...         21182.0     181.00\n",
              "15         213808.94         15325.0  ...          5083.0  229133.94\n",
              "19         214605.30           705.0  ...         22425.0  215310.30\n",
              "24         300850.89         10835.0  ...          6267.0  311685.89\n",
              "\n",
              "[5 rows x 6 columns]"
            ]
          },
          "metadata": {
            "tags": []
          },
          "execution_count": 119
        }
      ]
    },
    {
      "cell_type": "code",
      "metadata": {
        "colab_type": "code",
        "id": "zTXpqbj57N6C",
        "colab": {}
      },
      "source": [
        "X5_train, X5_test, y5_train, y5_test = train_test_split(X5, y, test_size=0.2, random_state=1, stratify=y)\n",
        "X5_train, X5_val, y5_train, y5_val = train_test_split(X5_train, y5_train, test_size=0.25, random_state=1, stratify=y5_train)"
      ],
      "execution_count": 0,
      "outputs": []
    },
    {
      "cell_type": "code",
      "metadata": {
        "colab_type": "code",
        "outputId": "40ca5ee3-8b45-43b8-d850-7e0faa6bfef7",
        "id": "-qhAVYL77N6c",
        "colab": {
          "base_uri": "https://localhost:8080/",
          "height": 35
        }
      },
      "source": [
        "print(len(X5_train),len(X5_val),len(X5_test))"
      ],
      "execution_count": 121,
      "outputs": [
        {
          "output_type": "stream",
          "text": [
            "1662245 554082 554082\n"
          ],
          "name": "stdout"
        }
      ]
    },
    {
      "cell_type": "code",
      "metadata": {
        "colab_type": "code",
        "id": "53QGit737N7C",
        "colab": {}
      },
      "source": [
        "y5train_ab = y5_train[y5_train==1]\n",
        "y5val_ab = y5_val[y5_val==1]\n",
        "y5test_ab = y5_test[y5_test==1]"
      ],
      "execution_count": 0,
      "outputs": []
    },
    {
      "cell_type": "code",
      "metadata": {
        "colab_type": "code",
        "id": "CM1XGnYb7N7W",
        "colab": {}
      },
      "source": [
        "y_test5 = np.array(y5_test)\n",
        "y_train5=np.array(y5_train)\n",
        "y_val5 = np.array(y5_val)"
      ],
      "execution_count": 0,
      "outputs": []
    },
    {
      "cell_type": "code",
      "metadata": {
        "colab_type": "code",
        "outputId": "41d64763-c8e2-4650-e274-a2cba0418880",
        "id": "kGtV9zLA7N7n",
        "colab": {
          "base_uri": "https://localhost:8080/",
          "height": 35
        }
      },
      "source": [
        "th_train5=len(y5train_ab)/len(y5_train)\n",
        "th_test5=len(y5test_ab)/len(y5_test)\n",
        "th_val5=len(y5val_ab)/len(y5_val)\n",
        "print('threshold train =',th_train5, 'threshold test =', th_test5,'threshold val =', th_val5)"
      ],
      "execution_count": 124,
      "outputs": [
        {
          "output_type": "stream",
          "text": [
            "threshold train = 0.002964063660892347 threshold test = 0.002965265069069199 threshold val = 0.002965265069069199\n"
          ],
          "name": "stdout"
        }
      ]
    },
    {
      "cell_type": "code",
      "metadata": {
        "colab_type": "code",
        "outputId": "2aceddd1-0704-40ac-e2ee-32b53976634c",
        "id": "3dSAvu2q7N71",
        "colab": {
          "base_uri": "https://localhost:8080/",
          "height": 74
        }
      },
      "source": [
        "ifo5 = iForest(X5_train, 100, 256, th_train5)"
      ],
      "execution_count": 125,
      "outputs": [
        {
          "output_type": "stream",
          "text": [
            "/usr/local/lib/python3.6/dist-packages/sklearn/ensemble/iforest.py:247: FutureWarning: behaviour=\"old\" is deprecated and will be removed in version 0.22. Please use behaviour=\"new\", which makes the decision_function change to match other anomaly detection algorithm API.\n",
            "  FutureWarning)\n"
          ],
          "name": "stderr"
        }
      ]
    },
    {
      "cell_type": "code",
      "metadata": {
        "colab_type": "code",
        "outputId": "4624d5b1-cf0b-4dec-94f2-c14632229c9e",
        "id": "pMwCLlYd7N7_",
        "colab": {
          "base_uri": "https://localhost:8080/",
          "height": 501
        }
      },
      "source": [
        "model_evaluate(ifo5,X5_val,y_val5)"
      ],
      "execution_count": 126,
      "outputs": [
        {
          "output_type": "stream",
          "text": [
            "/usr/local/lib/python3.6/dist-packages/sklearn/ensemble/iforest.py:415: DeprecationWarning: threshold_ attribute is deprecated in 0.20 and will be removed in 0.22.\n",
            "  \" be removed in 0.22.\", DeprecationWarning)\n"
          ],
          "name": "stderr"
        },
        {
          "output_type": "stream",
          "text": [
            "time :  15.418761491775513\n",
            "accuracy :  0.9941669283607841\n",
            "sensitivity :  0.02130249543517955\n",
            "specifity :  0.997060308920985\n",
            "precision :  0.02109704641350211\n",
            "recall :  0.02130249543517955\n",
            "f1 score :  0.021199273167777102\n",
            "Confusion matrix\n",
            "TP =  35 FP =  1624 FN =  1608 TN =  550815\n"
          ],
          "name": "stdout"
        },
        {
          "output_type": "display_data",
          "data": {
            "image/png": "[encoded data removed]",
            "text/plain": [
              "<Figure size 576x288 with 2 Axes>"
            ]
          },
          "metadata": {
            "tags": []
          }
        }
      ]
    },
    {
      "cell_type": "code",
      "metadata": {
        "colab_type": "code",
        "outputId": "0f157a5e-de52-4347-aae2-006e602ae8ac",
        "id": "n9aJF4DH7N8N",
        "colab": {
          "base_uri": "https://localhost:8080/",
          "height": 501
        }
      },
      "source": [
        "model_evaluate(ifo5, X5_test, y_test5)"
      ],
      "execution_count": 127,
      "outputs": [
        {
          "output_type": "stream",
          "text": [
            "/usr/local/lib/python3.6/dist-packages/sklearn/ensemble/iforest.py:415: DeprecationWarning: threshold_ attribute is deprecated in 0.20 and will be removed in 0.22.\n",
            "  \" be removed in 0.22.\", DeprecationWarning)\n"
          ],
          "name": "stderr"
        },
        {
          "output_type": "stream",
          "text": [
            "time :  15.506944179534912\n",
            "accuracy :  0.9943474070624926\n",
            "sensitivity :  0.02251978088861838\n",
            "specifity :  0.9972377040723048\n",
            "precision :  0.023672424824056303\n",
            "recall :  0.02251978088861838\n",
            "f1 score :  0.023081721771678103\n",
            "Confusion matrix\n",
            "TP =  37 FP =  1526 FN =  1606 TN =  550913\n"
          ],
          "name": "stdout"
        },
        {
          "output_type": "display_data",
          "data": {
            "image/png": "[encoded data removed]",
            "text/plain": [
              "<Figure size 576x288 with 2 Axes>"
            ]
          },
          "metadata": {
            "tags": []
          }
        }
      ]
    },
    {
      "cell_type": "code",
      "metadata": {
        "colab_type": "code",
        "id": "sjvftGyY7N8h",
        "colab": {}
      },
      "source": [
        ""
      ],
      "execution_count": 0,
      "outputs": []
    }
  ]
}