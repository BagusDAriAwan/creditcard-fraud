{
  "nbformat": 4,
  "nbformat_minor": 0,
  "metadata": {
    "colab": {
      "name": "UCSD_kmeans_iForest.ipynb",
      "version": "0.3.2",
      "provenance": [],
      "include_colab_link": true
    },
    "language_info": {
      "codemirror_mode": {
        "name": "ipython",
        "version": 3
      },
      "file_extension": ".py",
      "mimetype": "text/x-python",
      "name": "python",
      "nbconvert_exporter": "python",
      "pygments_lexer": "ipython3",
      "version": "3.7.2"
    },
    "kernelspec": {
      "display_name": "Python 3",
      "language": "python",
      "name": "python3"
    }
  },
  "cells": [
    {
      "cell_type": "markdown",
      "metadata": {
        "id": "view-in-github",
        "colab_type": "text"
      },
      "source": [
        "<a href=\"https://colab.research.google.com/github/BagusDAriAwan/creditcard-fraud/blob/master/UCSD_kmeans_iForest.ipynb\" target=\"_parent\"><img src=\"https://colab.research.google.com/assets/colab-badge.svg\" alt=\"Open In Colab\"/></a>"
      ]
    },
    {
      "cell_type": "code",
      "metadata": {
        "_cell_guid": "b1076dfc-b9ad-4769-8c92-a6c4dae69d19",
        "_uuid": "8f2839f25d086af736a60e9eeb907d3b93b6e0e5",
        "id": "DA-5b8e13OZn",
        "colab_type": "code",
        "colab": {}
      },
      "source": [
        "# This Python 3 environment comes with many helpful analytics libraries installed\n",
        "# It is defined by the kaggle/python docker image: https://github.com/kaggle/docker-python\n",
        "# For example, here's several helpful packages to load in \n",
        "\n",
        "import numpy as np # linear algebra\n",
        "import pandas as pd # data processing, CSV file I/O (e.g. pd.read_csv)\n",
        "# import os\n",
        "import matplotlib.pyplot as plt\n",
        "import seaborn as sb; sns.set()\n",
        "import math\n",
        "import collections\n",
        "import time\n",
        "# from scipy import stats"
      ],
      "execution_count": 0,
      "outputs": []
    },
    {
      "cell_type": "code",
      "metadata": {
        "_cell_guid": "79c7e3d0-c299-4dcb-8224-4455121ee9b0",
        "_uuid": "d629ff2d2480ee46fbb7e2d37f6b5fab8052498a",
        "id": "dlNO6PTS3OZr",
        "colab_type": "code",
        "colab": {}
      },
      "source": [
        "# %matplotlib inline\n",
        "# from IPython.display import display\n",
        "# from sklearn import metrics\n",
        "# from sklearn.model_selection import train_test_split\n",
        "# from sklearn.metrics import mean_squared_error\n",
        "# from statistics import stdev\n",
        "\n",
        "from sklearn import tree\n",
        "\n",
        "from IPython.display import Image  \n",
        "from sklearn.externals.six import StringIO  \n",
        "import pydotplus"
      ],
      "execution_count": 0,
      "outputs": []
    },
    {
      "cell_type": "code",
      "metadata": {
        "id": "6nu2Fi203OZu",
        "colab_type": "code",
        "colab": {}
      },
      "source": [
        "# np.random.seed(1)"
      ],
      "execution_count": 0,
      "outputs": []
    },
    {
      "cell_type": "code",
      "metadata": {
        "id": "IXbdF63H3OZw",
        "colab_type": "code",
        "colab": {}
      },
      "source": [
        "def confussion_matrik(actual,predict):\n",
        "    TP,FP,FN,TN = 0,0,0,0\n",
        "    for i,val in enumerate(actual):\n",
        "        if val == 0:\n",
        "            if val == predict[i]:\n",
        "                TN += 1\n",
        "            else:\n",
        "                FP += 1\n",
        "        if val == 1:\n",
        "            if val == predict[i]:\n",
        "                TP += 1\n",
        "            else:\n",
        "                FN += 1\n",
        "    return TP,FP,FN,TN\n",
        " \n",
        "def acc_sens_spec(actual,predict):\n",
        "    TP,FP,FN,TN = confussion_matrik(actual,predict)\n",
        "# akurasi\n",
        "    if (TP+FP+FN+TN) == 0 :\n",
        "        accuracy = 0 \n",
        "    else :\n",
        "        accuracy = (TP+TN)/(TP+FP+FN+TN)\n",
        "        \n",
        "# sensitivity\n",
        "    if (TP+FN) == 0 :\n",
        "        sensitivity = 0\n",
        "    else :\n",
        "        sensitivity = TP/(TP+FN)\n",
        "        \n",
        "# specifity    \n",
        "    if (TN +FP) == 0 :\n",
        "        specifity = 0\n",
        "    else :\n",
        "        specifity = TN/(TN +FP)\n",
        "        \n",
        "# precision\n",
        "    if (TP+FP) == 0 :\n",
        "        precision = 0\n",
        "    else :\n",
        "        precision = TP/(TP+FP)\n",
        "\n",
        "# recall\n",
        "    recall = sensitivity\n",
        "\n",
        "# f1_score\n",
        "    if (precision+recall) == 0 :\n",
        "        f1_score = 0\n",
        "    else :\n",
        "        f1_score = 2*((precision*recall)/(precision+recall))  \n",
        "    \n",
        "    return accuracy,sensitivity,specifity,precision,recall,f1_score\n"
      ],
      "execution_count": 0,
      "outputs": []
    },
    {
      "cell_type": "code",
      "metadata": {
        "id": "PJRIgaWu3OZz",
        "colab_type": "code",
        "colab": {}
      },
      "source": [
        "# confussion_matrik(y,pred)"
      ],
      "execution_count": 0,
      "outputs": []
    },
    {
      "cell_type": "code",
      "metadata": {
        "id": "VjDccmJj3OZ3",
        "colab_type": "code",
        "colab": {}
      },
      "source": [
        "# accuracy,sensitivity,specifity = acc_sens_spec(y,pred)\n",
        "# print('acc',accuracy)\n",
        "# print('sens',sensitivity)\n",
        "# print('spec',specifity)"
      ],
      "execution_count": 0,
      "outputs": []
    },
    {
      "cell_type": "code",
      "metadata": {
        "scrolled": true,
        "id": "KJOxP5wX3OZ5",
        "colab_type": "code",
        "colab": {}
      },
      "source": [
        "# accuracy_metric(y,RF.predict(X))"
      ],
      "execution_count": 0,
      "outputs": []
    },
    {
      "cell_type": "code",
      "metadata": {
        "id": "yXcyImFV3OZ_",
        "colab_type": "code",
        "colab": {}
      },
      "source": [
        "from sklearn.decomposition import PCA\n",
        "import pylab as pl\n",
        "def plot_this(X_rs,y_rs,method):\n",
        "  # Use principal component to condense the 10 features to 2 features\n",
        "  pca = PCA(n_components=2).fit(X_rs)\n",
        "  pca_2d = pca.transform(X_rs)\n",
        "  # Assign colors\n",
        "  for i in range(0, pca_2d.shape[0]):\n",
        "    if y_rs[i] == 0:\n",
        "      c1 = pl.scatter(pca_2d[i,0],pca_2d[i,1],c='r', marker='o')\n",
        "    elif y_rs[i] == 1:\n",
        "      c2 = pl.scatter(pca_2d[i,0],pca_2d[i,1],c='g', marker='*')  \n",
        "  pl.legend([c1, c2], ['Class 1', 'Class 2'])\n",
        "  pl.title(method)\n",
        "  pl.axis([-4, 5, -4, 4])  # x axis (-4,5), y axis (-4,4)\n",
        "  pl.show()\n",
        "    \n"
      ],
      "execution_count": 0,
      "outputs": []
    },
    {
      "cell_type": "markdown",
      "metadata": {
        "id": "EzoQL3J93OaC",
        "colab_type": "text"
      },
      "source": [
        "## ---------"
      ]
    },
    {
      "cell_type": "code",
      "metadata": {
        "id": "qdJjLqe78Lbv",
        "colab_type": "code",
        "colab": {}
      },
      "source": [
        "df=pd.read_csv(\"drive/My Drive/Colab Notebooks/UCSD/ucsdInputs.csv\")\n",
        "df['Class']=pd.read_csv(\"drive/My Drive/Colab Notebooks/UCSD/ucsdTargets.csv\", header = None)"
      ],
      "execution_count": 0,
      "outputs": []
    },
    {
      "cell_type": "code",
      "metadata": {
        "id": "Ahm3kLsp3OaP",
        "colab_type": "code",
        "colab": {
          "base_uri": "https://localhost:8080/",
          "height": 226
        },
        "outputId": "c4081052-4417-48cf-edd7-0d7fcf021171"
      },
      "source": [
        "df.head()"
      ],
      "execution_count": 325,
      "outputs": [
        {
          "output_type": "execute_result",
          "data": {
            "text/html": [
              "<div>\n",
              "<style scoped>\n",
              "    .dataframe tbody tr th:only-of-type {\n",
              "        vertical-align: middle;\n",
              "    }\n",
              "\n",
              "    .dataframe tbody tr th {\n",
              "        vertical-align: top;\n",
              "    }\n",
              "\n",
              "    .dataframe thead th {\n",
              "        text-align: right;\n",
              "    }\n",
              "</style>\n",
              "<table border=\"1\" class=\"dataframe\">\n",
              "  <thead>\n",
              "    <tr style=\"text-align: right;\">\n",
              "      <th></th>\n",
              "      <th>amount</th>\n",
              "      <th>hour1</th>\n",
              "      <th>state1</th>\n",
              "      <th>zip1</th>\n",
              "      <th>custAttr1</th>\n",
              "      <th>field1</th>\n",
              "      <th>custAttr2</th>\n",
              "      <th>field2</th>\n",
              "      <th>hour2</th>\n",
              "      <th>flag1</th>\n",
              "      <th>total</th>\n",
              "      <th>field3</th>\n",
              "      <th>field4</th>\n",
              "      <th>indicator1</th>\n",
              "      <th>indicator2</th>\n",
              "      <th>flag2</th>\n",
              "      <th>flag3</th>\n",
              "      <th>flag4</th>\n",
              "      <th>flag5</th>\n",
              "      <th>Class</th>\n",
              "    </tr>\n",
              "  </thead>\n",
              "  <tbody>\n",
              "    <tr>\n",
              "      <th>0</th>\n",
              "      <td>12.95</td>\n",
              "      <td>0</td>\n",
              "      <td>WA</td>\n",
              "      <td>986</td>\n",
              "      <td>1234567890123456</td>\n",
              "      <td>0</td>\n",
              "      <td>luhxsodzmjhng7@comcast.net</td>\n",
              "      <td>0</td>\n",
              "      <td>0</td>\n",
              "      <td>0</td>\n",
              "      <td>12.95</td>\n",
              "      <td>-723</td>\n",
              "      <td>19</td>\n",
              "      <td>0</td>\n",
              "      <td>0</td>\n",
              "      <td>0</td>\n",
              "      <td>0</td>\n",
              "      <td>0</td>\n",
              "      <td>1</td>\n",
              "      <td>0</td>\n",
              "    </tr>\n",
              "    <tr>\n",
              "      <th>1</th>\n",
              "      <td>38.85</td>\n",
              "      <td>0</td>\n",
              "      <td>WA</td>\n",
              "      <td>980</td>\n",
              "      <td>1234567890123457</td>\n",
              "      <td>3</td>\n",
              "      <td>pfixyiqfpvkcg@zjyxs.net</td>\n",
              "      <td>1</td>\n",
              "      <td>0</td>\n",
              "      <td>0</td>\n",
              "      <td>38.85</td>\n",
              "      <td>5497</td>\n",
              "      <td>14</td>\n",
              "      <td>1</td>\n",
              "      <td>0</td>\n",
              "      <td>0</td>\n",
              "      <td>1</td>\n",
              "      <td>0</td>\n",
              "      <td>1</td>\n",
              "      <td>0</td>\n",
              "    </tr>\n",
              "    <tr>\n",
              "      <th>2</th>\n",
              "      <td>38.85</td>\n",
              "      <td>0</td>\n",
              "      <td>KY</td>\n",
              "      <td>402</td>\n",
              "      <td>1234567890123458</td>\n",
              "      <td>2</td>\n",
              "      <td>shbjoldciswwm@aol.com</td>\n",
              "      <td>1</td>\n",
              "      <td>0</td>\n",
              "      <td>0</td>\n",
              "      <td>38.85</td>\n",
              "      <td>-4420</td>\n",
              "      <td>23</td>\n",
              "      <td>0</td>\n",
              "      <td>0</td>\n",
              "      <td>1</td>\n",
              "      <td>1</td>\n",
              "      <td>0</td>\n",
              "      <td>1</td>\n",
              "      <td>0</td>\n",
              "    </tr>\n",
              "    <tr>\n",
              "      <th>3</th>\n",
              "      <td>12.95</td>\n",
              "      <td>0</td>\n",
              "      <td>CA</td>\n",
              "      <td>958</td>\n",
              "      <td>1234567890123459</td>\n",
              "      <td>3</td>\n",
              "      <td>ipbvtdfkhhfws@sbcglobal.net</td>\n",
              "      <td>0</td>\n",
              "      <td>0</td>\n",
              "      <td>0</td>\n",
              "      <td>12.95</td>\n",
              "      <td>5010</td>\n",
              "      <td>31</td>\n",
              "      <td>0</td>\n",
              "      <td>0</td>\n",
              "      <td>1</td>\n",
              "      <td>0</td>\n",
              "      <td>0</td>\n",
              "      <td>1</td>\n",
              "      <td>0</td>\n",
              "    </tr>\n",
              "    <tr>\n",
              "      <th>4</th>\n",
              "      <td>38.85</td>\n",
              "      <td>0</td>\n",
              "      <td>GA</td>\n",
              "      <td>300</td>\n",
              "      <td>1234567890123460</td>\n",
              "      <td>3</td>\n",
              "      <td>ivfuvxiennhdp@bellsouth.net</td>\n",
              "      <td>1</td>\n",
              "      <td>0</td>\n",
              "      <td>0</td>\n",
              "      <td>38.85</td>\n",
              "      <td>-4074</td>\n",
              "      <td>21</td>\n",
              "      <td>0</td>\n",
              "      <td>0</td>\n",
              "      <td>1</td>\n",
              "      <td>0</td>\n",
              "      <td>0</td>\n",
              "      <td>1</td>\n",
              "      <td>0</td>\n",
              "    </tr>\n",
              "  </tbody>\n",
              "</table>\n",
              "</div>"
            ],
            "text/plain": [
              "   amount  hour1 state1  zip1  ...  flag3  flag4 flag5  Class\n",
              "0   12.95      0     WA   986  ...      0      0     1      0\n",
              "1   38.85      0     WA   980  ...      1      0     1      0\n",
              "2   38.85      0     KY   402  ...      1      0     1      0\n",
              "3   12.95      0     CA   958  ...      0      0     1      0\n",
              "4   38.85      0     GA   300  ...      0      0     1      0\n",
              "\n",
              "[5 rows x 20 columns]"
            ]
          },
          "metadata": {
            "tags": []
          },
          "execution_count": 325
        }
      ]
    },
    {
      "cell_type": "code",
      "metadata": {
        "id": "GDigin293OaS",
        "colab_type": "code",
        "outputId": "35dbc0cb-5035-4c63-9983-0d9eca88b4ca",
        "colab": {
          "base_uri": "https://localhost:8080/",
          "height": 226
        }
      },
      "source": [
        "df.tail()"
      ],
      "execution_count": 326,
      "outputs": [
        {
          "output_type": "execute_result",
          "data": {
            "text/html": [
              "<div>\n",
              "<style scoped>\n",
              "    .dataframe tbody tr th:only-of-type {\n",
              "        vertical-align: middle;\n",
              "    }\n",
              "\n",
              "    .dataframe tbody tr th {\n",
              "        vertical-align: top;\n",
              "    }\n",
              "\n",
              "    .dataframe thead th {\n",
              "        text-align: right;\n",
              "    }\n",
              "</style>\n",
              "<table border=\"1\" class=\"dataframe\">\n",
              "  <thead>\n",
              "    <tr style=\"text-align: right;\">\n",
              "      <th></th>\n",
              "      <th>amount</th>\n",
              "      <th>hour1</th>\n",
              "      <th>state1</th>\n",
              "      <th>zip1</th>\n",
              "      <th>custAttr1</th>\n",
              "      <th>field1</th>\n",
              "      <th>custAttr2</th>\n",
              "      <th>field2</th>\n",
              "      <th>hour2</th>\n",
              "      <th>flag1</th>\n",
              "      <th>total</th>\n",
              "      <th>field3</th>\n",
              "      <th>field4</th>\n",
              "      <th>indicator1</th>\n",
              "      <th>indicator2</th>\n",
              "      <th>flag2</th>\n",
              "      <th>flag3</th>\n",
              "      <th>flag4</th>\n",
              "      <th>flag5</th>\n",
              "      <th>Class</th>\n",
              "    </tr>\n",
              "  </thead>\n",
              "  <tbody>\n",
              "    <tr>\n",
              "      <th>99995</th>\n",
              "      <td>31.08</td>\n",
              "      <td>14</td>\n",
              "      <td>GA</td>\n",
              "      <td>313</td>\n",
              "      <td>1234567890197181</td>\n",
              "      <td>2</td>\n",
              "      <td>owdybxinfiqla@ucxhcpouwmc.net</td>\n",
              "      <td>0</td>\n",
              "      <td>14</td>\n",
              "      <td>1</td>\n",
              "      <td>31.08</td>\n",
              "      <td>-8044</td>\n",
              "      <td>10</td>\n",
              "      <td>0</td>\n",
              "      <td>0</td>\n",
              "      <td>0</td>\n",
              "      <td>0</td>\n",
              "      <td>0</td>\n",
              "      <td>1</td>\n",
              "      <td>0</td>\n",
              "    </tr>\n",
              "    <tr>\n",
              "      <th>99996</th>\n",
              "      <td>49.95</td>\n",
              "      <td>14</td>\n",
              "      <td>LA</td>\n",
              "      <td>704</td>\n",
              "      <td>1234567890197182</td>\n",
              "      <td>0</td>\n",
              "      <td>vnmhghmwnxhso@xnzysnub.com</td>\n",
              "      <td>0</td>\n",
              "      <td>14</td>\n",
              "      <td>0</td>\n",
              "      <td>49.95</td>\n",
              "      <td>393</td>\n",
              "      <td>18</td>\n",
              "      <td>1</td>\n",
              "      <td>0</td>\n",
              "      <td>1</td>\n",
              "      <td>0</td>\n",
              "      <td>0</td>\n",
              "      <td>1</td>\n",
              "      <td>0</td>\n",
              "    </tr>\n",
              "    <tr>\n",
              "      <th>99997</th>\n",
              "      <td>11.01</td>\n",
              "      <td>14</td>\n",
              "      <td>NY</td>\n",
              "      <td>117</td>\n",
              "      <td>1234567890196488</td>\n",
              "      <td>3</td>\n",
              "      <td>uphjcxjkubtrw@aol.com</td>\n",
              "      <td>1</td>\n",
              "      <td>14</td>\n",
              "      <td>1</td>\n",
              "      <td>11.01</td>\n",
              "      <td>4261</td>\n",
              "      <td>11</td>\n",
              "      <td>0</td>\n",
              "      <td>0</td>\n",
              "      <td>1</td>\n",
              "      <td>1</td>\n",
              "      <td>0</td>\n",
              "      <td>1</td>\n",
              "      <td>0</td>\n",
              "    </tr>\n",
              "    <tr>\n",
              "      <th>99998</th>\n",
              "      <td>12.95</td>\n",
              "      <td>14</td>\n",
              "      <td>VA</td>\n",
              "      <td>245</td>\n",
              "      <td>1234567890197183</td>\n",
              "      <td>3</td>\n",
              "      <td>sasmynlsqebdv65@aol.com</td>\n",
              "      <td>1</td>\n",
              "      <td>14</td>\n",
              "      <td>0</td>\n",
              "      <td>12.95</td>\n",
              "      <td>515</td>\n",
              "      <td>21</td>\n",
              "      <td>0</td>\n",
              "      <td>0</td>\n",
              "      <td>0</td>\n",
              "      <td>0</td>\n",
              "      <td>0</td>\n",
              "      <td>1</td>\n",
              "      <td>0</td>\n",
              "    </tr>\n",
              "    <tr>\n",
              "      <th>99999</th>\n",
              "      <td>12.95</td>\n",
              "      <td>14</td>\n",
              "      <td>TN</td>\n",
              "      <td>372</td>\n",
              "      <td>1234567890197184</td>\n",
              "      <td>3</td>\n",
              "      <td>kvclngihgwldo@yahoo.com</td>\n",
              "      <td>1</td>\n",
              "      <td>14</td>\n",
              "      <td>0</td>\n",
              "      <td>12.95</td>\n",
              "      <td>4229</td>\n",
              "      <td>22</td>\n",
              "      <td>0</td>\n",
              "      <td>0</td>\n",
              "      <td>0</td>\n",
              "      <td>1</td>\n",
              "      <td>0</td>\n",
              "      <td>1</td>\n",
              "      <td>0</td>\n",
              "    </tr>\n",
              "  </tbody>\n",
              "</table>\n",
              "</div>"
            ],
            "text/plain": [
              "       amount  hour1 state1  zip1  ...  flag3  flag4 flag5  Class\n",
              "99995   31.08     14     GA   313  ...      0      0     1      0\n",
              "99996   49.95     14     LA   704  ...      0      0     1      0\n",
              "99997   11.01     14     NY   117  ...      1      0     1      0\n",
              "99998   12.95     14     VA   245  ...      0      0     1      0\n",
              "99999   12.95     14     TN   372  ...      1      0     1      0\n",
              "\n",
              "[5 rows x 20 columns]"
            ]
          },
          "metadata": {
            "tags": []
          },
          "execution_count": 326
        }
      ]
    },
    {
      "cell_type": "code",
      "metadata": {
        "id": "jtkUib8U3OaV",
        "colab_type": "code",
        "outputId": "c1b0be0f-8426-4207-943f-ca440300ac09",
        "colab": {
          "base_uri": "https://localhost:8080/",
          "height": 476
        }
      },
      "source": [
        "df.info()"
      ],
      "execution_count": 327,
      "outputs": [
        {
          "output_type": "stream",
          "text": [
            "<class 'pandas.core.frame.DataFrame'>\n",
            "RangeIndex: 100000 entries, 0 to 99999\n",
            "Data columns (total 20 columns):\n",
            "amount        100000 non-null float64\n",
            "hour1         100000 non-null int64\n",
            "state1        99999 non-null object\n",
            "zip1          100000 non-null int64\n",
            "custAttr1     100000 non-null int64\n",
            "field1        100000 non-null int64\n",
            "custAttr2     100000 non-null object\n",
            "field2        100000 non-null int64\n",
            "hour2         100000 non-null int64\n",
            "flag1         100000 non-null int64\n",
            "total         100000 non-null float64\n",
            "field3        100000 non-null int64\n",
            "field4        100000 non-null int64\n",
            "indicator1    100000 non-null int64\n",
            "indicator2    100000 non-null int64\n",
            "flag2         100000 non-null int64\n",
            "flag3         100000 non-null int64\n",
            "flag4         100000 non-null int64\n",
            "flag5         100000 non-null int64\n",
            "Class         100000 non-null int64\n",
            "dtypes: float64(2), int64(16), object(2)\n",
            "memory usage: 15.3+ MB\n"
          ],
          "name": "stdout"
        }
      ]
    },
    {
      "cell_type": "code",
      "metadata": {
        "id": "H-DUYDez3OaY",
        "colab_type": "code",
        "outputId": "31755cfb-7ab5-4d98-ba72-9d14059243fd",
        "colab": {
          "base_uri": "https://localhost:8080/",
          "height": 35
        }
      },
      "source": [
        "df.shape"
      ],
      "execution_count": 328,
      "outputs": [
        {
          "output_type": "execute_result",
          "data": {
            "text/plain": [
              "(100000, 20)"
            ]
          },
          "metadata": {
            "tags": []
          },
          "execution_count": 328
        }
      ]
    },
    {
      "cell_type": "code",
      "metadata": {
        "id": "t44UJQu13Oac",
        "colab_type": "code",
        "outputId": "60d7f126-b17f-4faf-ef0e-b0ceaedf2878",
        "colab": {
          "base_uri": "https://localhost:8080/",
          "height": 72
        }
      },
      "source": [
        "df['Class'].value_counts()"
      ],
      "execution_count": 329,
      "outputs": [
        {
          "output_type": "execute_result",
          "data": {
            "text/plain": [
              "0    97346\n",
              "1     2654\n",
              "Name: Class, dtype: int64"
            ]
          },
          "metadata": {
            "tags": []
          },
          "execution_count": 329
        }
      ]
    },
    {
      "cell_type": "code",
      "metadata": {
        "id": "KylXqN4G3Oah",
        "colab_type": "code",
        "outputId": "9ff63601-6d87-43f3-f903-988b6eab23b7",
        "colab": {
          "base_uri": "https://localhost:8080/",
          "height": 430
        }
      },
      "source": [
        "plt.figure(1,figsize=(5, 5), dpi=80)\n",
        "plt.grid(color='b', linestyle='-', linewidth=0.2)\n",
        "plt.title('Class Distributions \\n (0: No Fraud || 1: Fraud)', fontsize=14)\n",
        "sns.countplot('Class', data=df,palette='Set2')\n"
      ],
      "execution_count": 330,
      "outputs": [
        {
          "output_type": "execute_result",
          "data": {
            "text/plain": [
              "<matplotlib.axes._subplots.AxesSubplot at 0x7fdb1c0ad6d8>"
            ]
          },
          "metadata": {
            "tags": []
          },
          "execution_count": 330
        },
        {
          "output_type": "display_data",
          "data": {
            "image/png": "[encoded data removed]",
            "text/plain": [
              "<Figure size 400x400 with 1 Axes>"
            ]
          },
          "metadata": {
            "tags": []
          }
        }
      ]
    },
    {
      "cell_type": "code",
      "metadata": {
        "id": "Z5XV5xug3Oal",
        "colab_type": "code",
        "outputId": "456604b2-0167-4d33-f15d-d993e8398812",
        "colab": {
          "base_uri": "https://localhost:8080/",
          "height": 54
        }
      },
      "source": [
        "count = 0\n",
        "for a in df.columns:\n",
        "    if df[a].isnull().sum() > 0 :\n",
        "        print(a)\n",
        "        count+=1\n",
        "count"
      ],
      "execution_count": 331,
      "outputs": [
        {
          "output_type": "stream",
          "text": [
            "state1\n"
          ],
          "name": "stdout"
        },
        {
          "output_type": "execute_result",
          "data": {
            "text/plain": [
              "1"
            ]
          },
          "metadata": {
            "tags": []
          },
          "execution_count": 331
        }
      ]
    },
    {
      "cell_type": "code",
      "metadata": {
        "id": "zECVxGVf3Oar",
        "colab_type": "code",
        "outputId": "5eefeecb-1480-4120-e6fa-028aa1d32bb6",
        "colab": {
          "base_uri": "https://localhost:8080/",
          "height": 127
        }
      },
      "source": [
        "df['state1'].unique()"
      ],
      "execution_count": 332,
      "outputs": [
        {
          "output_type": "execute_result",
          "data": {
            "text/plain": [
              "array(['WA', 'KY', 'CA', 'GA', 'AZ', 'MO', 'TX', 'IL', 'HI', 'UT', 'NC',\n",
              "       'NY', 'FL', 'MN', 'VA', 'MA', 'IN', 'LA', 'TN', 'MD', 'NJ', 'ID',\n",
              "       'OH', 'PA', 'SC', 'AL', 'MI', 'WI', 'DC', 'AR', 'CT', 'OR', 'OK',\n",
              "       'SD', 'NH', 'NM', 'NV', 'NE', 'MS', 'ND', 'CO', 'KS', 'WV', 'RI',\n",
              "       'ME', 'IA', 'MT', 'WY', 'AK', 'VT', 'DE', 'AP', 'AE', 'PR', nan],\n",
              "      dtype=object)"
            ]
          },
          "metadata": {
            "tags": []
          },
          "execution_count": 332
        }
      ]
    },
    {
      "cell_type": "code",
      "metadata": {
        "id": "iMmj4-cb3Oax",
        "colab_type": "code",
        "colab": {}
      },
      "source": [
        "df['state1'] =df['state1'].fillna('CA')"
      ],
      "execution_count": 0,
      "outputs": []
    },
    {
      "cell_type": "code",
      "metadata": {
        "id": "PJs4sHCM3Oa0",
        "colab_type": "code",
        "outputId": "09553ac7-5011-424b-dd50-3ff485378b21",
        "colab": {
          "base_uri": "https://localhost:8080/",
          "height": 101
        }
      },
      "source": [
        "df.iloc[80876:80877]"
      ],
      "execution_count": 334,
      "outputs": [
        {
          "output_type": "execute_result",
          "data": {
            "text/html": [
              "<div>\n",
              "<style scoped>\n",
              "    .dataframe tbody tr th:only-of-type {\n",
              "        vertical-align: middle;\n",
              "    }\n",
              "\n",
              "    .dataframe tbody tr th {\n",
              "        vertical-align: top;\n",
              "    }\n",
              "\n",
              "    .dataframe thead th {\n",
              "        text-align: right;\n",
              "    }\n",
              "</style>\n",
              "<table border=\"1\" class=\"dataframe\">\n",
              "  <thead>\n",
              "    <tr style=\"text-align: right;\">\n",
              "      <th></th>\n",
              "      <th>amount</th>\n",
              "      <th>hour1</th>\n",
              "      <th>state1</th>\n",
              "      <th>zip1</th>\n",
              "      <th>custAttr1</th>\n",
              "      <th>field1</th>\n",
              "      <th>custAttr2</th>\n",
              "      <th>field2</th>\n",
              "      <th>hour2</th>\n",
              "      <th>flag1</th>\n",
              "      <th>total</th>\n",
              "      <th>field3</th>\n",
              "      <th>field4</th>\n",
              "      <th>indicator1</th>\n",
              "      <th>indicator2</th>\n",
              "      <th>flag2</th>\n",
              "      <th>flag3</th>\n",
              "      <th>flag4</th>\n",
              "      <th>flag5</th>\n",
              "      <th>Class</th>\n",
              "    </tr>\n",
              "  </thead>\n",
              "  <tbody>\n",
              "    <tr>\n",
              "      <th>80876</th>\n",
              "      <td>49.95</td>\n",
              "      <td>20</td>\n",
              "      <td>CA</td>\n",
              "      <td>9</td>\n",
              "      <td>1234567890183719</td>\n",
              "      <td>3</td>\n",
              "      <td>womaeenhfvtfu@hotmail.com</td>\n",
              "      <td>0</td>\n",
              "      <td>20</td>\n",
              "      <td>0</td>\n",
              "      <td>49.95</td>\n",
              "      <td>3166</td>\n",
              "      <td>23</td>\n",
              "      <td>1</td>\n",
              "      <td>0</td>\n",
              "      <td>1</td>\n",
              "      <td>0</td>\n",
              "      <td>0</td>\n",
              "      <td>1</td>\n",
              "      <td>0</td>\n",
              "    </tr>\n",
              "  </tbody>\n",
              "</table>\n",
              "</div>"
            ],
            "text/plain": [
              "       amount  hour1 state1  zip1  ...  flag3  flag4 flag5  Class\n",
              "80876   49.95     20     CA     9  ...      0      0     1      0\n",
              "\n",
              "[1 rows x 20 columns]"
            ]
          },
          "metadata": {
            "tags": []
          },
          "execution_count": 334
        }
      ]
    },
    {
      "cell_type": "code",
      "metadata": {
        "id": "czp6xPTt3Oa3",
        "colab_type": "code",
        "outputId": "f83d8917-734d-4fbd-8bbc-7976fc241f5f",
        "colab": {
          "base_uri": "https://localhost:8080/",
          "height": 35
        }
      },
      "source": [
        "len(df.columns)"
      ],
      "execution_count": 335,
      "outputs": [
        {
          "output_type": "execute_result",
          "data": {
            "text/plain": [
              "20"
            ]
          },
          "metadata": {
            "tags": []
          },
          "execution_count": 335
        }
      ]
    },
    {
      "cell_type": "markdown",
      "metadata": {
        "id": "MUDZ_6wN3Oa7",
        "colab_type": "text"
      },
      "source": [
        "3.2. Data Preprocessing\n",
        "The hard version of the dataset contains two sub datasets—training set and testing set. The training set is labeled and the testing set is unlabeled. We have used only the labeled training dataset. It contains 100000 transactions of 73729 customers spanning over a period of 98 days. The dataset contains 20 fields including class labels—amount, hour1, state1, zip1, custAttr1, field1, custAttr2, field2, hour2, flag1, total, field3, field4, indicator1, indicator2, flag2, flag3, flag4, flag5, and Class. It is found that custAttr1 is the account/card number and custAttr2 is e-mail id of the customer. Both these fields are unique to a particular customer and thus we decided to keep only custAttr1. The fields total and amount as well as hour1 and hour2 are found to be the same for each customer and thus we removed total and hour2. Similarly state1 and zip1 are also found to be representing the same information and thus we removed state1. All other fields are anonymized and therefore we decided to keep them as they are. Thus our final dataset contains 16 fields—amount, hour1, zip1, custAttr1, field1, field2, flag1, field3, field4, indicator1, indicator2, flag2, flag3, flag4, flag5, and Class."
      ]
    },
    {
      "cell_type": "code",
      "metadata": {
        "id": "vgPRaLbu3Oa8",
        "colab_type": "code",
        "outputId": "04f7e480-d4f5-41fb-c0cc-288c630b07c2",
        "colab": {
          "base_uri": "https://localhost:8080/",
          "height": 1000
        }
      },
      "source": [
        "df.tail(40)"
      ],
      "execution_count": 336,
      "outputs": [
        {
          "output_type": "execute_result",
          "data": {
            "text/html": [
              "<div>\n",
              "<style scoped>\n",
              "    .dataframe tbody tr th:only-of-type {\n",
              "        vertical-align: middle;\n",
              "    }\n",
              "\n",
              "    .dataframe tbody tr th {\n",
              "        vertical-align: top;\n",
              "    }\n",
              "\n",
              "    .dataframe thead th {\n",
              "        text-align: right;\n",
              "    }\n",
              "</style>\n",
              "<table border=\"1\" class=\"dataframe\">\n",
              "  <thead>\n",
              "    <tr style=\"text-align: right;\">\n",
              "      <th></th>\n",
              "      <th>amount</th>\n",
              "      <th>hour1</th>\n",
              "      <th>state1</th>\n",
              "      <th>zip1</th>\n",
              "      <th>custAttr1</th>\n",
              "      <th>field1</th>\n",
              "      <th>custAttr2</th>\n",
              "      <th>field2</th>\n",
              "      <th>hour2</th>\n",
              "      <th>flag1</th>\n",
              "      <th>total</th>\n",
              "      <th>field3</th>\n",
              "      <th>field4</th>\n",
              "      <th>indicator1</th>\n",
              "      <th>indicator2</th>\n",
              "      <th>flag2</th>\n",
              "      <th>flag3</th>\n",
              "      <th>flag4</th>\n",
              "      <th>flag5</th>\n",
              "      <th>Class</th>\n",
              "    </tr>\n",
              "  </thead>\n",
              "  <tbody>\n",
              "    <tr>\n",
              "      <th>99960</th>\n",
              "      <td>12.95</td>\n",
              "      <td>14</td>\n",
              "      <td>NJ</td>\n",
              "      <td>88</td>\n",
              "      <td>1234567890197156</td>\n",
              "      <td>3</td>\n",
              "      <td>rwvyhwlipxnnv53@sprintpcs.com</td>\n",
              "      <td>0</td>\n",
              "      <td>14</td>\n",
              "      <td>0</td>\n",
              "      <td>12.95</td>\n",
              "      <td>4706</td>\n",
              "      <td>20</td>\n",
              "      <td>0</td>\n",
              "      <td>0</td>\n",
              "      <td>1</td>\n",
              "      <td>1</td>\n",
              "      <td>0</td>\n",
              "      <td>1</td>\n",
              "      <td>0</td>\n",
              "    </tr>\n",
              "    <tr>\n",
              "      <th>99961</th>\n",
              "      <td>38.85</td>\n",
              "      <td>14</td>\n",
              "      <td>GA</td>\n",
              "      <td>302</td>\n",
              "      <td>1234567890197157</td>\n",
              "      <td>2</td>\n",
              "      <td>ezvplbxxtjcsz@excite.com</td>\n",
              "      <td>1</td>\n",
              "      <td>14</td>\n",
              "      <td>1</td>\n",
              "      <td>38.85</td>\n",
              "      <td>5182</td>\n",
              "      <td>10</td>\n",
              "      <td>0</td>\n",
              "      <td>0</td>\n",
              "      <td>1</td>\n",
              "      <td>1</td>\n",
              "      <td>0</td>\n",
              "      <td>1</td>\n",
              "      <td>0</td>\n",
              "    </tr>\n",
              "    <tr>\n",
              "      <th>99962</th>\n",
              "      <td>49.95</td>\n",
              "      <td>14</td>\n",
              "      <td>CA</td>\n",
              "      <td>917</td>\n",
              "      <td>1234567890197158</td>\n",
              "      <td>3</td>\n",
              "      <td>zbkgunjizlgil@lpgdonqmblt.com</td>\n",
              "      <td>0</td>\n",
              "      <td>14</td>\n",
              "      <td>1</td>\n",
              "      <td>49.95</td>\n",
              "      <td>1056</td>\n",
              "      <td>24</td>\n",
              "      <td>0</td>\n",
              "      <td>0</td>\n",
              "      <td>1</td>\n",
              "      <td>1</td>\n",
              "      <td>0</td>\n",
              "      <td>1</td>\n",
              "      <td>0</td>\n",
              "    </tr>\n",
              "    <tr>\n",
              "      <th>99963</th>\n",
              "      <td>12.95</td>\n",
              "      <td>14</td>\n",
              "      <td>MI</td>\n",
              "      <td>492</td>\n",
              "      <td>1234567890148109</td>\n",
              "      <td>2</td>\n",
              "      <td>jcsjrwobjzlae@merillat.com</td>\n",
              "      <td>1</td>\n",
              "      <td>14</td>\n",
              "      <td>1</td>\n",
              "      <td>12.95</td>\n",
              "      <td>766</td>\n",
              "      <td>6</td>\n",
              "      <td>0</td>\n",
              "      <td>0</td>\n",
              "      <td>1</td>\n",
              "      <td>1</td>\n",
              "      <td>0</td>\n",
              "      <td>1</td>\n",
              "      <td>0</td>\n",
              "    </tr>\n",
              "    <tr>\n",
              "      <th>99964</th>\n",
              "      <td>12.95</td>\n",
              "      <td>14</td>\n",
              "      <td>NC</td>\n",
              "      <td>281</td>\n",
              "      <td>1234567890197140</td>\n",
              "      <td>0</td>\n",
              "      <td>winifxssqelvx007@hotmail.com</td>\n",
              "      <td>1</td>\n",
              "      <td>14</td>\n",
              "      <td>0</td>\n",
              "      <td>12.95</td>\n",
              "      <td>2246</td>\n",
              "      <td>23</td>\n",
              "      <td>0</td>\n",
              "      <td>0</td>\n",
              "      <td>1</td>\n",
              "      <td>0</td>\n",
              "      <td>0</td>\n",
              "      <td>1</td>\n",
              "      <td>0</td>\n",
              "    </tr>\n",
              "    <tr>\n",
              "      <th>99965</th>\n",
              "      <td>38.85</td>\n",
              "      <td>14</td>\n",
              "      <td>FL</td>\n",
              "      <td>330</td>\n",
              "      <td>1234567890197159</td>\n",
              "      <td>2</td>\n",
              "      <td>ngdlabnefkequ@aol.com</td>\n",
              "      <td>1</td>\n",
              "      <td>14</td>\n",
              "      <td>0</td>\n",
              "      <td>38.85</td>\n",
              "      <td>-908</td>\n",
              "      <td>18</td>\n",
              "      <td>0</td>\n",
              "      <td>0</td>\n",
              "      <td>1</td>\n",
              "      <td>1</td>\n",
              "      <td>0</td>\n",
              "      <td>1</td>\n",
              "      <td>0</td>\n",
              "    </tr>\n",
              "    <tr>\n",
              "      <th>99966</th>\n",
              "      <td>38.85</td>\n",
              "      <td>14</td>\n",
              "      <td>TX</td>\n",
              "      <td>760</td>\n",
              "      <td>1234567890197160</td>\n",
              "      <td>3</td>\n",
              "      <td>xprrqlyhdwumy@msn.com</td>\n",
              "      <td>0</td>\n",
              "      <td>14</td>\n",
              "      <td>1</td>\n",
              "      <td>38.85</td>\n",
              "      <td>-342</td>\n",
              "      <td>8</td>\n",
              "      <td>0</td>\n",
              "      <td>0</td>\n",
              "      <td>0</td>\n",
              "      <td>0</td>\n",
              "      <td>0</td>\n",
              "      <td>1</td>\n",
              "      <td>0</td>\n",
              "    </tr>\n",
              "    <tr>\n",
              "      <th>99967</th>\n",
              "      <td>31.08</td>\n",
              "      <td>14</td>\n",
              "      <td>AL</td>\n",
              "      <td>366</td>\n",
              "      <td>1234567890197161</td>\n",
              "      <td>3</td>\n",
              "      <td>ziwpwvejfcvig.@boeing.com</td>\n",
              "      <td>1</td>\n",
              "      <td>14</td>\n",
              "      <td>1</td>\n",
              "      <td>31.08</td>\n",
              "      <td>4177</td>\n",
              "      <td>6</td>\n",
              "      <td>0</td>\n",
              "      <td>0</td>\n",
              "      <td>1</td>\n",
              "      <td>1</td>\n",
              "      <td>0</td>\n",
              "      <td>2</td>\n",
              "      <td>0</td>\n",
              "    </tr>\n",
              "    <tr>\n",
              "      <th>99968</th>\n",
              "      <td>0.00</td>\n",
              "      <td>14</td>\n",
              "      <td>LA</td>\n",
              "      <td>708</td>\n",
              "      <td>1234567890197162</td>\n",
              "      <td>4</td>\n",
              "      <td>zsxbringavcae@cbbtr.com</td>\n",
              "      <td>0</td>\n",
              "      <td>14</td>\n",
              "      <td>1</td>\n",
              "      <td>0.00</td>\n",
              "      <td>-2758</td>\n",
              "      <td>13</td>\n",
              "      <td>0</td>\n",
              "      <td>0</td>\n",
              "      <td>0</td>\n",
              "      <td>0</td>\n",
              "      <td>0</td>\n",
              "      <td>1434</td>\n",
              "      <td>0</td>\n",
              "    </tr>\n",
              "    <tr>\n",
              "      <th>99969</th>\n",
              "      <td>38.85</td>\n",
              "      <td>14</td>\n",
              "      <td>CA</td>\n",
              "      <td>927</td>\n",
              "      <td>1234567890197163</td>\n",
              "      <td>3</td>\n",
              "      <td>hkcedavtrxdcf@yahoo.com</td>\n",
              "      <td>0</td>\n",
              "      <td>14</td>\n",
              "      <td>1</td>\n",
              "      <td>38.85</td>\n",
              "      <td>3965</td>\n",
              "      <td>8</td>\n",
              "      <td>0</td>\n",
              "      <td>0</td>\n",
              "      <td>1</td>\n",
              "      <td>0</td>\n",
              "      <td>0</td>\n",
              "      <td>2</td>\n",
              "      <td>0</td>\n",
              "    </tr>\n",
              "    <tr>\n",
              "      <th>99970</th>\n",
              "      <td>12.95</td>\n",
              "      <td>14</td>\n",
              "      <td>OH</td>\n",
              "      <td>441</td>\n",
              "      <td>1234567890197154</td>\n",
              "      <td>3</td>\n",
              "      <td>yobfcwwophoyk3823@aol.com</td>\n",
              "      <td>0</td>\n",
              "      <td>14</td>\n",
              "      <td>0</td>\n",
              "      <td>12.95</td>\n",
              "      <td>2096</td>\n",
              "      <td>15</td>\n",
              "      <td>0</td>\n",
              "      <td>0</td>\n",
              "      <td>1</td>\n",
              "      <td>0</td>\n",
              "      <td>0</td>\n",
              "      <td>1</td>\n",
              "      <td>0</td>\n",
              "    </tr>\n",
              "    <tr>\n",
              "      <th>99971</th>\n",
              "      <td>38.85</td>\n",
              "      <td>14</td>\n",
              "      <td>NY</td>\n",
              "      <td>113</td>\n",
              "      <td>1234567890186251</td>\n",
              "      <td>0</td>\n",
              "      <td>xcwwiykeumplw7@aol.com</td>\n",
              "      <td>0</td>\n",
              "      <td>14</td>\n",
              "      <td>1</td>\n",
              "      <td>38.85</td>\n",
              "      <td>3060</td>\n",
              "      <td>15</td>\n",
              "      <td>0</td>\n",
              "      <td>0</td>\n",
              "      <td>1</td>\n",
              "      <td>1</td>\n",
              "      <td>0</td>\n",
              "      <td>1</td>\n",
              "      <td>0</td>\n",
              "    </tr>\n",
              "    <tr>\n",
              "      <th>99972</th>\n",
              "      <td>12.95</td>\n",
              "      <td>14</td>\n",
              "      <td>CA</td>\n",
              "      <td>958</td>\n",
              "      <td>1234567890157691</td>\n",
              "      <td>3</td>\n",
              "      <td>kmfqbxnskpzgx@sbcglobal.net</td>\n",
              "      <td>0</td>\n",
              "      <td>14</td>\n",
              "      <td>1</td>\n",
              "      <td>12.95</td>\n",
              "      <td>2186</td>\n",
              "      <td>9</td>\n",
              "      <td>0</td>\n",
              "      <td>0</td>\n",
              "      <td>1</td>\n",
              "      <td>0</td>\n",
              "      <td>0</td>\n",
              "      <td>1</td>\n",
              "      <td>0</td>\n",
              "    </tr>\n",
              "    <tr>\n",
              "      <th>99973</th>\n",
              "      <td>38.85</td>\n",
              "      <td>14</td>\n",
              "      <td>NC</td>\n",
              "      <td>286</td>\n",
              "      <td>1234567890197164</td>\n",
              "      <td>3</td>\n",
              "      <td>pgpqvysdjtqne@lurbsakkedtmls.com</td>\n",
              "      <td>0</td>\n",
              "      <td>14</td>\n",
              "      <td>0</td>\n",
              "      <td>38.85</td>\n",
              "      <td>4062</td>\n",
              "      <td>23</td>\n",
              "      <td>0</td>\n",
              "      <td>0</td>\n",
              "      <td>1</td>\n",
              "      <td>1</td>\n",
              "      <td>0</td>\n",
              "      <td>1</td>\n",
              "      <td>0</td>\n",
              "    </tr>\n",
              "    <tr>\n",
              "      <th>99974</th>\n",
              "      <td>38.85</td>\n",
              "      <td>14</td>\n",
              "      <td>CO</td>\n",
              "      <td>805</td>\n",
              "      <td>1234567890197127</td>\n",
              "      <td>3</td>\n",
              "      <td>nuoqjiudsggmx@aol.com</td>\n",
              "      <td>0</td>\n",
              "      <td>14</td>\n",
              "      <td>0</td>\n",
              "      <td>38.85</td>\n",
              "      <td>3841</td>\n",
              "      <td>16</td>\n",
              "      <td>0</td>\n",
              "      <td>0</td>\n",
              "      <td>1</td>\n",
              "      <td>1</td>\n",
              "      <td>0</td>\n",
              "      <td>1</td>\n",
              "      <td>0</td>\n",
              "    </tr>\n",
              "    <tr>\n",
              "      <th>99975</th>\n",
              "      <td>49.95</td>\n",
              "      <td>14</td>\n",
              "      <td>CA</td>\n",
              "      <td>919</td>\n",
              "      <td>1234567890197165</td>\n",
              "      <td>3</td>\n",
              "      <td>khyiwacgpgxbl1964@aol.com</td>\n",
              "      <td>0</td>\n",
              "      <td>14</td>\n",
              "      <td>1</td>\n",
              "      <td>49.95</td>\n",
              "      <td>152</td>\n",
              "      <td>11</td>\n",
              "      <td>1</td>\n",
              "      <td>0</td>\n",
              "      <td>1</td>\n",
              "      <td>0</td>\n",
              "      <td>0</td>\n",
              "      <td>1</td>\n",
              "      <td>0</td>\n",
              "    </tr>\n",
              "    <tr>\n",
              "      <th>99976</th>\n",
              "      <td>25.90</td>\n",
              "      <td>14</td>\n",
              "      <td>CA</td>\n",
              "      <td>958</td>\n",
              "      <td>1234567890157691</td>\n",
              "      <td>3</td>\n",
              "      <td>kmfqbxnskpzgx@sbcglobal.net</td>\n",
              "      <td>0</td>\n",
              "      <td>14</td>\n",
              "      <td>1</td>\n",
              "      <td>25.90</td>\n",
              "      <td>2186</td>\n",
              "      <td>9</td>\n",
              "      <td>0</td>\n",
              "      <td>0</td>\n",
              "      <td>1</td>\n",
              "      <td>0</td>\n",
              "      <td>0</td>\n",
              "      <td>1</td>\n",
              "      <td>0</td>\n",
              "    </tr>\n",
              "    <tr>\n",
              "      <th>99977</th>\n",
              "      <td>38.85</td>\n",
              "      <td>14</td>\n",
              "      <td>AZ</td>\n",
              "      <td>852</td>\n",
              "      <td>1234567890197166</td>\n",
              "      <td>2</td>\n",
              "      <td>sehynieupzfjn@yahoo.com</td>\n",
              "      <td>0</td>\n",
              "      <td>14</td>\n",
              "      <td>0</td>\n",
              "      <td>38.85</td>\n",
              "      <td>4596</td>\n",
              "      <td>9</td>\n",
              "      <td>0</td>\n",
              "      <td>0</td>\n",
              "      <td>0</td>\n",
              "      <td>0</td>\n",
              "      <td>0</td>\n",
              "      <td>1</td>\n",
              "      <td>0</td>\n",
              "    </tr>\n",
              "    <tr>\n",
              "      <th>99978</th>\n",
              "      <td>12.95</td>\n",
              "      <td>14</td>\n",
              "      <td>OH</td>\n",
              "      <td>450</td>\n",
              "      <td>1234567890197167</td>\n",
              "      <td>3</td>\n",
              "      <td>iuxdnlxbjcnex@yahoo.com</td>\n",
              "      <td>1</td>\n",
              "      <td>14</td>\n",
              "      <td>0</td>\n",
              "      <td>12.95</td>\n",
              "      <td>6775</td>\n",
              "      <td>15</td>\n",
              "      <td>0</td>\n",
              "      <td>0</td>\n",
              "      <td>1</td>\n",
              "      <td>1</td>\n",
              "      <td>0</td>\n",
              "      <td>1</td>\n",
              "      <td>0</td>\n",
              "    </tr>\n",
              "    <tr>\n",
              "      <th>99979</th>\n",
              "      <td>49.95</td>\n",
              "      <td>14</td>\n",
              "      <td>AZ</td>\n",
              "      <td>860</td>\n",
              "      <td>1234567890197168</td>\n",
              "      <td>3</td>\n",
              "      <td>fsmtekcqwfxoh@zwvwoikiu.com</td>\n",
              "      <td>0</td>\n",
              "      <td>14</td>\n",
              "      <td>1</td>\n",
              "      <td>49.95</td>\n",
              "      <td>-1700</td>\n",
              "      <td>9</td>\n",
              "      <td>0</td>\n",
              "      <td>1</td>\n",
              "      <td>0</td>\n",
              "      <td>0</td>\n",
              "      <td>1</td>\n",
              "      <td>1</td>\n",
              "      <td>0</td>\n",
              "    </tr>\n",
              "    <tr>\n",
              "      <th>99980</th>\n",
              "      <td>12.95</td>\n",
              "      <td>14</td>\n",
              "      <td>VA</td>\n",
              "      <td>220</td>\n",
              "      <td>1234567890197169</td>\n",
              "      <td>2</td>\n",
              "      <td>lhzuntgnvngmv@uehnnlj.com</td>\n",
              "      <td>0</td>\n",
              "      <td>14</td>\n",
              "      <td>0</td>\n",
              "      <td>12.95</td>\n",
              "      <td>653</td>\n",
              "      <td>16</td>\n",
              "      <td>0</td>\n",
              "      <td>0</td>\n",
              "      <td>0</td>\n",
              "      <td>0</td>\n",
              "      <td>0</td>\n",
              "      <td>1</td>\n",
              "      <td>0</td>\n",
              "    </tr>\n",
              "    <tr>\n",
              "      <th>99981</th>\n",
              "      <td>33.67</td>\n",
              "      <td>14</td>\n",
              "      <td>AL</td>\n",
              "      <td>366</td>\n",
              "      <td>1234567890197161</td>\n",
              "      <td>3</td>\n",
              "      <td>ziwpwvejfcvig.@boeing.com</td>\n",
              "      <td>1</td>\n",
              "      <td>14</td>\n",
              "      <td>1</td>\n",
              "      <td>33.67</td>\n",
              "      <td>4177</td>\n",
              "      <td>6</td>\n",
              "      <td>0</td>\n",
              "      <td>0</td>\n",
              "      <td>1</td>\n",
              "      <td>1</td>\n",
              "      <td>0</td>\n",
              "      <td>2</td>\n",
              "      <td>0</td>\n",
              "    </tr>\n",
              "    <tr>\n",
              "      <th>99982</th>\n",
              "      <td>49.95</td>\n",
              "      <td>14</td>\n",
              "      <td>NY</td>\n",
              "      <td>115</td>\n",
              "      <td>1234567890197170</td>\n",
              "      <td>3</td>\n",
              "      <td>njuyfzgpvxuyd86@aol.com</td>\n",
              "      <td>0</td>\n",
              "      <td>14</td>\n",
              "      <td>1</td>\n",
              "      <td>49.95</td>\n",
              "      <td>-8463</td>\n",
              "      <td>10</td>\n",
              "      <td>0</td>\n",
              "      <td>0</td>\n",
              "      <td>1</td>\n",
              "      <td>0</td>\n",
              "      <td>0</td>\n",
              "      <td>1</td>\n",
              "      <td>0</td>\n",
              "    </tr>\n",
              "    <tr>\n",
              "      <th>99983</th>\n",
              "      <td>38.85</td>\n",
              "      <td>14</td>\n",
              "      <td>PA</td>\n",
              "      <td>190</td>\n",
              "      <td>1234567890197171</td>\n",
              "      <td>3</td>\n",
              "      <td>tpzrlcagsxsvs66@aol.com</td>\n",
              "      <td>0</td>\n",
              "      <td>14</td>\n",
              "      <td>1</td>\n",
              "      <td>38.85</td>\n",
              "      <td>4050</td>\n",
              "      <td>7</td>\n",
              "      <td>0</td>\n",
              "      <td>0</td>\n",
              "      <td>0</td>\n",
              "      <td>0</td>\n",
              "      <td>0</td>\n",
              "      <td>1</td>\n",
              "      <td>0</td>\n",
              "    </tr>\n",
              "    <tr>\n",
              "      <th>99984</th>\n",
              "      <td>38.85</td>\n",
              "      <td>14</td>\n",
              "      <td>MD</td>\n",
              "      <td>207</td>\n",
              "      <td>1234567890197172</td>\n",
              "      <td>3</td>\n",
              "      <td>vryhsksrnpjxr@xmrypoxlbr.com</td>\n",
              "      <td>0</td>\n",
              "      <td>14</td>\n",
              "      <td>1</td>\n",
              "      <td>38.85</td>\n",
              "      <td>2824</td>\n",
              "      <td>10</td>\n",
              "      <td>0</td>\n",
              "      <td>0</td>\n",
              "      <td>1</td>\n",
              "      <td>1</td>\n",
              "      <td>0</td>\n",
              "      <td>1</td>\n",
              "      <td>0</td>\n",
              "    </tr>\n",
              "    <tr>\n",
              "      <th>99985</th>\n",
              "      <td>12.95</td>\n",
              "      <td>14</td>\n",
              "      <td>NJ</td>\n",
              "      <td>88</td>\n",
              "      <td>1234567890197173</td>\n",
              "      <td>3</td>\n",
              "      <td>zdpdicneklwsr@yahoo.com</td>\n",
              "      <td>0</td>\n",
              "      <td>14</td>\n",
              "      <td>0</td>\n",
              "      <td>12.95</td>\n",
              "      <td>218</td>\n",
              "      <td>19</td>\n",
              "      <td>0</td>\n",
              "      <td>0</td>\n",
              "      <td>0</td>\n",
              "      <td>0</td>\n",
              "      <td>0</td>\n",
              "      <td>1</td>\n",
              "      <td>0</td>\n",
              "    </tr>\n",
              "    <tr>\n",
              "      <th>99986</th>\n",
              "      <td>38.85</td>\n",
              "      <td>14</td>\n",
              "      <td>CA</td>\n",
              "      <td>945</td>\n",
              "      <td>1234567890197174</td>\n",
              "      <td>2</td>\n",
              "      <td>fnztqfgazmnxy@autonation.com</td>\n",
              "      <td>1</td>\n",
              "      <td>14</td>\n",
              "      <td>0</td>\n",
              "      <td>38.85</td>\n",
              "      <td>3391</td>\n",
              "      <td>23</td>\n",
              "      <td>0</td>\n",
              "      <td>0</td>\n",
              "      <td>0</td>\n",
              "      <td>0</td>\n",
              "      <td>0</td>\n",
              "      <td>1</td>\n",
              "      <td>0</td>\n",
              "    </tr>\n",
              "    <tr>\n",
              "      <th>99987</th>\n",
              "      <td>49.95</td>\n",
              "      <td>14</td>\n",
              "      <td>NC</td>\n",
              "      <td>275</td>\n",
              "      <td>1234567890197175</td>\n",
              "      <td>3</td>\n",
              "      <td>vfubzxomujxdw@yahoo.com</td>\n",
              "      <td>0</td>\n",
              "      <td>14</td>\n",
              "      <td>0</td>\n",
              "      <td>49.95</td>\n",
              "      <td>-2619</td>\n",
              "      <td>8</td>\n",
              "      <td>0</td>\n",
              "      <td>0</td>\n",
              "      <td>1</td>\n",
              "      <td>0</td>\n",
              "      <td>0</td>\n",
              "      <td>1</td>\n",
              "      <td>0</td>\n",
              "    </tr>\n",
              "    <tr>\n",
              "      <th>99988</th>\n",
              "      <td>12.95</td>\n",
              "      <td>14</td>\n",
              "      <td>TX</td>\n",
              "      <td>787</td>\n",
              "      <td>1234567890137953</td>\n",
              "      <td>3</td>\n",
              "      <td>zwpfnmaebpzxu@dell.com</td>\n",
              "      <td>0</td>\n",
              "      <td>14</td>\n",
              "      <td>1</td>\n",
              "      <td>12.95</td>\n",
              "      <td>3357</td>\n",
              "      <td>10</td>\n",
              "      <td>1</td>\n",
              "      <td>0</td>\n",
              "      <td>1</td>\n",
              "      <td>1</td>\n",
              "      <td>0</td>\n",
              "      <td>2</td>\n",
              "      <td>0</td>\n",
              "    </tr>\n",
              "    <tr>\n",
              "      <th>99989</th>\n",
              "      <td>38.85</td>\n",
              "      <td>14</td>\n",
              "      <td>AL</td>\n",
              "      <td>357</td>\n",
              "      <td>1234567890197176</td>\n",
              "      <td>0</td>\n",
              "      <td>vjcfyraknxzts@knology.net</td>\n",
              "      <td>1</td>\n",
              "      <td>14</td>\n",
              "      <td>1</td>\n",
              "      <td>38.85</td>\n",
              "      <td>538</td>\n",
              "      <td>9</td>\n",
              "      <td>0</td>\n",
              "      <td>0</td>\n",
              "      <td>0</td>\n",
              "      <td>0</td>\n",
              "      <td>0</td>\n",
              "      <td>2</td>\n",
              "      <td>0</td>\n",
              "    </tr>\n",
              "    <tr>\n",
              "      <th>99990</th>\n",
              "      <td>0.00</td>\n",
              "      <td>14</td>\n",
              "      <td>IN</td>\n",
              "      <td>472</td>\n",
              "      <td>1234567890197177</td>\n",
              "      <td>4</td>\n",
              "      <td>yokepazomkomt@aol.com</td>\n",
              "      <td>0</td>\n",
              "      <td>14</td>\n",
              "      <td>0</td>\n",
              "      <td>0.00</td>\n",
              "      <td>-5421</td>\n",
              "      <td>18</td>\n",
              "      <td>0</td>\n",
              "      <td>0</td>\n",
              "      <td>0</td>\n",
              "      <td>0</td>\n",
              "      <td>0</td>\n",
              "      <td>1</td>\n",
              "      <td>0</td>\n",
              "    </tr>\n",
              "    <tr>\n",
              "      <th>99991</th>\n",
              "      <td>12.95</td>\n",
              "      <td>14</td>\n",
              "      <td>PA</td>\n",
              "      <td>190</td>\n",
              "      <td>1234567890197178</td>\n",
              "      <td>3</td>\n",
              "      <td>rvzxzckoscocm15@aol.com</td>\n",
              "      <td>1</td>\n",
              "      <td>14</td>\n",
              "      <td>0</td>\n",
              "      <td>12.95</td>\n",
              "      <td>-6717</td>\n",
              "      <td>18</td>\n",
              "      <td>0</td>\n",
              "      <td>0</td>\n",
              "      <td>0</td>\n",
              "      <td>0</td>\n",
              "      <td>0</td>\n",
              "      <td>1</td>\n",
              "      <td>0</td>\n",
              "    </tr>\n",
              "    <tr>\n",
              "      <th>99992</th>\n",
              "      <td>10.36</td>\n",
              "      <td>14</td>\n",
              "      <td>CA</td>\n",
              "      <td>953</td>\n",
              "      <td>1234567890194145</td>\n",
              "      <td>3</td>\n",
              "      <td>kjjhufraryqts@hotmail.com</td>\n",
              "      <td>1</td>\n",
              "      <td>14</td>\n",
              "      <td>1</td>\n",
              "      <td>10.36</td>\n",
              "      <td>5169</td>\n",
              "      <td>8</td>\n",
              "      <td>0</td>\n",
              "      <td>0</td>\n",
              "      <td>0</td>\n",
              "      <td>0</td>\n",
              "      <td>0</td>\n",
              "      <td>1</td>\n",
              "      <td>0</td>\n",
              "    </tr>\n",
              "    <tr>\n",
              "      <th>99993</th>\n",
              "      <td>38.85</td>\n",
              "      <td>14</td>\n",
              "      <td>NY</td>\n",
              "      <td>114</td>\n",
              "      <td>1234567890197179</td>\n",
              "      <td>2</td>\n",
              "      <td>xrqusjmduuney@aol.com</td>\n",
              "      <td>1</td>\n",
              "      <td>14</td>\n",
              "      <td>0</td>\n",
              "      <td>38.85</td>\n",
              "      <td>5427</td>\n",
              "      <td>13</td>\n",
              "      <td>0</td>\n",
              "      <td>0</td>\n",
              "      <td>1</td>\n",
              "      <td>1</td>\n",
              "      <td>0</td>\n",
              "      <td>1</td>\n",
              "      <td>0</td>\n",
              "    </tr>\n",
              "    <tr>\n",
              "      <th>99994</th>\n",
              "      <td>25.90</td>\n",
              "      <td>14</td>\n",
              "      <td>TX</td>\n",
              "      <td>770</td>\n",
              "      <td>1234567890197180</td>\n",
              "      <td>3</td>\n",
              "      <td>gbkrvisrrfshi1@msn.com</td>\n",
              "      <td>1</td>\n",
              "      <td>14</td>\n",
              "      <td>0</td>\n",
              "      <td>25.90</td>\n",
              "      <td>3130</td>\n",
              "      <td>17</td>\n",
              "      <td>1</td>\n",
              "      <td>0</td>\n",
              "      <td>1</td>\n",
              "      <td>1</td>\n",
              "      <td>0</td>\n",
              "      <td>1</td>\n",
              "      <td>0</td>\n",
              "    </tr>\n",
              "    <tr>\n",
              "      <th>99995</th>\n",
              "      <td>31.08</td>\n",
              "      <td>14</td>\n",
              "      <td>GA</td>\n",
              "      <td>313</td>\n",
              "      <td>1234567890197181</td>\n",
              "      <td>2</td>\n",
              "      <td>owdybxinfiqla@ucxhcpouwmc.net</td>\n",
              "      <td>0</td>\n",
              "      <td>14</td>\n",
              "      <td>1</td>\n",
              "      <td>31.08</td>\n",
              "      <td>-8044</td>\n",
              "      <td>10</td>\n",
              "      <td>0</td>\n",
              "      <td>0</td>\n",
              "      <td>0</td>\n",
              "      <td>0</td>\n",
              "      <td>0</td>\n",
              "      <td>1</td>\n",
              "      <td>0</td>\n",
              "    </tr>\n",
              "    <tr>\n",
              "      <th>99996</th>\n",
              "      <td>49.95</td>\n",
              "      <td>14</td>\n",
              "      <td>LA</td>\n",
              "      <td>704</td>\n",
              "      <td>1234567890197182</td>\n",
              "      <td>0</td>\n",
              "      <td>vnmhghmwnxhso@xnzysnub.com</td>\n",
              "      <td>0</td>\n",
              "      <td>14</td>\n",
              "      <td>0</td>\n",
              "      <td>49.95</td>\n",
              "      <td>393</td>\n",
              "      <td>18</td>\n",
              "      <td>1</td>\n",
              "      <td>0</td>\n",
              "      <td>1</td>\n",
              "      <td>0</td>\n",
              "      <td>0</td>\n",
              "      <td>1</td>\n",
              "      <td>0</td>\n",
              "    </tr>\n",
              "    <tr>\n",
              "      <th>99997</th>\n",
              "      <td>11.01</td>\n",
              "      <td>14</td>\n",
              "      <td>NY</td>\n",
              "      <td>117</td>\n",
              "      <td>1234567890196488</td>\n",
              "      <td>3</td>\n",
              "      <td>uphjcxjkubtrw@aol.com</td>\n",
              "      <td>1</td>\n",
              "      <td>14</td>\n",
              "      <td>1</td>\n",
              "      <td>11.01</td>\n",
              "      <td>4261</td>\n",
              "      <td>11</td>\n",
              "      <td>0</td>\n",
              "      <td>0</td>\n",
              "      <td>1</td>\n",
              "      <td>1</td>\n",
              "      <td>0</td>\n",
              "      <td>1</td>\n",
              "      <td>0</td>\n",
              "    </tr>\n",
              "    <tr>\n",
              "      <th>99998</th>\n",
              "      <td>12.95</td>\n",
              "      <td>14</td>\n",
              "      <td>VA</td>\n",
              "      <td>245</td>\n",
              "      <td>1234567890197183</td>\n",
              "      <td>3</td>\n",
              "      <td>sasmynlsqebdv65@aol.com</td>\n",
              "      <td>1</td>\n",
              "      <td>14</td>\n",
              "      <td>0</td>\n",
              "      <td>12.95</td>\n",
              "      <td>515</td>\n",
              "      <td>21</td>\n",
              "      <td>0</td>\n",
              "      <td>0</td>\n",
              "      <td>0</td>\n",
              "      <td>0</td>\n",
              "      <td>0</td>\n",
              "      <td>1</td>\n",
              "      <td>0</td>\n",
              "    </tr>\n",
              "    <tr>\n",
              "      <th>99999</th>\n",
              "      <td>12.95</td>\n",
              "      <td>14</td>\n",
              "      <td>TN</td>\n",
              "      <td>372</td>\n",
              "      <td>1234567890197184</td>\n",
              "      <td>3</td>\n",
              "      <td>kvclngihgwldo@yahoo.com</td>\n",
              "      <td>1</td>\n",
              "      <td>14</td>\n",
              "      <td>0</td>\n",
              "      <td>12.95</td>\n",
              "      <td>4229</td>\n",
              "      <td>22</td>\n",
              "      <td>0</td>\n",
              "      <td>0</td>\n",
              "      <td>0</td>\n",
              "      <td>1</td>\n",
              "      <td>0</td>\n",
              "      <td>1</td>\n",
              "      <td>0</td>\n",
              "    </tr>\n",
              "  </tbody>\n",
              "</table>\n",
              "</div>"
            ],
            "text/plain": [
              "       amount  hour1 state1  zip1  ...  flag3  flag4 flag5  Class\n",
              "99960   12.95     14     NJ    88  ...      1      0     1      0\n",
              "99961   38.85     14     GA   302  ...      1      0     1      0\n",
              "99962   49.95     14     CA   917  ...      1      0     1      0\n",
              "99963   12.95     14     MI   492  ...      1      0     1      0\n",
              "99964   12.95     14     NC   281  ...      0      0     1      0\n",
              "99965   38.85     14     FL   330  ...      1      0     1      0\n",
              "99966   38.85     14     TX   760  ...      0      0     1      0\n",
              "99967   31.08     14     AL   366  ...      1      0     2      0\n",
              "99968    0.00     14     LA   708  ...      0      0  1434      0\n",
              "99969   38.85     14     CA   927  ...      0      0     2      0\n",
              "99970   12.95     14     OH   441  ...      0      0     1      0\n",
              "99971   38.85     14     NY   113  ...      1      0     1      0\n",
              "99972   12.95     14     CA   958  ...      0      0     1      0\n",
              "99973   38.85     14     NC   286  ...      1      0     1      0\n",
              "99974   38.85     14     CO   805  ...      1      0     1      0\n",
              "99975   49.95     14     CA   919  ...      0      0     1      0\n",
              "99976   25.90     14     CA   958  ...      0      0     1      0\n",
              "99977   38.85     14     AZ   852  ...      0      0     1      0\n",
              "99978   12.95     14     OH   450  ...      1      0     1      0\n",
              "99979   49.95     14     AZ   860  ...      0      1     1      0\n",
              "99980   12.95     14     VA   220  ...      0      0     1      0\n",
              "99981   33.67     14     AL   366  ...      1      0     2      0\n",
              "99982   49.95     14     NY   115  ...      0      0     1      0\n",
              "99983   38.85     14     PA   190  ...      0      0     1      0\n",
              "99984   38.85     14     MD   207  ...      1      0     1      0\n",
              "99985   12.95     14     NJ    88  ...      0      0     1      0\n",
              "99986   38.85     14     CA   945  ...      0      0     1      0\n",
              "99987   49.95     14     NC   275  ...      0      0     1      0\n",
              "99988   12.95     14     TX   787  ...      1      0     2      0\n",
              "99989   38.85     14     AL   357  ...      0      0     2      0\n",
              "99990    0.00     14     IN   472  ...      0      0     1      0\n",
              "99991   12.95     14     PA   190  ...      0      0     1      0\n",
              "99992   10.36     14     CA   953  ...      0      0     1      0\n",
              "99993   38.85     14     NY   114  ...      1      0     1      0\n",
              "99994   25.90     14     TX   770  ...      1      0     1      0\n",
              "99995   31.08     14     GA   313  ...      0      0     1      0\n",
              "99996   49.95     14     LA   704  ...      0      0     1      0\n",
              "99997   11.01     14     NY   117  ...      1      0     1      0\n",
              "99998   12.95     14     VA   245  ...      0      0     1      0\n",
              "99999   12.95     14     TN   372  ...      1      0     1      0\n",
              "\n",
              "[40 rows x 20 columns]"
            ]
          },
          "metadata": {
            "tags": []
          },
          "execution_count": 336
        }
      ]
    },
    {
      "cell_type": "code",
      "metadata": {
        "id": "_pvqLrJW3Oa_",
        "colab_type": "code",
        "colab": {}
      },
      "source": [
        "df = df.drop(['custAttr2','total','hour2','state1',], axis=1)"
      ],
      "execution_count": 0,
      "outputs": []
    },
    {
      "cell_type": "code",
      "metadata": {
        "id": "NNTAj-fB3ObE",
        "colab_type": "code",
        "outputId": "800e0caf-2694-4cd5-91d7-e634d197936c",
        "colab": {
          "base_uri": "https://localhost:8080/",
          "height": 35
        }
      },
      "source": [
        "len(df.columns)"
      ],
      "execution_count": 338,
      "outputs": [
        {
          "output_type": "execute_result",
          "data": {
            "text/plain": [
              "16"
            ]
          },
          "metadata": {
            "tags": []
          },
          "execution_count": 338
        }
      ]
    },
    {
      "cell_type": "markdown",
      "metadata": {
        "id": "tuzuzCZ83ObH",
        "colab_type": "text"
      },
      "source": [
        "3.3. Training and Testing Dataset Creation\n",
        "The following procedures are used for creating training and testing datasets for evaluating our model.\n",
        "\n",
        "First, we removed the transactions corresponding to those customers who have only one transaction in dataset since it appears either in training or testing dataset only. Now the dataset has been reduced to 40918 transactions.\n",
        "\n",
        "Then we divided these 40918 transactions into two sets—training set with 21000 transactions and testing set with 19918 transactions.\n",
        "\n",
        "Again from the training dataset we removed the transactions corresponding to those customers who have only one transaction in the training dataset since it is hard to find a pattern from a single transaction. Now the training dataset has been reduced to 19165 transactions.\n",
        "\n",
        "From this dataset, we have randomly selected different groups of customers and their corresponding transactions in the training and testing dataset to create different training and testing datasets to evaluate the performance of FraudMiner with increasing number of transactions. The data distribution is shown in Table 1."
      ]
    },
    {
      "cell_type": "code",
      "metadata": {
        "id": "s1qfvQ6m3ObI",
        "colab_type": "code",
        "colab": {}
      },
      "source": [
        "# df['frek'] = df.groupby('custAttr1')['custAttr1'].transform('count')\n",
        "# df['frek'].value_counts()"
      ],
      "execution_count": 0,
      "outputs": []
    },
    {
      "cell_type": "code",
      "metadata": {
        "id": "UZfCe9Il3ObL",
        "colab_type": "code",
        "outputId": "77ae9c4d-5f87-4de8-c170-2b658dbd09b5",
        "colab": {
          "base_uri": "https://localhost:8080/",
          "height": 35
        }
      },
      "source": [
        "df.shape"
      ],
      "execution_count": 340,
      "outputs": [
        {
          "output_type": "execute_result",
          "data": {
            "text/plain": [
              "(100000, 16)"
            ]
          },
          "metadata": {
            "tags": []
          },
          "execution_count": 340
        }
      ]
    },
    {
      "cell_type": "code",
      "metadata": {
        "id": "LMyi25T_3ObQ",
        "colab_type": "code",
        "colab": {}
      },
      "source": [
        "# df = df[df['frek'] > 1]\n",
        "# df.shape"
      ],
      "execution_count": 0,
      "outputs": []
    },
    {
      "cell_type": "code",
      "metadata": {
        "id": "aS1_yW6o3ObT",
        "colab_type": "code",
        "colab": {}
      },
      "source": [
        "# df.tail()"
      ],
      "execution_count": 0,
      "outputs": []
    },
    {
      "cell_type": "code",
      "metadata": {
        "id": "2Qck5hj93ObW",
        "colab_type": "code",
        "colab": {}
      },
      "source": [
        "# df = df.reset_index(drop=True)\n",
        "# df.tail()"
      ],
      "execution_count": 0,
      "outputs": []
    },
    {
      "cell_type": "code",
      "metadata": {
        "id": "145pEOh63ObZ",
        "colab_type": "code",
        "outputId": "8820d36c-c12a-4dc3-91ca-f2a678aa6c27",
        "colab": {
          "base_uri": "https://localhost:8080/",
          "height": 72
        }
      },
      "source": [
        "df['Class'].value_counts()"
      ],
      "execution_count": 344,
      "outputs": [
        {
          "output_type": "execute_result",
          "data": {
            "text/plain": [
              "0    97346\n",
              "1     2654\n",
              "Name: Class, dtype: int64"
            ]
          },
          "metadata": {
            "tags": []
          },
          "execution_count": 344
        }
      ]
    },
    {
      "cell_type": "code",
      "metadata": {
        "id": "W8sqEaTe3Obc",
        "colab_type": "code",
        "colab": {}
      },
      "source": [
        "# df = df.drop(['custAttr1'], axis=1)\n",
        "# df = df.drop(['frek'], axis=1)"
      ],
      "execution_count": 0,
      "outputs": []
    },
    {
      "cell_type": "code",
      "metadata": {
        "id": "8hB8iIvz3Obs",
        "colab_type": "code",
        "colab": {}
      },
      "source": [
        "X = df.drop('Class', axis=1)\n",
        "y = df['Class'].copy()"
      ],
      "execution_count": 0,
      "outputs": []
    },
    {
      "cell_type": "code",
      "metadata": {
        "id": "dFf0Y6hk3Oby",
        "colab_type": "code",
        "outputId": "bb1680d0-1ab8-4572-d0af-12db255f0157",
        "colab": {
          "base_uri": "https://localhost:8080/",
          "height": 72
        }
      },
      "source": [
        "y.value_counts()"
      ],
      "execution_count": 347,
      "outputs": [
        {
          "output_type": "execute_result",
          "data": {
            "text/plain": [
              "0    97346\n",
              "1     2654\n",
              "Name: Class, dtype: int64"
            ]
          },
          "metadata": {
            "tags": []
          },
          "execution_count": 347
        }
      ]
    },
    {
      "cell_type": "code",
      "metadata": {
        "id": "gvLTOgqn3Ob3",
        "colab_type": "code",
        "outputId": "d2423548-21fa-411c-e556-844678ee6bee",
        "colab": {
          "base_uri": "https://localhost:8080/",
          "height": 90
        }
      },
      "source": [
        "X.columns"
      ],
      "execution_count": 348,
      "outputs": [
        {
          "output_type": "execute_result",
          "data": {
            "text/plain": [
              "Index(['amount', 'hour1', 'zip1', 'custAttr1', 'field1', 'field2', 'flag1',\n",
              "       'field3', 'field4', 'indicator1', 'indicator2', 'flag2', 'flag3',\n",
              "       'flag4', 'flag5'],\n",
              "      dtype='object')"
            ]
          },
          "metadata": {
            "tags": []
          },
          "execution_count": 348
        }
      ]
    },
    {
      "cell_type": "code",
      "metadata": {
        "id": "Qsa1WKuCcQzM",
        "colab_type": "code",
        "colab": {}
      },
      "source": [
        "from sklearn.model_selection import train_test_split"
      ],
      "execution_count": 0,
      "outputs": []
    },
    {
      "cell_type": "code",
      "metadata": {
        "id": "8ijsn7mx3OcK",
        "colab_type": "code",
        "colab": {}
      },
      "source": [
        "X_train, X_test, y_train, y_test = train_test_split(X, y, test_size=0.1, random_state=1, stratify=y)\n",
        "X_train, X_val, y_train, y_val = train_test_split(X_train, y_train, test_size=0.11111, random_state=1, stratify=y_train)\n"
      ],
      "execution_count": 0,
      "outputs": []
    },
    {
      "cell_type": "code",
      "metadata": {
        "id": "IIYg92dV3Ocx",
        "colab_type": "code",
        "colab": {
          "base_uri": "https://localhost:8080/",
          "height": 206
        },
        "outputId": "fbaa8856-2e66-4d98-f090-c79eeace6d71"
      },
      "source": [
        "X_train.head()"
      ],
      "execution_count": 351,
      "outputs": [
        {
          "output_type": "execute_result",
          "data": {
            "text/html": [
              "<div>\n",
              "<style scoped>\n",
              "    .dataframe tbody tr th:only-of-type {\n",
              "        vertical-align: middle;\n",
              "    }\n",
              "\n",
              "    .dataframe tbody tr th {\n",
              "        vertical-align: top;\n",
              "    }\n",
              "\n",
              "    .dataframe thead th {\n",
              "        text-align: right;\n",
              "    }\n",
              "</style>\n",
              "<table border=\"1\" class=\"dataframe\">\n",
              "  <thead>\n",
              "    <tr style=\"text-align: right;\">\n",
              "      <th></th>\n",
              "      <th>amount</th>\n",
              "      <th>hour1</th>\n",
              "      <th>zip1</th>\n",
              "      <th>custAttr1</th>\n",
              "      <th>field1</th>\n",
              "      <th>field2</th>\n",
              "      <th>flag1</th>\n",
              "      <th>field3</th>\n",
              "      <th>field4</th>\n",
              "      <th>indicator1</th>\n",
              "      <th>indicator2</th>\n",
              "      <th>flag2</th>\n",
              "      <th>flag3</th>\n",
              "      <th>flag4</th>\n",
              "      <th>flag5</th>\n",
              "    </tr>\n",
              "  </thead>\n",
              "  <tbody>\n",
              "    <tr>\n",
              "      <th>90035</th>\n",
              "      <td>49.95</td>\n",
              "      <td>19</td>\n",
              "      <td>70</td>\n",
              "      <td>1234567890190393</td>\n",
              "      <td>2</td>\n",
              "      <td>0</td>\n",
              "      <td>1</td>\n",
              "      <td>1259</td>\n",
              "      <td>17</td>\n",
              "      <td>0</td>\n",
              "      <td>0</td>\n",
              "      <td>1</td>\n",
              "      <td>0</td>\n",
              "      <td>0</td>\n",
              "      <td>1</td>\n",
              "    </tr>\n",
              "    <tr>\n",
              "      <th>28169</th>\n",
              "      <td>0.00</td>\n",
              "      <td>12</td>\n",
              "      <td>379</td>\n",
              "      <td>1234567890145743</td>\n",
              "      <td>4</td>\n",
              "      <td>1</td>\n",
              "      <td>0</td>\n",
              "      <td>3039</td>\n",
              "      <td>11</td>\n",
              "      <td>0</td>\n",
              "      <td>0</td>\n",
              "      <td>1</td>\n",
              "      <td>1</td>\n",
              "      <td>0</td>\n",
              "      <td>1600</td>\n",
              "    </tr>\n",
              "    <tr>\n",
              "      <th>53132</th>\n",
              "      <td>12.95</td>\n",
              "      <td>11</td>\n",
              "      <td>486</td>\n",
              "      <td>1234567890164040</td>\n",
              "      <td>3</td>\n",
              "      <td>1</td>\n",
              "      <td>1</td>\n",
              "      <td>6268</td>\n",
              "      <td>12</td>\n",
              "      <td>0</td>\n",
              "      <td>0</td>\n",
              "      <td>0</td>\n",
              "      <td>0</td>\n",
              "      <td>0</td>\n",
              "      <td>2</td>\n",
              "    </tr>\n",
              "    <tr>\n",
              "      <th>16605</th>\n",
              "      <td>38.85</td>\n",
              "      <td>14</td>\n",
              "      <td>833</td>\n",
              "      <td>1234567890136938</td>\n",
              "      <td>3</td>\n",
              "      <td>0</td>\n",
              "      <td>0</td>\n",
              "      <td>-6839</td>\n",
              "      <td>20</td>\n",
              "      <td>0</td>\n",
              "      <td>0</td>\n",
              "      <td>0</td>\n",
              "      <td>0</td>\n",
              "      <td>0</td>\n",
              "      <td>1</td>\n",
              "    </tr>\n",
              "    <tr>\n",
              "      <th>95648</th>\n",
              "      <td>31.08</td>\n",
              "      <td>17</td>\n",
              "      <td>973</td>\n",
              "      <td>1234567890194260</td>\n",
              "      <td>2</td>\n",
              "      <td>0</td>\n",
              "      <td>0</td>\n",
              "      <td>-6940</td>\n",
              "      <td>23</td>\n",
              "      <td>0</td>\n",
              "      <td>0</td>\n",
              "      <td>1</td>\n",
              "      <td>0</td>\n",
              "      <td>0</td>\n",
              "      <td>1</td>\n",
              "    </tr>\n",
              "  </tbody>\n",
              "</table>\n",
              "</div>"
            ],
            "text/plain": [
              "       amount  hour1  zip1         custAttr1  ...  flag2  flag3  flag4  flag5\n",
              "90035   49.95     19    70  1234567890190393  ...      1      0      0      1\n",
              "28169    0.00     12   379  1234567890145743  ...      1      1      0   1600\n",
              "53132   12.95     11   486  1234567890164040  ...      0      0      0      2\n",
              "16605   38.85     14   833  1234567890136938  ...      0      0      0      1\n",
              "95648   31.08     17   973  1234567890194260  ...      1      0      0      1\n",
              "\n",
              "[5 rows x 15 columns]"
            ]
          },
          "metadata": {
            "tags": []
          },
          "execution_count": 351
        }
      ]
    },
    {
      "cell_type": "code",
      "metadata": {
        "id": "u9IgFXFdcqQk",
        "colab_type": "code",
        "colab": {}
      },
      "source": [
        "def convert(y):\n",
        "    for i in range(y.shape[0]):\n",
        "        if y[i]==-1:\n",
        "            y[i]=1;\n",
        "        else:\n",
        "            y[i]=0\n",
        "    return y"
      ],
      "execution_count": 0,
      "outputs": []
    },
    {
      "cell_type": "code",
      "metadata": {
        "id": "5pxSg40zcsXw",
        "colab_type": "code",
        "colab": {}
      },
      "source": [
        "from sklearn.ensemble import IsolationForest\n",
        "def iForest(X, ntree, sample, th):\n",
        "    ifor = IsolationForest(n_estimators=ntree, max_samples=sample, contamination=th, random_state=1)\n",
        "#     ifor = IsolationForest(n_estimators=100, max_samples='auto', contamination=0.0039, max_features=1.0, random_state=42, verbose=0)\n",
        "    ifor.fit(X)\n",
        "    return ifor"
      ],
      "execution_count": 0,
      "outputs": []
    },
    {
      "cell_type": "code",
      "metadata": {
        "id": "M0vPvypHeB42",
        "colab_type": "code",
        "colab": {}
      },
      "source": [
        "def model_evaluate(ifor,X,y):\n",
        "    ts = time.time()\n",
        "    y_pred=ifor.predict(X)\n",
        "    tf = time.time()\n",
        "    print('time : ', tf-ts)\n",
        "    y_pred=convert(y_pred)\n",
        "    \n",
        "    accuracy,sensitivity,specifity,precision,recall,f1_score = acc_sens_spec(y,y_pred)\n",
        "    print('accuracy : ',accuracy)\n",
        "    print('sensitivity : ',sensitivity)\n",
        "    print('specifity : ', specifity)\n",
        "    print('precision : ',precision)\n",
        "    print('recall : ',recall)\n",
        "    print('f1 score : ',f1_score)\n",
        "    print('Confusion matrix')\n",
        "    TP,FP,FN,TN = confussion_matrik(y,y_pred)\n",
        "    print('TP = ',TP,'FP = ',FP,'FN = ',FN,'TN = ',TN)\n",
        "    df_cm = pd.DataFrame([[TN,FP],[FN,TP]],\n",
        "                  ['True Normal','True Fraud'],['Pred Normal','Pred Fraud'])\n",
        "    plt.figure(figsize = (8,4))\n",
        "    sb.set(font_scale=1.4)#for label size\n",
        "    sb.heatmap(df_cm, annot=True,annot_kws={\"size\": 16},fmt='g')# font size"
      ],
      "execution_count": 0,
      "outputs": []
    },
    {
      "cell_type": "code",
      "metadata": {
        "id": "3bhy0ynLeEdY",
        "colab_type": "code",
        "colab": {}
      },
      "source": [
        "def eval_model(ifor,X,y):\n",
        "#     ts = time.time()\n",
        "    y_pred=ifor.predict(X)\n",
        "#     tf = time.time()\n",
        "    y_pred=convert(y_pred)\n",
        "    accuracy,sensitivity,specifity,precision,recall,f1_score = acc_sens_spec(y,y_pred)\n",
        "    return accuracy,sensitivity,specifity,precision,recall,f1_score"
      ],
      "execution_count": 0,
      "outputs": []
    },
    {
      "cell_type": "code",
      "metadata": {
        "id": "dCMLkLg-eHOt",
        "colab_type": "code",
        "colab": {}
      },
      "source": [
        "y_test1 = np.array(y_test)\n",
        "y_train1=np.array(y_train)\n",
        "y_val1 = np.array(y_val)"
      ],
      "execution_count": 0,
      "outputs": []
    },
    {
      "cell_type": "code",
      "metadata": {
        "id": "PhDNSQ0qeUU6",
        "colab_type": "code",
        "colab": {
          "base_uri": "https://localhost:8080/",
          "height": 35
        },
        "outputId": "c71d4885-77cb-4b26-c9e1-fb23cd41b79d"
      },
      "source": [
        "print(len(X_train),len(X_val),len(X_test))"
      ],
      "execution_count": 357,
      "outputs": [
        {
          "output_type": "stream",
          "text": [
            "80000 10000 10000\n"
          ],
          "name": "stdout"
        }
      ]
    },
    {
      "cell_type": "code",
      "metadata": {
        "id": "bUNTnRMleV_T",
        "colab_type": "code",
        "colab": {
          "base_uri": "https://localhost:8080/",
          "height": 35
        },
        "outputId": "dcada9be-3842-4815-bca6-eb90dc6b9762"
      },
      "source": [
        "ytrain_ab = y_train[y_train==1]\n",
        "yval_ab = y_val[y_val==1]\n",
        "ytest_ab = y_test[y_test==1]\n",
        "print('fraud train =',len(ytrain_ab),'fraud val =',len(yval_ab),'fraud test =',len(ytest_ab))"
      ],
      "execution_count": 358,
      "outputs": [
        {
          "output_type": "stream",
          "text": [
            "fraud train = 2124 fraud val = 265 fraud test = 265\n"
          ],
          "name": "stdout"
        }
      ]
    },
    {
      "cell_type": "code",
      "metadata": {
        "id": "tVcXVdkreKEr",
        "colab_type": "code",
        "colab": {
          "base_uri": "https://localhost:8080/",
          "height": 35
        },
        "outputId": "af5426e6-7522-43f8-e801-54554a696e63"
      },
      "source": [
        "th_train=len(ytrain_ab)/len(y_train)\n",
        "th_test=len(ytest_ab)/len(y_test)\n",
        "th_val=len(yval_ab)/len(y_val)\n",
        "print('threshold train =',th_train, 'threshold test =', th_test,'threshold val =', th_val)"
      ],
      "execution_count": 359,
      "outputs": [
        {
          "output_type": "stream",
          "text": [
            "threshold train = 0.02655 threshold test = 0.0265 threshold val = 0.0265\n"
          ],
          "name": "stdout"
        }
      ]
    },
    {
      "cell_type": "code",
      "metadata": {
        "id": "gUCYgnd5eNQS",
        "colab_type": "code",
        "colab": {
          "base_uri": "https://localhost:8080/",
          "height": 74
        },
        "outputId": "02fa65ad-1a9d-435e-e694-dcacacffe6ac"
      },
      "source": [
        "nTree= 100\n",
        "sample = 256\n",
        "ifo1 = iForest(X_train, nTree, sample, th_train)"
      ],
      "execution_count": 360,
      "outputs": [
        {
          "output_type": "stream",
          "text": [
            "/usr/local/lib/python3.6/dist-packages/sklearn/ensemble/iforest.py:247: FutureWarning: behaviour=\"old\" is deprecated and will be removed in version 0.22. Please use behaviour=\"new\", which makes the decision_function change to match other anomaly detection algorithm API.\n",
            "  FutureWarning)\n"
          ],
          "name": "stderr"
        }
      ]
    },
    {
      "cell_type": "code",
      "metadata": {
        "id": "o5w4Xn5ve2Z7",
        "colab_type": "code",
        "colab": {
          "base_uri": "https://localhost:8080/",
          "height": 501
        },
        "outputId": "8e2cf421-c23a-4216-f5e5-31f59532cf05"
      },
      "source": [
        "model_evaluate(ifo1,X_val,y_val1)"
      ],
      "execution_count": 361,
      "outputs": [
        {
          "output_type": "stream",
          "text": [
            "/usr/local/lib/python3.6/dist-packages/sklearn/ensemble/iforest.py:415: DeprecationWarning: threshold_ attribute is deprecated in 0.20 and will be removed in 0.22.\n",
            "  \" be removed in 0.22.\", DeprecationWarning)\n"
          ],
          "name": "stderr"
        },
        {
          "output_type": "stream",
          "text": [
            "time :  0.44348812103271484\n",
            "accuracy :  0.9584\n",
            "sensitivity :  0.25660377358490566\n",
            "specifity :  0.9775038520801232\n",
            "precision :  0.23693379790940766\n",
            "recall :  0.25660377358490566\n",
            "f1 score :  0.2463768115942029\n",
            "Confusion matrix\n",
            "TP =  68 FP =  219 FN =  197 TN =  9516\n"
          ],
          "name": "stdout"
        },
        {
          "output_type": "display_data",
          "data": {
            "image/png": "[encoded data removed]",
            "text/plain": [
              "<Figure size 576x288 with 2 Axes>"
            ]
          },
          "metadata": {
            "tags": []
          }
        }
      ]
    },
    {
      "cell_type": "code",
      "metadata": {
        "id": "43bLjvdnfGdq",
        "colab_type": "code",
        "colab": {
          "base_uri": "https://localhost:8080/",
          "height": 501
        },
        "outputId": "7a14ddfc-a891-4482-d4eb-9785f590e0e3"
      },
      "source": [
        "model_evaluate(ifo1, X_test, y_test1)"
      ],
      "execution_count": 362,
      "outputs": [
        {
          "output_type": "stream",
          "text": [
            "/usr/local/lib/python3.6/dist-packages/sklearn/ensemble/iforest.py:415: DeprecationWarning: threshold_ attribute is deprecated in 0.20 and will be removed in 0.22.\n",
            "  \" be removed in 0.22.\", DeprecationWarning)\n"
          ],
          "name": "stderr"
        },
        {
          "output_type": "stream",
          "text": [
            "time :  0.4629042148590088\n",
            "accuracy :  0.9593\n",
            "sensitivity :  0.22264150943396227\n",
            "specifity :  0.9793528505392912\n",
            "precision :  0.22692307692307692\n",
            "recall :  0.22264150943396227\n",
            "f1 score :  0.22476190476190475\n",
            "Confusion matrix\n",
            "TP =  59 FP =  201 FN =  206 TN =  9534\n"
          ],
          "name": "stdout"
        },
        {
          "output_type": "display_data",
          "data": {
            "image/png": "[encoded data removed]",
            "text/plain": [
              "<Figure size 576x288 with 2 Axes>"
            ]
          },
          "metadata": {
            "tags": []
          }
        }
      ]
    },
    {
      "cell_type": "code",
      "metadata": {
        "id": "T3fJxQbGfV_O",
        "colab_type": "code",
        "colab": {}
      },
      "source": [
        ""
      ],
      "execution_count": 0,
      "outputs": []
    },
    {
      "cell_type": "code",
      "metadata": {
        "id": "aL-q8k2Vfh7Y",
        "colab_type": "code",
        "colab": {}
      },
      "source": [
        "from sklearn.preprocessing import Normalizer, MinMaxScaler\n",
        "from sklearn.cluster import KMeans\n",
        "scaler = MinMaxScaler()"
      ],
      "execution_count": 0,
      "outputs": []
    },
    {
      "cell_type": "code",
      "metadata": {
        "id": "7pNuL3hffhkY",
        "colab_type": "code",
        "colab": {}
      },
      "source": [
        "kmeans_data = scaler.fit_transform(X_train)\n",
        "pca=PCA(n_components=2).fit(kmeans_data)\n",
        "pca2dkmeans = pca.transform(kmeans_data)"
      ],
      "execution_count": 0,
      "outputs": []
    },
    {
      "cell_type": "code",
      "metadata": {
        "id": "vJzil1U4gF7B",
        "colab_type": "code",
        "colab": {}
      },
      "source": [
        "kmeans_cc = KMeans(n_clusters=2, random_state=1).fit(kmeans_data)"
      ],
      "execution_count": 0,
      "outputs": []
    },
    {
      "cell_type": "code",
      "metadata": {
        "id": "4jBgGHs_gOqS",
        "colab_type": "code",
        "colab": {}
      },
      "source": [
        "X_kmeans = X_train.copy()\n",
        "X_kmeans['cluster'] = kmeans_cc.labels_\n",
        "\n",
        "ytrain_km = y_train.copy()\n",
        "ytrain_km['cluster'] = kmeans_cc.labels_"
      ],
      "execution_count": 0,
      "outputs": []
    },
    {
      "cell_type": "code",
      "metadata": {
        "id": "NHAPFVaygcO5",
        "colab_type": "code",
        "colab": {
          "base_uri": "https://localhost:8080/",
          "height": 514
        },
        "outputId": "efc59de9-3a74-4936-d23c-c6817fc764a5"
      },
      "source": [
        "plt.figure(figsize=(10, 8))\n",
        "plt.scatter(pca2dkmeans[:,0], pca2dkmeans[:,1], c=X_kmeans['cluster'], cmap='Spectral')"
      ],
      "execution_count": 367,
      "outputs": [
        {
          "output_type": "execute_result",
          "data": {
            "text/plain": [
              "<matplotlib.collections.PathCollection at 0x7fdb1b147b00>"
            ]
          },
          "metadata": {
            "tags": []
          },
          "execution_count": 367
        },
        {
          "output_type": "display_data",
          "data": {
            "image/png": "[encoded data removed]",
            "text/plain": [
              "<Figure size 720x576 with 1 Axes>"
            ]
          },
          "metadata": {
            "tags": []
          }
        }
      ]
    },
    {
      "cell_type": "code",
      "metadata": {
        "id": "ebB5rvrege2Q",
        "colab_type": "code",
        "colab": {}
      },
      "source": [
        "clust1 = X_kmeans.loc[X_kmeans['cluster']==0]\n",
        "y1 = ytrain_km.loc[ytrain_km['cluster']==0]\n",
        "# y_c1 = y1.drop(['cluster'], axis=1)\n",
        "clus1=clust1.drop(['cluster'], axis=1)\n",
        "\n",
        "clust2 = X_kmeans.loc[X_kmeans['cluster']==1]\n",
        "y2 = ytrain_km.loc[ytrain_km['cluster']==1]\n",
        "# y_c2 = y2.drop(['cluster'], axis=1)\n",
        "clus2=clust2.drop(['cluster'], axis=1)"
      ],
      "execution_count": 0,
      "outputs": []
    },
    {
      "cell_type": "code",
      "metadata": {
        "id": "OO7PPwixgyIk",
        "colab_type": "code",
        "colab": {}
      },
      "source": [
        ""
      ],
      "execution_count": 0,
      "outputs": []
    },
    {
      "cell_type": "markdown",
      "metadata": {
        "id": "tlynQlNkg6Lm",
        "colab_type": "text"
      },
      "source": [
        "## Cluster 1"
      ]
    },
    {
      "cell_type": "code",
      "metadata": {
        "id": "vf2x3Z0Jgz-V",
        "colab_type": "code",
        "colab": {
          "base_uri": "https://localhost:8080/",
          "height": 35
        },
        "outputId": "21ac7285-8faf-4afd-f231-c6d31db192bf"
      },
      "source": [
        "len(clus1)"
      ],
      "execution_count": 369,
      "outputs": [
        {
          "output_type": "execute_result",
          "data": {
            "text/plain": [
              "44523"
            ]
          },
          "metadata": {
            "tags": []
          },
          "execution_count": 369
        }
      ]
    },
    {
      "cell_type": "code",
      "metadata": {
        "id": "BomAvzpehFIn",
        "colab_type": "code",
        "colab": {
          "base_uri": "https://localhost:8080/",
          "height": 35
        },
        "outputId": "1a17d917-c83a-4e9a-8a87-7b19b90a747d"
      },
      "source": [
        "aby1_train = y1.loc[y1==1]\n",
        "print('ab train=',len(aby1_train))"
      ],
      "execution_count": 370,
      "outputs": [
        {
          "output_type": "stream",
          "text": [
            "ab train= 1010\n"
          ],
          "name": "stdout"
        }
      ]
    },
    {
      "cell_type": "code",
      "metadata": {
        "id": "3-Lp-SoZhKBP",
        "colab_type": "code",
        "colab": {
          "base_uri": "https://localhost:8080/",
          "height": 35
        },
        "outputId": "035235ca-b752-49b1-f6f2-bb6d280f5a5a"
      },
      "source": [
        "th1_train= len(aby1_train)/len(y1)\n",
        "# th1_test= len(aby1_test)/len(X1_test)\n",
        "print('th train=',th1_train)"
      ],
      "execution_count": 371,
      "outputs": [
        {
          "output_type": "stream",
          "text": [
            "th train= 0.02268490443141747\n"
          ],
          "name": "stdout"
        }
      ]
    },
    {
      "cell_type": "code",
      "metadata": {
        "id": "BylAPrIQhNK6",
        "colab_type": "code",
        "colab": {
          "base_uri": "https://localhost:8080/",
          "height": 74
        },
        "outputId": "d5ca35bb-cca1-4a0c-fb42-5bdfa5ad5c3a"
      },
      "source": [
        "ifoc1 = iForest(clus1, nTree, sample, th_train)"
      ],
      "execution_count": 372,
      "outputs": [
        {
          "output_type": "stream",
          "text": [
            "/usr/local/lib/python3.6/dist-packages/sklearn/ensemble/iforest.py:247: FutureWarning: behaviour=\"old\" is deprecated and will be removed in version 0.22. Please use behaviour=\"new\", which makes the decision_function change to match other anomaly detection algorithm API.\n",
            "  FutureWarning)\n"
          ],
          "name": "stderr"
        }
      ]
    },
    {
      "cell_type": "code",
      "metadata": {
        "id": "kvlK8j87hRCm",
        "colab_type": "code",
        "colab": {
          "base_uri": "https://localhost:8080/",
          "height": 501
        },
        "outputId": "8bf25597-bdf4-4b9a-82fe-307fa80f5616"
      },
      "source": [
        "model_evaluate(ifoc1, X_val, y_val1)"
      ],
      "execution_count": 373,
      "outputs": [
        {
          "output_type": "stream",
          "text": [
            "/usr/local/lib/python3.6/dist-packages/sklearn/ensemble/iforest.py:415: DeprecationWarning: threshold_ attribute is deprecated in 0.20 and will be removed in 0.22.\n",
            "  \" be removed in 0.22.\", DeprecationWarning)\n"
          ],
          "name": "stderr"
        },
        {
          "output_type": "stream",
          "text": [
            "time :  0.43187975883483887\n",
            "accuracy :  0.9598\n",
            "sensitivity :  0.26037735849056604\n",
            "specifity :  0.978839239856189\n",
            "precision :  0.2509090909090909\n",
            "recall :  0.26037735849056604\n",
            "f1 score :  0.25555555555555554\n",
            "Confusion matrix\n",
            "TP =  69 FP =  206 FN =  196 TN =  9529\n"
          ],
          "name": "stdout"
        },
        {
          "output_type": "display_data",
          "data": {
            "image/png": "[encoded data removed]",
            "text/plain": [
              "<Figure size 576x288 with 2 Axes>"
            ]
          },
          "metadata": {
            "tags": []
          }
        }
      ]
    },
    {
      "cell_type": "code",
      "metadata": {
        "id": "lsnwN_lqhUKQ",
        "colab_type": "code",
        "colab": {
          "base_uri": "https://localhost:8080/",
          "height": 501
        },
        "outputId": "d275cdd3-1d3c-4131-fc6e-352aed83814f"
      },
      "source": [
        "model_evaluate(ifoc1, X_test, y_test1)"
      ],
      "execution_count": 374,
      "outputs": [
        {
          "output_type": "stream",
          "text": [
            "/usr/local/lib/python3.6/dist-packages/sklearn/ensemble/iforest.py:415: DeprecationWarning: threshold_ attribute is deprecated in 0.20 and will be removed in 0.22.\n",
            "  \" be removed in 0.22.\", DeprecationWarning)\n"
          ],
          "name": "stderr"
        },
        {
          "output_type": "stream",
          "text": [
            "time :  0.43019628524780273\n",
            "accuracy :  0.9575\n",
            "sensitivity :  0.21509433962264152\n",
            "specifity :  0.9777092963533641\n",
            "precision :  0.20802919708029197\n",
            "recall :  0.21509433962264152\n",
            "f1 score :  0.21150278293135438\n",
            "Confusion matrix\n",
            "TP =  57 FP =  217 FN =  208 TN =  9518\n"
          ],
          "name": "stdout"
        },
        {
          "output_type": "display_data",
          "data": {
            "image/png": "[encoded data removed]",
            "text/plain": [
              "<Figure size 576x288 with 2 Axes>"
            ]
          },
          "metadata": {
            "tags": []
          }
        }
      ]
    },
    {
      "cell_type": "markdown",
      "metadata": {
        "id": "dbBXRskLhiuE",
        "colab_type": "text"
      },
      "source": [
        "## Cluster 2"
      ]
    },
    {
      "cell_type": "code",
      "metadata": {
        "id": "UQdQxfa1hbFG",
        "colab_type": "code",
        "colab": {
          "base_uri": "https://localhost:8080/",
          "height": 35
        },
        "outputId": "4b00f0e9-a8b3-47a8-dd10-cbab7b088df6"
      },
      "source": [
        "len(clus2)"
      ],
      "execution_count": 375,
      "outputs": [
        {
          "output_type": "execute_result",
          "data": {
            "text/plain": [
              "35477"
            ]
          },
          "metadata": {
            "tags": []
          },
          "execution_count": 375
        }
      ]
    },
    {
      "cell_type": "code",
      "metadata": {
        "id": "gklthfC-hn1_",
        "colab_type": "code",
        "colab": {
          "base_uri": "https://localhost:8080/",
          "height": 35
        },
        "outputId": "c96b54d9-ff37-4836-f972-f34b7caf0d8a"
      },
      "source": [
        "aby2_train = y2.loc[y2==1]\n",
        "# aby2_test = y2_test[y2_test==1]\n",
        "print('ab train=',len(aby2_train))"
      ],
      "execution_count": 376,
      "outputs": [
        {
          "output_type": "stream",
          "text": [
            "ab train= 1114\n"
          ],
          "name": "stdout"
        }
      ]
    },
    {
      "cell_type": "code",
      "metadata": {
        "id": "pMMivQhwhqW4",
        "colab_type": "code",
        "colab": {
          "base_uri": "https://localhost:8080/",
          "height": 35
        },
        "outputId": "c140e5e5-6789-494b-c800-c4be1ad1b03d"
      },
      "source": [
        "th2_train= len(aby2_train)/len(clus2)\n",
        "# th2_test= len(aby2_test)/len(X2_test)\n",
        "print('th train=',th2_train)"
      ],
      "execution_count": 377,
      "outputs": [
        {
          "output_type": "stream",
          "text": [
            "th train= 0.03140062575753305\n"
          ],
          "name": "stdout"
        }
      ]
    },
    {
      "cell_type": "code",
      "metadata": {
        "id": "IhfH7VCThuf-",
        "colab_type": "code",
        "colab": {
          "base_uri": "https://localhost:8080/",
          "height": 74
        },
        "outputId": "47fbd714-5382-44c8-f5bb-bf991924f694"
      },
      "source": [
        "ifoc2 = iForest(clus2,nTree,sample,th_train)"
      ],
      "execution_count": 378,
      "outputs": [
        {
          "output_type": "stream",
          "text": [
            "/usr/local/lib/python3.6/dist-packages/sklearn/ensemble/iforest.py:247: FutureWarning: behaviour=\"old\" is deprecated and will be removed in version 0.22. Please use behaviour=\"new\", which makes the decision_function change to match other anomaly detection algorithm API.\n",
            "  FutureWarning)\n"
          ],
          "name": "stderr"
        }
      ]
    },
    {
      "cell_type": "code",
      "metadata": {
        "id": "JPu0Q_ghhzDF",
        "colab_type": "code",
        "colab": {
          "base_uri": "https://localhost:8080/",
          "height": 501
        },
        "outputId": "86e90bcc-a68c-4c9e-9a3b-dd3f8b0237b3"
      },
      "source": [
        "model_evaluate(ifoc2, X_val, y_val1)"
      ],
      "execution_count": 379,
      "outputs": [
        {
          "output_type": "stream",
          "text": [
            "/usr/local/lib/python3.6/dist-packages/sklearn/ensemble/iforest.py:415: DeprecationWarning: threshold_ attribute is deprecated in 0.20 and will be removed in 0.22.\n",
            "  \" be removed in 0.22.\", DeprecationWarning)\n"
          ],
          "name": "stderr"
        },
        {
          "output_type": "stream",
          "text": [
            "time :  0.43332481384277344\n",
            "accuracy :  0.9298\n",
            "sensitivity :  0.3132075471698113\n",
            "specifity :  0.9465844889573704\n",
            "precision :  0.13764510779436154\n",
            "recall :  0.3132075471698113\n",
            "f1 score :  0.19124423963133644\n",
            "Confusion matrix\n",
            "TP =  83 FP =  520 FN =  182 TN =  9215\n"
          ],
          "name": "stdout"
        },
        {
          "output_type": "display_data",
          "data": {
            "image/png": "[encoded data removed]",
            "text/plain": [
              "<Figure size 576x288 with 2 Axes>"
            ]
          },
          "metadata": {
            "tags": []
          }
        }
      ]
    },
    {
      "cell_type": "code",
      "metadata": {
        "id": "l_UBWAsvh1qN",
        "colab_type": "code",
        "colab": {
          "base_uri": "https://localhost:8080/",
          "height": 501
        },
        "outputId": "f330b53c-3d9d-4bb9-9fbe-d4f59cab43ff"
      },
      "source": [
        "model_evaluate(ifoc2, X_test, y_test)"
      ],
      "execution_count": 380,
      "outputs": [
        {
          "output_type": "stream",
          "text": [
            "/usr/local/lib/python3.6/dist-packages/sklearn/ensemble/iforest.py:415: DeprecationWarning: threshold_ attribute is deprecated in 0.20 and will be removed in 0.22.\n",
            "  \" be removed in 0.22.\", DeprecationWarning)\n"
          ],
          "name": "stderr"
        },
        {
          "output_type": "stream",
          "text": [
            "time :  0.4327869415283203\n",
            "accuracy :  0.9282\n",
            "sensitivity :  0.2981132075471698\n",
            "specifity :  0.945351823317925\n",
            "precision :  0.12929623567921442\n",
            "recall :  0.2981132075471698\n",
            "f1 score :  0.18036529680365299\n",
            "Confusion matrix\n",
            "TP =  79 FP =  532 FN =  186 TN =  9203\n"
          ],
          "name": "stdout"
        },
        {
          "output_type": "display_data",
          "data": {
            "image/png": "[encoded data removed]",
            "text/plain": [
              "<Figure size 576x288 with 2 Axes>"
            ]
          },
          "metadata": {
            "tags": []
          }
        }
      ]
    },
    {
      "cell_type": "code",
      "metadata": {
        "id": "aINGfe7ziKH6",
        "colab_type": "code",
        "colab": {}
      },
      "source": [
        ""
      ],
      "execution_count": 0,
      "outputs": []
    }
  ]
}