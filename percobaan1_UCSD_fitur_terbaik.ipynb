{
  "nbformat": 4,
  "nbformat_minor": 0,
  "metadata": {
    "colab": {
      "name": "percobaan1-UCSD-fitur_terbaik.ipynb",
      "version": "0.3.2",
      "provenance": [],
      "collapsed_sections": [
        "VbSMZBtMbLvH",
        "VoSewArKfODM",
        "MmeQbdX9iFJ2",
        "9GkkEbALjLsP",
        "XIhMcq1V7N2l",
        "LrclOfcl8h5C"
      ],
      "include_colab_link": true
    },
    "language_info": {
      "codemirror_mode": {
        "name": "ipython",
        "version": 3
      },
      "file_extension": ".py",
      "mimetype": "text/x-python",
      "name": "python",
      "nbconvert_exporter": "python",
      "pygments_lexer": "ipython3",
      "version": "3.7.2"
    },
    "kernelspec": {
      "display_name": "Python 3",
      "language": "python",
      "name": "python3"
    }
  },
  "cells": [
    {
      "cell_type": "markdown",
      "metadata": {
        "id": "view-in-github",
        "colab_type": "text"
      },
      "source": [
        "<a href=\"https://colab.research.google.com/github/BagusDAriAwan/creditcard-fraud/blob/master/percobaan1_UCSD_fitur_terbaik.ipynb\" target=\"_parent\"><img src=\"https://colab.research.google.com/assets/colab-badge.svg\" alt=\"Open In Colab\"/></a>"
      ]
    },
    {
      "cell_type": "code",
      "metadata": {
        "_cell_guid": "b1076dfc-b9ad-4769-8c92-a6c4dae69d19",
        "_uuid": "8f2839f25d086af736a60e9eeb907d3b93b6e0e5",
        "id": "DA-5b8e13OZn",
        "colab_type": "code",
        "colab": {}
      },
      "source": [
        "# This Python 3 environment comes with many helpful analytics libraries installed\n",
        "# It is defined by the kaggle/python docker image: https://github.com/kaggle/docker-python\n",
        "# For example, here's several helpful packages to load in \n",
        "\n",
        "import numpy as np # linear algebra\n",
        "import pandas as pd # data processing, CSV file I/O (e.g. pd.read_csv)\n",
        "# import os\n",
        "import matplotlib.pyplot as plt\n",
        "import seaborn as sb; sb.set()\n",
        "import math\n",
        "import collections\n",
        "import time\n",
        "# from scipy import stats"
      ],
      "execution_count": 0,
      "outputs": []
    },
    {
      "cell_type": "code",
      "metadata": {
        "id": "azmkMNcG1QvY",
        "colab_type": "code",
        "outputId": "0b5c5f07-789c-45fd-9ca2-0899a494a5e5",
        "colab": {
          "base_uri": "https://localhost:8080/",
          "height": 55
        }
      },
      "source": [
        "from google.colab import drive\n",
        "drive.mount('/content/drive')"
      ],
      "execution_count": 455,
      "outputs": [
        {
          "output_type": "stream",
          "text": [
            "Drive already mounted at /content/drive; to attempt to forcibly remount, call drive.mount(\"/content/drive\", force_remount=True).\n"
          ],
          "name": "stdout"
        }
      ]
    },
    {
      "cell_type": "code",
      "metadata": {
        "_cell_guid": "79c7e3d0-c299-4dcb-8224-4455121ee9b0",
        "_uuid": "d629ff2d2480ee46fbb7e2d37f6b5fab8052498a",
        "id": "dlNO6PTS3OZr",
        "colab_type": "code",
        "colab": {}
      },
      "source": [
        "# %matplotlib inline\n",
        "# from IPython.display import display\n",
        "# from sklearn import metrics\n",
        "# from sklearn.model_selection import train_test_split\n",
        "# from sklearn.metrics import mean_squared_error\n",
        "# from statistics import stdev\n",
        "\n",
        "from sklearn import tree\n",
        "\n",
        "from IPython.display import Image  \n",
        "from sklearn.externals.six import StringIO  \n",
        "import pydotplus"
      ],
      "execution_count": 0,
      "outputs": []
    },
    {
      "cell_type": "code",
      "metadata": {
        "id": "6nu2Fi203OZu",
        "colab_type": "code",
        "colab": {}
      },
      "source": [
        "# np.random.seed(1)"
      ],
      "execution_count": 0,
      "outputs": []
    },
    {
      "cell_type": "code",
      "metadata": {
        "id": "IXbdF63H3OZw",
        "colab_type": "code",
        "colab": {}
      },
      "source": [
        "def confussion_matrik(actual,predict):\n",
        "    TP,FP,FN,TN = 0,0,0,0\n",
        "    for i,val in enumerate(actual):\n",
        "        if val == 0:\n",
        "            if val == predict[i]:\n",
        "                TN += 1\n",
        "            else:\n",
        "                FP += 1\n",
        "        if val == 1:\n",
        "            if val == predict[i]:\n",
        "                TP += 1\n",
        "            else:\n",
        "                FN += 1\n",
        "    return TP,FP,FN,TN\n",
        " \n",
        "def acc_sens_spec(actual,predict):\n",
        "    TP,FP,FN,TN = confussion_matrik(actual,predict)\n",
        "# akurasi\n",
        "    if (TP+FP+FN+TN) == 0 :\n",
        "        accuracy = 0 \n",
        "    else :\n",
        "        accuracy = (TP+TN)/(TP+FP+FN+TN)\n",
        "        \n",
        "# sensitivity\n",
        "    if (TP+FN) == 0 :\n",
        "        sensitivity = 0\n",
        "    else :\n",
        "        sensitivity = TP/(TP+FN)\n",
        "        \n",
        "# specifity    \n",
        "    if (TN +FP) == 0 :\n",
        "        specifity = 0\n",
        "    else :\n",
        "        specifity = TN/(TN +FP)\n",
        "        \n",
        "# precision\n",
        "    if (TP+FP) == 0 :\n",
        "        precision = 0\n",
        "    else :\n",
        "        precision = TP/(TP+FP)\n",
        "\n",
        "# recall\n",
        "    recall = sensitivity\n",
        "\n",
        "# f1_score\n",
        "    if (precision+recall) == 0 :\n",
        "        f1_score = 0\n",
        "    else :\n",
        "        f1_score = 2*((precision*recall)/(precision+recall))  \n",
        "    \n",
        "    return accuracy,sensitivity,specifity,precision,recall,f1_score\n"
      ],
      "execution_count": 0,
      "outputs": []
    },
    {
      "cell_type": "code",
      "metadata": {
        "id": "1o5GLZ4iz8S9",
        "colab_type": "code",
        "colab": {}
      },
      "source": [
        "def convert(y):\n",
        "    for i in range(y.shape[0]):\n",
        "        if y[i]==-1:\n",
        "            y[i]=1;\n",
        "        else:\n",
        "            y[i]=0\n",
        "    return y"
      ],
      "execution_count": 0,
      "outputs": []
    },
    {
      "cell_type": "code",
      "metadata": {
        "id": "PJRIgaWu3OZz",
        "colab_type": "code",
        "colab": {}
      },
      "source": [
        "from sklearn.ensemble import IsolationForest\n",
        "def iForest(X, ntree, sample, th):\n",
        "    ifor = IsolationForest(n_estimators=ntree, max_samples=sample, contamination=th, random_state=1)\n",
        "#     ifor = IsolationForest(n_estimators=100, max_samples='auto', contamination=0.0039, max_features=1.0, random_state=42, verbose=0)\n",
        "    ifor.fit(X)\n",
        "    return ifor"
      ],
      "execution_count": 0,
      "outputs": []
    },
    {
      "cell_type": "code",
      "metadata": {
        "id": "VjDccmJj3OZ3",
        "colab_type": "code",
        "colab": {}
      },
      "source": [
        "# accuracy,sensitivity,specifity = acc_sens_spec(y,pred)\n",
        "# print('acc',accuracy)\n",
        "# print('sens',sensitivity)\n",
        "# print('spec',specifity)"
      ],
      "execution_count": 0,
      "outputs": []
    },
    {
      "cell_type": "code",
      "metadata": {
        "scrolled": true,
        "id": "KJOxP5wX3OZ5",
        "colab_type": "code",
        "colab": {}
      },
      "source": [
        "# accuracy_metric(y,RF.predict(X))"
      ],
      "execution_count": 0,
      "outputs": []
    },
    {
      "cell_type": "code",
      "metadata": {
        "id": "yXcyImFV3OZ_",
        "colab_type": "code",
        "colab": {}
      },
      "source": [
        "from sklearn.decomposition import PCA\n",
        "import pylab as pl\n",
        "def plot_this(X_rs,y_rs,method):\n",
        "  # Use principal component to condense the 10 features to 2 features\n",
        "  pca = PCA(n_components=2).fit(X_rs)\n",
        "  pca_2d = pca.transform(X_rs)\n",
        "  # Assign colors\n",
        "  for i in range(0, pca_2d.shape[0]):\n",
        "    if y_rs[i] == 0:\n",
        "      c1 = pl.scatter(pca_2d[i,0],pca_2d[i,1],c='r', marker='o')\n",
        "    elif y_rs[i] == 1:\n",
        "      c2 = pl.scatter(pca_2d[i,0],pca_2d[i,1],c='g', marker='*')  \n",
        "  pl.legend([c1, c2], ['Class 1', 'Class 2'])\n",
        "  pl.title(method)\n",
        "  pl.axis([-4, 5, -4, 4])  # x axis (-4,5), y axis (-4,4)\n",
        "  pl.show()\n",
        "    \n"
      ],
      "execution_count": 0,
      "outputs": []
    },
    {
      "cell_type": "code",
      "metadata": {
        "id": "p4GMF9Fx0LSk",
        "colab_type": "code",
        "colab": {}
      },
      "source": [
        "def model_evaluate(ifor,X,y):\n",
        "    ts = time.time()\n",
        "    y_pred=ifor.predict(X)\n",
        "    tf = time.time()\n",
        "    print('time : ', tf-ts)\n",
        "    y_pred=convert(y_pred)\n",
        "    \n",
        "    accuracy,sensitivity,specifity,precision,recall,f1_score = acc_sens_spec(y,y_pred)\n",
        "    print('accuracy : ',accuracy)\n",
        "    print('sensitivity : ',sensitivity)\n",
        "    print('specifity : ', specifity)\n",
        "    print('precision : ',precision)\n",
        "    print('recall : ',recall)\n",
        "    print('f1 score : ',f1_score)\n",
        "    print('Confusion matrix')\n",
        "    TP,FP,FN,TN = confussion_matrik(y,y_pred)\n",
        "    print('TP = ',TP,'FP = ',FP,'FN = ',FN,'TN = ',TN)\n",
        "    df_cm = pd.DataFrame([[TN,FP],[FN,TP]],\n",
        "                  ['True Normal','True Fraud'],['Pred Normal','Pred Fraud'])\n",
        "    plt.figure(figsize = (8,4))\n",
        "    sb.set(font_scale=1.4)#for label size\n",
        "    sb.heatmap(df_cm, annot=True,annot_kws={\"size\": 16},fmt='g')# font size"
      ],
      "execution_count": 0,
      "outputs": []
    },
    {
      "cell_type": "code",
      "metadata": {
        "id": "t9BKBefu0RaS",
        "colab_type": "code",
        "colab": {}
      },
      "source": [
        "def eval_model(ifor,X,y):\n",
        "#     ts = time.time()\n",
        "    y_pred=ifor.predict(X)\n",
        "#     tf = time.time()\n",
        "    y_pred=convert(y_pred)\n",
        "    accuracy,sensitivity,specifity,precision,recall,f1_score = acc_sens_spec(y,y_pred)\n",
        "    return accuracy,sensitivity,specifity,precision,recall,f1_score"
      ],
      "execution_count": 0,
      "outputs": []
    },
    {
      "cell_type": "markdown",
      "metadata": {
        "colab_type": "text",
        "id": "vTWcH7zFzgSq"
      },
      "source": [
        "## ---------"
      ]
    },
    {
      "cell_type": "code",
      "metadata": {
        "colab_type": "code",
        "id": "JugsK2HIzgSl",
        "colab": {}
      },
      "source": [
        "df=pd.read_csv(\"drive/My Drive/Colab Notebooks/UCSD/ucsdInputs.csv\")\n",
        "df['Class']=pd.read_csv(\"drive/My Drive/Colab Notebooks/UCSD/ucsdTargets.csv\", header = None)"
      ],
      "execution_count": 0,
      "outputs": []
    },
    {
      "cell_type": "code",
      "metadata": {
        "colab_type": "code",
        "outputId": "b1a46aad-8180-4965-ab7e-3599aed41b71",
        "id": "BeCExYtrzgSd",
        "colab": {
          "base_uri": "https://localhost:8080/",
          "height": 226
        }
      },
      "source": [
        "df.head()"
      ],
      "execution_count": 467,
      "outputs": [
        {
          "output_type": "execute_result",
          "data": {
            "text/html": [
              "<div>\n",
              "<style scoped>\n",
              "    .dataframe tbody tr th:only-of-type {\n",
              "        vertical-align: middle;\n",
              "    }\n",
              "\n",
              "    .dataframe tbody tr th {\n",
              "        vertical-align: top;\n",
              "    }\n",
              "\n",
              "    .dataframe thead th {\n",
              "        text-align: right;\n",
              "    }\n",
              "</style>\n",
              "<table border=\"1\" class=\"dataframe\">\n",
              "  <thead>\n",
              "    <tr style=\"text-align: right;\">\n",
              "      <th></th>\n",
              "      <th>amount</th>\n",
              "      <th>hour1</th>\n",
              "      <th>state1</th>\n",
              "      <th>zip1</th>\n",
              "      <th>custAttr1</th>\n",
              "      <th>field1</th>\n",
              "      <th>custAttr2</th>\n",
              "      <th>field2</th>\n",
              "      <th>hour2</th>\n",
              "      <th>flag1</th>\n",
              "      <th>total</th>\n",
              "      <th>field3</th>\n",
              "      <th>field4</th>\n",
              "      <th>indicator1</th>\n",
              "      <th>indicator2</th>\n",
              "      <th>flag2</th>\n",
              "      <th>flag3</th>\n",
              "      <th>flag4</th>\n",
              "      <th>flag5</th>\n",
              "      <th>Class</th>\n",
              "    </tr>\n",
              "  </thead>\n",
              "  <tbody>\n",
              "    <tr>\n",
              "      <th>0</th>\n",
              "      <td>12.95</td>\n",
              "      <td>0</td>\n",
              "      <td>WA</td>\n",
              "      <td>986</td>\n",
              "      <td>1234567890123456</td>\n",
              "      <td>0</td>\n",
              "      <td>luhxsodzmjhng7@comcast.net</td>\n",
              "      <td>0</td>\n",
              "      <td>0</td>\n",
              "      <td>0</td>\n",
              "      <td>12.95</td>\n",
              "      <td>-723</td>\n",
              "      <td>19</td>\n",
              "      <td>0</td>\n",
              "      <td>0</td>\n",
              "      <td>0</td>\n",
              "      <td>0</td>\n",
              "      <td>0</td>\n",
              "      <td>1</td>\n",
              "      <td>0</td>\n",
              "    </tr>\n",
              "    <tr>\n",
              "      <th>1</th>\n",
              "      <td>38.85</td>\n",
              "      <td>0</td>\n",
              "      <td>WA</td>\n",
              "      <td>980</td>\n",
              "      <td>1234567890123457</td>\n",
              "      <td>3</td>\n",
              "      <td>pfixyiqfpvkcg@zjyxs.net</td>\n",
              "      <td>1</td>\n",
              "      <td>0</td>\n",
              "      <td>0</td>\n",
              "      <td>38.85</td>\n",
              "      <td>5497</td>\n",
              "      <td>14</td>\n",
              "      <td>1</td>\n",
              "      <td>0</td>\n",
              "      <td>0</td>\n",
              "      <td>1</td>\n",
              "      <td>0</td>\n",
              "      <td>1</td>\n",
              "      <td>0</td>\n",
              "    </tr>\n",
              "    <tr>\n",
              "      <th>2</th>\n",
              "      <td>38.85</td>\n",
              "      <td>0</td>\n",
              "      <td>KY</td>\n",
              "      <td>402</td>\n",
              "      <td>1234567890123458</td>\n",
              "      <td>2</td>\n",
              "      <td>shbjoldciswwm@aol.com</td>\n",
              "      <td>1</td>\n",
              "      <td>0</td>\n",
              "      <td>0</td>\n",
              "      <td>38.85</td>\n",
              "      <td>-4420</td>\n",
              "      <td>23</td>\n",
              "      <td>0</td>\n",
              "      <td>0</td>\n",
              "      <td>1</td>\n",
              "      <td>1</td>\n",
              "      <td>0</td>\n",
              "      <td>1</td>\n",
              "      <td>0</td>\n",
              "    </tr>\n",
              "    <tr>\n",
              "      <th>3</th>\n",
              "      <td>12.95</td>\n",
              "      <td>0</td>\n",
              "      <td>CA</td>\n",
              "      <td>958</td>\n",
              "      <td>1234567890123459</td>\n",
              "      <td>3</td>\n",
              "      <td>ipbvtdfkhhfws@sbcglobal.net</td>\n",
              "      <td>0</td>\n",
              "      <td>0</td>\n",
              "      <td>0</td>\n",
              "      <td>12.95</td>\n",
              "      <td>5010</td>\n",
              "      <td>31</td>\n",
              "      <td>0</td>\n",
              "      <td>0</td>\n",
              "      <td>1</td>\n",
              "      <td>0</td>\n",
              "      <td>0</td>\n",
              "      <td>1</td>\n",
              "      <td>0</td>\n",
              "    </tr>\n",
              "    <tr>\n",
              "      <th>4</th>\n",
              "      <td>38.85</td>\n",
              "      <td>0</td>\n",
              "      <td>GA</td>\n",
              "      <td>300</td>\n",
              "      <td>1234567890123460</td>\n",
              "      <td>3</td>\n",
              "      <td>ivfuvxiennhdp@bellsouth.net</td>\n",
              "      <td>1</td>\n",
              "      <td>0</td>\n",
              "      <td>0</td>\n",
              "      <td>38.85</td>\n",
              "      <td>-4074</td>\n",
              "      <td>21</td>\n",
              "      <td>0</td>\n",
              "      <td>0</td>\n",
              "      <td>1</td>\n",
              "      <td>0</td>\n",
              "      <td>0</td>\n",
              "      <td>1</td>\n",
              "      <td>0</td>\n",
              "    </tr>\n",
              "  </tbody>\n",
              "</table>\n",
              "</div>"
            ],
            "text/plain": [
              "   amount  hour1 state1  zip1  ...  flag3  flag4 flag5  Class\n",
              "0   12.95      0     WA   986  ...      0      0     1      0\n",
              "1   38.85      0     WA   980  ...      1      0     1      0\n",
              "2   38.85      0     KY   402  ...      1      0     1      0\n",
              "3   12.95      0     CA   958  ...      0      0     1      0\n",
              "4   38.85      0     GA   300  ...      0      0     1      0\n",
              "\n",
              "[5 rows x 20 columns]"
            ]
          },
          "metadata": {
            "tags": []
          },
          "execution_count": 467
        }
      ]
    },
    {
      "cell_type": "code",
      "metadata": {
        "colab_type": "code",
        "outputId": "a7fbe019-94f4-45c5-84a6-bc0e2f41e390",
        "id": "5P8EetGrzgSX",
        "colab": {
          "base_uri": "https://localhost:8080/",
          "height": 226
        }
      },
      "source": [
        "df.tail()"
      ],
      "execution_count": 468,
      "outputs": [
        {
          "output_type": "execute_result",
          "data": {
            "text/html": [
              "<div>\n",
              "<style scoped>\n",
              "    .dataframe tbody tr th:only-of-type {\n",
              "        vertical-align: middle;\n",
              "    }\n",
              "\n",
              "    .dataframe tbody tr th {\n",
              "        vertical-align: top;\n",
              "    }\n",
              "\n",
              "    .dataframe thead th {\n",
              "        text-align: right;\n",
              "    }\n",
              "</style>\n",
              "<table border=\"1\" class=\"dataframe\">\n",
              "  <thead>\n",
              "    <tr style=\"text-align: right;\">\n",
              "      <th></th>\n",
              "      <th>amount</th>\n",
              "      <th>hour1</th>\n",
              "      <th>state1</th>\n",
              "      <th>zip1</th>\n",
              "      <th>custAttr1</th>\n",
              "      <th>field1</th>\n",
              "      <th>custAttr2</th>\n",
              "      <th>field2</th>\n",
              "      <th>hour2</th>\n",
              "      <th>flag1</th>\n",
              "      <th>total</th>\n",
              "      <th>field3</th>\n",
              "      <th>field4</th>\n",
              "      <th>indicator1</th>\n",
              "      <th>indicator2</th>\n",
              "      <th>flag2</th>\n",
              "      <th>flag3</th>\n",
              "      <th>flag4</th>\n",
              "      <th>flag5</th>\n",
              "      <th>Class</th>\n",
              "    </tr>\n",
              "  </thead>\n",
              "  <tbody>\n",
              "    <tr>\n",
              "      <th>99995</th>\n",
              "      <td>31.08</td>\n",
              "      <td>14</td>\n",
              "      <td>GA</td>\n",
              "      <td>313</td>\n",
              "      <td>1234567890197181</td>\n",
              "      <td>2</td>\n",
              "      <td>owdybxinfiqla@ucxhcpouwmc.net</td>\n",
              "      <td>0</td>\n",
              "      <td>14</td>\n",
              "      <td>1</td>\n",
              "      <td>31.08</td>\n",
              "      <td>-8044</td>\n",
              "      <td>10</td>\n",
              "      <td>0</td>\n",
              "      <td>0</td>\n",
              "      <td>0</td>\n",
              "      <td>0</td>\n",
              "      <td>0</td>\n",
              "      <td>1</td>\n",
              "      <td>0</td>\n",
              "    </tr>\n",
              "    <tr>\n",
              "      <th>99996</th>\n",
              "      <td>49.95</td>\n",
              "      <td>14</td>\n",
              "      <td>LA</td>\n",
              "      <td>704</td>\n",
              "      <td>1234567890197182</td>\n",
              "      <td>0</td>\n",
              "      <td>vnmhghmwnxhso@xnzysnub.com</td>\n",
              "      <td>0</td>\n",
              "      <td>14</td>\n",
              "      <td>0</td>\n",
              "      <td>49.95</td>\n",
              "      <td>393</td>\n",
              "      <td>18</td>\n",
              "      <td>1</td>\n",
              "      <td>0</td>\n",
              "      <td>1</td>\n",
              "      <td>0</td>\n",
              "      <td>0</td>\n",
              "      <td>1</td>\n",
              "      <td>0</td>\n",
              "    </tr>\n",
              "    <tr>\n",
              "      <th>99997</th>\n",
              "      <td>11.01</td>\n",
              "      <td>14</td>\n",
              "      <td>NY</td>\n",
              "      <td>117</td>\n",
              "      <td>1234567890196488</td>\n",
              "      <td>3</td>\n",
              "      <td>uphjcxjkubtrw@aol.com</td>\n",
              "      <td>1</td>\n",
              "      <td>14</td>\n",
              "      <td>1</td>\n",
              "      <td>11.01</td>\n",
              "      <td>4261</td>\n",
              "      <td>11</td>\n",
              "      <td>0</td>\n",
              "      <td>0</td>\n",
              "      <td>1</td>\n",
              "      <td>1</td>\n",
              "      <td>0</td>\n",
              "      <td>1</td>\n",
              "      <td>0</td>\n",
              "    </tr>\n",
              "    <tr>\n",
              "      <th>99998</th>\n",
              "      <td>12.95</td>\n",
              "      <td>14</td>\n",
              "      <td>VA</td>\n",
              "      <td>245</td>\n",
              "      <td>1234567890197183</td>\n",
              "      <td>3</td>\n",
              "      <td>sasmynlsqebdv65@aol.com</td>\n",
              "      <td>1</td>\n",
              "      <td>14</td>\n",
              "      <td>0</td>\n",
              "      <td>12.95</td>\n",
              "      <td>515</td>\n",
              "      <td>21</td>\n",
              "      <td>0</td>\n",
              "      <td>0</td>\n",
              "      <td>0</td>\n",
              "      <td>0</td>\n",
              "      <td>0</td>\n",
              "      <td>1</td>\n",
              "      <td>0</td>\n",
              "    </tr>\n",
              "    <tr>\n",
              "      <th>99999</th>\n",
              "      <td>12.95</td>\n",
              "      <td>14</td>\n",
              "      <td>TN</td>\n",
              "      <td>372</td>\n",
              "      <td>1234567890197184</td>\n",
              "      <td>3</td>\n",
              "      <td>kvclngihgwldo@yahoo.com</td>\n",
              "      <td>1</td>\n",
              "      <td>14</td>\n",
              "      <td>0</td>\n",
              "      <td>12.95</td>\n",
              "      <td>4229</td>\n",
              "      <td>22</td>\n",
              "      <td>0</td>\n",
              "      <td>0</td>\n",
              "      <td>0</td>\n",
              "      <td>1</td>\n",
              "      <td>0</td>\n",
              "      <td>1</td>\n",
              "      <td>0</td>\n",
              "    </tr>\n",
              "  </tbody>\n",
              "</table>\n",
              "</div>"
            ],
            "text/plain": [
              "       amount  hour1 state1  zip1  ...  flag3  flag4 flag5  Class\n",
              "99995   31.08     14     GA   313  ...      0      0     1      0\n",
              "99996   49.95     14     LA   704  ...      0      0     1      0\n",
              "99997   11.01     14     NY   117  ...      1      0     1      0\n",
              "99998   12.95     14     VA   245  ...      0      0     1      0\n",
              "99999   12.95     14     TN   372  ...      1      0     1      0\n",
              "\n",
              "[5 rows x 20 columns]"
            ]
          },
          "metadata": {
            "tags": []
          },
          "execution_count": 468
        }
      ]
    },
    {
      "cell_type": "code",
      "metadata": {
        "colab_type": "code",
        "outputId": "77161bcb-682b-4b46-9ef8-d9f19d7d2d4f",
        "id": "fbvxlziyzgSN",
        "colab": {
          "base_uri": "https://localhost:8080/",
          "height": 476
        }
      },
      "source": [
        "df.info()"
      ],
      "execution_count": 469,
      "outputs": [
        {
          "output_type": "stream",
          "text": [
            "<class 'pandas.core.frame.DataFrame'>\n",
            "RangeIndex: 100000 entries, 0 to 99999\n",
            "Data columns (total 20 columns):\n",
            "amount        100000 non-null float64\n",
            "hour1         100000 non-null int64\n",
            "state1        99999 non-null object\n",
            "zip1          100000 non-null int64\n",
            "custAttr1     100000 non-null int64\n",
            "field1        100000 non-null int64\n",
            "custAttr2     100000 non-null object\n",
            "field2        100000 non-null int64\n",
            "hour2         100000 non-null int64\n",
            "flag1         100000 non-null int64\n",
            "total         100000 non-null float64\n",
            "field3        100000 non-null int64\n",
            "field4        100000 non-null int64\n",
            "indicator1    100000 non-null int64\n",
            "indicator2    100000 non-null int64\n",
            "flag2         100000 non-null int64\n",
            "flag3         100000 non-null int64\n",
            "flag4         100000 non-null int64\n",
            "flag5         100000 non-null int64\n",
            "Class         100000 non-null int64\n",
            "dtypes: float64(2), int64(16), object(2)\n",
            "memory usage: 15.3+ MB\n"
          ],
          "name": "stdout"
        }
      ]
    },
    {
      "cell_type": "code",
      "metadata": {
        "colab_type": "code",
        "outputId": "11ec2813-c94e-4acb-fb76-2be97b0746eb",
        "id": "zqAdU-YqzgSF",
        "colab": {
          "base_uri": "https://localhost:8080/",
          "height": 35
        }
      },
      "source": [
        "df.shape"
      ],
      "execution_count": 470,
      "outputs": [
        {
          "output_type": "execute_result",
          "data": {
            "text/plain": [
              "(100000, 20)"
            ]
          },
          "metadata": {
            "tags": []
          },
          "execution_count": 470
        }
      ]
    },
    {
      "cell_type": "code",
      "metadata": {
        "colab_type": "code",
        "outputId": "630fe0e0-b739-41b7-9cde-c1b67075d346",
        "id": "9d-76RmUzgR9",
        "colab": {
          "base_uri": "https://localhost:8080/",
          "height": 72
        }
      },
      "source": [
        "df['Class'].value_counts()"
      ],
      "execution_count": 471,
      "outputs": [
        {
          "output_type": "execute_result",
          "data": {
            "text/plain": [
              "0    97346\n",
              "1     2654\n",
              "Name: Class, dtype: int64"
            ]
          },
          "metadata": {
            "tags": []
          },
          "execution_count": 471
        }
      ]
    },
    {
      "cell_type": "code",
      "metadata": {
        "colab_type": "code",
        "outputId": "012b8151-671a-45ec-e9da-49fcc7be7a5c",
        "id": "SSxHAl2WzgR2",
        "colab": {
          "base_uri": "https://localhost:8080/",
          "height": 430
        }
      },
      "source": [
        "plt.figure(1,figsize=(5, 5), dpi=80)\n",
        "plt.grid(color='b', linestyle='-', linewidth=0.2)\n",
        "plt.title('Class Distributions \\n (0: No Fraud || 1: Fraud)', fontsize=14)\n",
        "sb.countplot('Class', data=df,palette='Set2')\n"
      ],
      "execution_count": 472,
      "outputs": [
        {
          "output_type": "execute_result",
          "data": {
            "text/plain": [
              "<matplotlib.axes._subplots.AxesSubplot at 0x7f9c9d76aef0>"
            ]
          },
          "metadata": {
            "tags": []
          },
          "execution_count": 472
        },
        {
          "output_type": "display_data",
          "data": {
            "image/png": "[encoded data removed]",
            "text/plain": [
              "<Figure size 400x400 with 1 Axes>"
            ]
          },
          "metadata": {
            "tags": []
          }
        }
      ]
    },
    {
      "cell_type": "code",
      "metadata": {
        "colab_type": "code",
        "outputId": "c005f27a-1bd8-4a88-8717-0768aa7f86e3",
        "id": "_dLj9tF3zgRp",
        "colab": {
          "base_uri": "https://localhost:8080/",
          "height": 54
        }
      },
      "source": [
        "count = 0\n",
        "for a in df.columns:\n",
        "    if df[a].isnull().sum() > 0 :\n",
        "        print(a)\n",
        "        count+=1\n",
        "count"
      ],
      "execution_count": 473,
      "outputs": [
        {
          "output_type": "stream",
          "text": [
            "state1\n"
          ],
          "name": "stdout"
        },
        {
          "output_type": "execute_result",
          "data": {
            "text/plain": [
              "1"
            ]
          },
          "metadata": {
            "tags": []
          },
          "execution_count": 473
        }
      ]
    },
    {
      "cell_type": "code",
      "metadata": {
        "colab_type": "code",
        "outputId": "92b987cb-de63-413b-f6a6-8796a7ebf244",
        "id": "kQ6G7GcRzgRe",
        "colab": {
          "base_uri": "https://localhost:8080/",
          "height": 127
        }
      },
      "source": [
        "df['state1'].unique()"
      ],
      "execution_count": 474,
      "outputs": [
        {
          "output_type": "execute_result",
          "data": {
            "text/plain": [
              "array(['WA', 'KY', 'CA', 'GA', 'AZ', 'MO', 'TX', 'IL', 'HI', 'UT', 'NC',\n",
              "       'NY', 'FL', 'MN', 'VA', 'MA', 'IN', 'LA', 'TN', 'MD', 'NJ', 'ID',\n",
              "       'OH', 'PA', 'SC', 'AL', 'MI', 'WI', 'DC', 'AR', 'CT', 'OR', 'OK',\n",
              "       'SD', 'NH', 'NM', 'NV', 'NE', 'MS', 'ND', 'CO', 'KS', 'WV', 'RI',\n",
              "       'ME', 'IA', 'MT', 'WY', 'AK', 'VT', 'DE', 'AP', 'AE', 'PR', nan],\n",
              "      dtype=object)"
            ]
          },
          "metadata": {
            "tags": []
          },
          "execution_count": 474
        }
      ]
    },
    {
      "cell_type": "code",
      "metadata": {
        "colab_type": "code",
        "id": "f5NHw8QuzgRa",
        "colab": {}
      },
      "source": [
        "df['state1'] =df['state1'].fillna('CA')"
      ],
      "execution_count": 0,
      "outputs": []
    },
    {
      "cell_type": "code",
      "metadata": {
        "colab_type": "code",
        "outputId": "23fa6fce-29d4-41a4-f8ba-791621098733",
        "id": "9nPLMRTtzgRS",
        "colab": {
          "base_uri": "https://localhost:8080/",
          "height": 101
        }
      },
      "source": [
        "df.iloc[80876:80877]"
      ],
      "execution_count": 476,
      "outputs": [
        {
          "output_type": "execute_result",
          "data": {
            "text/html": [
              "<div>\n",
              "<style scoped>\n",
              "    .dataframe tbody tr th:only-of-type {\n",
              "        vertical-align: middle;\n",
              "    }\n",
              "\n",
              "    .dataframe tbody tr th {\n",
              "        vertical-align: top;\n",
              "    }\n",
              "\n",
              "    .dataframe thead th {\n",
              "        text-align: right;\n",
              "    }\n",
              "</style>\n",
              "<table border=\"1\" class=\"dataframe\">\n",
              "  <thead>\n",
              "    <tr style=\"text-align: right;\">\n",
              "      <th></th>\n",
              "      <th>amount</th>\n",
              "      <th>hour1</th>\n",
              "      <th>state1</th>\n",
              "      <th>zip1</th>\n",
              "      <th>custAttr1</th>\n",
              "      <th>field1</th>\n",
              "      <th>custAttr2</th>\n",
              "      <th>field2</th>\n",
              "      <th>hour2</th>\n",
              "      <th>flag1</th>\n",
              "      <th>total</th>\n",
              "      <th>field3</th>\n",
              "      <th>field4</th>\n",
              "      <th>indicator1</th>\n",
              "      <th>indicator2</th>\n",
              "      <th>flag2</th>\n",
              "      <th>flag3</th>\n",
              "      <th>flag4</th>\n",
              "      <th>flag5</th>\n",
              "      <th>Class</th>\n",
              "    </tr>\n",
              "  </thead>\n",
              "  <tbody>\n",
              "    <tr>\n",
              "      <th>80876</th>\n",
              "      <td>49.95</td>\n",
              "      <td>20</td>\n",
              "      <td>CA</td>\n",
              "      <td>9</td>\n",
              "      <td>1234567890183719</td>\n",
              "      <td>3</td>\n",
              "      <td>womaeenhfvtfu@hotmail.com</td>\n",
              "      <td>0</td>\n",
              "      <td>20</td>\n",
              "      <td>0</td>\n",
              "      <td>49.95</td>\n",
              "      <td>3166</td>\n",
              "      <td>23</td>\n",
              "      <td>1</td>\n",
              "      <td>0</td>\n",
              "      <td>1</td>\n",
              "      <td>0</td>\n",
              "      <td>0</td>\n",
              "      <td>1</td>\n",
              "      <td>0</td>\n",
              "    </tr>\n",
              "  </tbody>\n",
              "</table>\n",
              "</div>"
            ],
            "text/plain": [
              "       amount  hour1 state1  zip1  ...  flag3  flag4 flag5  Class\n",
              "80876   49.95     20     CA     9  ...      0      0     1      0\n",
              "\n",
              "[1 rows x 20 columns]"
            ]
          },
          "metadata": {
            "tags": []
          },
          "execution_count": 476
        }
      ]
    },
    {
      "cell_type": "code",
      "metadata": {
        "colab_type": "code",
        "outputId": "f793cfce-e628-4edf-a509-a82873ccdb96",
        "id": "gOwiKtOUzgRJ",
        "colab": {
          "base_uri": "https://localhost:8080/",
          "height": 35
        }
      },
      "source": [
        "len(df.columns)"
      ],
      "execution_count": 477,
      "outputs": [
        {
          "output_type": "execute_result",
          "data": {
            "text/plain": [
              "20"
            ]
          },
          "metadata": {
            "tags": []
          },
          "execution_count": 477
        }
      ]
    },
    {
      "cell_type": "markdown",
      "metadata": {
        "colab_type": "text",
        "id": "vQkia_MhzgRH"
      },
      "source": [
        "3.2. Data Preprocessing\n",
        "The hard version of the dataset contains two sub datasets—training set and testing set. The training set is labeled and the testing set is unlabeled. We have used only the labeled training dataset. It contains 100000 transactions of 73729 customers spanning over a period of 98 days. The dataset contains 20 fields including class labels—amount, hour1, state1, zip1, custAttr1, field1, custAttr2, field2, hour2, flag1, total, field3, field4, indicator1, indicator2, flag2, flag3, flag4, flag5, and Class. It is found that custAttr1 is the account/card number and custAttr2 is e-mail id of the customer. Both these fields are unique to a particular customer and thus we decided to keep only custAttr1. The fields total and amount as well as hour1 and hour2 are found to be the same for each customer and thus we removed total and hour2. Similarly state1 and zip1 are also found to be representing the same information and thus we removed state1. All other fields are anonymized and therefore we decided to keep them as they are. Thus our final dataset contains 16 fields—amount, hour1, zip1, custAttr1, field1, field2, flag1, field3, field4, indicator1, indicator2, flag2, flag3, flag4, flag5, and Class."
      ]
    },
    {
      "cell_type": "code",
      "metadata": {
        "colab_type": "code",
        "outputId": "34811f44-40d5-4e4d-8df7-755f7778caed",
        "id": "INQA-znPzgQ8",
        "colab": {
          "base_uri": "https://localhost:8080/",
          "height": 226
        }
      },
      "source": [
        "df.tail()"
      ],
      "execution_count": 478,
      "outputs": [
        {
          "output_type": "execute_result",
          "data": {
            "text/html": [
              "<div>\n",
              "<style scoped>\n",
              "    .dataframe tbody tr th:only-of-type {\n",
              "        vertical-align: middle;\n",
              "    }\n",
              "\n",
              "    .dataframe tbody tr th {\n",
              "        vertical-align: top;\n",
              "    }\n",
              "\n",
              "    .dataframe thead th {\n",
              "        text-align: right;\n",
              "    }\n",
              "</style>\n",
              "<table border=\"1\" class=\"dataframe\">\n",
              "  <thead>\n",
              "    <tr style=\"text-align: right;\">\n",
              "      <th></th>\n",
              "      <th>amount</th>\n",
              "      <th>hour1</th>\n",
              "      <th>state1</th>\n",
              "      <th>zip1</th>\n",
              "      <th>custAttr1</th>\n",
              "      <th>field1</th>\n",
              "      <th>custAttr2</th>\n",
              "      <th>field2</th>\n",
              "      <th>hour2</th>\n",
              "      <th>flag1</th>\n",
              "      <th>total</th>\n",
              "      <th>field3</th>\n",
              "      <th>field4</th>\n",
              "      <th>indicator1</th>\n",
              "      <th>indicator2</th>\n",
              "      <th>flag2</th>\n",
              "      <th>flag3</th>\n",
              "      <th>flag4</th>\n",
              "      <th>flag5</th>\n",
              "      <th>Class</th>\n",
              "    </tr>\n",
              "  </thead>\n",
              "  <tbody>\n",
              "    <tr>\n",
              "      <th>99995</th>\n",
              "      <td>31.08</td>\n",
              "      <td>14</td>\n",
              "      <td>GA</td>\n",
              "      <td>313</td>\n",
              "      <td>1234567890197181</td>\n",
              "      <td>2</td>\n",
              "      <td>owdybxinfiqla@ucxhcpouwmc.net</td>\n",
              "      <td>0</td>\n",
              "      <td>14</td>\n",
              "      <td>1</td>\n",
              "      <td>31.08</td>\n",
              "      <td>-8044</td>\n",
              "      <td>10</td>\n",
              "      <td>0</td>\n",
              "      <td>0</td>\n",
              "      <td>0</td>\n",
              "      <td>0</td>\n",
              "      <td>0</td>\n",
              "      <td>1</td>\n",
              "      <td>0</td>\n",
              "    </tr>\n",
              "    <tr>\n",
              "      <th>99996</th>\n",
              "      <td>49.95</td>\n",
              "      <td>14</td>\n",
              "      <td>LA</td>\n",
              "      <td>704</td>\n",
              "      <td>1234567890197182</td>\n",
              "      <td>0</td>\n",
              "      <td>vnmhghmwnxhso@xnzysnub.com</td>\n",
              "      <td>0</td>\n",
              "      <td>14</td>\n",
              "      <td>0</td>\n",
              "      <td>49.95</td>\n",
              "      <td>393</td>\n",
              "      <td>18</td>\n",
              "      <td>1</td>\n",
              "      <td>0</td>\n",
              "      <td>1</td>\n",
              "      <td>0</td>\n",
              "      <td>0</td>\n",
              "      <td>1</td>\n",
              "      <td>0</td>\n",
              "    </tr>\n",
              "    <tr>\n",
              "      <th>99997</th>\n",
              "      <td>11.01</td>\n",
              "      <td>14</td>\n",
              "      <td>NY</td>\n",
              "      <td>117</td>\n",
              "      <td>1234567890196488</td>\n",
              "      <td>3</td>\n",
              "      <td>uphjcxjkubtrw@aol.com</td>\n",
              "      <td>1</td>\n",
              "      <td>14</td>\n",
              "      <td>1</td>\n",
              "      <td>11.01</td>\n",
              "      <td>4261</td>\n",
              "      <td>11</td>\n",
              "      <td>0</td>\n",
              "      <td>0</td>\n",
              "      <td>1</td>\n",
              "      <td>1</td>\n",
              "      <td>0</td>\n",
              "      <td>1</td>\n",
              "      <td>0</td>\n",
              "    </tr>\n",
              "    <tr>\n",
              "      <th>99998</th>\n",
              "      <td>12.95</td>\n",
              "      <td>14</td>\n",
              "      <td>VA</td>\n",
              "      <td>245</td>\n",
              "      <td>1234567890197183</td>\n",
              "      <td>3</td>\n",
              "      <td>sasmynlsqebdv65@aol.com</td>\n",
              "      <td>1</td>\n",
              "      <td>14</td>\n",
              "      <td>0</td>\n",
              "      <td>12.95</td>\n",
              "      <td>515</td>\n",
              "      <td>21</td>\n",
              "      <td>0</td>\n",
              "      <td>0</td>\n",
              "      <td>0</td>\n",
              "      <td>0</td>\n",
              "      <td>0</td>\n",
              "      <td>1</td>\n",
              "      <td>0</td>\n",
              "    </tr>\n",
              "    <tr>\n",
              "      <th>99999</th>\n",
              "      <td>12.95</td>\n",
              "      <td>14</td>\n",
              "      <td>TN</td>\n",
              "      <td>372</td>\n",
              "      <td>1234567890197184</td>\n",
              "      <td>3</td>\n",
              "      <td>kvclngihgwldo@yahoo.com</td>\n",
              "      <td>1</td>\n",
              "      <td>14</td>\n",
              "      <td>0</td>\n",
              "      <td>12.95</td>\n",
              "      <td>4229</td>\n",
              "      <td>22</td>\n",
              "      <td>0</td>\n",
              "      <td>0</td>\n",
              "      <td>0</td>\n",
              "      <td>1</td>\n",
              "      <td>0</td>\n",
              "      <td>1</td>\n",
              "      <td>0</td>\n",
              "    </tr>\n",
              "  </tbody>\n",
              "</table>\n",
              "</div>"
            ],
            "text/plain": [
              "       amount  hour1 state1  zip1  ...  flag3  flag4 flag5  Class\n",
              "99995   31.08     14     GA   313  ...      0      0     1      0\n",
              "99996   49.95     14     LA   704  ...      0      0     1      0\n",
              "99997   11.01     14     NY   117  ...      1      0     1      0\n",
              "99998   12.95     14     VA   245  ...      0      0     1      0\n",
              "99999   12.95     14     TN   372  ...      1      0     1      0\n",
              "\n",
              "[5 rows x 20 columns]"
            ]
          },
          "metadata": {
            "tags": []
          },
          "execution_count": 478
        }
      ]
    },
    {
      "cell_type": "code",
      "metadata": {
        "colab_type": "code",
        "id": "1xEPNI30zgQ3",
        "colab": {}
      },
      "source": [
        "df = df.drop(['custAttr2','total','hour2','state1',], axis=1)"
      ],
      "execution_count": 0,
      "outputs": []
    },
    {
      "cell_type": "code",
      "metadata": {
        "colab_type": "code",
        "outputId": "1f4a53ea-bbb7-40d4-a623-5b369ebdfb8c",
        "id": "8Xyq9yrpzgQs",
        "colab": {
          "base_uri": "https://localhost:8080/",
          "height": 35
        }
      },
      "source": [
        "len(df.columns)"
      ],
      "execution_count": 480,
      "outputs": [
        {
          "output_type": "execute_result",
          "data": {
            "text/plain": [
              "16"
            ]
          },
          "metadata": {
            "tags": []
          },
          "execution_count": 480
        }
      ]
    },
    {
      "cell_type": "markdown",
      "metadata": {
        "colab_type": "text",
        "id": "i-0VE6iqzgQp"
      },
      "source": [
        "3.3. Training and Testing Dataset Creation\n",
        "The following procedures are used for creating training and testing datasets for evaluating our model.\n",
        "\n",
        "First, we removed the transactions corresponding to those customers who have only one transaction in dataset since it appears either in training or testing dataset only. Now the dataset has been reduced to 40918 transactions.\n",
        "\n",
        "Then we divided these 40918 transactions into two sets—training set with 21000 transactions and testing set with 19918 transactions.\n",
        "\n",
        "Again from the training dataset we removed the transactions corresponding to those customers who have only one transaction in the training dataset since it is hard to find a pattern from a single transaction. Now the training dataset has been reduced to 19165 transactions.\n",
        "\n",
        "From this dataset, we have randomly selected different groups of customers and their corresponding transactions in the training and testing dataset to create different training and testing datasets to evaluate the performance of FraudMiner with increasing number of transactions. The data distribution is shown in Table 1."
      ]
    },
    {
      "cell_type": "code",
      "metadata": {
        "colab_type": "code",
        "id": "-pZAKHEkzgQk",
        "colab": {
          "base_uri": "https://localhost:8080/",
          "height": 678
        },
        "outputId": "c7c43e81-47f2-49ae-da6f-0ceb74828de0"
      },
      "source": [
        "df['frek'] = df.groupby('custAttr1')['custAttr1'].transform('count')\n",
        "df['frek'].value_counts()"
      ],
      "execution_count": 481,
      "outputs": [
        {
          "output_type": "execute_result",
          "data": {
            "text/plain": [
              "1     59082\n",
              "2     19068\n",
              "3      8697\n",
              "4      4068\n",
              "5      2285\n",
              "6      1512\n",
              "7       994\n",
              "8       632\n",
              "9       603\n",
              "10      480\n",
              "11      352\n",
              "14      280\n",
              "15      240\n",
              "12      204\n",
              "17      170\n",
              "13      169\n",
              "21      147\n",
              "18      126\n",
              "20      100\n",
              "32       96\n",
              "68       68\n",
              "22       66\n",
              "16       64\n",
              "63       63\n",
              "57       57\n",
              "50       50\n",
              "24       48\n",
              "46       46\n",
              "44       44\n",
              "39       39\n",
              "19       38\n",
              "34       34\n",
              "28       28\n",
              "27       27\n",
              "23       23\n",
              "Name: frek, dtype: int64"
            ]
          },
          "metadata": {
            "tags": []
          },
          "execution_count": 481
        }
      ]
    },
    {
      "cell_type": "code",
      "metadata": {
        "colab_type": "code",
        "outputId": "6bad41fd-5a89-4ae1-f218-af800cac9fce",
        "id": "lvjMUuc_zgQb",
        "colab": {
          "base_uri": "https://localhost:8080/",
          "height": 35
        }
      },
      "source": [
        "df.shape"
      ],
      "execution_count": 482,
      "outputs": [
        {
          "output_type": "execute_result",
          "data": {
            "text/plain": [
              "(100000, 17)"
            ]
          },
          "metadata": {
            "tags": []
          },
          "execution_count": 482
        }
      ]
    },
    {
      "cell_type": "code",
      "metadata": {
        "colab_type": "code",
        "id": "kbQ6dJgfzgQV",
        "colab": {
          "base_uri": "https://localhost:8080/",
          "height": 35
        },
        "outputId": "271aefff-d259-4c1e-adfd-e948e4409cc5"
      },
      "source": [
        "df = df[df['frek'] > 1]\n",
        "df.shape"
      ],
      "execution_count": 483,
      "outputs": [
        {
          "output_type": "execute_result",
          "data": {
            "text/plain": [
              "(40918, 17)"
            ]
          },
          "metadata": {
            "tags": []
          },
          "execution_count": 483
        }
      ]
    },
    {
      "cell_type": "code",
      "metadata": {
        "colab_type": "code",
        "id": "7W3v_x2BzgQR",
        "outputId": "2d445565-9f06-4b00-820e-3900462ec379",
        "colab": {
          "base_uri": "https://localhost:8080/",
          "height": 226
        }
      },
      "source": [
        "df.tail()"
      ],
      "execution_count": 484,
      "outputs": [
        {
          "output_type": "execute_result",
          "data": {
            "text/html": [
              "<div>\n",
              "<style scoped>\n",
              "    .dataframe tbody tr th:only-of-type {\n",
              "        vertical-align: middle;\n",
              "    }\n",
              "\n",
              "    .dataframe tbody tr th {\n",
              "        vertical-align: top;\n",
              "    }\n",
              "\n",
              "    .dataframe thead th {\n",
              "        text-align: right;\n",
              "    }\n",
              "</style>\n",
              "<table border=\"1\" class=\"dataframe\">\n",
              "  <thead>\n",
              "    <tr style=\"text-align: right;\">\n",
              "      <th></th>\n",
              "      <th>amount</th>\n",
              "      <th>hour1</th>\n",
              "      <th>zip1</th>\n",
              "      <th>custAttr1</th>\n",
              "      <th>field1</th>\n",
              "      <th>field2</th>\n",
              "      <th>flag1</th>\n",
              "      <th>field3</th>\n",
              "      <th>field4</th>\n",
              "      <th>indicator1</th>\n",
              "      <th>indicator2</th>\n",
              "      <th>flag2</th>\n",
              "      <th>flag3</th>\n",
              "      <th>flag4</th>\n",
              "      <th>flag5</th>\n",
              "      <th>Class</th>\n",
              "      <th>frek</th>\n",
              "    </tr>\n",
              "  </thead>\n",
              "  <tbody>\n",
              "    <tr>\n",
              "      <th>99976</th>\n",
              "      <td>25.90</td>\n",
              "      <td>14</td>\n",
              "      <td>958</td>\n",
              "      <td>1234567890157691</td>\n",
              "      <td>3</td>\n",
              "      <td>0</td>\n",
              "      <td>1</td>\n",
              "      <td>2186</td>\n",
              "      <td>9</td>\n",
              "      <td>0</td>\n",
              "      <td>0</td>\n",
              "      <td>1</td>\n",
              "      <td>0</td>\n",
              "      <td>0</td>\n",
              "      <td>1</td>\n",
              "      <td>0</td>\n",
              "      <td>18</td>\n",
              "    </tr>\n",
              "    <tr>\n",
              "      <th>99981</th>\n",
              "      <td>33.67</td>\n",
              "      <td>14</td>\n",
              "      <td>366</td>\n",
              "      <td>1234567890197161</td>\n",
              "      <td>3</td>\n",
              "      <td>1</td>\n",
              "      <td>1</td>\n",
              "      <td>4177</td>\n",
              "      <td>6</td>\n",
              "      <td>0</td>\n",
              "      <td>0</td>\n",
              "      <td>1</td>\n",
              "      <td>1</td>\n",
              "      <td>0</td>\n",
              "      <td>2</td>\n",
              "      <td>0</td>\n",
              "      <td>2</td>\n",
              "    </tr>\n",
              "    <tr>\n",
              "      <th>99988</th>\n",
              "      <td>12.95</td>\n",
              "      <td>14</td>\n",
              "      <td>787</td>\n",
              "      <td>1234567890137953</td>\n",
              "      <td>3</td>\n",
              "      <td>0</td>\n",
              "      <td>1</td>\n",
              "      <td>3357</td>\n",
              "      <td>10</td>\n",
              "      <td>1</td>\n",
              "      <td>0</td>\n",
              "      <td>1</td>\n",
              "      <td>1</td>\n",
              "      <td>0</td>\n",
              "      <td>2</td>\n",
              "      <td>0</td>\n",
              "      <td>19</td>\n",
              "    </tr>\n",
              "    <tr>\n",
              "      <th>99992</th>\n",
              "      <td>10.36</td>\n",
              "      <td>14</td>\n",
              "      <td>953</td>\n",
              "      <td>1234567890194145</td>\n",
              "      <td>3</td>\n",
              "      <td>1</td>\n",
              "      <td>1</td>\n",
              "      <td>5169</td>\n",
              "      <td>8</td>\n",
              "      <td>0</td>\n",
              "      <td>0</td>\n",
              "      <td>0</td>\n",
              "      <td>0</td>\n",
              "      <td>0</td>\n",
              "      <td>1</td>\n",
              "      <td>0</td>\n",
              "      <td>2</td>\n",
              "    </tr>\n",
              "    <tr>\n",
              "      <th>99997</th>\n",
              "      <td>11.01</td>\n",
              "      <td>14</td>\n",
              "      <td>117</td>\n",
              "      <td>1234567890196488</td>\n",
              "      <td>3</td>\n",
              "      <td>1</td>\n",
              "      <td>1</td>\n",
              "      <td>4261</td>\n",
              "      <td>11</td>\n",
              "      <td>0</td>\n",
              "      <td>0</td>\n",
              "      <td>1</td>\n",
              "      <td>1</td>\n",
              "      <td>0</td>\n",
              "      <td>1</td>\n",
              "      <td>0</td>\n",
              "      <td>2</td>\n",
              "    </tr>\n",
              "  </tbody>\n",
              "</table>\n",
              "</div>"
            ],
            "text/plain": [
              "       amount  hour1  zip1         custAttr1  ...  flag4  flag5  Class  frek\n",
              "99976   25.90     14   958  1234567890157691  ...      0      1      0    18\n",
              "99981   33.67     14   366  1234567890197161  ...      0      2      0     2\n",
              "99988   12.95     14   787  1234567890137953  ...      0      2      0    19\n",
              "99992   10.36     14   953  1234567890194145  ...      0      1      0     2\n",
              "99997   11.01     14   117  1234567890196488  ...      0      1      0     2\n",
              "\n",
              "[5 rows x 17 columns]"
            ]
          },
          "metadata": {
            "tags": []
          },
          "execution_count": 484
        }
      ]
    },
    {
      "cell_type": "code",
      "metadata": {
        "colab_type": "code",
        "id": "s7jCulszzgQM",
        "colab": {
          "base_uri": "https://localhost:8080/",
          "height": 226
        },
        "outputId": "d11d0306-5a43-4d6d-df21-a17ca9b8ab05"
      },
      "source": [
        "df = df.reset_index(drop=True)\n",
        "df.tail()"
      ],
      "execution_count": 485,
      "outputs": [
        {
          "output_type": "execute_result",
          "data": {
            "text/html": [
              "<div>\n",
              "<style scoped>\n",
              "    .dataframe tbody tr th:only-of-type {\n",
              "        vertical-align: middle;\n",
              "    }\n",
              "\n",
              "    .dataframe tbody tr th {\n",
              "        vertical-align: top;\n",
              "    }\n",
              "\n",
              "    .dataframe thead th {\n",
              "        text-align: right;\n",
              "    }\n",
              "</style>\n",
              "<table border=\"1\" class=\"dataframe\">\n",
              "  <thead>\n",
              "    <tr style=\"text-align: right;\">\n",
              "      <th></th>\n",
              "      <th>amount</th>\n",
              "      <th>hour1</th>\n",
              "      <th>zip1</th>\n",
              "      <th>custAttr1</th>\n",
              "      <th>field1</th>\n",
              "      <th>field2</th>\n",
              "      <th>flag1</th>\n",
              "      <th>field3</th>\n",
              "      <th>field4</th>\n",
              "      <th>indicator1</th>\n",
              "      <th>indicator2</th>\n",
              "      <th>flag2</th>\n",
              "      <th>flag3</th>\n",
              "      <th>flag4</th>\n",
              "      <th>flag5</th>\n",
              "      <th>Class</th>\n",
              "      <th>frek</th>\n",
              "    </tr>\n",
              "  </thead>\n",
              "  <tbody>\n",
              "    <tr>\n",
              "      <th>40913</th>\n",
              "      <td>25.90</td>\n",
              "      <td>14</td>\n",
              "      <td>958</td>\n",
              "      <td>1234567890157691</td>\n",
              "      <td>3</td>\n",
              "      <td>0</td>\n",
              "      <td>1</td>\n",
              "      <td>2186</td>\n",
              "      <td>9</td>\n",
              "      <td>0</td>\n",
              "      <td>0</td>\n",
              "      <td>1</td>\n",
              "      <td>0</td>\n",
              "      <td>0</td>\n",
              "      <td>1</td>\n",
              "      <td>0</td>\n",
              "      <td>18</td>\n",
              "    </tr>\n",
              "    <tr>\n",
              "      <th>40914</th>\n",
              "      <td>33.67</td>\n",
              "      <td>14</td>\n",
              "      <td>366</td>\n",
              "      <td>1234567890197161</td>\n",
              "      <td>3</td>\n",
              "      <td>1</td>\n",
              "      <td>1</td>\n",
              "      <td>4177</td>\n",
              "      <td>6</td>\n",
              "      <td>0</td>\n",
              "      <td>0</td>\n",
              "      <td>1</td>\n",
              "      <td>1</td>\n",
              "      <td>0</td>\n",
              "      <td>2</td>\n",
              "      <td>0</td>\n",
              "      <td>2</td>\n",
              "    </tr>\n",
              "    <tr>\n",
              "      <th>40915</th>\n",
              "      <td>12.95</td>\n",
              "      <td>14</td>\n",
              "      <td>787</td>\n",
              "      <td>1234567890137953</td>\n",
              "      <td>3</td>\n",
              "      <td>0</td>\n",
              "      <td>1</td>\n",
              "      <td>3357</td>\n",
              "      <td>10</td>\n",
              "      <td>1</td>\n",
              "      <td>0</td>\n",
              "      <td>1</td>\n",
              "      <td>1</td>\n",
              "      <td>0</td>\n",
              "      <td>2</td>\n",
              "      <td>0</td>\n",
              "      <td>19</td>\n",
              "    </tr>\n",
              "    <tr>\n",
              "      <th>40916</th>\n",
              "      <td>10.36</td>\n",
              "      <td>14</td>\n",
              "      <td>953</td>\n",
              "      <td>1234567890194145</td>\n",
              "      <td>3</td>\n",
              "      <td>1</td>\n",
              "      <td>1</td>\n",
              "      <td>5169</td>\n",
              "      <td>8</td>\n",
              "      <td>0</td>\n",
              "      <td>0</td>\n",
              "      <td>0</td>\n",
              "      <td>0</td>\n",
              "      <td>0</td>\n",
              "      <td>1</td>\n",
              "      <td>0</td>\n",
              "      <td>2</td>\n",
              "    </tr>\n",
              "    <tr>\n",
              "      <th>40917</th>\n",
              "      <td>11.01</td>\n",
              "      <td>14</td>\n",
              "      <td>117</td>\n",
              "      <td>1234567890196488</td>\n",
              "      <td>3</td>\n",
              "      <td>1</td>\n",
              "      <td>1</td>\n",
              "      <td>4261</td>\n",
              "      <td>11</td>\n",
              "      <td>0</td>\n",
              "      <td>0</td>\n",
              "      <td>1</td>\n",
              "      <td>1</td>\n",
              "      <td>0</td>\n",
              "      <td>1</td>\n",
              "      <td>0</td>\n",
              "      <td>2</td>\n",
              "    </tr>\n",
              "  </tbody>\n",
              "</table>\n",
              "</div>"
            ],
            "text/plain": [
              "       amount  hour1  zip1         custAttr1  ...  flag4  flag5  Class  frek\n",
              "40913   25.90     14   958  1234567890157691  ...      0      1      0    18\n",
              "40914   33.67     14   366  1234567890197161  ...      0      2      0     2\n",
              "40915   12.95     14   787  1234567890137953  ...      0      2      0    19\n",
              "40916   10.36     14   953  1234567890194145  ...      0      1      0     2\n",
              "40917   11.01     14   117  1234567890196488  ...      0      1      0     2\n",
              "\n",
              "[5 rows x 17 columns]"
            ]
          },
          "metadata": {
            "tags": []
          },
          "execution_count": 485
        }
      ]
    },
    {
      "cell_type": "code",
      "metadata": {
        "colab_type": "code",
        "outputId": "5c9a1f67-39f5-4c18-b11d-9cc449e6c8a8",
        "id": "QdwgTZNFzgQE",
        "colab": {
          "base_uri": "https://localhost:8080/",
          "height": 72
        }
      },
      "source": [
        "df['Class'].value_counts()"
      ],
      "execution_count": 486,
      "outputs": [
        {
          "output_type": "execute_result",
          "data": {
            "text/plain": [
              "0    39722\n",
              "1     1196\n",
              "Name: Class, dtype: int64"
            ]
          },
          "metadata": {
            "tags": []
          },
          "execution_count": 486
        }
      ]
    },
    {
      "cell_type": "code",
      "metadata": {
        "colab_type": "code",
        "id": "ivbLOMAvzgP9",
        "colab": {}
      },
      "source": [
        "df = df.drop(['custAttr1'], axis=1)\n",
        "# df = df.drop(['frek'], axis=1)"
      ],
      "execution_count": 0,
      "outputs": []
    },
    {
      "cell_type": "code",
      "metadata": {
        "colab_type": "code",
        "id": "eqVhXNJKzgP4",
        "colab": {}
      },
      "source": [
        "X = df.drop('Class', axis=1)\n",
        "y = df['Class'].copy()"
      ],
      "execution_count": 0,
      "outputs": []
    },
    {
      "cell_type": "code",
      "metadata": {
        "colab_type": "code",
        "outputId": "3dc03e00-6ed9-43de-8250-9e1bbd84f9c1",
        "id": "h3LEoA-RzgPy",
        "colab": {
          "base_uri": "https://localhost:8080/",
          "height": 72
        }
      },
      "source": [
        "y.value_counts()"
      ],
      "execution_count": 489,
      "outputs": [
        {
          "output_type": "execute_result",
          "data": {
            "text/plain": [
              "0    39722\n",
              "1     1196\n",
              "Name: Class, dtype: int64"
            ]
          },
          "metadata": {
            "tags": []
          },
          "execution_count": 489
        }
      ]
    },
    {
      "cell_type": "code",
      "metadata": {
        "colab_type": "code",
        "outputId": "28750241-a6bf-4454-ee84-2aa8e3ffe06a",
        "id": "VPaSj9PszgPp",
        "colab": {
          "base_uri": "https://localhost:8080/",
          "height": 90
        }
      },
      "source": [
        "X.columns"
      ],
      "execution_count": 490,
      "outputs": [
        {
          "output_type": "execute_result",
          "data": {
            "text/plain": [
              "Index(['amount', 'hour1', 'zip1', 'field1', 'field2', 'flag1', 'field3',\n",
              "       'field4', 'indicator1', 'indicator2', 'flag2', 'flag3', 'flag4',\n",
              "       'flag5', 'frek'],\n",
              "      dtype='object')"
            ]
          },
          "metadata": {
            "tags": []
          },
          "execution_count": 490
        }
      ]
    },
    {
      "cell_type": "code",
      "metadata": {
        "colab_type": "code",
        "id": "rzQuvcFBzgPk",
        "colab": {}
      },
      "source": [
        "from sklearn.model_selection import train_test_split"
      ],
      "execution_count": 0,
      "outputs": []
    },
    {
      "cell_type": "markdown",
      "metadata": {
        "id": "Pi5OVPLQzwIu",
        "colab_type": "text"
      },
      "source": [
        "## percobaan 1.0 - semua fitur"
      ]
    },
    {
      "cell_type": "code",
      "metadata": {
        "colab_type": "code",
        "id": "lcypQnnfzgPg",
        "colab": {}
      },
      "source": [
        "X_train, X_test, y_train, y_test = train_test_split(X, y, test_size=0.1, random_state=1, stratify=y)\n",
        "X_train, X_val, y_train, y_val = train_test_split(X_train, y_train, test_size=0.11111, random_state=1, stratify=y_train)\n"
      ],
      "execution_count": 0,
      "outputs": []
    },
    {
      "cell_type": "code",
      "metadata": {
        "colab_type": "code",
        "outputId": "74679f5b-b858-4095-88da-ae56e16ac165",
        "id": "GwdL_2a0zgPW",
        "colab": {
          "base_uri": "https://localhost:8080/",
          "height": 226
        }
      },
      "source": [
        "X_train.head()"
      ],
      "execution_count": 493,
      "outputs": [
        {
          "output_type": "execute_result",
          "data": {
            "text/html": [
              "<div>\n",
              "<style scoped>\n",
              "    .dataframe tbody tr th:only-of-type {\n",
              "        vertical-align: middle;\n",
              "    }\n",
              "\n",
              "    .dataframe tbody tr th {\n",
              "        vertical-align: top;\n",
              "    }\n",
              "\n",
              "    .dataframe thead th {\n",
              "        text-align: right;\n",
              "    }\n",
              "</style>\n",
              "<table border=\"1\" class=\"dataframe\">\n",
              "  <thead>\n",
              "    <tr style=\"text-align: right;\">\n",
              "      <th></th>\n",
              "      <th>amount</th>\n",
              "      <th>hour1</th>\n",
              "      <th>zip1</th>\n",
              "      <th>field1</th>\n",
              "      <th>field2</th>\n",
              "      <th>flag1</th>\n",
              "      <th>field3</th>\n",
              "      <th>field4</th>\n",
              "      <th>indicator1</th>\n",
              "      <th>indicator2</th>\n",
              "      <th>flag2</th>\n",
              "      <th>flag3</th>\n",
              "      <th>flag4</th>\n",
              "      <th>flag5</th>\n",
              "      <th>frek</th>\n",
              "    </tr>\n",
              "  </thead>\n",
              "  <tbody>\n",
              "    <tr>\n",
              "      <th>12833</th>\n",
              "      <td>10.36</td>\n",
              "      <td>20</td>\n",
              "      <td>982</td>\n",
              "      <td>3</td>\n",
              "      <td>1</td>\n",
              "      <td>1</td>\n",
              "      <td>-7219</td>\n",
              "      <td>14</td>\n",
              "      <td>0</td>\n",
              "      <td>0</td>\n",
              "      <td>0</td>\n",
              "      <td>0</td>\n",
              "      <td>0</td>\n",
              "      <td>2</td>\n",
              "      <td>6</td>\n",
              "    </tr>\n",
              "    <tr>\n",
              "      <th>39634</th>\n",
              "      <td>11.01</td>\n",
              "      <td>14</td>\n",
              "      <td>232</td>\n",
              "      <td>3</td>\n",
              "      <td>0</td>\n",
              "      <td>1</td>\n",
              "      <td>991</td>\n",
              "      <td>7</td>\n",
              "      <td>1</td>\n",
              "      <td>0</td>\n",
              "      <td>1</td>\n",
              "      <td>1</td>\n",
              "      <td>0</td>\n",
              "      <td>1</td>\n",
              "      <td>4</td>\n",
              "    </tr>\n",
              "    <tr>\n",
              "      <th>9529</th>\n",
              "      <td>49.95</td>\n",
              "      <td>18</td>\n",
              "      <td>752</td>\n",
              "      <td>3</td>\n",
              "      <td>1</td>\n",
              "      <td>0</td>\n",
              "      <td>-90</td>\n",
              "      <td>15</td>\n",
              "      <td>0</td>\n",
              "      <td>0</td>\n",
              "      <td>1</td>\n",
              "      <td>0</td>\n",
              "      <td>0</td>\n",
              "      <td>2</td>\n",
              "      <td>2</td>\n",
              "    </tr>\n",
              "    <tr>\n",
              "      <th>14625</th>\n",
              "      <td>31.08</td>\n",
              "      <td>14</td>\n",
              "      <td>921</td>\n",
              "      <td>3</td>\n",
              "      <td>0</td>\n",
              "      <td>1</td>\n",
              "      <td>-5751</td>\n",
              "      <td>14</td>\n",
              "      <td>0</td>\n",
              "      <td>0</td>\n",
              "      <td>1</td>\n",
              "      <td>1</td>\n",
              "      <td>0</td>\n",
              "      <td>1</td>\n",
              "      <td>2</td>\n",
              "    </tr>\n",
              "    <tr>\n",
              "      <th>680</th>\n",
              "      <td>12.95</td>\n",
              "      <td>8</td>\n",
              "      <td>277</td>\n",
              "      <td>3</td>\n",
              "      <td>1</td>\n",
              "      <td>1</td>\n",
              "      <td>2531</td>\n",
              "      <td>9</td>\n",
              "      <td>0</td>\n",
              "      <td>0</td>\n",
              "      <td>0</td>\n",
              "      <td>0</td>\n",
              "      <td>0</td>\n",
              "      <td>1</td>\n",
              "      <td>2</td>\n",
              "    </tr>\n",
              "  </tbody>\n",
              "</table>\n",
              "</div>"
            ],
            "text/plain": [
              "       amount  hour1  zip1  field1  field2  ...  flag2  flag3  flag4  flag5  frek\n",
              "12833   10.36     20   982       3       1  ...      0      0      0      2     6\n",
              "39634   11.01     14   232       3       0  ...      1      1      0      1     4\n",
              "9529    49.95     18   752       3       1  ...      1      0      0      2     2\n",
              "14625   31.08     14   921       3       0  ...      1      1      0      1     2\n",
              "680     12.95      8   277       3       1  ...      0      0      0      1     2\n",
              "\n",
              "[5 rows x 15 columns]"
            ]
          },
          "metadata": {
            "tags": []
          },
          "execution_count": 493
        }
      ]
    },
    {
      "cell_type": "code",
      "metadata": {
        "colab_type": "code",
        "id": "3cvXjVRKzgO4",
        "colab": {}
      },
      "source": [
        "y_test0 = np.array(y_test)\n",
        "y_train0=np.array(y_train)\n",
        "y_val0 = np.array(y_val)"
      ],
      "execution_count": 0,
      "outputs": []
    },
    {
      "cell_type": "code",
      "metadata": {
        "colab_type": "code",
        "outputId": "cb55014b-6791-4e6b-bbbd-2f94e764ba7c",
        "id": "4P6CY5zHzgOs",
        "colab": {
          "base_uri": "https://localhost:8080/",
          "height": 35
        }
      },
      "source": [
        "print(len(X_train),len(X_val),len(X_test))"
      ],
      "execution_count": 495,
      "outputs": [
        {
          "output_type": "stream",
          "text": [
            "32734 4092 4092\n"
          ],
          "name": "stdout"
        }
      ]
    },
    {
      "cell_type": "code",
      "metadata": {
        "colab_type": "code",
        "outputId": "dcbaff9f-b692-4734-d7d9-0ea27a640891",
        "id": "GB1EvFk0zgOg",
        "colab": {
          "base_uri": "https://localhost:8080/",
          "height": 35
        }
      },
      "source": [
        "ytrain_ab = y_train[y_train==1]\n",
        "yval_ab = y_val[y_val==1]\n",
        "ytest_ab = y_test[y_test==1]\n",
        "print('fraud train =',len(ytrain_ab),'fraud val =',len(yval_ab),'fraud test =',len(ytest_ab))"
      ],
      "execution_count": 496,
      "outputs": [
        {
          "output_type": "stream",
          "text": [
            "fraud train = 956 fraud val = 120 fraud test = 120\n"
          ],
          "name": "stdout"
        }
      ]
    },
    {
      "cell_type": "code",
      "metadata": {
        "colab_type": "code",
        "outputId": "1ab806b9-d5d4-47e3-a671-c5fb015fab63",
        "id": "D_arsEbBzgOX",
        "colab": {
          "base_uri": "https://localhost:8080/",
          "height": 55
        }
      },
      "source": [
        "th_train=len(ytrain_ab)/len(y_train)\n",
        "th_test=len(ytest_ab)/len(y_test)\n",
        "th_val=len(yval_ab)/len(y_val)\n",
        "print('threshold train =',th_train, 'threshold test =', th_test,'threshold val =', th_val)"
      ],
      "execution_count": 497,
      "outputs": [
        {
          "output_type": "stream",
          "text": [
            "threshold train = 0.029205107838944217 threshold test = 0.02932551319648094 threshold val = 0.02932551319648094\n"
          ],
          "name": "stdout"
        }
      ]
    },
    {
      "cell_type": "code",
      "metadata": {
        "colab_type": "code",
        "outputId": "cd504633-9653-4cb5-9ca5-4a671cf1c015",
        "id": "nLU9nYKAzgOM",
        "colab": {
          "base_uri": "https://localhost:8080/",
          "height": 74
        }
      },
      "source": [
        "nTree= 100\n",
        "sample = 256\n",
        "ifo = iForest(X_train, nTree, sample, th_train)"
      ],
      "execution_count": 498,
      "outputs": [
        {
          "output_type": "stream",
          "text": [
            "/usr/local/lib/python3.6/dist-packages/sklearn/ensemble/iforest.py:247: FutureWarning: behaviour=\"old\" is deprecated and will be removed in version 0.22. Please use behaviour=\"new\", which makes the decision_function change to match other anomaly detection algorithm API.\n",
            "  FutureWarning)\n"
          ],
          "name": "stderr"
        }
      ]
    },
    {
      "cell_type": "code",
      "metadata": {
        "colab_type": "code",
        "outputId": "fb0b3c8b-f8fb-44d2-8a83-e7f3307efdb3",
        "id": "p2oCH0RmzgN8",
        "colab": {
          "base_uri": "https://localhost:8080/",
          "height": 501
        }
      },
      "source": [
        "model_evaluate(ifo,X_val,y_val0)"
      ],
      "execution_count": 499,
      "outputs": [
        {
          "output_type": "stream",
          "text": [
            "/usr/local/lib/python3.6/dist-packages/sklearn/ensemble/iforest.py:415: DeprecationWarning: threshold_ attribute is deprecated in 0.20 and will be removed in 0.22.\n",
            "  \" be removed in 0.22.\", DeprecationWarning)\n"
          ],
          "name": "stderr"
        },
        {
          "output_type": "stream",
          "text": [
            "time :  0.20269203186035156\n",
            "accuracy :  0.9452590420332356\n",
            "sensitivity :  0.058333333333333334\n",
            "specifity :  0.9720543806646526\n",
            "precision :  0.059322033898305086\n",
            "recall :  0.058333333333333334\n",
            "f1 score :  0.058823529411764705\n",
            "Confusion matrix\n",
            "TP =  7 FP =  111 FN =  113 TN =  3861\n"
          ],
          "name": "stdout"
        },
        {
          "output_type": "display_data",
          "data": {
            "image/png": "[encoded data removed]",
            "text/plain": [
              "<Figure size 576x288 with 2 Axes>"
            ]
          },
          "metadata": {
            "tags": []
          }
        }
      ]
    },
    {
      "cell_type": "code",
      "metadata": {
        "colab_type": "code",
        "outputId": "1f9c4d8f-e410-4201-91b9-eae19a3bcb5c",
        "id": "PKUcoSNtzgNv",
        "colab": {
          "base_uri": "https://localhost:8080/",
          "height": 501
        }
      },
      "source": [
        "model_evaluate(ifo, X_test, y_test0)"
      ],
      "execution_count": 500,
      "outputs": [
        {
          "output_type": "stream",
          "text": [
            "/usr/local/lib/python3.6/dist-packages/sklearn/ensemble/iforest.py:415: DeprecationWarning: threshold_ attribute is deprecated in 0.20 and will be removed in 0.22.\n",
            "  \" be removed in 0.22.\", DeprecationWarning)\n"
          ],
          "name": "stderr"
        },
        {
          "output_type": "stream",
          "text": [
            "time :  0.22926783561706543\n",
            "accuracy :  0.9481915933528837\n",
            "sensitivity :  0.058333333333333334\n",
            "specifity :  0.9750755287009063\n",
            "precision :  0.0660377358490566\n",
            "recall :  0.058333333333333334\n",
            "f1 score :  0.061946902654867256\n",
            "Confusion matrix\n",
            "TP =  7 FP =  99 FN =  113 TN =  3873\n"
          ],
          "name": "stdout"
        },
        {
          "output_type": "display_data",
          "data": {
            "image/png": "[encoded data removed]",
            "text/plain": [
              "<Figure size 576x288 with 2 Axes>"
            ]
          },
          "metadata": {
            "tags": []
          }
        }
      ]
    },
    {
      "cell_type": "code",
      "metadata": {
        "colab_type": "code",
        "id": "Sn5W4rkbzgNn",
        "colab": {}
      },
      "source": [
        ""
      ],
      "execution_count": 0,
      "outputs": []
    },
    {
      "cell_type": "markdown",
      "metadata": {
        "id": "VbSMZBtMbLvH",
        "colab_type": "text"
      },
      "source": [
        "### percobaan1.1- 3 fitur terbaik"
      ]
    },
    {
      "cell_type": "code",
      "metadata": {
        "id": "zQYjYjAwc8zY",
        "colab_type": "code",
        "outputId": "c6f4093c-1551-435e-de64-0d02e56c9a0d",
        "colab": {
          "base_uri": "https://localhost:8080/",
          "height": 206
        }
      },
      "source": [
        "X1 = X[['field3','zip1','frek']]\n",
        "X1.head()"
      ],
      "execution_count": 501,
      "outputs": [
        {
          "output_type": "execute_result",
          "data": {
            "text/html": [
              "<div>\n",
              "<style scoped>\n",
              "    .dataframe tbody tr th:only-of-type {\n",
              "        vertical-align: middle;\n",
              "    }\n",
              "\n",
              "    .dataframe tbody tr th {\n",
              "        vertical-align: top;\n",
              "    }\n",
              "\n",
              "    .dataframe thead th {\n",
              "        text-align: right;\n",
              "    }\n",
              "</style>\n",
              "<table border=\"1\" class=\"dataframe\">\n",
              "  <thead>\n",
              "    <tr style=\"text-align: right;\">\n",
              "      <th></th>\n",
              "      <th>field3</th>\n",
              "      <th>zip1</th>\n",
              "      <th>frek</th>\n",
              "    </tr>\n",
              "  </thead>\n",
              "  <tbody>\n",
              "    <tr>\n",
              "      <th>0</th>\n",
              "      <td>-2753</td>\n",
              "      <td>852</td>\n",
              "      <td>3</td>\n",
              "    </tr>\n",
              "    <tr>\n",
              "      <th>1</th>\n",
              "      <td>2429</td>\n",
              "      <td>950</td>\n",
              "      <td>6</td>\n",
              "    </tr>\n",
              "    <tr>\n",
              "      <th>2</th>\n",
              "      <td>2429</td>\n",
              "      <td>950</td>\n",
              "      <td>6</td>\n",
              "    </tr>\n",
              "    <tr>\n",
              "      <th>3</th>\n",
              "      <td>5195</td>\n",
              "      <td>750</td>\n",
              "      <td>2</td>\n",
              "    </tr>\n",
              "    <tr>\n",
              "      <th>4</th>\n",
              "      <td>809</td>\n",
              "      <td>601</td>\n",
              "      <td>2</td>\n",
              "    </tr>\n",
              "  </tbody>\n",
              "</table>\n",
              "</div>"
            ],
            "text/plain": [
              "   field3  zip1  frek\n",
              "0   -2753   852     3\n",
              "1    2429   950     6\n",
              "2    2429   950     6\n",
              "3    5195   750     2\n",
              "4     809   601     2"
            ]
          },
          "metadata": {
            "tags": []
          },
          "execution_count": 501
        }
      ]
    },
    {
      "cell_type": "code",
      "metadata": {
        "id": "zYwLb99mjtfm",
        "colab_type": "code",
        "outputId": "f020e9d8-446a-446c-ac94-a06798c84432",
        "colab": {
          "base_uri": "https://localhost:8080/",
          "height": 72
        }
      },
      "source": [
        "y.value_counts()"
      ],
      "execution_count": 502,
      "outputs": [
        {
          "output_type": "execute_result",
          "data": {
            "text/plain": [
              "0    39722\n",
              "1     1196\n",
              "Name: Class, dtype: int64"
            ]
          },
          "metadata": {
            "tags": []
          },
          "execution_count": 502
        }
      ]
    },
    {
      "cell_type": "code",
      "metadata": {
        "id": "91-uDNbLc8zp",
        "colab_type": "code",
        "colab": {}
      },
      "source": [
        "X1_train, X1_test, y1_train, y1_test = train_test_split(X1, y, test_size=0.2, random_state=1, stratify=y)\n",
        "X1_train, X1_val, y1_train, y1_val = train_test_split(X1_train, y1_train, test_size=0.25, random_state=1, stratify=y1_train)"
      ],
      "execution_count": 0,
      "outputs": []
    },
    {
      "cell_type": "code",
      "metadata": {
        "id": "MzhMmXpZFNEN",
        "colab_type": "code",
        "outputId": "3c44b081-6d18-4877-bb0d-a134cc2f03d8",
        "colab": {
          "base_uri": "https://localhost:8080/",
          "height": 206
        }
      },
      "source": [
        "X1_train.head()"
      ],
      "execution_count": 504,
      "outputs": [
        {
          "output_type": "execute_result",
          "data": {
            "text/html": [
              "<div>\n",
              "<style scoped>\n",
              "    .dataframe tbody tr th:only-of-type {\n",
              "        vertical-align: middle;\n",
              "    }\n",
              "\n",
              "    .dataframe tbody tr th {\n",
              "        vertical-align: top;\n",
              "    }\n",
              "\n",
              "    .dataframe thead th {\n",
              "        text-align: right;\n",
              "    }\n",
              "</style>\n",
              "<table border=\"1\" class=\"dataframe\">\n",
              "  <thead>\n",
              "    <tr style=\"text-align: right;\">\n",
              "      <th></th>\n",
              "      <th>field3</th>\n",
              "      <th>zip1</th>\n",
              "      <th>frek</th>\n",
              "    </tr>\n",
              "  </thead>\n",
              "  <tbody>\n",
              "    <tr>\n",
              "      <th>21631</th>\n",
              "      <td>4195</td>\n",
              "      <td>941</td>\n",
              "      <td>3</td>\n",
              "    </tr>\n",
              "    <tr>\n",
              "      <th>40117</th>\n",
              "      <td>-3871</td>\n",
              "      <td>103</td>\n",
              "      <td>2</td>\n",
              "    </tr>\n",
              "    <tr>\n",
              "      <th>31005</th>\n",
              "      <td>7656</td>\n",
              "      <td>440</td>\n",
              "      <td>7</td>\n",
              "    </tr>\n",
              "    <tr>\n",
              "      <th>21416</th>\n",
              "      <td>1995</td>\n",
              "      <td>391</td>\n",
              "      <td>2</td>\n",
              "    </tr>\n",
              "    <tr>\n",
              "      <th>22202</th>\n",
              "      <td>2009</td>\n",
              "      <td>510</td>\n",
              "      <td>15</td>\n",
              "    </tr>\n",
              "  </tbody>\n",
              "</table>\n",
              "</div>"
            ],
            "text/plain": [
              "       field3  zip1  frek\n",
              "21631    4195   941     3\n",
              "40117   -3871   103     2\n",
              "31005    7656   440     7\n",
              "21416    1995   391     2\n",
              "22202    2009   510    15"
            ]
          },
          "metadata": {
            "tags": []
          },
          "execution_count": 504
        }
      ]
    },
    {
      "cell_type": "code",
      "metadata": {
        "id": "p2lL6waGc8zy",
        "colab_type": "code",
        "outputId": "2fe9a35c-e718-4b6d-dff0-27baf6d6c5f0",
        "colab": {
          "base_uri": "https://localhost:8080/",
          "height": 35
        }
      },
      "source": [
        "print(len(X1_train),len(X1_val),len(X1_test))"
      ],
      "execution_count": 505,
      "outputs": [
        {
          "output_type": "stream",
          "text": [
            "24550 8184 8184\n"
          ],
          "name": "stdout"
        }
      ]
    },
    {
      "cell_type": "code",
      "metadata": {
        "id": "5QozDgtmkKrv",
        "colab_type": "code",
        "outputId": "04485bd3-f2e1-4813-9316-baf2b7c9e87d",
        "colab": {
          "base_uri": "https://localhost:8080/",
          "height": 35
        }
      },
      "source": [
        "y1train_ab = y1_train[y1_train==1]\n",
        "y1val_ab = y1_val[y1_val==1]\n",
        "y1test_ab = y1_test[y1_test==1]\n",
        "print('fraud train =',len(y1train_ab),'fraud val =',len(y1val_ab),'fraud test =',len(ytest_ab))"
      ],
      "execution_count": 506,
      "outputs": [
        {
          "output_type": "stream",
          "text": [
            "fraud train = 718 fraud val = 239 fraud test = 120\n"
          ],
          "name": "stdout"
        }
      ]
    },
    {
      "cell_type": "code",
      "metadata": {
        "id": "yDXhY2HMc80j",
        "colab_type": "code",
        "colab": {}
      },
      "source": [
        "y_test1 = np.array(y1_test)\n",
        "y_train1=np.array(y1_train)\n",
        "y_val1 = np.array(y1_val)"
      ],
      "execution_count": 0,
      "outputs": []
    },
    {
      "cell_type": "code",
      "metadata": {
        "id": "-u4f_fDwc802",
        "colab_type": "code",
        "outputId": "ba90c8ef-ff94-4399-a9f4-91532fca4c4d",
        "colab": {
          "base_uri": "https://localhost:8080/",
          "height": 55
        }
      },
      "source": [
        "th_train1=len(y1train_ab)/len(y1_train)\n",
        "th_test1=len(y1test_ab)/len(y1_test)\n",
        "th_val1=len(y1val_ab)/len(y1_val)\n",
        "print('threshold train =',th_train1, 'threshold test =', th_test1,'threshold val =', th_val1)"
      ],
      "execution_count": 508,
      "outputs": [
        {
          "output_type": "stream",
          "text": [
            "threshold train = 0.029246435845213848 threshold test = 0.029203323558162266 threshold val = 0.029203323558162266\n"
          ],
          "name": "stdout"
        }
      ]
    },
    {
      "cell_type": "code",
      "metadata": {
        "id": "P5wxl_xO12kR",
        "colab_type": "code",
        "outputId": "d45d7f63-e5ea-4135-9718-5bb3fd4ba063",
        "colab": {
          "base_uri": "https://localhost:8080/",
          "height": 74
        }
      },
      "source": [
        "ifo1 = iForest(X1_train, 100, 256, th_train1)"
      ],
      "execution_count": 509,
      "outputs": [
        {
          "output_type": "stream",
          "text": [
            "/usr/local/lib/python3.6/dist-packages/sklearn/ensemble/iforest.py:247: FutureWarning: behaviour=\"old\" is deprecated and will be removed in version 0.22. Please use behaviour=\"new\", which makes the decision_function change to match other anomaly detection algorithm API.\n",
            "  FutureWarning)\n"
          ],
          "name": "stderr"
        }
      ]
    },
    {
      "cell_type": "code",
      "metadata": {
        "id": "BLADtkriIo3v",
        "colab_type": "code",
        "outputId": "b7790e94-daf5-4d2f-a7c8-35eab4a8bf0f",
        "colab": {
          "base_uri": "https://localhost:8080/",
          "height": 501
        }
      },
      "source": [
        "model_evaluate(ifo1,X1_val,y_val1)"
      ],
      "execution_count": 510,
      "outputs": [
        {
          "output_type": "stream",
          "text": [
            "/usr/local/lib/python3.6/dist-packages/sklearn/ensemble/iforest.py:415: DeprecationWarning: threshold_ attribute is deprecated in 0.20 and will be removed in 0.22.\n",
            "  \" be removed in 0.22.\", DeprecationWarning)\n"
          ],
          "name": "stderr"
        },
        {
          "output_type": "stream",
          "text": [
            "time :  0.309401273727417\n",
            "accuracy :  0.9412267839687195\n",
            "sensitivity :  0.06694560669456066\n",
            "specifity :  0.9675267463813719\n",
            "precision :  0.058394160583941604\n",
            "recall :  0.06694560669456066\n",
            "f1 score :  0.06237816764132554\n",
            "Confusion matrix\n",
            "TP =  16 FP =  258 FN =  223 TN =  7687\n"
          ],
          "name": "stdout"
        },
        {
          "output_type": "display_data",
          "data": {
            "image/png": "[encoded data removed]",
            "text/plain": [
              "<Figure size 576x288 with 2 Axes>"
            ]
          },
          "metadata": {
            "tags": []
          }
        }
      ]
    },
    {
      "cell_type": "code",
      "metadata": {
        "id": "hu3h5yO3c821",
        "colab_type": "code",
        "outputId": "6e21e921-c90c-4c46-87f1-0159b159ce7a",
        "colab": {
          "base_uri": "https://localhost:8080/",
          "height": 501
        }
      },
      "source": [
        "model_evaluate(ifo1, X1_test, y_test1)"
      ],
      "execution_count": 511,
      "outputs": [
        {
          "output_type": "stream",
          "text": [
            "/usr/local/lib/python3.6/dist-packages/sklearn/ensemble/iforest.py:415: DeprecationWarning: threshold_ attribute is deprecated in 0.20 and will be removed in 0.22.\n",
            "  \" be removed in 0.22.\", DeprecationWarning)\n"
          ],
          "name": "stderr"
        },
        {
          "output_type": "stream",
          "text": [
            "time :  0.3040478229522705\n",
            "accuracy :  0.946236559139785\n",
            "sensitivity :  0.08368200836820083\n",
            "specifity :  0.9721837633731907\n",
            "precision :  0.08298755186721991\n",
            "recall :  0.08368200836820083\n",
            "f1 score :  0.08333333333333334\n",
            "Confusion matrix\n",
            "TP =  20 FP =  221 FN =  219 TN =  7724\n"
          ],
          "name": "stdout"
        },
        {
          "output_type": "display_data",
          "data": {
            "image/png": "[encoded data removed]",
            "text/plain": [
              "<Figure size 576x288 with 2 Axes>"
            ]
          },
          "metadata": {
            "tags": []
          }
        }
      ]
    },
    {
      "cell_type": "code",
      "metadata": {
        "id": "8IPuIl2e4JoJ",
        "colab_type": "code",
        "colab": {}
      },
      "source": [
        ""
      ],
      "execution_count": 0,
      "outputs": []
    },
    {
      "cell_type": "markdown",
      "metadata": {
        "id": "VoSewArKfODM",
        "colab_type": "text"
      },
      "source": [
        "### percobaan1.2 - 5 fitur terbaik"
      ]
    },
    {
      "cell_type": "code",
      "metadata": {
        "id": "u03kXu_yfRjJ",
        "colab_type": "code",
        "outputId": "ba15dedc-dba5-44c5-972c-8be0356ed13a",
        "colab": {
          "base_uri": "https://localhost:8080/",
          "height": 206
        }
      },
      "source": [
        "X2 = X[['field3','zip1','frek','field4','hour1']]\n",
        "X2.head()"
      ],
      "execution_count": 512,
      "outputs": [
        {
          "output_type": "execute_result",
          "data": {
            "text/html": [
              "<div>\n",
              "<style scoped>\n",
              "    .dataframe tbody tr th:only-of-type {\n",
              "        vertical-align: middle;\n",
              "    }\n",
              "\n",
              "    .dataframe tbody tr th {\n",
              "        vertical-align: top;\n",
              "    }\n",
              "\n",
              "    .dataframe thead th {\n",
              "        text-align: right;\n",
              "    }\n",
              "</style>\n",
              "<table border=\"1\" class=\"dataframe\">\n",
              "  <thead>\n",
              "    <tr style=\"text-align: right;\">\n",
              "      <th></th>\n",
              "      <th>field3</th>\n",
              "      <th>zip1</th>\n",
              "      <th>frek</th>\n",
              "      <th>field4</th>\n",
              "      <th>hour1</th>\n",
              "    </tr>\n",
              "  </thead>\n",
              "  <tbody>\n",
              "    <tr>\n",
              "      <th>0</th>\n",
              "      <td>-2753</td>\n",
              "      <td>852</td>\n",
              "      <td>3</td>\n",
              "      <td>24</td>\n",
              "      <td>0</td>\n",
              "    </tr>\n",
              "    <tr>\n",
              "      <th>1</th>\n",
              "      <td>2429</td>\n",
              "      <td>950</td>\n",
              "      <td>6</td>\n",
              "      <td>14</td>\n",
              "      <td>0</td>\n",
              "    </tr>\n",
              "    <tr>\n",
              "      <th>2</th>\n",
              "      <td>2429</td>\n",
              "      <td>950</td>\n",
              "      <td>6</td>\n",
              "      <td>14</td>\n",
              "      <td>0</td>\n",
              "    </tr>\n",
              "    <tr>\n",
              "      <th>3</th>\n",
              "      <td>5195</td>\n",
              "      <td>750</td>\n",
              "      <td>2</td>\n",
              "      <td>9</td>\n",
              "      <td>0</td>\n",
              "    </tr>\n",
              "    <tr>\n",
              "      <th>4</th>\n",
              "      <td>809</td>\n",
              "      <td>601</td>\n",
              "      <td>2</td>\n",
              "      <td>7</td>\n",
              "      <td>1</td>\n",
              "    </tr>\n",
              "  </tbody>\n",
              "</table>\n",
              "</div>"
            ],
            "text/plain": [
              "   field3  zip1  frek  field4  hour1\n",
              "0   -2753   852     3      24      0\n",
              "1    2429   950     6      14      0\n",
              "2    2429   950     6      14      0\n",
              "3    5195   750     2       9      0\n",
              "4     809   601     2       7      1"
            ]
          },
          "metadata": {
            "tags": []
          },
          "execution_count": 512
        }
      ]
    },
    {
      "cell_type": "code",
      "metadata": {
        "id": "TYJBxbJrfXG3",
        "colab_type": "code",
        "colab": {}
      },
      "source": [
        "X2_train, X2_test, y2_train, y2_test = train_test_split(X2, y, test_size=0.2, random_state=1, stratify=y)\n",
        "X2_train, X2_val, y2_train, y2_val = train_test_split(X2_train, y2_train, test_size=0.25, random_state=1, stratify=y2_train)"
      ],
      "execution_count": 0,
      "outputs": []
    },
    {
      "cell_type": "code",
      "metadata": {
        "id": "zKy9Guqcfd1h",
        "colab_type": "code",
        "outputId": "df67645e-843a-4822-ac52-9cefdb6fa7a9",
        "colab": {
          "base_uri": "https://localhost:8080/",
          "height": 35
        }
      },
      "source": [
        "print(len(X2_train),len(X2_val),len(X2_test))"
      ],
      "execution_count": 514,
      "outputs": [
        {
          "output_type": "stream",
          "text": [
            "24550 8184 8184\n"
          ],
          "name": "stdout"
        }
      ]
    },
    {
      "cell_type": "code",
      "metadata": {
        "id": "rMkv7TkvfiLX",
        "colab_type": "code",
        "colab": {}
      },
      "source": [
        "y2train_ab = y2_train[y2_train==1]\n",
        "y2val_ab = y2_val[y2_val==1]\n",
        "y2test_ab = y2_test[y2_test==1]"
      ],
      "execution_count": 0,
      "outputs": []
    },
    {
      "cell_type": "code",
      "metadata": {
        "id": "GQm0ago5fsUL",
        "colab_type": "code",
        "colab": {}
      },
      "source": [
        "y_test2 = np.array(y2_test)\n",
        "y_train2=np.array(y2_train)\n",
        "y_val2 = np.array(y2_val)"
      ],
      "execution_count": 0,
      "outputs": []
    },
    {
      "cell_type": "code",
      "metadata": {
        "id": "QN-70jAKfs--",
        "colab_type": "code",
        "outputId": "f23beba5-38d0-4855-a8ed-1eb56c31dc31",
        "colab": {
          "base_uri": "https://localhost:8080/",
          "height": 55
        }
      },
      "source": [
        "th_train2=len(y2train_ab)/len(y2_train)\n",
        "th_test2=len(y2test_ab)/len(y2_test)\n",
        "th_val2=len(y2val_ab)/len(y2_val)\n",
        "print('threshold train =',th_train2, 'threshold test =', th_test2,'threshold val =', th_val2)"
      ],
      "execution_count": 517,
      "outputs": [
        {
          "output_type": "stream",
          "text": [
            "threshold train = 0.029246435845213848 threshold test = 0.029203323558162266 threshold val = 0.029203323558162266\n"
          ],
          "name": "stdout"
        }
      ]
    },
    {
      "cell_type": "code",
      "metadata": {
        "id": "ppQUG8sKfvmM",
        "colab_type": "code",
        "outputId": "215f5343-cd73-4484-ea21-c9071b8316d5",
        "colab": {
          "base_uri": "https://localhost:8080/",
          "height": 74
        }
      },
      "source": [
        "ifo2 = iForest(X2_train, 100, 256, th_train2)"
      ],
      "execution_count": 518,
      "outputs": [
        {
          "output_type": "stream",
          "text": [
            "/usr/local/lib/python3.6/dist-packages/sklearn/ensemble/iforest.py:247: FutureWarning: behaviour=\"old\" is deprecated and will be removed in version 0.22. Please use behaviour=\"new\", which makes the decision_function change to match other anomaly detection algorithm API.\n",
            "  FutureWarning)\n"
          ],
          "name": "stderr"
        }
      ]
    },
    {
      "cell_type": "code",
      "metadata": {
        "id": "otVaCkqKfy7D",
        "colab_type": "code",
        "outputId": "907c360a-233e-4e93-d1fa-d6ecd4aef840",
        "colab": {
          "base_uri": "https://localhost:8080/",
          "height": 501
        }
      },
      "source": [
        "model_evaluate(ifo2,X2_val,y_val2)"
      ],
      "execution_count": 519,
      "outputs": [
        {
          "output_type": "stream",
          "text": [
            "/usr/local/lib/python3.6/dist-packages/sklearn/ensemble/iforest.py:415: DeprecationWarning: threshold_ attribute is deprecated in 0.20 and will be removed in 0.22.\n",
            "  \" be removed in 0.22.\", DeprecationWarning)\n"
          ],
          "name": "stderr"
        },
        {
          "output_type": "stream",
          "text": [
            "time :  0.3158748149871826\n",
            "accuracy :  0.9385386119257088\n",
            "sensitivity :  0.07112970711297072\n",
            "specifity :  0.9646318439269981\n",
            "precision :  0.05704697986577181\n",
            "recall :  0.07112970711297072\n",
            "f1 score :  0.0633147113594041\n",
            "Confusion matrix\n",
            "TP =  17 FP =  281 FN =  222 TN =  7664\n"
          ],
          "name": "stdout"
        },
        {
          "output_type": "display_data",
          "data": {
            "image/png": "[encoded data removed]",
            "text/plain": [
              "<Figure size 576x288 with 2 Axes>"
            ]
          },
          "metadata": {
            "tags": []
          }
        }
      ]
    },
    {
      "cell_type": "code",
      "metadata": {
        "id": "QhGGzCuAf1Zy",
        "colab_type": "code",
        "outputId": "def8bf1b-9a98-491f-b746-f6e6bc1c8e2b",
        "colab": {
          "base_uri": "https://localhost:8080/",
          "height": 501
        }
      },
      "source": [
        "model_evaluate(ifo2, X2_test, y_test2)"
      ],
      "execution_count": 520,
      "outputs": [
        {
          "output_type": "stream",
          "text": [
            "/usr/local/lib/python3.6/dist-packages/sklearn/ensemble/iforest.py:415: DeprecationWarning: threshold_ attribute is deprecated in 0.20 and will be removed in 0.22.\n",
            "  \" be removed in 0.22.\", DeprecationWarning)\n"
          ],
          "name": "stderr"
        },
        {
          "output_type": "stream",
          "text": [
            "time :  0.3178126811981201\n",
            "accuracy :  0.9446480938416423\n",
            "sensitivity :  0.100418410041841\n",
            "specifity :  0.9700440528634361\n",
            "precision :  0.0916030534351145\n",
            "recall :  0.100418410041841\n",
            "f1 score :  0.09580838323353294\n",
            "Confusion matrix\n",
            "TP =  24 FP =  238 FN =  215 TN =  7707\n"
          ],
          "name": "stdout"
        },
        {
          "output_type": "display_data",
          "data": {
            "image/png": "[encoded data removed]",
            "text/plain": [
              "<Figure size 576x288 with 2 Axes>"
            ]
          },
          "metadata": {
            "tags": []
          }
        }
      ]
    },
    {
      "cell_type": "code",
      "metadata": {
        "id": "eoeRNpQdgtPn",
        "colab_type": "code",
        "colab": {}
      },
      "source": [
        ""
      ],
      "execution_count": 0,
      "outputs": []
    },
    {
      "cell_type": "markdown",
      "metadata": {
        "colab_type": "text",
        "id": "MmeQbdX9iFJ2"
      },
      "source": [
        "### percobaan1.3 - 7 fitur terbaik"
      ]
    },
    {
      "cell_type": "code",
      "metadata": {
        "colab_type": "code",
        "outputId": "349c449d-7e5e-4cd6-c7f0-a9356d58b35a",
        "id": "UK4vnpPUiFKL",
        "colab": {
          "base_uri": "https://localhost:8080/",
          "height": 206
        }
      },
      "source": [
        "X3 = X[['field3','zip1','frek','field4','hour1','amount','flag2']]\n",
        "X3.head()"
      ],
      "execution_count": 521,
      "outputs": [
        {
          "output_type": "execute_result",
          "data": {
            "text/html": [
              "<div>\n",
              "<style scoped>\n",
              "    .dataframe tbody tr th:only-of-type {\n",
              "        vertical-align: middle;\n",
              "    }\n",
              "\n",
              "    .dataframe tbody tr th {\n",
              "        vertical-align: top;\n",
              "    }\n",
              "\n",
              "    .dataframe thead th {\n",
              "        text-align: right;\n",
              "    }\n",
              "</style>\n",
              "<table border=\"1\" class=\"dataframe\">\n",
              "  <thead>\n",
              "    <tr style=\"text-align: right;\">\n",
              "      <th></th>\n",
              "      <th>field3</th>\n",
              "      <th>zip1</th>\n",
              "      <th>frek</th>\n",
              "      <th>field4</th>\n",
              "      <th>hour1</th>\n",
              "      <th>amount</th>\n",
              "      <th>flag2</th>\n",
              "    </tr>\n",
              "  </thead>\n",
              "  <tbody>\n",
              "    <tr>\n",
              "      <th>0</th>\n",
              "      <td>-2753</td>\n",
              "      <td>852</td>\n",
              "      <td>3</td>\n",
              "      <td>24</td>\n",
              "      <td>0</td>\n",
              "      <td>12.95</td>\n",
              "      <td>1</td>\n",
              "    </tr>\n",
              "    <tr>\n",
              "      <th>1</th>\n",
              "      <td>2429</td>\n",
              "      <td>950</td>\n",
              "      <td>6</td>\n",
              "      <td>14</td>\n",
              "      <td>0</td>\n",
              "      <td>11.01</td>\n",
              "      <td>0</td>\n",
              "    </tr>\n",
              "    <tr>\n",
              "      <th>2</th>\n",
              "      <td>2429</td>\n",
              "      <td>950</td>\n",
              "      <td>6</td>\n",
              "      <td>14</td>\n",
              "      <td>0</td>\n",
              "      <td>12.95</td>\n",
              "      <td>0</td>\n",
              "    </tr>\n",
              "    <tr>\n",
              "      <th>3</th>\n",
              "      <td>5195</td>\n",
              "      <td>750</td>\n",
              "      <td>2</td>\n",
              "      <td>9</td>\n",
              "      <td>0</td>\n",
              "      <td>12.95</td>\n",
              "      <td>1</td>\n",
              "    </tr>\n",
              "    <tr>\n",
              "      <th>4</th>\n",
              "      <td>809</td>\n",
              "      <td>601</td>\n",
              "      <td>2</td>\n",
              "      <td>7</td>\n",
              "      <td>1</td>\n",
              "      <td>12.95</td>\n",
              "      <td>0</td>\n",
              "    </tr>\n",
              "  </tbody>\n",
              "</table>\n",
              "</div>"
            ],
            "text/plain": [
              "   field3  zip1  frek  field4  hour1  amount  flag2\n",
              "0   -2753   852     3      24      0   12.95      1\n",
              "1    2429   950     6      14      0   11.01      0\n",
              "2    2429   950     6      14      0   12.95      0\n",
              "3    5195   750     2       9      0   12.95      1\n",
              "4     809   601     2       7      1   12.95      0"
            ]
          },
          "metadata": {
            "tags": []
          },
          "execution_count": 521
        }
      ]
    },
    {
      "cell_type": "code",
      "metadata": {
        "colab_type": "code",
        "id": "ZTDmZXSziFLX",
        "colab": {}
      },
      "source": [
        "X3_train, X3_test, y3_train, y3_test = train_test_split(X3, y, test_size=0.2, random_state=1, stratify=y)\n",
        "X3_train, X3_val, y3_train, y3_val = train_test_split(X3_train, y3_train, test_size=0.25, random_state=1, stratify=y3_train)"
      ],
      "execution_count": 0,
      "outputs": []
    },
    {
      "cell_type": "code",
      "metadata": {
        "colab_type": "code",
        "outputId": "be4b4efc-793a-49f1-951a-e1ea8fbae9c3",
        "id": "4tId0zLdiFMD",
        "colab": {
          "base_uri": "https://localhost:8080/",
          "height": 35
        }
      },
      "source": [
        "print(len(X3_train),len(X3_val),len(X3_test))"
      ],
      "execution_count": 523,
      "outputs": [
        {
          "output_type": "stream",
          "text": [
            "24550 8184 8184\n"
          ],
          "name": "stdout"
        }
      ]
    },
    {
      "cell_type": "code",
      "metadata": {
        "colab_type": "code",
        "id": "ONHNwT7UiFMu",
        "colab": {}
      },
      "source": [
        "y3train_ab = y3_train[y3_train==1]\n",
        "y3val_ab = y3_val[y3_val==1]\n",
        "y3test_ab = y3_test[y3_test==1]"
      ],
      "execution_count": 0,
      "outputs": []
    },
    {
      "cell_type": "code",
      "metadata": {
        "colab_type": "code",
        "id": "Q_f0bxiXiFM4",
        "colab": {}
      },
      "source": [
        "y_test3 = np.array(y3_test)\n",
        "y_train3=np.array(y3_train)\n",
        "y_val3 = np.array(y3_val)"
      ],
      "execution_count": 0,
      "outputs": []
    },
    {
      "cell_type": "code",
      "metadata": {
        "colab_type": "code",
        "outputId": "18463cee-4861-4751-967f-5620342820ae",
        "id": "KF9JdVAZiFND",
        "colab": {
          "base_uri": "https://localhost:8080/",
          "height": 55
        }
      },
      "source": [
        "th_train3=len(y3train_ab)/len(y3_train)\n",
        "th_test3=len(y3test_ab)/len(y3_test)\n",
        "th_val3=len(y3val_ab)/len(y3_val)\n",
        "print('threshold train =',th_train3, 'threshold test =', th_test3,'threshold val =', th_val3)"
      ],
      "execution_count": 526,
      "outputs": [
        {
          "output_type": "stream",
          "text": [
            "threshold train = 0.029246435845213848 threshold test = 0.029203323558162266 threshold val = 0.029203323558162266\n"
          ],
          "name": "stdout"
        }
      ]
    },
    {
      "cell_type": "code",
      "metadata": {
        "colab_type": "code",
        "outputId": "51aeb2a0-045a-4217-a35f-a6d69981edde",
        "id": "tCfI_Cd5iFNT",
        "colab": {
          "base_uri": "https://localhost:8080/",
          "height": 74
        }
      },
      "source": [
        "ifo3 = iForest(X3_train, 100, 256, th_train3)"
      ],
      "execution_count": 527,
      "outputs": [
        {
          "output_type": "stream",
          "text": [
            "/usr/local/lib/python3.6/dist-packages/sklearn/ensemble/iforest.py:247: FutureWarning: behaviour=\"old\" is deprecated and will be removed in version 0.22. Please use behaviour=\"new\", which makes the decision_function change to match other anomaly detection algorithm API.\n",
            "  FutureWarning)\n"
          ],
          "name": "stderr"
        }
      ]
    },
    {
      "cell_type": "code",
      "metadata": {
        "colab_type": "code",
        "outputId": "66d06e6a-42dc-4bbf-90dd-d32df202d5cc",
        "id": "z3pYoZhXiFNg",
        "colab": {
          "base_uri": "https://localhost:8080/",
          "height": 501
        }
      },
      "source": [
        "model_evaluate(ifo3,X3_val,y_val3)"
      ],
      "execution_count": 528,
      "outputs": [
        {
          "output_type": "stream",
          "text": [
            "/usr/local/lib/python3.6/dist-packages/sklearn/ensemble/iforest.py:415: DeprecationWarning: threshold_ attribute is deprecated in 0.20 and will be removed in 0.22.\n",
            "  \" be removed in 0.22.\", DeprecationWarning)\n"
          ],
          "name": "stderr"
        },
        {
          "output_type": "stream",
          "text": [
            "time :  0.3333280086517334\n",
            "accuracy :  0.9417155425219942\n",
            "sensitivity :  0.07112970711297072\n",
            "specifity :  0.9679043423536816\n",
            "precision :  0.0625\n",
            "recall :  0.07112970711297072\n",
            "f1 score :  0.06653620352250489\n",
            "Confusion matrix\n",
            "TP =  17 FP =  255 FN =  222 TN =  7690\n"
          ],
          "name": "stdout"
        },
        {
          "output_type": "display_data",
          "data": {
            "image/png": "[encoded data removed]",
            "text/plain": [
              "<Figure size 576x288 with 2 Axes>"
            ]
          },
          "metadata": {
            "tags": []
          }
        }
      ]
    },
    {
      "cell_type": "code",
      "metadata": {
        "colab_type": "code",
        "outputId": "2b4de475-bf6f-4902-f304-4f74d5d4a729",
        "id": "QBxNoId8iFNt",
        "colab": {
          "base_uri": "https://localhost:8080/",
          "height": 501
        }
      },
      "source": [
        "model_evaluate(ifo3, X3_test, y_test3)"
      ],
      "execution_count": 529,
      "outputs": [
        {
          "output_type": "stream",
          "text": [
            "/usr/local/lib/python3.6/dist-packages/sklearn/ensemble/iforest.py:415: DeprecationWarning: threshold_ attribute is deprecated in 0.20 and will be removed in 0.22.\n",
            "  \" be removed in 0.22.\", DeprecationWarning)\n"
          ],
          "name": "stderr"
        },
        {
          "output_type": "stream",
          "text": [
            "time :  0.33965349197387695\n",
            "accuracy :  0.946603128054741\n",
            "sensitivity :  0.08786610878661087\n",
            "specifity :  0.9724354940213971\n",
            "precision :  0.0875\n",
            "recall :  0.08786610878661087\n",
            "f1 score :  0.08768267223382047\n",
            "Confusion matrix\n",
            "TP =  21 FP =  219 FN =  218 TN =  7726\n"
          ],
          "name": "stdout"
        },
        {
          "output_type": "display_data",
          "data": {
            "image/png": "[encoded data removed]",
            "text/plain": [
              "<Figure size 576x288 with 2 Axes>"
            ]
          },
          "metadata": {
            "tags": []
          }
        }
      ]
    },
    {
      "cell_type": "code",
      "metadata": {
        "colab_type": "code",
        "id": "RN-nMnqRiFN3",
        "colab": {}
      },
      "source": [
        ""
      ],
      "execution_count": 0,
      "outputs": []
    },
    {
      "cell_type": "markdown",
      "metadata": {
        "colab_type": "text",
        "id": "9GkkEbALjLsP"
      },
      "source": [
        "### percobaan1.4 - 10 fitur terbaik"
      ]
    },
    {
      "cell_type": "code",
      "metadata": {
        "colab_type": "code",
        "outputId": "d3dc7900-4bcc-49a4-d0fc-a69871471844",
        "id": "4mI-O87AjLtZ",
        "colab": {
          "base_uri": "https://localhost:8080/",
          "height": 206
        }
      },
      "source": [
        "X4 = X[['field3','zip1','frek','field4','hour1','amount','flag2','field1','flag5','flag1']]\n",
        "X4.head()"
      ],
      "execution_count": 530,
      "outputs": [
        {
          "output_type": "execute_result",
          "data": {
            "text/html": [
              "<div>\n",
              "<style scoped>\n",
              "    .dataframe tbody tr th:only-of-type {\n",
              "        vertical-align: middle;\n",
              "    }\n",
              "\n",
              "    .dataframe tbody tr th {\n",
              "        vertical-align: top;\n",
              "    }\n",
              "\n",
              "    .dataframe thead th {\n",
              "        text-align: right;\n",
              "    }\n",
              "</style>\n",
              "<table border=\"1\" class=\"dataframe\">\n",
              "  <thead>\n",
              "    <tr style=\"text-align: right;\">\n",
              "      <th></th>\n",
              "      <th>field3</th>\n",
              "      <th>zip1</th>\n",
              "      <th>frek</th>\n",
              "      <th>field4</th>\n",
              "      <th>hour1</th>\n",
              "      <th>amount</th>\n",
              "      <th>flag2</th>\n",
              "      <th>field1</th>\n",
              "      <th>flag5</th>\n",
              "      <th>flag1</th>\n",
              "    </tr>\n",
              "  </thead>\n",
              "  <tbody>\n",
              "    <tr>\n",
              "      <th>0</th>\n",
              "      <td>-2753</td>\n",
              "      <td>852</td>\n",
              "      <td>3</td>\n",
              "      <td>24</td>\n",
              "      <td>0</td>\n",
              "      <td>12.95</td>\n",
              "      <td>1</td>\n",
              "      <td>3</td>\n",
              "      <td>1</td>\n",
              "      <td>1</td>\n",
              "    </tr>\n",
              "    <tr>\n",
              "      <th>1</th>\n",
              "      <td>2429</td>\n",
              "      <td>950</td>\n",
              "      <td>6</td>\n",
              "      <td>14</td>\n",
              "      <td>0</td>\n",
              "      <td>11.01</td>\n",
              "      <td>0</td>\n",
              "      <td>3</td>\n",
              "      <td>1</td>\n",
              "      <td>0</td>\n",
              "    </tr>\n",
              "    <tr>\n",
              "      <th>2</th>\n",
              "      <td>2429</td>\n",
              "      <td>950</td>\n",
              "      <td>6</td>\n",
              "      <td>14</td>\n",
              "      <td>0</td>\n",
              "      <td>12.95</td>\n",
              "      <td>0</td>\n",
              "      <td>3</td>\n",
              "      <td>1</td>\n",
              "      <td>0</td>\n",
              "    </tr>\n",
              "    <tr>\n",
              "      <th>3</th>\n",
              "      <td>5195</td>\n",
              "      <td>750</td>\n",
              "      <td>2</td>\n",
              "      <td>9</td>\n",
              "      <td>0</td>\n",
              "      <td>12.95</td>\n",
              "      <td>1</td>\n",
              "      <td>3</td>\n",
              "      <td>1</td>\n",
              "      <td>1</td>\n",
              "    </tr>\n",
              "    <tr>\n",
              "      <th>4</th>\n",
              "      <td>809</td>\n",
              "      <td>601</td>\n",
              "      <td>2</td>\n",
              "      <td>7</td>\n",
              "      <td>1</td>\n",
              "      <td>12.95</td>\n",
              "      <td>0</td>\n",
              "      <td>2</td>\n",
              "      <td>1</td>\n",
              "      <td>1</td>\n",
              "    </tr>\n",
              "  </tbody>\n",
              "</table>\n",
              "</div>"
            ],
            "text/plain": [
              "   field3  zip1  frek  field4  hour1  amount  flag2  field1  flag5  flag1\n",
              "0   -2753   852     3      24      0   12.95      1       3      1      1\n",
              "1    2429   950     6      14      0   11.01      0       3      1      0\n",
              "2    2429   950     6      14      0   12.95      0       3      1      0\n",
              "3    5195   750     2       9      0   12.95      1       3      1      1\n",
              "4     809   601     2       7      1   12.95      0       2      1      1"
            ]
          },
          "metadata": {
            "tags": []
          },
          "execution_count": 530
        }
      ]
    },
    {
      "cell_type": "code",
      "metadata": {
        "colab_type": "code",
        "id": "M67VBZ9CjLv-",
        "colab": {}
      },
      "source": [
        "X4_train, X4_test, y4_train, y4_test = train_test_split(X4, y, test_size=0.2, random_state=1, stratify=y)\n",
        "X4_train, X4_val, y4_train, y4_val = train_test_split(X4_train, y4_train, test_size=0.25, random_state=1, stratify=y4_train)"
      ],
      "execution_count": 0,
      "outputs": []
    },
    {
      "cell_type": "code",
      "metadata": {
        "colab_type": "code",
        "outputId": "135ba6ac-c251-4cec-a8e6-9cdd9de2210d",
        "id": "R6q76RIsjLwq",
        "colab": {
          "base_uri": "https://localhost:8080/",
          "height": 35
        }
      },
      "source": [
        "print(len(X4_train),len(X4_val),len(X4_test))"
      ],
      "execution_count": 532,
      "outputs": [
        {
          "output_type": "stream",
          "text": [
            "24550 8184 8184\n"
          ],
          "name": "stdout"
        }
      ]
    },
    {
      "cell_type": "code",
      "metadata": {
        "colab_type": "code",
        "id": "1_rsLn1LjLx2",
        "colab": {}
      },
      "source": [
        "y4train_ab = y4_train[y4_train==1]\n",
        "y4val_ab = y4_val[y4_val==1]\n",
        "y4test_ab = y4_test[y4_test==1]"
      ],
      "execution_count": 0,
      "outputs": []
    },
    {
      "cell_type": "code",
      "metadata": {
        "colab_type": "code",
        "id": "lyz7MLVbjLyK",
        "colab": {}
      },
      "source": [
        "y_test4 = np.array(y4_test)\n",
        "y_train4=np.array(y4_train)\n",
        "y_val4 = np.array(y4_val)"
      ],
      "execution_count": 0,
      "outputs": []
    },
    {
      "cell_type": "code",
      "metadata": {
        "colab_type": "code",
        "outputId": "786bc127-ceb2-441d-9af3-4c97c4118d4d",
        "id": "7Aj6BWppjLye",
        "colab": {
          "base_uri": "https://localhost:8080/",
          "height": 55
        }
      },
      "source": [
        "th_train4=len(y4train_ab)/len(y4_train)\n",
        "th_test4=len(y4test_ab)/len(y4_test)\n",
        "th_val4=len(y4val_ab)/len(y4_val)\n",
        "print('threshold train =',th_train4, 'threshold test =', th_test4,'threshold val =', th_val4)"
      ],
      "execution_count": 535,
      "outputs": [
        {
          "output_type": "stream",
          "text": [
            "threshold train = 0.029246435845213848 threshold test = 0.029203323558162266 threshold val = 0.029203323558162266\n"
          ],
          "name": "stdout"
        }
      ]
    },
    {
      "cell_type": "code",
      "metadata": {
        "colab_type": "code",
        "outputId": "66067512-3cdb-4482-8939-b625dca8a15a",
        "id": "sf-cQE5TjLyz",
        "colab": {
          "base_uri": "https://localhost:8080/",
          "height": 74
        }
      },
      "source": [
        "ifo4 = iForest(X4_train, 100, 256, th_train4)"
      ],
      "execution_count": 536,
      "outputs": [
        {
          "output_type": "stream",
          "text": [
            "/usr/local/lib/python3.6/dist-packages/sklearn/ensemble/iforest.py:247: FutureWarning: behaviour=\"old\" is deprecated and will be removed in version 0.22. Please use behaviour=\"new\", which makes the decision_function change to match other anomaly detection algorithm API.\n",
            "  FutureWarning)\n"
          ],
          "name": "stderr"
        }
      ]
    },
    {
      "cell_type": "code",
      "metadata": {
        "colab_type": "code",
        "outputId": "df7e61d8-97a2-4c76-d3c7-1c085afa5b24",
        "id": "nMaDA_b0jLy_",
        "colab": {
          "base_uri": "https://localhost:8080/",
          "height": 501
        }
      },
      "source": [
        "model_evaluate(ifo4,X4_val,y_val4)"
      ],
      "execution_count": 537,
      "outputs": [
        {
          "output_type": "stream",
          "text": [
            "/usr/local/lib/python3.6/dist-packages/sklearn/ensemble/iforest.py:415: DeprecationWarning: threshold_ attribute is deprecated in 0.20 and will be removed in 0.22.\n",
            "  \" be removed in 0.22.\", DeprecationWarning)\n"
          ],
          "name": "stderr"
        },
        {
          "output_type": "stream",
          "text": [
            "time :  0.3457367420196533\n",
            "accuracy :  0.9464809384164223\n",
            "sensitivity :  0.08786610878661087\n",
            "specifity :  0.9723096286972939\n",
            "precision :  0.08713692946058091\n",
            "recall :  0.08786610878661087\n",
            "f1 score :  0.0875\n",
            "Confusion matrix\n",
            "TP =  21 FP =  220 FN =  218 TN =  7725\n"
          ],
          "name": "stdout"
        },
        {
          "output_type": "display_data",
          "data": {
            "image/png": "[encoded data removed]",
            "text/plain": [
              "<Figure size 576x288 with 2 Axes>"
            ]
          },
          "metadata": {
            "tags": []
          }
        }
      ]
    },
    {
      "cell_type": "code",
      "metadata": {
        "colab_type": "code",
        "outputId": "11658da1-13f9-4eb6-8721-7be3d808881e",
        "id": "qy_v4HZ2jLzN",
        "colab": {
          "base_uri": "https://localhost:8080/",
          "height": 501
        }
      },
      "source": [
        "model_evaluate(ifo4, X4_test, y_test4)"
      ],
      "execution_count": 538,
      "outputs": [
        {
          "output_type": "stream",
          "text": [
            "/usr/local/lib/python3.6/dist-packages/sklearn/ensemble/iforest.py:415: DeprecationWarning: threshold_ attribute is deprecated in 0.20 and will be removed in 0.22.\n",
            "  \" be removed in 0.22.\", DeprecationWarning)\n"
          ],
          "name": "stderr"
        },
        {
          "output_type": "stream",
          "text": [
            "time :  0.35643887519836426\n",
            "accuracy :  0.947336265884653\n",
            "sensitivity :  0.09623430962343096\n",
            "specifity :  0.9729389553178099\n",
            "precision :  0.09663865546218488\n",
            "recall :  0.09623430962343096\n",
            "f1 score :  0.09643605870020963\n",
            "Confusion matrix\n",
            "TP =  23 FP =  215 FN =  216 TN =  7730\n"
          ],
          "name": "stdout"
        },
        {
          "output_type": "display_data",
          "data": {
            "image/png": "[encoded data removed]",
            "text/plain": [
              "<Figure size 576x288 with 2 Axes>"
            ]
          },
          "metadata": {
            "tags": []
          }
        }
      ]
    },
    {
      "cell_type": "code",
      "metadata": {
        "colab_type": "code",
        "id": "45RH-NhZjLzd",
        "colab": {}
      },
      "source": [
        ""
      ],
      "execution_count": 0,
      "outputs": []
    },
    {
      "cell_type": "markdown",
      "metadata": {
        "colab_type": "text",
        "id": "XIhMcq1V7N2l"
      },
      "source": [
        "### percobaan1.5 - 11 fitur terbaik"
      ]
    },
    {
      "cell_type": "code",
      "metadata": {
        "colab_type": "code",
        "outputId": "d6538886-819d-4f8e-99b6-70dd02abf7f3",
        "id": "G4WAqx6u7N3t",
        "colab": {
          "base_uri": "https://localhost:8080/",
          "height": 206
        }
      },
      "source": [
        "X5 = X[['field3','zip1','frek','field4','hour1','amount','flag2','field1','flag5','flag1','flag3']]\n",
        "X5.head()"
      ],
      "execution_count": 539,
      "outputs": [
        {
          "output_type": "execute_result",
          "data": {
            "text/html": [
              "<div>\n",
              "<style scoped>\n",
              "    .dataframe tbody tr th:only-of-type {\n",
              "        vertical-align: middle;\n",
              "    }\n",
              "\n",
              "    .dataframe tbody tr th {\n",
              "        vertical-align: top;\n",
              "    }\n",
              "\n",
              "    .dataframe thead th {\n",
              "        text-align: right;\n",
              "    }\n",
              "</style>\n",
              "<table border=\"1\" class=\"dataframe\">\n",
              "  <thead>\n",
              "    <tr style=\"text-align: right;\">\n",
              "      <th></th>\n",
              "      <th>field3</th>\n",
              "      <th>zip1</th>\n",
              "      <th>frek</th>\n",
              "      <th>field4</th>\n",
              "      <th>hour1</th>\n",
              "      <th>amount</th>\n",
              "      <th>flag2</th>\n",
              "      <th>field1</th>\n",
              "      <th>flag5</th>\n",
              "      <th>flag1</th>\n",
              "      <th>flag3</th>\n",
              "    </tr>\n",
              "  </thead>\n",
              "  <tbody>\n",
              "    <tr>\n",
              "      <th>0</th>\n",
              "      <td>-2753</td>\n",
              "      <td>852</td>\n",
              "      <td>3</td>\n",
              "      <td>24</td>\n",
              "      <td>0</td>\n",
              "      <td>12.95</td>\n",
              "      <td>1</td>\n",
              "      <td>3</td>\n",
              "      <td>1</td>\n",
              "      <td>1</td>\n",
              "      <td>1</td>\n",
              "    </tr>\n",
              "    <tr>\n",
              "      <th>1</th>\n",
              "      <td>2429</td>\n",
              "      <td>950</td>\n",
              "      <td>6</td>\n",
              "      <td>14</td>\n",
              "      <td>0</td>\n",
              "      <td>11.01</td>\n",
              "      <td>0</td>\n",
              "      <td>3</td>\n",
              "      <td>1</td>\n",
              "      <td>0</td>\n",
              "      <td>0</td>\n",
              "    </tr>\n",
              "    <tr>\n",
              "      <th>2</th>\n",
              "      <td>2429</td>\n",
              "      <td>950</td>\n",
              "      <td>6</td>\n",
              "      <td>14</td>\n",
              "      <td>0</td>\n",
              "      <td>12.95</td>\n",
              "      <td>0</td>\n",
              "      <td>3</td>\n",
              "      <td>1</td>\n",
              "      <td>0</td>\n",
              "      <td>0</td>\n",
              "    </tr>\n",
              "    <tr>\n",
              "      <th>3</th>\n",
              "      <td>5195</td>\n",
              "      <td>750</td>\n",
              "      <td>2</td>\n",
              "      <td>9</td>\n",
              "      <td>0</td>\n",
              "      <td>12.95</td>\n",
              "      <td>1</td>\n",
              "      <td>3</td>\n",
              "      <td>1</td>\n",
              "      <td>1</td>\n",
              "      <td>1</td>\n",
              "    </tr>\n",
              "    <tr>\n",
              "      <th>4</th>\n",
              "      <td>809</td>\n",
              "      <td>601</td>\n",
              "      <td>2</td>\n",
              "      <td>7</td>\n",
              "      <td>1</td>\n",
              "      <td>12.95</td>\n",
              "      <td>0</td>\n",
              "      <td>2</td>\n",
              "      <td>1</td>\n",
              "      <td>1</td>\n",
              "      <td>0</td>\n",
              "    </tr>\n",
              "  </tbody>\n",
              "</table>\n",
              "</div>"
            ],
            "text/plain": [
              "   field3  zip1  frek  field4  hour1  ...  flag2  field1  flag5  flag1  flag3\n",
              "0   -2753   852     3      24      0  ...      1       3      1      1      1\n",
              "1    2429   950     6      14      0  ...      0       3      1      0      0\n",
              "2    2429   950     6      14      0  ...      0       3      1      0      0\n",
              "3    5195   750     2       9      0  ...      1       3      1      1      1\n",
              "4     809   601     2       7      1  ...      0       2      1      1      0\n",
              "\n",
              "[5 rows x 11 columns]"
            ]
          },
          "metadata": {
            "tags": []
          },
          "execution_count": 539
        }
      ]
    },
    {
      "cell_type": "code",
      "metadata": {
        "colab_type": "code",
        "id": "zTXpqbj57N6C",
        "colab": {}
      },
      "source": [
        "X5_train, X5_test, y5_train, y5_test = train_test_split(X5, y, test_size=0.2, random_state=1, stratify=y)\n",
        "X5_train, X5_val, y5_train, y5_val = train_test_split(X5_train, y5_train, test_size=0.25, random_state=1, stratify=y5_train)"
      ],
      "execution_count": 0,
      "outputs": []
    },
    {
      "cell_type": "code",
      "metadata": {
        "colab_type": "code",
        "outputId": "00cd831d-c46e-493d-cce9-00f72268807f",
        "id": "-qhAVYL77N6c",
        "colab": {
          "base_uri": "https://localhost:8080/",
          "height": 35
        }
      },
      "source": [
        "print(len(X5_train),len(X5_val),len(X5_test))"
      ],
      "execution_count": 541,
      "outputs": [
        {
          "output_type": "stream",
          "text": [
            "24550 8184 8184\n"
          ],
          "name": "stdout"
        }
      ]
    },
    {
      "cell_type": "code",
      "metadata": {
        "colab_type": "code",
        "id": "53QGit737N7C",
        "colab": {}
      },
      "source": [
        "y5train_ab = y5_train[y5_train==1]\n",
        "y5val_ab = y5_val[y5_val==1]\n",
        "y5test_ab = y5_test[y5_test==1]"
      ],
      "execution_count": 0,
      "outputs": []
    },
    {
      "cell_type": "code",
      "metadata": {
        "colab_type": "code",
        "id": "CM1XGnYb7N7W",
        "colab": {}
      },
      "source": [
        "y_test5 = np.array(y5_test)\n",
        "y_train5=np.array(y5_train)\n",
        "y_val5 = np.array(y5_val)"
      ],
      "execution_count": 0,
      "outputs": []
    },
    {
      "cell_type": "code",
      "metadata": {
        "colab_type": "code",
        "outputId": "9348cc11-4b2a-464c-8196-ab11688fac9a",
        "id": "kGtV9zLA7N7n",
        "colab": {
          "base_uri": "https://localhost:8080/",
          "height": 55
        }
      },
      "source": [
        "th_train5=len(y5train_ab)/len(y5_train)\n",
        "th_test5=len(y5test_ab)/len(y5_test)\n",
        "th_val5=len(y5val_ab)/len(y5_val)\n",
        "print('threshold train =',th_train5, 'threshold test =', th_test5,'threshold val =', th_val5)"
      ],
      "execution_count": 544,
      "outputs": [
        {
          "output_type": "stream",
          "text": [
            "threshold train = 0.029246435845213848 threshold test = 0.029203323558162266 threshold val = 0.029203323558162266\n"
          ],
          "name": "stdout"
        }
      ]
    },
    {
      "cell_type": "code",
      "metadata": {
        "colab_type": "code",
        "outputId": "5ee29bbf-883a-48ad-faa4-20575177b9c4",
        "id": "3dSAvu2q7N71",
        "colab": {
          "base_uri": "https://localhost:8080/",
          "height": 74
        }
      },
      "source": [
        "ifo5 = iForest(X5_train, 100, 256, th_train5)"
      ],
      "execution_count": 545,
      "outputs": [
        {
          "output_type": "stream",
          "text": [
            "/usr/local/lib/python3.6/dist-packages/sklearn/ensemble/iforest.py:247: FutureWarning: behaviour=\"old\" is deprecated and will be removed in version 0.22. Please use behaviour=\"new\", which makes the decision_function change to match other anomaly detection algorithm API.\n",
            "  FutureWarning)\n"
          ],
          "name": "stderr"
        }
      ]
    },
    {
      "cell_type": "code",
      "metadata": {
        "colab_type": "code",
        "outputId": "209d65e6-9ab0-4c60-b964-d0381270e3ef",
        "id": "pMwCLlYd7N7_",
        "colab": {
          "base_uri": "https://localhost:8080/",
          "height": 501
        }
      },
      "source": [
        "model_evaluate(ifo5,X5_val,y_val5)"
      ],
      "execution_count": 546,
      "outputs": [
        {
          "output_type": "stream",
          "text": [
            "/usr/local/lib/python3.6/dist-packages/sklearn/ensemble/iforest.py:415: DeprecationWarning: threshold_ attribute is deprecated in 0.20 and will be removed in 0.22.\n",
            "  \" be removed in 0.22.\", DeprecationWarning)\n"
          ],
          "name": "stderr"
        },
        {
          "output_type": "stream",
          "text": [
            "time :  0.38214731216430664\n",
            "accuracy :  0.948069403714565\n",
            "sensitivity :  0.100418410041841\n",
            "specifity :  0.973568281938326\n",
            "precision :  0.10256410256410256\n",
            "recall :  0.100418410041841\n",
            "f1 score :  0.10147991543340379\n",
            "Confusion matrix\n",
            "TP =  24 FP =  210 FN =  215 TN =  7735\n"
          ],
          "name": "stdout"
        },
        {
          "output_type": "display_data",
          "data": {
            "image/png": "[encoded data removed]",
            "text/plain": [
              "<Figure size 576x288 with 2 Axes>"
            ]
          },
          "metadata": {
            "tags": []
          }
        }
      ]
    },
    {
      "cell_type": "code",
      "metadata": {
        "colab_type": "code",
        "outputId": "89f5edcf-0115-4314-8490-4d44dccd2251",
        "id": "n9aJF4DH7N8N",
        "colab": {
          "base_uri": "https://localhost:8080/",
          "height": 501
        }
      },
      "source": [
        "model_evaluate(ifo5, X5_test, y_test5)"
      ],
      "execution_count": 547,
      "outputs": [
        {
          "output_type": "stream",
          "text": [
            "/usr/local/lib/python3.6/dist-packages/sklearn/ensemble/iforest.py:415: DeprecationWarning: threshold_ attribute is deprecated in 0.20 and will be removed in 0.22.\n",
            "  \" be removed in 0.22.\", DeprecationWarning)\n"
          ],
          "name": "stderr"
        },
        {
          "output_type": "stream",
          "text": [
            "time :  0.38242006301879883\n",
            "accuracy :  0.945503421309873\n",
            "sensitivity :  0.09205020920502092\n",
            "specifity :  0.971176840780365\n",
            "precision :  0.08764940239043825\n",
            "recall :  0.09205020920502092\n",
            "f1 score :  0.08979591836734695\n",
            "Confusion matrix\n",
            "TP =  22 FP =  229 FN =  217 TN =  7716\n"
          ],
          "name": "stdout"
        },
        {
          "output_type": "display_data",
          "data": {
            "image/png": "[encoded data removed]",
            "text/plain": [
              "<Figure size 576x288 with 2 Axes>"
            ]
          },
          "metadata": {
            "tags": []
          }
        }
      ]
    },
    {
      "cell_type": "code",
      "metadata": {
        "colab_type": "code",
        "id": "sjvftGyY7N8h",
        "colab": {}
      },
      "source": [
        ""
      ],
      "execution_count": 0,
      "outputs": []
    },
    {
      "cell_type": "markdown",
      "metadata": {
        "colab_type": "text",
        "id": "LrclOfcl8h5C"
      },
      "source": [
        "### percobaan1.6 - 12 fitur terbaik"
      ]
    },
    {
      "cell_type": "code",
      "metadata": {
        "colab_type": "code",
        "outputId": "0df73e8b-5b3e-4947-cdb9-c3ed494b5be3",
        "id": "JY2Kv7nq8h6A",
        "colab": {
          "base_uri": "https://localhost:8080/",
          "height": 206
        }
      },
      "source": [
        "X6 = X[['field3','zip1','frek','field4','hour1','amount','flag2','field1','flag5','flag1','flag3','field2']]\n",
        "X6.head()"
      ],
      "execution_count": 548,
      "outputs": [
        {
          "output_type": "execute_result",
          "data": {
            "text/html": [
              "<div>\n",
              "<style scoped>\n",
              "    .dataframe tbody tr th:only-of-type {\n",
              "        vertical-align: middle;\n",
              "    }\n",
              "\n",
              "    .dataframe tbody tr th {\n",
              "        vertical-align: top;\n",
              "    }\n",
              "\n",
              "    .dataframe thead th {\n",
              "        text-align: right;\n",
              "    }\n",
              "</style>\n",
              "<table border=\"1\" class=\"dataframe\">\n",
              "  <thead>\n",
              "    <tr style=\"text-align: right;\">\n",
              "      <th></th>\n",
              "      <th>field3</th>\n",
              "      <th>zip1</th>\n",
              "      <th>frek</th>\n",
              "      <th>field4</th>\n",
              "      <th>hour1</th>\n",
              "      <th>amount</th>\n",
              "      <th>flag2</th>\n",
              "      <th>field1</th>\n",
              "      <th>flag5</th>\n",
              "      <th>flag1</th>\n",
              "      <th>flag3</th>\n",
              "      <th>field2</th>\n",
              "    </tr>\n",
              "  </thead>\n",
              "  <tbody>\n",
              "    <tr>\n",
              "      <th>0</th>\n",
              "      <td>-2753</td>\n",
              "      <td>852</td>\n",
              "      <td>3</td>\n",
              "      <td>24</td>\n",
              "      <td>0</td>\n",
              "      <td>12.95</td>\n",
              "      <td>1</td>\n",
              "      <td>3</td>\n",
              "      <td>1</td>\n",
              "      <td>1</td>\n",
              "      <td>1</td>\n",
              "      <td>0</td>\n",
              "    </tr>\n",
              "    <tr>\n",
              "      <th>1</th>\n",
              "      <td>2429</td>\n",
              "      <td>950</td>\n",
              "      <td>6</td>\n",
              "      <td>14</td>\n",
              "      <td>0</td>\n",
              "      <td>11.01</td>\n",
              "      <td>0</td>\n",
              "      <td>3</td>\n",
              "      <td>1</td>\n",
              "      <td>0</td>\n",
              "      <td>0</td>\n",
              "      <td>0</td>\n",
              "    </tr>\n",
              "    <tr>\n",
              "      <th>2</th>\n",
              "      <td>2429</td>\n",
              "      <td>950</td>\n",
              "      <td>6</td>\n",
              "      <td>14</td>\n",
              "      <td>0</td>\n",
              "      <td>12.95</td>\n",
              "      <td>0</td>\n",
              "      <td>3</td>\n",
              "      <td>1</td>\n",
              "      <td>0</td>\n",
              "      <td>0</td>\n",
              "      <td>0</td>\n",
              "    </tr>\n",
              "    <tr>\n",
              "      <th>3</th>\n",
              "      <td>5195</td>\n",
              "      <td>750</td>\n",
              "      <td>2</td>\n",
              "      <td>9</td>\n",
              "      <td>0</td>\n",
              "      <td>12.95</td>\n",
              "      <td>1</td>\n",
              "      <td>3</td>\n",
              "      <td>1</td>\n",
              "      <td>1</td>\n",
              "      <td>1</td>\n",
              "      <td>0</td>\n",
              "    </tr>\n",
              "    <tr>\n",
              "      <th>4</th>\n",
              "      <td>809</td>\n",
              "      <td>601</td>\n",
              "      <td>2</td>\n",
              "      <td>7</td>\n",
              "      <td>1</td>\n",
              "      <td>12.95</td>\n",
              "      <td>0</td>\n",
              "      <td>2</td>\n",
              "      <td>1</td>\n",
              "      <td>1</td>\n",
              "      <td>0</td>\n",
              "      <td>0</td>\n",
              "    </tr>\n",
              "  </tbody>\n",
              "</table>\n",
              "</div>"
            ],
            "text/plain": [
              "   field3  zip1  frek  field4  hour1  ...  field1  flag5  flag1  flag3  field2\n",
              "0   -2753   852     3      24      0  ...       3      1      1      1       0\n",
              "1    2429   950     6      14      0  ...       3      1      0      0       0\n",
              "2    2429   950     6      14      0  ...       3      1      0      0       0\n",
              "3    5195   750     2       9      0  ...       3      1      1      1       0\n",
              "4     809   601     2       7      1  ...       2      1      1      0       0\n",
              "\n",
              "[5 rows x 12 columns]"
            ]
          },
          "metadata": {
            "tags": []
          },
          "execution_count": 548
        }
      ]
    },
    {
      "cell_type": "code",
      "metadata": {
        "colab_type": "code",
        "id": "ULYaeRRe8h7O",
        "colab": {}
      },
      "source": [
        "X6_train, X6_test, y6_train, y6_test = train_test_split(X6, y, test_size=0.2, random_state=1, stratify=y)\n",
        "X6_train, X6_val, y6_train, y6_val = train_test_split(X6_train, y6_train, test_size=0.25, random_state=1, stratify=y6_train)"
      ],
      "execution_count": 0,
      "outputs": []
    },
    {
      "cell_type": "code",
      "metadata": {
        "colab_type": "code",
        "outputId": "977915eb-216d-40d7-b842-ef82529f0784",
        "id": "pSWUf8ZB8h7Y",
        "colab": {
          "base_uri": "https://localhost:8080/",
          "height": 35
        }
      },
      "source": [
        "print(len(X6_train),len(X6_val),len(X6_test))"
      ],
      "execution_count": 550,
      "outputs": [
        {
          "output_type": "stream",
          "text": [
            "24550 8184 8184\n"
          ],
          "name": "stdout"
        }
      ]
    },
    {
      "cell_type": "code",
      "metadata": {
        "colab_type": "code",
        "id": "UR5Q5tSw8h7m",
        "colab": {}
      },
      "source": [
        "y6train_ab = y6_train[y6_train==1]\n",
        "y6val_ab = y6_val[y6_val==1]\n",
        "y6test_ab = y6_test[y6_test==1]"
      ],
      "execution_count": 0,
      "outputs": []
    },
    {
      "cell_type": "code",
      "metadata": {
        "colab_type": "code",
        "id": "R9AJ6mVr8h7u",
        "colab": {}
      },
      "source": [
        "y_test6= np.array(y6_test)\n",
        "y_train6=np.array(y6_train)\n",
        "y_val6= np.array(y6_val)"
      ],
      "execution_count": 0,
      "outputs": []
    },
    {
      "cell_type": "code",
      "metadata": {
        "colab_type": "code",
        "outputId": "f52a0cdd-6778-4f0c-c08b-8dae3fbbe21d",
        "id": "HMHqyy7U8h72",
        "colab": {
          "base_uri": "https://localhost:8080/",
          "height": 55
        }
      },
      "source": [
        "th_train6=len(y5train_ab)/len(y6_train)\n",
        "th_test6=len(y5test_ab)/len(y6_test)\n",
        "th_val6=len(y5val_ab)/len(y6_val)\n",
        "print('threshold train =',th_train6, 'threshold test =', th_test6,'threshold val =', th_val6)"
      ],
      "execution_count": 559,
      "outputs": [
        {
          "output_type": "stream",
          "text": [
            "threshold train = 0.029246435845213848 threshold test = 0.029203323558162266 threshold val = 0.029203323558162266\n"
          ],
          "name": "stdout"
        }
      ]
    },
    {
      "cell_type": "code",
      "metadata": {
        "colab_type": "code",
        "outputId": "ef82b3e2-c859-4623-841f-68d31831f53d",
        "id": "_48RHSju8h8B",
        "colab": {
          "base_uri": "https://localhost:8080/",
          "height": 74
        }
      },
      "source": [
        "ifo6 = iForest(X6_train, 100, 256, th_train6)"
      ],
      "execution_count": 560,
      "outputs": [
        {
          "output_type": "stream",
          "text": [
            "/usr/local/lib/python3.6/dist-packages/sklearn/ensemble/iforest.py:247: FutureWarning: behaviour=\"old\" is deprecated and will be removed in version 0.22. Please use behaviour=\"new\", which makes the decision_function change to match other anomaly detection algorithm API.\n",
            "  FutureWarning)\n"
          ],
          "name": "stderr"
        }
      ]
    },
    {
      "cell_type": "code",
      "metadata": {
        "colab_type": "code",
        "outputId": "89d72b70-168e-4603-9a44-2dfed16e05e6",
        "id": "0fGH1RYY8h8L",
        "colab": {
          "base_uri": "https://localhost:8080/",
          "height": 501
        }
      },
      "source": [
        "model_evaluate(ifo6,X6_val,y_val6)"
      ],
      "execution_count": 561,
      "outputs": [
        {
          "output_type": "stream",
          "text": [
            "/usr/local/lib/python3.6/dist-packages/sklearn/ensemble/iforest.py:415: DeprecationWarning: threshold_ attribute is deprecated in 0.20 and will be removed in 0.22.\n",
            "  \" be removed in 0.22.\", DeprecationWarning)\n"
          ],
          "name": "stderr"
        },
        {
          "output_type": "stream",
          "text": [
            "time :  0.36791467666625977\n",
            "accuracy :  0.946603128054741\n",
            "sensitivity :  0.1087866108786611\n",
            "specifity :  0.9718061674008811\n",
            "precision :  0.104\n",
            "recall :  0.1087866108786611\n",
            "f1 score :  0.1063394683026585\n",
            "Confusion matrix\n",
            "TP =  26 FP =  224 FN =  213 TN =  7721\n"
          ],
          "name": "stdout"
        },
        {
          "output_type": "display_data",
          "data": {
            "image/png": "[encoded data removed]",
            "text/plain": [
              "<Figure size 576x288 with 2 Axes>"
            ]
          },
          "metadata": {
            "tags": []
          }
        }
      ]
    },
    {
      "cell_type": "code",
      "metadata": {
        "colab_type": "code",
        "outputId": "16cf6e02-b36d-48bc-ff7f-cab30be67018",
        "id": "GIByi8VH8h8e",
        "colab": {
          "base_uri": "https://localhost:8080/",
          "height": 501
        }
      },
      "source": [
        "model_evaluate(ifo6, X6_test, y_test6)"
      ],
      "execution_count": 562,
      "outputs": [
        {
          "output_type": "stream",
          "text": [
            "/usr/local/lib/python3.6/dist-packages/sklearn/ensemble/iforest.py:415: DeprecationWarning: threshold_ attribute is deprecated in 0.20 and will be removed in 0.22.\n",
            "  \" be removed in 0.22.\", DeprecationWarning)\n"
          ],
          "name": "stderr"
        },
        {
          "output_type": "stream",
          "text": [
            "time :  0.3862802982330322\n",
            "accuracy :  0.9456256109481916\n",
            "sensitivity :  0.100418410041841\n",
            "specifity :  0.9710509754562618\n",
            "precision :  0.09448818897637795\n",
            "recall :  0.100418410041841\n",
            "f1 score :  0.0973630831643002\n",
            "Confusion matrix\n",
            "TP =  24 FP =  230 FN =  215 TN =  7715\n"
          ],
          "name": "stdout"
        },
        {
          "output_type": "display_data",
          "data": {
            "image/png": "[encoded data removed]",
            "text/plain": [
              "<Figure size 576x288 with 2 Axes>"
            ]
          },
          "metadata": {
            "tags": []
          }
        }
      ]
    },
    {
      "cell_type": "code",
      "metadata": {
        "colab_type": "code",
        "id": "yQZfCtCB8h8t",
        "colab": {}
      },
      "source": [
        ""
      ],
      "execution_count": 0,
      "outputs": []
    }
  ]
}