{
  "nbformat": 4,
  "nbformat_minor": 0,
  "metadata": {
    "colab": {
      "name": "percobaan 1-ULB-fitur_terbaik.ipynb",
      "version": "0.3.2",
      "provenance": [],
      "collapsed_sections": [
        "VbSMZBtMbLvH",
        "VoSewArKfODM",
        "MmeQbdX9iFJ2",
        "9GkkEbALjLsP"
      ],
      "include_colab_link": true
    },
    "language_info": {
      "codemirror_mode": {
        "name": "ipython",
        "version": 3
      },
      "file_extension": ".py",
      "mimetype": "text/x-python",
      "name": "python",
      "nbconvert_exporter": "python",
      "pygments_lexer": "ipython3",
      "version": "3.6.5"
    },
    "kernelspec": {
      "name": "python3",
      "display_name": "Python 3"
    },
    "accelerator": "GPU"
  },
  "cells": [
    {
      "cell_type": "markdown",
      "metadata": {
        "id": "view-in-github",
        "colab_type": "text"
      },
      "source": [
        "<a href=\"https://colab.research.google.com/github/BagusDAriAwan/creditcard-fraud/blob/master/percobaan_1_ULB_fitur_terbaik.ipynb\" target=\"_parent\"><img src=\"https://colab.research.google.com/assets/colab-badge.svg\" alt=\"Open In Colab\"/></a>"
      ]
    },
    {
      "cell_type": "code",
      "metadata": {
        "id": "Pv-1fOVYc8yk",
        "colab_type": "code",
        "colab": {}
      },
      "source": [
        "import pandas as pd\n",
        "import numpy as np\n",
        "import math\n",
        "import random as rn\n",
        "%matplotlib inline\n",
        "import matplotlib.pyplot as plt\n",
        "import seaborn as sb\n",
        "sb.set_style(style=\"whitegrid\")\n",
        "sb.set_color_codes()\n",
        "from sklearn.model_selection import train_test_split\n",
        "from sklearn.metrics import confusion_matrix\n",
        "from sklearn.metrics import f1_score\n",
        "from sklearn.ensemble import IsolationForest\n",
        "from sklearn.svm import OneClassSVM\n",
        "from sklearn.decomposition import PCA\n",
        "from sklearn.preprocessing import Normalizer, MinMaxScaler\n",
        "from sklearn.cluster import KMeans\n",
        "from sklearn.externals import joblib\n",
        "import time"
      ],
      "execution_count": 0,
      "outputs": []
    },
    {
      "cell_type": "code",
      "metadata": {
        "id": "KMqevhbzipKa",
        "colab_type": "code",
        "outputId": "97d3020f-faf5-449f-9b79-e3dc3793cfa4",
        "colab": {
          "base_uri": "https://localhost:8080/",
          "height": 55
        }
      },
      "source": [
        "from google.colab import drive\n",
        "drive.mount('/content/drive')"
      ],
      "execution_count": 307,
      "outputs": [
        {
          "output_type": "stream",
          "text": [
            "Drive already mounted at /content/drive; to attempt to forcibly remount, call drive.mount(\"/content/drive\", force_remount=True).\n"
          ],
          "name": "stdout"
        }
      ]
    },
    {
      "cell_type": "code",
      "metadata": {
        "id": "cttlvXAueL2f",
        "colab_type": "code",
        "colab": {}
      },
      "source": [
        "def confussion_matrik(actual,predict):\n",
        "    TP,FP,FN,TN = 0,0,0,0\n",
        "    for i,val in enumerate(actual):\n",
        "        if val == 0:\n",
        "            if val == predict[i]:\n",
        "                TN += 1\n",
        "            else:\n",
        "                FP += 1\n",
        "        if val == 1:\n",
        "            if val == predict[i]:\n",
        "                TP += 1\n",
        "            else:\n",
        "                FN += 1\n",
        "    return TP,FP,FN,TN\n",
        " \n",
        "def acc_sens_spec(actual,predict):\n",
        "    TP,FP,FN,TN = confussion_matrik(actual,predict)\n",
        "# akurasi\n",
        "    if (TP+FP+FN+TN) == 0 :\n",
        "        accuracy = 0 \n",
        "    else :\n",
        "        accuracy = (TP+TN)/(TP+FP+FN+TN)\n",
        "        \n",
        "# sensitivity\n",
        "    if (TP+FN) == 0 :\n",
        "        sensitivity = 0\n",
        "    else :\n",
        "        sensitivity = TP/(TP+FN)\n",
        "        \n",
        "# specifity    \n",
        "    if (TN +FP) == 0 :\n",
        "        specifity = 0\n",
        "    else :\n",
        "        specifity = TN/(TN +FP)\n",
        "        \n",
        "# precision\n",
        "    if (TP+FP) == 0 :\n",
        "        precision = 0\n",
        "    else :\n",
        "        precision = TP/(TP+FP)\n",
        "\n",
        "# recall\n",
        "    recall = sensitivity\n",
        "\n",
        "# f1_score\n",
        "    if (precision+recall) == 0 :\n",
        "        f1_score = 0\n",
        "    else :\n",
        "        f1_score = 2*((precision*recall)/(precision+recall))  \n",
        "    \n",
        "    return accuracy,sensitivity,specifity,precision,recall,f1_score\n"
      ],
      "execution_count": 0,
      "outputs": []
    },
    {
      "cell_type": "code",
      "metadata": {
        "id": "zd7Mapw3eR-l",
        "colab_type": "code",
        "colab": {}
      },
      "source": [
        "def convert(y):\n",
        "    for i in range(y.shape[0]):\n",
        "        if y[i]==-1:\n",
        "            y[i]=1;\n",
        "        else:\n",
        "            y[i]=0\n",
        "    return y"
      ],
      "execution_count": 0,
      "outputs": []
    },
    {
      "cell_type": "code",
      "metadata": {
        "id": "v8J0X3TWeWsJ",
        "colab_type": "code",
        "colab": {}
      },
      "source": [
        "def model_evaluate(ifor,X,y):\n",
        "    ts = time.time()\n",
        "    y_pred=ifor.predict(X)\n",
        "    tf = time.time()\n",
        "    print('time : ', tf-ts)\n",
        "    y_pred=convert(y_pred)\n",
        "    \n",
        "    accuracy,sensitivity,specifity,precision,recall,f1_score = acc_sens_spec(y,y_pred)\n",
        "    print('accuracy : ',accuracy)\n",
        "    print('sensitivity : ',sensitivity)\n",
        "    print('specifity : ', specifity)\n",
        "    print('precision : ',precision)\n",
        "    print('recall : ',recall)\n",
        "    print('f1 score : ',f1_score)\n",
        "    print('Confusion matrix')\n",
        "    TP,FP,FN,TN = confussion_matrik(y,y_pred)\n",
        "    print('TP = ',TP,'FP = ',FP,'FN = ',FN,'TN = ',TN)\n",
        "    df_cm = pd.DataFrame([[TN,FP],[FN,TP]],\n",
        "                  ['True Normal','True Fraud'],['Pred Normal','Pred Fraud'])\n",
        "    plt.figure(figsize = (8,4))\n",
        "    sb.set(font_scale=1.4)#for label size\n",
        "    sb.heatmap(df_cm, annot=True,annot_kws={\"size\": 16},fmt='g')# font size"
      ],
      "execution_count": 0,
      "outputs": []
    },
    {
      "cell_type": "code",
      "metadata": {
        "id": "u-qhTmOaeYnE",
        "colab_type": "code",
        "colab": {}
      },
      "source": [
        "def iForest(X, ntree, sample, th):\n",
        "    ifor = IsolationForest(n_estimators=ntree, max_samples=sample, contamination=th, random_state=1)\n",
        "#     ifor = IsolationForest(n_estimators=100, max_samples='auto', contamination=0.0039, max_features=1.0, random_state=42, verbose=0)\n",
        "    ifor.fit(X)\n",
        "    return ifor"
      ],
      "execution_count": 0,
      "outputs": []
    },
    {
      "cell_type": "code",
      "metadata": {
        "id": "eCo4ySXbedxU",
        "colab_type": "code",
        "colab": {}
      },
      "source": [
        "def eval_model(ifor,X,y):\n",
        "#     ts = time.time()\n",
        "    y_pred=ifor.predict(X)\n",
        "#     tf = time.time()\n",
        "    y_pred=convert(y_pred)\n",
        "    accuracy,sensitivity,specifity,precision,recall,f1_score = acc_sens_spec(y,y_pred)\n",
        "    return accuracy,sensitivity,specifity,precision,recall,f1_score"
      ],
      "execution_count": 0,
      "outputs": []
    },
    {
      "cell_type": "code",
      "metadata": {
        "id": "qazOYPql2MDT",
        "colab_type": "code",
        "colab": {}
      },
      "source": [
        ""
      ],
      "execution_count": 0,
      "outputs": []
    },
    {
      "cell_type": "code",
      "metadata": {
        "id": "dGvA1wSOc8y8",
        "colab_type": "code",
        "colab": {}
      },
      "source": [
        "df=pd.read_csv(\"drive/My Drive/Colab Notebooks/ULB/creditcard.csv\")\n",
        "y=df['Class']"
      ],
      "execution_count": 0,
      "outputs": []
    },
    {
      "cell_type": "code",
      "metadata": {
        "id": "B_0tgqDASJqa",
        "colab_type": "code",
        "outputId": "3309b0e4-2f8f-44e4-e73d-067ee2097ff5",
        "colab": {
          "base_uri": "https://localhost:8080/",
          "height": 383
        }
      },
      "source": [
        "df.head(10)"
      ],
      "execution_count": 314,
      "outputs": [
        {
          "output_type": "execute_result",
          "data": {
            "text/html": [
              "<div>\n",
              "<style scoped>\n",
              "    .dataframe tbody tr th:only-of-type {\n",
              "        vertical-align: middle;\n",
              "    }\n",
              "\n",
              "    .dataframe tbody tr th {\n",
              "        vertical-align: top;\n",
              "    }\n",
              "\n",
              "    .dataframe thead th {\n",
              "        text-align: right;\n",
              "    }\n",
              "</style>\n",
              "<table border=\"1\" class=\"dataframe\">\n",
              "  <thead>\n",
              "    <tr style=\"text-align: right;\">\n",
              "      <th></th>\n",
              "      <th>Time</th>\n",
              "      <th>V1</th>\n",
              "      <th>V2</th>\n",
              "      <th>V3</th>\n",
              "      <th>V4</th>\n",
              "      <th>V5</th>\n",
              "      <th>V6</th>\n",
              "      <th>V7</th>\n",
              "      <th>V8</th>\n",
              "      <th>V9</th>\n",
              "      <th>V10</th>\n",
              "      <th>V11</th>\n",
              "      <th>V12</th>\n",
              "      <th>V13</th>\n",
              "      <th>V14</th>\n",
              "      <th>V15</th>\n",
              "      <th>V16</th>\n",
              "      <th>V17</th>\n",
              "      <th>V18</th>\n",
              "      <th>V19</th>\n",
              "      <th>V20</th>\n",
              "      <th>V21</th>\n",
              "      <th>V22</th>\n",
              "      <th>V23</th>\n",
              "      <th>V24</th>\n",
              "      <th>V25</th>\n",
              "      <th>V26</th>\n",
              "      <th>V27</th>\n",
              "      <th>V28</th>\n",
              "      <th>Amount</th>\n",
              "      <th>Class</th>\n",
              "    </tr>\n",
              "  </thead>\n",
              "  <tbody>\n",
              "    <tr>\n",
              "      <th>0</th>\n",
              "      <td>0.0</td>\n",
              "      <td>-1.359807</td>\n",
              "      <td>-0.072781</td>\n",
              "      <td>2.536347</td>\n",
              "      <td>1.378155</td>\n",
              "      <td>-0.338321</td>\n",
              "      <td>0.462388</td>\n",
              "      <td>0.239599</td>\n",
              "      <td>0.098698</td>\n",
              "      <td>0.363787</td>\n",
              "      <td>0.090794</td>\n",
              "      <td>-0.551600</td>\n",
              "      <td>-0.617801</td>\n",
              "      <td>-0.991390</td>\n",
              "      <td>-0.311169</td>\n",
              "      <td>1.468177</td>\n",
              "      <td>-0.470401</td>\n",
              "      <td>0.207971</td>\n",
              "      <td>0.025791</td>\n",
              "      <td>0.403993</td>\n",
              "      <td>0.251412</td>\n",
              "      <td>-0.018307</td>\n",
              "      <td>0.277838</td>\n",
              "      <td>-0.110474</td>\n",
              "      <td>0.066928</td>\n",
              "      <td>0.128539</td>\n",
              "      <td>-0.189115</td>\n",
              "      <td>0.133558</td>\n",
              "      <td>-0.021053</td>\n",
              "      <td>149.62</td>\n",
              "      <td>0</td>\n",
              "    </tr>\n",
              "    <tr>\n",
              "      <th>1</th>\n",
              "      <td>0.0</td>\n",
              "      <td>1.191857</td>\n",
              "      <td>0.266151</td>\n",
              "      <td>0.166480</td>\n",
              "      <td>0.448154</td>\n",
              "      <td>0.060018</td>\n",
              "      <td>-0.082361</td>\n",
              "      <td>-0.078803</td>\n",
              "      <td>0.085102</td>\n",
              "      <td>-0.255425</td>\n",
              "      <td>-0.166974</td>\n",
              "      <td>1.612727</td>\n",
              "      <td>1.065235</td>\n",
              "      <td>0.489095</td>\n",
              "      <td>-0.143772</td>\n",
              "      <td>0.635558</td>\n",
              "      <td>0.463917</td>\n",
              "      <td>-0.114805</td>\n",
              "      <td>-0.183361</td>\n",
              "      <td>-0.145783</td>\n",
              "      <td>-0.069083</td>\n",
              "      <td>-0.225775</td>\n",
              "      <td>-0.638672</td>\n",
              "      <td>0.101288</td>\n",
              "      <td>-0.339846</td>\n",
              "      <td>0.167170</td>\n",
              "      <td>0.125895</td>\n",
              "      <td>-0.008983</td>\n",
              "      <td>0.014724</td>\n",
              "      <td>2.69</td>\n",
              "      <td>0</td>\n",
              "    </tr>\n",
              "    <tr>\n",
              "      <th>2</th>\n",
              "      <td>1.0</td>\n",
              "      <td>-1.358354</td>\n",
              "      <td>-1.340163</td>\n",
              "      <td>1.773209</td>\n",
              "      <td>0.379780</td>\n",
              "      <td>-0.503198</td>\n",
              "      <td>1.800499</td>\n",
              "      <td>0.791461</td>\n",
              "      <td>0.247676</td>\n",
              "      <td>-1.514654</td>\n",
              "      <td>0.207643</td>\n",
              "      <td>0.624501</td>\n",
              "      <td>0.066084</td>\n",
              "      <td>0.717293</td>\n",
              "      <td>-0.165946</td>\n",
              "      <td>2.345865</td>\n",
              "      <td>-2.890083</td>\n",
              "      <td>1.109969</td>\n",
              "      <td>-0.121359</td>\n",
              "      <td>-2.261857</td>\n",
              "      <td>0.524980</td>\n",
              "      <td>0.247998</td>\n",
              "      <td>0.771679</td>\n",
              "      <td>0.909412</td>\n",
              "      <td>-0.689281</td>\n",
              "      <td>-0.327642</td>\n",
              "      <td>-0.139097</td>\n",
              "      <td>-0.055353</td>\n",
              "      <td>-0.059752</td>\n",
              "      <td>378.66</td>\n",
              "      <td>0</td>\n",
              "    </tr>\n",
              "    <tr>\n",
              "      <th>3</th>\n",
              "      <td>1.0</td>\n",
              "      <td>-0.966272</td>\n",
              "      <td>-0.185226</td>\n",
              "      <td>1.792993</td>\n",
              "      <td>-0.863291</td>\n",
              "      <td>-0.010309</td>\n",
              "      <td>1.247203</td>\n",
              "      <td>0.237609</td>\n",
              "      <td>0.377436</td>\n",
              "      <td>-1.387024</td>\n",
              "      <td>-0.054952</td>\n",
              "      <td>-0.226487</td>\n",
              "      <td>0.178228</td>\n",
              "      <td>0.507757</td>\n",
              "      <td>-0.287924</td>\n",
              "      <td>-0.631418</td>\n",
              "      <td>-1.059647</td>\n",
              "      <td>-0.684093</td>\n",
              "      <td>1.965775</td>\n",
              "      <td>-1.232622</td>\n",
              "      <td>-0.208038</td>\n",
              "      <td>-0.108300</td>\n",
              "      <td>0.005274</td>\n",
              "      <td>-0.190321</td>\n",
              "      <td>-1.175575</td>\n",
              "      <td>0.647376</td>\n",
              "      <td>-0.221929</td>\n",
              "      <td>0.062723</td>\n",
              "      <td>0.061458</td>\n",
              "      <td>123.50</td>\n",
              "      <td>0</td>\n",
              "    </tr>\n",
              "    <tr>\n",
              "      <th>4</th>\n",
              "      <td>2.0</td>\n",
              "      <td>-1.158233</td>\n",
              "      <td>0.877737</td>\n",
              "      <td>1.548718</td>\n",
              "      <td>0.403034</td>\n",
              "      <td>-0.407193</td>\n",
              "      <td>0.095921</td>\n",
              "      <td>0.592941</td>\n",
              "      <td>-0.270533</td>\n",
              "      <td>0.817739</td>\n",
              "      <td>0.753074</td>\n",
              "      <td>-0.822843</td>\n",
              "      <td>0.538196</td>\n",
              "      <td>1.345852</td>\n",
              "      <td>-1.119670</td>\n",
              "      <td>0.175121</td>\n",
              "      <td>-0.451449</td>\n",
              "      <td>-0.237033</td>\n",
              "      <td>-0.038195</td>\n",
              "      <td>0.803487</td>\n",
              "      <td>0.408542</td>\n",
              "      <td>-0.009431</td>\n",
              "      <td>0.798278</td>\n",
              "      <td>-0.137458</td>\n",
              "      <td>0.141267</td>\n",
              "      <td>-0.206010</td>\n",
              "      <td>0.502292</td>\n",
              "      <td>0.219422</td>\n",
              "      <td>0.215153</td>\n",
              "      <td>69.99</td>\n",
              "      <td>0</td>\n",
              "    </tr>\n",
              "    <tr>\n",
              "      <th>5</th>\n",
              "      <td>2.0</td>\n",
              "      <td>-0.425966</td>\n",
              "      <td>0.960523</td>\n",
              "      <td>1.141109</td>\n",
              "      <td>-0.168252</td>\n",
              "      <td>0.420987</td>\n",
              "      <td>-0.029728</td>\n",
              "      <td>0.476201</td>\n",
              "      <td>0.260314</td>\n",
              "      <td>-0.568671</td>\n",
              "      <td>-0.371407</td>\n",
              "      <td>1.341262</td>\n",
              "      <td>0.359894</td>\n",
              "      <td>-0.358091</td>\n",
              "      <td>-0.137134</td>\n",
              "      <td>0.517617</td>\n",
              "      <td>0.401726</td>\n",
              "      <td>-0.058133</td>\n",
              "      <td>0.068653</td>\n",
              "      <td>-0.033194</td>\n",
              "      <td>0.084968</td>\n",
              "      <td>-0.208254</td>\n",
              "      <td>-0.559825</td>\n",
              "      <td>-0.026398</td>\n",
              "      <td>-0.371427</td>\n",
              "      <td>-0.232794</td>\n",
              "      <td>0.105915</td>\n",
              "      <td>0.253844</td>\n",
              "      <td>0.081080</td>\n",
              "      <td>3.67</td>\n",
              "      <td>0</td>\n",
              "    </tr>\n",
              "    <tr>\n",
              "      <th>6</th>\n",
              "      <td>4.0</td>\n",
              "      <td>1.229658</td>\n",
              "      <td>0.141004</td>\n",
              "      <td>0.045371</td>\n",
              "      <td>1.202613</td>\n",
              "      <td>0.191881</td>\n",
              "      <td>0.272708</td>\n",
              "      <td>-0.005159</td>\n",
              "      <td>0.081213</td>\n",
              "      <td>0.464960</td>\n",
              "      <td>-0.099254</td>\n",
              "      <td>-1.416907</td>\n",
              "      <td>-0.153826</td>\n",
              "      <td>-0.751063</td>\n",
              "      <td>0.167372</td>\n",
              "      <td>0.050144</td>\n",
              "      <td>-0.443587</td>\n",
              "      <td>0.002821</td>\n",
              "      <td>-0.611987</td>\n",
              "      <td>-0.045575</td>\n",
              "      <td>-0.219633</td>\n",
              "      <td>-0.167716</td>\n",
              "      <td>-0.270710</td>\n",
              "      <td>-0.154104</td>\n",
              "      <td>-0.780055</td>\n",
              "      <td>0.750137</td>\n",
              "      <td>-0.257237</td>\n",
              "      <td>0.034507</td>\n",
              "      <td>0.005168</td>\n",
              "      <td>4.99</td>\n",
              "      <td>0</td>\n",
              "    </tr>\n",
              "    <tr>\n",
              "      <th>7</th>\n",
              "      <td>7.0</td>\n",
              "      <td>-0.644269</td>\n",
              "      <td>1.417964</td>\n",
              "      <td>1.074380</td>\n",
              "      <td>-0.492199</td>\n",
              "      <td>0.948934</td>\n",
              "      <td>0.428118</td>\n",
              "      <td>1.120631</td>\n",
              "      <td>-3.807864</td>\n",
              "      <td>0.615375</td>\n",
              "      <td>1.249376</td>\n",
              "      <td>-0.619468</td>\n",
              "      <td>0.291474</td>\n",
              "      <td>1.757964</td>\n",
              "      <td>-1.323865</td>\n",
              "      <td>0.686133</td>\n",
              "      <td>-0.076127</td>\n",
              "      <td>-1.222127</td>\n",
              "      <td>-0.358222</td>\n",
              "      <td>0.324505</td>\n",
              "      <td>-0.156742</td>\n",
              "      <td>1.943465</td>\n",
              "      <td>-1.015455</td>\n",
              "      <td>0.057504</td>\n",
              "      <td>-0.649709</td>\n",
              "      <td>-0.415267</td>\n",
              "      <td>-0.051634</td>\n",
              "      <td>-1.206921</td>\n",
              "      <td>-1.085339</td>\n",
              "      <td>40.80</td>\n",
              "      <td>0</td>\n",
              "    </tr>\n",
              "    <tr>\n",
              "      <th>8</th>\n",
              "      <td>7.0</td>\n",
              "      <td>-0.894286</td>\n",
              "      <td>0.286157</td>\n",
              "      <td>-0.113192</td>\n",
              "      <td>-0.271526</td>\n",
              "      <td>2.669599</td>\n",
              "      <td>3.721818</td>\n",
              "      <td>0.370145</td>\n",
              "      <td>0.851084</td>\n",
              "      <td>-0.392048</td>\n",
              "      <td>-0.410430</td>\n",
              "      <td>-0.705117</td>\n",
              "      <td>-0.110452</td>\n",
              "      <td>-0.286254</td>\n",
              "      <td>0.074355</td>\n",
              "      <td>-0.328783</td>\n",
              "      <td>-0.210077</td>\n",
              "      <td>-0.499768</td>\n",
              "      <td>0.118765</td>\n",
              "      <td>0.570328</td>\n",
              "      <td>0.052736</td>\n",
              "      <td>-0.073425</td>\n",
              "      <td>-0.268092</td>\n",
              "      <td>-0.204233</td>\n",
              "      <td>1.011592</td>\n",
              "      <td>0.373205</td>\n",
              "      <td>-0.384157</td>\n",
              "      <td>0.011747</td>\n",
              "      <td>0.142404</td>\n",
              "      <td>93.20</td>\n",
              "      <td>0</td>\n",
              "    </tr>\n",
              "    <tr>\n",
              "      <th>9</th>\n",
              "      <td>9.0</td>\n",
              "      <td>-0.338262</td>\n",
              "      <td>1.119593</td>\n",
              "      <td>1.044367</td>\n",
              "      <td>-0.222187</td>\n",
              "      <td>0.499361</td>\n",
              "      <td>-0.246761</td>\n",
              "      <td>0.651583</td>\n",
              "      <td>0.069539</td>\n",
              "      <td>-0.736727</td>\n",
              "      <td>-0.366846</td>\n",
              "      <td>1.017614</td>\n",
              "      <td>0.836390</td>\n",
              "      <td>1.006844</td>\n",
              "      <td>-0.443523</td>\n",
              "      <td>0.150219</td>\n",
              "      <td>0.739453</td>\n",
              "      <td>-0.540980</td>\n",
              "      <td>0.476677</td>\n",
              "      <td>0.451773</td>\n",
              "      <td>0.203711</td>\n",
              "      <td>-0.246914</td>\n",
              "      <td>-0.633753</td>\n",
              "      <td>-0.120794</td>\n",
              "      <td>-0.385050</td>\n",
              "      <td>-0.069733</td>\n",
              "      <td>0.094199</td>\n",
              "      <td>0.246219</td>\n",
              "      <td>0.083076</td>\n",
              "      <td>3.68</td>\n",
              "      <td>0</td>\n",
              "    </tr>\n",
              "  </tbody>\n",
              "</table>\n",
              "</div>"
            ],
            "text/plain": [
              "   Time        V1        V2        V3  ...       V27       V28  Amount  Class\n",
              "0   0.0 -1.359807 -0.072781  2.536347  ...  0.133558 -0.021053  149.62      0\n",
              "1   0.0  1.191857  0.266151  0.166480  ... -0.008983  0.014724    2.69      0\n",
              "2   1.0 -1.358354 -1.340163  1.773209  ... -0.055353 -0.059752  378.66      0\n",
              "3   1.0 -0.966272 -0.185226  1.792993  ...  0.062723  0.061458  123.50      0\n",
              "4   2.0 -1.158233  0.877737  1.548718  ...  0.219422  0.215153   69.99      0\n",
              "5   2.0 -0.425966  0.960523  1.141109  ...  0.253844  0.081080    3.67      0\n",
              "6   4.0  1.229658  0.141004  0.045371  ...  0.034507  0.005168    4.99      0\n",
              "7   7.0 -0.644269  1.417964  1.074380  ... -1.206921 -1.085339   40.80      0\n",
              "8   7.0 -0.894286  0.286157 -0.113192  ...  0.011747  0.142404   93.20      0\n",
              "9   9.0 -0.338262  1.119593  1.044367  ...  0.246219  0.083076    3.68      0\n",
              "\n",
              "[10 rows x 31 columns]"
            ]
          },
          "metadata": {
            "tags": []
          },
          "execution_count": 314
        }
      ]
    },
    {
      "cell_type": "code",
      "metadata": {
        "id": "jL_f82X_etpp",
        "colab_type": "code",
        "colab": {}
      },
      "source": [
        "df_data=df.drop(['Class'], axis=1)"
      ],
      "execution_count": 0,
      "outputs": []
    },
    {
      "cell_type": "code",
      "metadata": {
        "id": "QnUeAfVxc8zH",
        "colab_type": "code",
        "outputId": "ab67db54-b5c5-4363-d5a5-1a4bd93f4d25",
        "colab": {
          "base_uri": "https://localhost:8080/",
          "height": 35
        }
      },
      "source": [
        "yab = y[y==1]\n",
        "th = len(yab)/len(y)\n",
        "th"
      ],
      "execution_count": 316,
      "outputs": [
        {
          "output_type": "execute_result",
          "data": {
            "text/plain": [
              "0.001727485630620034"
            ]
          },
          "metadata": {
            "tags": []
          },
          "execution_count": 316
        }
      ]
    },
    {
      "cell_type": "code",
      "metadata": {
        "id": "mI6XygP6oBpI",
        "colab_type": "code",
        "colab": {}
      },
      "source": [
        "# scaler = MinMaxScaler()\n",
        "# Xtrain_norm = scaler.fit_transform(X_train)\n",
        "# pca=PCA(n_components=2).fit(Xtrain_norm)\n",
        "# pca2dtrain = pca.transform(Xtrain_norm)\n",
        "# plt.figure(figsize=(10, 8))\n",
        "# plt.scatter(pca2dtrain[:,0], pca2dtrain[:,1], c=y_train, cmap='Spectral')"
      ],
      "execution_count": 0,
      "outputs": []
    },
    {
      "cell_type": "code",
      "metadata": {
        "colab_type": "code",
        "id": "cxOAevuZoCIt",
        "colab": {}
      },
      "source": [
        "X_train, X_test, y_train, y_test = train_test_split(df_data, y, test_size=0.2, random_state=1, stratify=y)\n",
        "X_train, X_val, y_train, y_val = train_test_split(X_train, y_train, test_size=0.25, random_state=1, stratify=y_train)"
      ],
      "execution_count": 0,
      "outputs": []
    },
    {
      "cell_type": "code",
      "metadata": {
        "colab_type": "code",
        "outputId": "2bb18369-47e7-4668-83f2-b252c799bba5",
        "id": "5ziJpoNdoCI3",
        "colab": {
          "base_uri": "https://localhost:8080/",
          "height": 35
        }
      },
      "source": [
        "print(len(X_train),len(X_val),len(X_test))"
      ],
      "execution_count": 318,
      "outputs": [
        {
          "output_type": "stream",
          "text": [
            "170883 56962 56962\n"
          ],
          "name": "stdout"
        }
      ]
    },
    {
      "cell_type": "code",
      "metadata": {
        "colab_type": "code",
        "id": "1fJ1VsLooCJN",
        "colab": {}
      },
      "source": [
        "ytrain_ab = y_train[y_train==1]\n",
        "yval_ab = y_val[y_val==1]\n",
        "ytest_ab = y_test[y_test==1]"
      ],
      "execution_count": 0,
      "outputs": []
    },
    {
      "cell_type": "code",
      "metadata": {
        "colab_type": "code",
        "id": "Xv-sTn5soCJW",
        "colab": {}
      },
      "source": [
        "y_test = np.array(y_test)\n",
        "y_train=np.array(y_train)\n",
        "y_val = np.array(y_val)"
      ],
      "execution_count": 0,
      "outputs": []
    },
    {
      "cell_type": "code",
      "metadata": {
        "colab_type": "code",
        "outputId": "56888fb7-8878-421f-b357-6cb309e60e41",
        "id": "Fs1KsUJmoCJg",
        "colab": {
          "base_uri": "https://localhost:8080/",
          "height": 55
        }
      },
      "source": [
        "th_train=len(ytrain_ab)/len(y_train)\n",
        "th_test=len(ytest_ab)/len(y_test)\n",
        "th_val=len(yval_ab)/len(y_val)\n",
        "print('threshold train =',th_train, 'threshold test =', th_test,'threshold val =', th_val)"
      ],
      "execution_count": 321,
      "outputs": [
        {
          "output_type": "stream",
          "text": [
            "threshold train = 0.0017263273701889597 threshold test = 0.0017204452090867595 threshold val = 0.0017380007724447878\n"
          ],
          "name": "stdout"
        }
      ]
    },
    {
      "cell_type": "code",
      "metadata": {
        "colab_type": "code",
        "outputId": "42cb33c0-1f18-452f-e0ac-1c42cb68d60a",
        "id": "035JG7mdoCJv",
        "colab": {
          "base_uri": "https://localhost:8080/",
          "height": 74
        }
      },
      "source": [
        "ifo= iForest(X_train, 100, 256, th_train)"
      ],
      "execution_count": 322,
      "outputs": [
        {
          "output_type": "stream",
          "text": [
            "/usr/local/lib/python3.6/dist-packages/sklearn/ensemble/iforest.py:247: FutureWarning: behaviour=\"old\" is deprecated and will be removed in version 0.22. Please use behaviour=\"new\", which makes the decision_function change to match other anomaly detection algorithm API.\n",
            "  FutureWarning)\n"
          ],
          "name": "stderr"
        }
      ]
    },
    {
      "cell_type": "code",
      "metadata": {
        "colab_type": "code",
        "outputId": "56482ad9-a97d-4a28-ad5f-ecdcf4cd2713",
        "id": "KP-cyPoKoCJ-",
        "colab": {
          "base_uri": "https://localhost:8080/",
          "height": 501
        }
      },
      "source": [
        "model_evaluate(ifo,X_val,y_val)"
      ],
      "execution_count": 323,
      "outputs": [
        {
          "output_type": "stream",
          "text": [
            "/usr/local/lib/python3.6/dist-packages/sklearn/ensemble/iforest.py:415: DeprecationWarning: threshold_ attribute is deprecated in 0.20 and will be removed in 0.22.\n",
            "  \" be removed in 0.22.\", DeprecationWarning)\n"
          ],
          "name": "stderr"
        },
        {
          "output_type": "stream",
          "text": [
            "time :  1.9700486660003662\n",
            "accuracy :  0.9973491099329378\n",
            "sensitivity :  0.30303030303030304\n",
            "specifity :  0.9985579374989009\n",
            "precision :  0.26785714285714285\n",
            "recall :  0.30303030303030304\n",
            "f1 score :  0.2843601895734597\n",
            "Confusion matrix\n",
            "TP =  30 FP =  82 FN =  69 TN =  56781\n"
          ],
          "name": "stdout"
        },
        {
          "output_type": "display_data",
          "data": {
            "image/png": "[encoded data removed]",
            "text/plain": [
              "<Figure size 576x288 with 2 Axes>"
            ]
          },
          "metadata": {
            "tags": []
          }
        }
      ]
    },
    {
      "cell_type": "code",
      "metadata": {
        "colab_type": "code",
        "outputId": "50db8dd1-cf23-497b-9409-0f8fe0b6ecab",
        "id": "73YZWfNHoCKP",
        "colab": {
          "base_uri": "https://localhost:8080/",
          "height": 501
        }
      },
      "source": [
        "model_evaluate(ifo, X_test, y_test)"
      ],
      "execution_count": 324,
      "outputs": [
        {
          "output_type": "stream",
          "text": [
            "/usr/local/lib/python3.6/dist-packages/sklearn/ensemble/iforest.py:415: DeprecationWarning: threshold_ attribute is deprecated in 0.20 and will be removed in 0.22.\n",
            "  \" be removed in 0.22.\", DeprecationWarning)\n"
          ],
          "name": "stderr"
        },
        {
          "output_type": "stream",
          "text": [
            "time :  1.9691786766052246\n",
            "accuracy :  0.9973842210596539\n",
            "sensitivity :  0.2857142857142857\n",
            "specifity :  0.9986107203151379\n",
            "precision :  0.2616822429906542\n",
            "recall :  0.2857142857142857\n",
            "f1 score :  0.2731707317073171\n",
            "Confusion matrix\n",
            "TP =  28 FP =  79 FN =  70 TN =  56785\n"
          ],
          "name": "stdout"
        },
        {
          "output_type": "display_data",
          "data": {
            "image/png": "[encoded data removed]",
            "text/plain": [
              "<Figure size 576x288 with 2 Axes>"
            ]
          },
          "metadata": {
            "tags": []
          }
        }
      ]
    },
    {
      "cell_type": "code",
      "metadata": {
        "colab_type": "code",
        "id": "Cclv2gMdoCKh",
        "colab": {}
      },
      "source": [
        ""
      ],
      "execution_count": 0,
      "outputs": []
    },
    {
      "cell_type": "markdown",
      "metadata": {
        "id": "9oK_-EZqacm5",
        "colab_type": "text"
      },
      "source": [
        "## Fitur Terbaik\n",
        "1) V14 : 0.191396,\n",
        " 2) V4 : 0.156735,\n",
        " 3) V17 : 0.154208,\n",
        " 4) V12 : 0.153089,\n",
        " 5) V11 : 0.075608,\n",
        " 6) V2 : 0.051632,\n",
        " 7) V10 : 0.038917,\n",
        " 8) V7 : 0.015483,\n",
        " 9) V20 : 0.014762,\n",
        "10) V21 : 0.013873,\n",
        "11) V19 : 0.012698,\n",
        "12) V8 : 0.011657,\n",
        "13) V6 : 0.010132,\n",
        "14) V27 : 0.009422,\n",
        "15) V3 : 0.007821,\n",
        "16) V26 : 0.007501,\n",
        "17) V9 : 0.007076,\n",
        "18) Amount : 0.007075,\n",
        "19) V13 : 0.006597,\n",
        "20) V15 : 0.006509,\n",
        "21) V23 : 0.006476,\n",
        "22) V22 : 0.006006,\n",
        "23) V1 : 0.005765,\n",
        "24) V24 : 0.005645,\n",
        "25) V28 : 0.005104,\n",
        "26) V18 : 0.004795,\n",
        "27) V16 : 0.004732,\n",
        "28) V25 : 0.004156,\n",
        "29) V5  :0.003216,\n",
        "30) Time : 0.001916"
      ]
    },
    {
      "cell_type": "code",
      "metadata": {
        "id": "0LIXVsr7njva",
        "colab_type": "code",
        "colab": {}
      },
      "source": [
        ""
      ],
      "execution_count": 0,
      "outputs": []
    },
    {
      "cell_type": "markdown",
      "metadata": {
        "id": "VbSMZBtMbLvH",
        "colab_type": "text"
      },
      "source": [
        "### percobaan1.1- 3 fitur terbaik"
      ]
    },
    {
      "cell_type": "code",
      "metadata": {
        "id": "zQYjYjAwc8zY",
        "colab_type": "code",
        "outputId": "be64f9a1-1797-4b90-9498-2b54ce689bf4",
        "colab": {
          "base_uri": "https://localhost:8080/",
          "height": 206
        }
      },
      "source": [
        "X1 = df_data[['V14','V4','V17']]\n",
        "X1.head()"
      ],
      "execution_count": 325,
      "outputs": [
        {
          "output_type": "execute_result",
          "data": {
            "text/html": [
              "<div>\n",
              "<style scoped>\n",
              "    .dataframe tbody tr th:only-of-type {\n",
              "        vertical-align: middle;\n",
              "    }\n",
              "\n",
              "    .dataframe tbody tr th {\n",
              "        vertical-align: top;\n",
              "    }\n",
              "\n",
              "    .dataframe thead th {\n",
              "        text-align: right;\n",
              "    }\n",
              "</style>\n",
              "<table border=\"1\" class=\"dataframe\">\n",
              "  <thead>\n",
              "    <tr style=\"text-align: right;\">\n",
              "      <th></th>\n",
              "      <th>V14</th>\n",
              "      <th>V4</th>\n",
              "      <th>V17</th>\n",
              "    </tr>\n",
              "  </thead>\n",
              "  <tbody>\n",
              "    <tr>\n",
              "      <th>0</th>\n",
              "      <td>-0.311169</td>\n",
              "      <td>1.378155</td>\n",
              "      <td>0.207971</td>\n",
              "    </tr>\n",
              "    <tr>\n",
              "      <th>1</th>\n",
              "      <td>-0.143772</td>\n",
              "      <td>0.448154</td>\n",
              "      <td>-0.114805</td>\n",
              "    </tr>\n",
              "    <tr>\n",
              "      <th>2</th>\n",
              "      <td>-0.165946</td>\n",
              "      <td>0.379780</td>\n",
              "      <td>1.109969</td>\n",
              "    </tr>\n",
              "    <tr>\n",
              "      <th>3</th>\n",
              "      <td>-0.287924</td>\n",
              "      <td>-0.863291</td>\n",
              "      <td>-0.684093</td>\n",
              "    </tr>\n",
              "    <tr>\n",
              "      <th>4</th>\n",
              "      <td>-1.119670</td>\n",
              "      <td>0.403034</td>\n",
              "      <td>-0.237033</td>\n",
              "    </tr>\n",
              "  </tbody>\n",
              "</table>\n",
              "</div>"
            ],
            "text/plain": [
              "        V14        V4       V17\n",
              "0 -0.311169  1.378155  0.207971\n",
              "1 -0.143772  0.448154 -0.114805\n",
              "2 -0.165946  0.379780  1.109969\n",
              "3 -0.287924 -0.863291 -0.684093\n",
              "4 -1.119670  0.403034 -0.237033"
            ]
          },
          "metadata": {
            "tags": []
          },
          "execution_count": 325
        }
      ]
    },
    {
      "cell_type": "code",
      "metadata": {
        "id": "zYwLb99mjtfm",
        "colab_type": "code",
        "outputId": "059bf139-a2d9-41ca-fe0b-1dc848c750b4",
        "colab": {
          "base_uri": "https://localhost:8080/",
          "height": 72
        }
      },
      "source": [
        "y.value_counts()"
      ],
      "execution_count": 326,
      "outputs": [
        {
          "output_type": "execute_result",
          "data": {
            "text/plain": [
              "0    284315\n",
              "1       492\n",
              "Name: Class, dtype: int64"
            ]
          },
          "metadata": {
            "tags": []
          },
          "execution_count": 326
        }
      ]
    },
    {
      "cell_type": "code",
      "metadata": {
        "id": "91-uDNbLc8zp",
        "colab_type": "code",
        "colab": {}
      },
      "source": [
        "X1_train, X1_test, y1_train, y1_test = train_test_split(X1, y, test_size=0.2, random_state=1, stratify=y)\n",
        "X1_train, X1_val, y1_train, y1_val = train_test_split(X1_train, y1_train, test_size=0.25, random_state=1, stratify=y1_train)"
      ],
      "execution_count": 0,
      "outputs": []
    },
    {
      "cell_type": "code",
      "metadata": {
        "id": "MzhMmXpZFNEN",
        "colab_type": "code",
        "outputId": "92ee32f7-d86f-418d-be2f-84d070daf5b0",
        "colab": {
          "base_uri": "https://localhost:8080/",
          "height": 226
        }
      },
      "source": [
        "X_train.head()"
      ],
      "execution_count": 328,
      "outputs": [
        {
          "output_type": "execute_result",
          "data": {
            "text/html": [
              "<div>\n",
              "<style scoped>\n",
              "    .dataframe tbody tr th:only-of-type {\n",
              "        vertical-align: middle;\n",
              "    }\n",
              "\n",
              "    .dataframe tbody tr th {\n",
              "        vertical-align: top;\n",
              "    }\n",
              "\n",
              "    .dataframe thead th {\n",
              "        text-align: right;\n",
              "    }\n",
              "</style>\n",
              "<table border=\"1\" class=\"dataframe\">\n",
              "  <thead>\n",
              "    <tr style=\"text-align: right;\">\n",
              "      <th></th>\n",
              "      <th>Time</th>\n",
              "      <th>V1</th>\n",
              "      <th>V2</th>\n",
              "      <th>V3</th>\n",
              "      <th>V4</th>\n",
              "      <th>V5</th>\n",
              "      <th>V6</th>\n",
              "      <th>V7</th>\n",
              "      <th>V8</th>\n",
              "      <th>V9</th>\n",
              "      <th>V10</th>\n",
              "      <th>V11</th>\n",
              "      <th>V12</th>\n",
              "      <th>V13</th>\n",
              "      <th>V14</th>\n",
              "      <th>V15</th>\n",
              "      <th>V16</th>\n",
              "      <th>V17</th>\n",
              "      <th>V18</th>\n",
              "      <th>V19</th>\n",
              "      <th>V20</th>\n",
              "      <th>V21</th>\n",
              "      <th>V22</th>\n",
              "      <th>V23</th>\n",
              "      <th>V24</th>\n",
              "      <th>V25</th>\n",
              "      <th>V26</th>\n",
              "      <th>V27</th>\n",
              "      <th>V28</th>\n",
              "      <th>Amount</th>\n",
              "    </tr>\n",
              "  </thead>\n",
              "  <tbody>\n",
              "    <tr>\n",
              "      <th>65782</th>\n",
              "      <td>51742.0</td>\n",
              "      <td>1.217770</td>\n",
              "      <td>0.077244</td>\n",
              "      <td>0.498321</td>\n",
              "      <td>0.520815</td>\n",
              "      <td>-0.574932</td>\n",
              "      <td>-0.708602</td>\n",
              "      <td>-0.159101</td>\n",
              "      <td>0.039746</td>\n",
              "      <td>0.046620</td>\n",
              "      <td>0.154164</td>\n",
              "      <td>1.187396</td>\n",
              "      <td>0.140420</td>\n",
              "      <td>-1.493653</td>\n",
              "      <td>0.778755</td>\n",
              "      <td>0.520577</td>\n",
              "      <td>0.580438</td>\n",
              "      <td>-0.575816</td>\n",
              "      <td>0.164916</td>\n",
              "      <td>0.183084</td>\n",
              "      <td>-0.194239</td>\n",
              "      <td>-0.226154</td>\n",
              "      <td>-0.773018</td>\n",
              "      <td>0.145243</td>\n",
              "      <td>0.276868</td>\n",
              "      <td>0.129511</td>\n",
              "      <td>0.083098</td>\n",
              "      <td>-0.043997</td>\n",
              "      <td>0.004983</td>\n",
              "      <td>0.99</td>\n",
              "    </tr>\n",
              "    <tr>\n",
              "      <th>86825</th>\n",
              "      <td>61413.0</td>\n",
              "      <td>0.665294</td>\n",
              "      <td>-0.779358</td>\n",
              "      <td>1.680700</td>\n",
              "      <td>3.158373</td>\n",
              "      <td>-1.445562</td>\n",
              "      <td>0.721120</td>\n",
              "      <td>-0.733349</td>\n",
              "      <td>0.351817</td>\n",
              "      <td>0.947691</td>\n",
              "      <td>0.243382</td>\n",
              "      <td>-1.658432</td>\n",
              "      <td>-0.199440</td>\n",
              "      <td>-1.251737</td>\n",
              "      <td>-0.703287</td>\n",
              "      <td>-1.443037</td>\n",
              "      <td>0.238003</td>\n",
              "      <td>0.082585</td>\n",
              "      <td>-0.091704</td>\n",
              "      <td>-0.587019</td>\n",
              "      <td>0.173780</td>\n",
              "      <td>0.046143</td>\n",
              "      <td>-0.017651</td>\n",
              "      <td>-0.209463</td>\n",
              "      <td>0.385115</td>\n",
              "      <td>0.296200</td>\n",
              "      <td>0.082171</td>\n",
              "      <td>0.025492</td>\n",
              "      <td>0.071064</td>\n",
              "      <td>214.04</td>\n",
              "    </tr>\n",
              "    <tr>\n",
              "      <th>117627</th>\n",
              "      <td>74745.0</td>\n",
              "      <td>1.272176</td>\n",
              "      <td>0.169925</td>\n",
              "      <td>-0.179971</td>\n",
              "      <td>1.062221</td>\n",
              "      <td>0.521140</td>\n",
              "      <td>0.614676</td>\n",
              "      <td>0.017768</td>\n",
              "      <td>0.087789</td>\n",
              "      <td>0.419398</td>\n",
              "      <td>-0.114285</td>\n",
              "      <td>-1.824942</td>\n",
              "      <td>-0.045081</td>\n",
              "      <td>-0.098062</td>\n",
              "      <td>0.022784</td>\n",
              "      <td>0.031038</td>\n",
              "      <td>-0.305480</td>\n",
              "      <td>-0.233495</td>\n",
              "      <td>-0.496386</td>\n",
              "      <td>0.162940</td>\n",
              "      <td>-0.167845</td>\n",
              "      <td>-0.199115</td>\n",
              "      <td>-0.329121</td>\n",
              "      <td>-0.228425</td>\n",
              "      <td>-1.313537</td>\n",
              "      <td>0.844641</td>\n",
              "      <td>-0.224776</td>\n",
              "      <td>0.037536</td>\n",
              "      <td>0.000581</td>\n",
              "      <td>3.76</td>\n",
              "    </tr>\n",
              "    <tr>\n",
              "      <th>225290</th>\n",
              "      <td>144191.0</td>\n",
              "      <td>-7.725336</td>\n",
              "      <td>-2.354526</td>\n",
              "      <td>-4.607707</td>\n",
              "      <td>0.164617</td>\n",
              "      <td>-6.985642</td>\n",
              "      <td>5.637628</td>\n",
              "      <td>5.313883</td>\n",
              "      <td>0.660609</td>\n",
              "      <td>0.064677</td>\n",
              "      <td>-1.277915</td>\n",
              "      <td>0.514201</td>\n",
              "      <td>0.567617</td>\n",
              "      <td>0.595351</td>\n",
              "      <td>0.737138</td>\n",
              "      <td>1.407868</td>\n",
              "      <td>1.836046</td>\n",
              "      <td>-0.185454</td>\n",
              "      <td>-0.439954</td>\n",
              "      <td>-0.642606</td>\n",
              "      <td>-5.028523</td>\n",
              "      <td>-1.073901</td>\n",
              "      <td>1.173600</td>\n",
              "      <td>-0.183291</td>\n",
              "      <td>-0.584831</td>\n",
              "      <td>0.008990</td>\n",
              "      <td>0.618218</td>\n",
              "      <td>-0.579530</td>\n",
              "      <td>-0.606947</td>\n",
              "      <td>1395.00</td>\n",
              "    </tr>\n",
              "    <tr>\n",
              "      <th>125927</th>\n",
              "      <td>77866.0</td>\n",
              "      <td>-0.517416</td>\n",
              "      <td>0.313686</td>\n",
              "      <td>1.537756</td>\n",
              "      <td>-1.558396</td>\n",
              "      <td>0.700028</td>\n",
              "      <td>1.288011</td>\n",
              "      <td>0.271898</td>\n",
              "      <td>0.507856</td>\n",
              "      <td>0.038740</td>\n",
              "      <td>-0.460233</td>\n",
              "      <td>2.212832</td>\n",
              "      <td>0.732872</td>\n",
              "      <td>-0.618835</td>\n",
              "      <td>0.113776</td>\n",
              "      <td>0.984074</td>\n",
              "      <td>-0.480702</td>\n",
              "      <td>0.180416</td>\n",
              "      <td>-1.792959</td>\n",
              "      <td>-2.015641</td>\n",
              "      <td>-0.062246</td>\n",
              "      <td>0.010926</td>\n",
              "      <td>0.338478</td>\n",
              "      <td>0.066529</td>\n",
              "      <td>-0.989922</td>\n",
              "      <td>-0.638208</td>\n",
              "      <td>0.806935</td>\n",
              "      <td>0.075750</td>\n",
              "      <td>-0.181417</td>\n",
              "      <td>7.68</td>\n",
              "    </tr>\n",
              "  </tbody>\n",
              "</table>\n",
              "</div>"
            ],
            "text/plain": [
              "            Time        V1        V2  ...       V27       V28   Amount\n",
              "65782    51742.0  1.217770  0.077244  ... -0.043997  0.004983     0.99\n",
              "86825    61413.0  0.665294 -0.779358  ...  0.025492  0.071064   214.04\n",
              "117627   74745.0  1.272176  0.169925  ...  0.037536  0.000581     3.76\n",
              "225290  144191.0 -7.725336 -2.354526  ... -0.579530 -0.606947  1395.00\n",
              "125927   77866.0 -0.517416  0.313686  ...  0.075750 -0.181417     7.68\n",
              "\n",
              "[5 rows x 30 columns]"
            ]
          },
          "metadata": {
            "tags": []
          },
          "execution_count": 328
        }
      ]
    },
    {
      "cell_type": "code",
      "metadata": {
        "id": "p2lL6waGc8zy",
        "colab_type": "code",
        "outputId": "89970f47-0b16-485e-eb68-8de97d7d6c30",
        "colab": {
          "base_uri": "https://localhost:8080/",
          "height": 35
        }
      },
      "source": [
        "print(len(X1_train),len(X1_val),len(X1_test))"
      ],
      "execution_count": 329,
      "outputs": [
        {
          "output_type": "stream",
          "text": [
            "170883 56962 56962\n"
          ],
          "name": "stdout"
        }
      ]
    },
    {
      "cell_type": "code",
      "metadata": {
        "id": "5QozDgtmkKrv",
        "colab_type": "code",
        "outputId": "f0f62a58-8088-4920-b660-38a9264800fa",
        "colab": {
          "base_uri": "https://localhost:8080/",
          "height": 35
        }
      },
      "source": [
        "y1train_ab = y1_train[y1_train==1]\n",
        "y1val_ab = y1_val[y1_val==1]\n",
        "y1test_ab = y1_test[y1_test==1]\n",
        "print('fraud total =',len(yab),'fraud train =',len(y1train_ab),'fraud val =',len(y1val_ab),'fraud test =',len(ytest_ab))"
      ],
      "execution_count": 330,
      "outputs": [
        {
          "output_type": "stream",
          "text": [
            "fraud total = 492 fraud train = 295 fraud val = 99 fraud test = 98\n"
          ],
          "name": "stdout"
        }
      ]
    },
    {
      "cell_type": "code",
      "metadata": {
        "id": "yDXhY2HMc80j",
        "colab_type": "code",
        "colab": {}
      },
      "source": [
        "y_test1 = np.array(y1_test)\n",
        "y_train1=np.array(y1_train)\n",
        "y_val1 = np.array(y1_val)"
      ],
      "execution_count": 0,
      "outputs": []
    },
    {
      "cell_type": "code",
      "metadata": {
        "id": "-u4f_fDwc802",
        "colab_type": "code",
        "outputId": "596e77e8-99a7-4100-de96-9e2a3b2331af",
        "colab": {
          "base_uri": "https://localhost:8080/",
          "height": 55
        }
      },
      "source": [
        "th_train1=len(y1train_ab)/len(y1_train)\n",
        "th_test1=len(y1test_ab)/len(y1_test)\n",
        "th_val1=len(y1val_ab)/len(y1_val)\n",
        "print('threshold train =',th_train1, 'threshold test =', th_test1,'threshold val =', th_val1)"
      ],
      "execution_count": 332,
      "outputs": [
        {
          "output_type": "stream",
          "text": [
            "threshold train = 0.0017263273701889597 threshold test = 0.0017204452090867595 threshold val = 0.0017380007724447878\n"
          ],
          "name": "stdout"
        }
      ]
    },
    {
      "cell_type": "code",
      "metadata": {
        "id": "P5wxl_xO12kR",
        "colab_type": "code",
        "outputId": "c945c806-8c10-47f5-8602-1d595de30d59",
        "colab": {
          "base_uri": "https://localhost:8080/",
          "height": 74
        }
      },
      "source": [
        "ifo1 = iForest(X1_train, 100, 256, th_train1)"
      ],
      "execution_count": 337,
      "outputs": [
        {
          "output_type": "stream",
          "text": [
            "/usr/local/lib/python3.6/dist-packages/sklearn/ensemble/iforest.py:247: FutureWarning: behaviour=\"old\" is deprecated and will be removed in version 0.22. Please use behaviour=\"new\", which makes the decision_function change to match other anomaly detection algorithm API.\n",
            "  FutureWarning)\n"
          ],
          "name": "stderr"
        }
      ]
    },
    {
      "cell_type": "code",
      "metadata": {
        "id": "BLADtkriIo3v",
        "colab_type": "code",
        "outputId": "ec320423-fce4-4add-c890-fc55905b853e",
        "colab": {
          "base_uri": "https://localhost:8080/",
          "height": 501
        }
      },
      "source": [
        "model_evaluate(ifo1,X1_val,y_val1)"
      ],
      "execution_count": 338,
      "outputs": [
        {
          "output_type": "stream",
          "text": [
            "/usr/local/lib/python3.6/dist-packages/sklearn/ensemble/iforest.py:415: DeprecationWarning: threshold_ attribute is deprecated in 0.20 and will be removed in 0.22.\n",
            "  \" be removed in 0.22.\", DeprecationWarning)\n"
          ],
          "name": "stderr"
        },
        {
          "output_type": "stream",
          "text": [
            "time :  1.414790391921997\n",
            "accuracy :  0.9985604438046417\n",
            "sensitivity :  0.6060606060606061\n",
            "specifity :  0.9992437964933261\n",
            "precision :  0.5825242718446602\n",
            "recall :  0.6060606060606061\n",
            "f1 score :  0.5940594059405939\n",
            "Confusion matrix\n",
            "TP =  60 FP =  43 FN =  39 TN =  56820\n"
          ],
          "name": "stdout"
        },
        {
          "output_type": "display_data",
          "data": {
            "image/png": "[encoded data removed]",
            "text/plain": [
              "<Figure size 576x288 with 2 Axes>"
            ]
          },
          "metadata": {
            "tags": []
          }
        }
      ]
    },
    {
      "cell_type": "code",
      "metadata": {
        "id": "hu3h5yO3c821",
        "colab_type": "code",
        "outputId": "b6bca7ab-5e5d-4538-a727-5a49c1cd75a0",
        "colab": {
          "base_uri": "https://localhost:8080/",
          "height": 501
        }
      },
      "source": [
        "model_evaluate(ifo1, X1_test, y_test1)"
      ],
      "execution_count": 339,
      "outputs": [
        {
          "output_type": "stream",
          "text": [
            "/usr/local/lib/python3.6/dist-packages/sklearn/ensemble/iforest.py:415: DeprecationWarning: threshold_ attribute is deprecated in 0.20 and will be removed in 0.22.\n",
            "  \" be removed in 0.22.\", DeprecationWarning)\n"
          ],
          "name": "stderr"
        },
        {
          "output_type": "stream",
          "text": [
            "time :  1.4270029067993164\n",
            "accuracy :  0.9986306660580738\n",
            "sensitivity :  0.6326530612244898\n",
            "specifity :  0.9992613956105796\n",
            "precision :  0.5961538461538461\n",
            "recall :  0.6326530612244898\n",
            "f1 score :  0.6138613861386137\n",
            "Confusion matrix\n",
            "TP =  62 FP =  42 FN =  36 TN =  56822\n"
          ],
          "name": "stdout"
        },
        {
          "output_type": "display_data",
          "data": {
            "image/png": "[encoded data removed]",
            "text/plain": [
              "<Figure size 576x288 with 2 Axes>"
            ]
          },
          "metadata": {
            "tags": []
          }
        }
      ]
    },
    {
      "cell_type": "markdown",
      "metadata": {
        "id": "VoSewArKfODM",
        "colab_type": "text"
      },
      "source": [
        "### percobaan1.2 - 5 fitur terbaik"
      ]
    },
    {
      "cell_type": "code",
      "metadata": {
        "id": "u03kXu_yfRjJ",
        "colab_type": "code",
        "colab": {
          "base_uri": "https://localhost:8080/",
          "height": 206
        },
        "outputId": "6205e0d7-e2f9-4794-c3fb-b2c1996e382c"
      },
      "source": [
        "X2 = df_data[['V14','V4','V17','V12','V11']]\n",
        "X2.head()"
      ],
      "execution_count": 340,
      "outputs": [
        {
          "output_type": "execute_result",
          "data": {
            "text/html": [
              "<div>\n",
              "<style scoped>\n",
              "    .dataframe tbody tr th:only-of-type {\n",
              "        vertical-align: middle;\n",
              "    }\n",
              "\n",
              "    .dataframe tbody tr th {\n",
              "        vertical-align: top;\n",
              "    }\n",
              "\n",
              "    .dataframe thead th {\n",
              "        text-align: right;\n",
              "    }\n",
              "</style>\n",
              "<table border=\"1\" class=\"dataframe\">\n",
              "  <thead>\n",
              "    <tr style=\"text-align: right;\">\n",
              "      <th></th>\n",
              "      <th>V14</th>\n",
              "      <th>V4</th>\n",
              "      <th>V17</th>\n",
              "      <th>V12</th>\n",
              "      <th>V11</th>\n",
              "    </tr>\n",
              "  </thead>\n",
              "  <tbody>\n",
              "    <tr>\n",
              "      <th>0</th>\n",
              "      <td>-0.311169</td>\n",
              "      <td>1.378155</td>\n",
              "      <td>0.207971</td>\n",
              "      <td>-0.617801</td>\n",
              "      <td>-0.551600</td>\n",
              "    </tr>\n",
              "    <tr>\n",
              "      <th>1</th>\n",
              "      <td>-0.143772</td>\n",
              "      <td>0.448154</td>\n",
              "      <td>-0.114805</td>\n",
              "      <td>1.065235</td>\n",
              "      <td>1.612727</td>\n",
              "    </tr>\n",
              "    <tr>\n",
              "      <th>2</th>\n",
              "      <td>-0.165946</td>\n",
              "      <td>0.379780</td>\n",
              "      <td>1.109969</td>\n",
              "      <td>0.066084</td>\n",
              "      <td>0.624501</td>\n",
              "    </tr>\n",
              "    <tr>\n",
              "      <th>3</th>\n",
              "      <td>-0.287924</td>\n",
              "      <td>-0.863291</td>\n",
              "      <td>-0.684093</td>\n",
              "      <td>0.178228</td>\n",
              "      <td>-0.226487</td>\n",
              "    </tr>\n",
              "    <tr>\n",
              "      <th>4</th>\n",
              "      <td>-1.119670</td>\n",
              "      <td>0.403034</td>\n",
              "      <td>-0.237033</td>\n",
              "      <td>0.538196</td>\n",
              "      <td>-0.822843</td>\n",
              "    </tr>\n",
              "  </tbody>\n",
              "</table>\n",
              "</div>"
            ],
            "text/plain": [
              "        V14        V4       V17       V12       V11\n",
              "0 -0.311169  1.378155  0.207971 -0.617801 -0.551600\n",
              "1 -0.143772  0.448154 -0.114805  1.065235  1.612727\n",
              "2 -0.165946  0.379780  1.109969  0.066084  0.624501\n",
              "3 -0.287924 -0.863291 -0.684093  0.178228 -0.226487\n",
              "4 -1.119670  0.403034 -0.237033  0.538196 -0.822843"
            ]
          },
          "metadata": {
            "tags": []
          },
          "execution_count": 340
        }
      ]
    },
    {
      "cell_type": "code",
      "metadata": {
        "id": "TYJBxbJrfXG3",
        "colab_type": "code",
        "colab": {}
      },
      "source": [
        "X2_train, X2_test, y2_train, y2_test = train_test_split(X2, y, test_size=0.2, random_state=1, stratify=y)\n",
        "X2_train, X2_val, y2_train, y2_val = train_test_split(X2_train, y2_train, test_size=0.25, random_state=1, stratify=y2_train)"
      ],
      "execution_count": 0,
      "outputs": []
    },
    {
      "cell_type": "code",
      "metadata": {
        "id": "zKy9Guqcfd1h",
        "colab_type": "code",
        "colab": {
          "base_uri": "https://localhost:8080/",
          "height": 35
        },
        "outputId": "f18529ca-b77a-4011-a005-c240168fd66f"
      },
      "source": [
        "print(len(X2_train),len(X2_val),len(X2_test))"
      ],
      "execution_count": 342,
      "outputs": [
        {
          "output_type": "stream",
          "text": [
            "170883 56962 56962\n"
          ],
          "name": "stdout"
        }
      ]
    },
    {
      "cell_type": "code",
      "metadata": {
        "id": "rMkv7TkvfiLX",
        "colab_type": "code",
        "colab": {}
      },
      "source": [
        "y2train_ab = y2_train[y2_train==1]\n",
        "y2val_ab = y2_val[y2_val==1]\n",
        "y2test_ab = y2_test[y2_test==1]"
      ],
      "execution_count": 0,
      "outputs": []
    },
    {
      "cell_type": "code",
      "metadata": {
        "id": "GQm0ago5fsUL",
        "colab_type": "code",
        "colab": {}
      },
      "source": [
        "y_test2 = np.array(y2_test)\n",
        "y_train2=np.array(y2_train)\n",
        "y_val2 = np.array(y2_val)"
      ],
      "execution_count": 0,
      "outputs": []
    },
    {
      "cell_type": "code",
      "metadata": {
        "id": "QN-70jAKfs--",
        "colab_type": "code",
        "colab": {
          "base_uri": "https://localhost:8080/",
          "height": 55
        },
        "outputId": "eba499ea-b6d2-4768-ce3a-be4ae63c4649"
      },
      "source": [
        "th_train2=len(y2train_ab)/len(y2_train)\n",
        "th_test2=len(y2test_ab)/len(y2_test)\n",
        "th_val2=len(y2val_ab)/len(y2_val)\n",
        "print('threshold train =',th_train2, 'threshold test =', th_test2,'threshold val =', th_val2)"
      ],
      "execution_count": 345,
      "outputs": [
        {
          "output_type": "stream",
          "text": [
            "threshold train = 0.0017263273701889597 threshold test = 0.0017204452090867595 threshold val = 0.0017380007724447878\n"
          ],
          "name": "stdout"
        }
      ]
    },
    {
      "cell_type": "code",
      "metadata": {
        "id": "ppQUG8sKfvmM",
        "colab_type": "code",
        "colab": {
          "base_uri": "https://localhost:8080/",
          "height": 74
        },
        "outputId": "f228b215-4069-44da-d783-53e06051f2d4"
      },
      "source": [
        "ifo2 = iForest(X2_train, 100, 256, th_train2)"
      ],
      "execution_count": 346,
      "outputs": [
        {
          "output_type": "stream",
          "text": [
            "/usr/local/lib/python3.6/dist-packages/sklearn/ensemble/iforest.py:247: FutureWarning: behaviour=\"old\" is deprecated and will be removed in version 0.22. Please use behaviour=\"new\", which makes the decision_function change to match other anomaly detection algorithm API.\n",
            "  FutureWarning)\n"
          ],
          "name": "stderr"
        }
      ]
    },
    {
      "cell_type": "code",
      "metadata": {
        "id": "otVaCkqKfy7D",
        "colab_type": "code",
        "colab": {
          "base_uri": "https://localhost:8080/",
          "height": 501
        },
        "outputId": "f763e738-f5a8-4b60-907a-3f0e4eb1f7de"
      },
      "source": [
        "model_evaluate(ifo2,X2_val,y_val2)"
      ],
      "execution_count": 347,
      "outputs": [
        {
          "output_type": "stream",
          "text": [
            "/usr/local/lib/python3.6/dist-packages/sklearn/ensemble/iforest.py:415: DeprecationWarning: threshold_ attribute is deprecated in 0.20 and will be removed in 0.22.\n",
            "  \" be removed in 0.22.\", DeprecationWarning)\n"
          ],
          "name": "stderr"
        },
        {
          "output_type": "stream",
          "text": [
            "time :  1.4685695171356201\n",
            "accuracy :  0.9990344440153085\n",
            "sensitivity :  0.7575757575757576\n",
            "specifity :  0.9994548300300723\n",
            "precision :  0.7075471698113207\n",
            "recall :  0.7575757575757576\n",
            "f1 score :  0.7317073170731707\n",
            "Confusion matrix\n",
            "TP =  75 FP =  31 FN =  24 TN =  56832\n"
          ],
          "name": "stdout"
        },
        {
          "output_type": "display_data",
          "data": {
            "image/png": "[encoded data removed]",
            "text/plain": [
              "<Figure size 576x288 with 2 Axes>"
            ]
          },
          "metadata": {
            "tags": []
          }
        }
      ]
    },
    {
      "cell_type": "code",
      "metadata": {
        "id": "QhGGzCuAf1Zy",
        "colab_type": "code",
        "colab": {
          "base_uri": "https://localhost:8080/",
          "height": 501
        },
        "outputId": "72fe6b2f-8b29-4a8c-ad2c-3a4f29e3efcc"
      },
      "source": [
        "model_evaluate(ifo2, X2_test, y_test2)"
      ],
      "execution_count": 348,
      "outputs": [
        {
          "output_type": "stream",
          "text": [
            "/usr/local/lib/python3.6/dist-packages/sklearn/ensemble/iforest.py:415: DeprecationWarning: threshold_ attribute is deprecated in 0.20 and will be removed in 0.22.\n",
            "  \" be removed in 0.22.\", DeprecationWarning)\n"
          ],
          "name": "stderr"
        },
        {
          "output_type": "stream",
          "text": [
            "time :  1.5111591815948486\n",
            "accuracy :  0.9993328885923949\n",
            "sensitivity :  0.8061224489795918\n",
            "specifity :  0.9996658694428813\n",
            "precision :  0.8061224489795918\n",
            "recall :  0.8061224489795918\n",
            "f1 score :  0.806122448979592\n",
            "Confusion matrix\n",
            "TP =  79 FP =  19 FN =  19 TN =  56845\n"
          ],
          "name": "stdout"
        },
        {
          "output_type": "display_data",
          "data": {
            "image/png": "[encoded data removed]",
            "text/plain": [
              "<Figure size 576x288 with 2 Axes>"
            ]
          },
          "metadata": {
            "tags": []
          }
        }
      ]
    },
    {
      "cell_type": "code",
      "metadata": {
        "id": "eoeRNpQdgtPn",
        "colab_type": "code",
        "colab": {}
      },
      "source": [
        ""
      ],
      "execution_count": 0,
      "outputs": []
    },
    {
      "cell_type": "markdown",
      "metadata": {
        "colab_type": "text",
        "id": "MmeQbdX9iFJ2"
      },
      "source": [
        "### percobaan1.3 - 7 fitur terbaik"
      ]
    },
    {
      "cell_type": "code",
      "metadata": {
        "colab_type": "code",
        "outputId": "21f76a26-3776-4992-e7bd-94d6b3e3790a",
        "id": "UK4vnpPUiFKL",
        "colab": {
          "base_uri": "https://localhost:8080/",
          "height": 206
        }
      },
      "source": [
        "X3 = df_data[['V14','V4','V17','V12','V11','V2','V10']]\n",
        "X3.head()"
      ],
      "execution_count": 349,
      "outputs": [
        {
          "output_type": "execute_result",
          "data": {
            "text/html": [
              "<div>\n",
              "<style scoped>\n",
              "    .dataframe tbody tr th:only-of-type {\n",
              "        vertical-align: middle;\n",
              "    }\n",
              "\n",
              "    .dataframe tbody tr th {\n",
              "        vertical-align: top;\n",
              "    }\n",
              "\n",
              "    .dataframe thead th {\n",
              "        text-align: right;\n",
              "    }\n",
              "</style>\n",
              "<table border=\"1\" class=\"dataframe\">\n",
              "  <thead>\n",
              "    <tr style=\"text-align: right;\">\n",
              "      <th></th>\n",
              "      <th>V14</th>\n",
              "      <th>V4</th>\n",
              "      <th>V17</th>\n",
              "      <th>V12</th>\n",
              "      <th>V11</th>\n",
              "      <th>V2</th>\n",
              "      <th>V10</th>\n",
              "    </tr>\n",
              "  </thead>\n",
              "  <tbody>\n",
              "    <tr>\n",
              "      <th>0</th>\n",
              "      <td>-0.311169</td>\n",
              "      <td>1.378155</td>\n",
              "      <td>0.207971</td>\n",
              "      <td>-0.617801</td>\n",
              "      <td>-0.551600</td>\n",
              "      <td>-0.072781</td>\n",
              "      <td>0.090794</td>\n",
              "    </tr>\n",
              "    <tr>\n",
              "      <th>1</th>\n",
              "      <td>-0.143772</td>\n",
              "      <td>0.448154</td>\n",
              "      <td>-0.114805</td>\n",
              "      <td>1.065235</td>\n",
              "      <td>1.612727</td>\n",
              "      <td>0.266151</td>\n",
              "      <td>-0.166974</td>\n",
              "    </tr>\n",
              "    <tr>\n",
              "      <th>2</th>\n",
              "      <td>-0.165946</td>\n",
              "      <td>0.379780</td>\n",
              "      <td>1.109969</td>\n",
              "      <td>0.066084</td>\n",
              "      <td>0.624501</td>\n",
              "      <td>-1.340163</td>\n",
              "      <td>0.207643</td>\n",
              "    </tr>\n",
              "    <tr>\n",
              "      <th>3</th>\n",
              "      <td>-0.287924</td>\n",
              "      <td>-0.863291</td>\n",
              "      <td>-0.684093</td>\n",
              "      <td>0.178228</td>\n",
              "      <td>-0.226487</td>\n",
              "      <td>-0.185226</td>\n",
              "      <td>-0.054952</td>\n",
              "    </tr>\n",
              "    <tr>\n",
              "      <th>4</th>\n",
              "      <td>-1.119670</td>\n",
              "      <td>0.403034</td>\n",
              "      <td>-0.237033</td>\n",
              "      <td>0.538196</td>\n",
              "      <td>-0.822843</td>\n",
              "      <td>0.877737</td>\n",
              "      <td>0.753074</td>\n",
              "    </tr>\n",
              "  </tbody>\n",
              "</table>\n",
              "</div>"
            ],
            "text/plain": [
              "        V14        V4       V17       V12       V11        V2       V10\n",
              "0 -0.311169  1.378155  0.207971 -0.617801 -0.551600 -0.072781  0.090794\n",
              "1 -0.143772  0.448154 -0.114805  1.065235  1.612727  0.266151 -0.166974\n",
              "2 -0.165946  0.379780  1.109969  0.066084  0.624501 -1.340163  0.207643\n",
              "3 -0.287924 -0.863291 -0.684093  0.178228 -0.226487 -0.185226 -0.054952\n",
              "4 -1.119670  0.403034 -0.237033  0.538196 -0.822843  0.877737  0.753074"
            ]
          },
          "metadata": {
            "tags": []
          },
          "execution_count": 349
        }
      ]
    },
    {
      "cell_type": "code",
      "metadata": {
        "colab_type": "code",
        "id": "ZTDmZXSziFLX",
        "colab": {}
      },
      "source": [
        "X3_train, X3_test, y3_train, y3_test = train_test_split(X3, y, test_size=0.2, random_state=1, stratify=y)\n",
        "X3_train, X3_val, y3_train, y3_val = train_test_split(X3_train, y3_train, test_size=0.25, random_state=1, stratify=y3_train)"
      ],
      "execution_count": 0,
      "outputs": []
    },
    {
      "cell_type": "code",
      "metadata": {
        "colab_type": "code",
        "outputId": "5f328a93-d003-4ab5-dec9-c31da9086d67",
        "id": "4tId0zLdiFMD",
        "colab": {
          "base_uri": "https://localhost:8080/",
          "height": 35
        }
      },
      "source": [
        "print(len(X3_train),len(X3_val),len(X3_test))"
      ],
      "execution_count": 351,
      "outputs": [
        {
          "output_type": "stream",
          "text": [
            "170883 56962 56962\n"
          ],
          "name": "stdout"
        }
      ]
    },
    {
      "cell_type": "code",
      "metadata": {
        "colab_type": "code",
        "id": "ONHNwT7UiFMu",
        "colab": {}
      },
      "source": [
        "y3train_ab = y3_train[y3_train==1]\n",
        "y3val_ab = y3_val[y3_val==1]\n",
        "y3test_ab = y3_test[y3_test==1]"
      ],
      "execution_count": 0,
      "outputs": []
    },
    {
      "cell_type": "code",
      "metadata": {
        "colab_type": "code",
        "id": "Q_f0bxiXiFM4",
        "colab": {}
      },
      "source": [
        "y_test3 = np.array(y3_test)\n",
        "y_train3=np.array(y3_train)\n",
        "y_val3 = np.array(y3_val)"
      ],
      "execution_count": 0,
      "outputs": []
    },
    {
      "cell_type": "code",
      "metadata": {
        "colab_type": "code",
        "outputId": "223f7522-7f16-4f88-d8c7-adce4ab369c8",
        "id": "KF9JdVAZiFND",
        "colab": {
          "base_uri": "https://localhost:8080/",
          "height": 55
        }
      },
      "source": [
        "th_train3=len(y3train_ab)/len(y3_train)\n",
        "th_test3=len(y3test_ab)/len(y3_test)\n",
        "th_val3=len(y3val_ab)/len(y3_val)\n",
        "print('threshold train =',th_train3, 'threshold test =', th_test3,'threshold val =', th_val3)"
      ],
      "execution_count": 354,
      "outputs": [
        {
          "output_type": "stream",
          "text": [
            "threshold train = 0.0017263273701889597 threshold test = 0.0017204452090867595 threshold val = 0.0017380007724447878\n"
          ],
          "name": "stdout"
        }
      ]
    },
    {
      "cell_type": "code",
      "metadata": {
        "colab_type": "code",
        "outputId": "d31b2e60-82ba-4dbc-be0f-75f569a19674",
        "id": "tCfI_Cd5iFNT",
        "colab": {
          "base_uri": "https://localhost:8080/",
          "height": 74
        }
      },
      "source": [
        "ifo3 = iForest(X3_train, 100, 256, th_train3)"
      ],
      "execution_count": 355,
      "outputs": [
        {
          "output_type": "stream",
          "text": [
            "/usr/local/lib/python3.6/dist-packages/sklearn/ensemble/iforest.py:247: FutureWarning: behaviour=\"old\" is deprecated and will be removed in version 0.22. Please use behaviour=\"new\", which makes the decision_function change to match other anomaly detection algorithm API.\n",
            "  FutureWarning)\n"
          ],
          "name": "stderr"
        }
      ]
    },
    {
      "cell_type": "code",
      "metadata": {
        "colab_type": "code",
        "outputId": "86e61826-02f7-4779-983a-36eb3b56afc2",
        "id": "z3pYoZhXiFNg",
        "colab": {
          "base_uri": "https://localhost:8080/",
          "height": 501
        }
      },
      "source": [
        "model_evaluate(ifo3,X3_val,y_val3)"
      ],
      "execution_count": 356,
      "outputs": [
        {
          "output_type": "stream",
          "text": [
            "/usr/local/lib/python3.6/dist-packages/sklearn/ensemble/iforest.py:415: DeprecationWarning: threshold_ attribute is deprecated in 0.20 and will be removed in 0.22.\n",
            "  \" be removed in 0.22.\", DeprecationWarning)\n"
          ],
          "name": "stderr"
        },
        {
          "output_type": "stream",
          "text": [
            "time :  1.4634478092193604\n",
            "accuracy :  0.9985077771145676\n",
            "sensitivity :  0.5252525252525253\n",
            "specifity :  0.9993317271336369\n",
            "precision :  0.5777777777777777\n",
            "recall :  0.5252525252525253\n",
            "f1 score :  0.5502645502645503\n",
            "Confusion matrix\n",
            "TP =  52 FP =  38 FN =  47 TN =  56825\n"
          ],
          "name": "stdout"
        },
        {
          "output_type": "display_data",
          "data": {
            "image/png": "[encoded data removed]",
            "text/plain": [
              "<Figure size 576x288 with 2 Axes>"
            ]
          },
          "metadata": {
            "tags": []
          }
        }
      ]
    },
    {
      "cell_type": "code",
      "metadata": {
        "colab_type": "code",
        "outputId": "e7d048c7-9d16-45ea-a066-acb09908239b",
        "id": "QBxNoId8iFNt",
        "colab": {
          "base_uri": "https://localhost:8080/",
          "height": 501
        }
      },
      "source": [
        "model_evaluate(ifo3, X3_test, y_test3)"
      ],
      "execution_count": 357,
      "outputs": [
        {
          "output_type": "stream",
          "text": [
            "/usr/local/lib/python3.6/dist-packages/sklearn/ensemble/iforest.py:415: DeprecationWarning: threshold_ attribute is deprecated in 0.20 and will be removed in 0.22.\n",
            "  \" be removed in 0.22.\", DeprecationWarning)\n"
          ],
          "name": "stderr"
        },
        {
          "output_type": "stream",
          "text": [
            "time :  1.4789352416992188\n",
            "accuracy :  0.9986131104947158\n",
            "sensitivity :  0.6836734693877551\n",
            "specifity :  0.9991558806978053\n",
            "precision :  0.5826086956521739\n",
            "recall :  0.6836734693877551\n",
            "f1 score :  0.6291079812206573\n",
            "Confusion matrix\n",
            "TP =  67 FP =  48 FN =  31 TN =  56816\n"
          ],
          "name": "stdout"
        },
        {
          "output_type": "display_data",
          "data": {
            "image/png": "[encoded data removed]",
            "text/plain": [
              "<Figure size 576x288 with 2 Axes>"
            ]
          },
          "metadata": {
            "tags": []
          }
        }
      ]
    },
    {
      "cell_type": "code",
      "metadata": {
        "colab_type": "code",
        "id": "RN-nMnqRiFN3",
        "colab": {}
      },
      "source": [
        ""
      ],
      "execution_count": 0,
      "outputs": []
    },
    {
      "cell_type": "markdown",
      "metadata": {
        "colab_type": "text",
        "id": "9GkkEbALjLsP"
      },
      "source": [
        "### percobaan1.4 - 10 fitur terbaik"
      ]
    },
    {
      "cell_type": "code",
      "metadata": {
        "colab_type": "code",
        "outputId": "38758f98-5959-4144-d15d-9fe3eb2c5704",
        "id": "4mI-O87AjLtZ",
        "colab": {
          "base_uri": "https://localhost:8080/",
          "height": 206
        }
      },
      "source": [
        "X4 = df_data[['V14','V4','V17','V12','V11','V2','V10','V7','V20','V21']]\n",
        "X4.head()"
      ],
      "execution_count": 358,
      "outputs": [
        {
          "output_type": "execute_result",
          "data": {
            "text/html": [
              "<div>\n",
              "<style scoped>\n",
              "    .dataframe tbody tr th:only-of-type {\n",
              "        vertical-align: middle;\n",
              "    }\n",
              "\n",
              "    .dataframe tbody tr th {\n",
              "        vertical-align: top;\n",
              "    }\n",
              "\n",
              "    .dataframe thead th {\n",
              "        text-align: right;\n",
              "    }\n",
              "</style>\n",
              "<table border=\"1\" class=\"dataframe\">\n",
              "  <thead>\n",
              "    <tr style=\"text-align: right;\">\n",
              "      <th></th>\n",
              "      <th>V14</th>\n",
              "      <th>V4</th>\n",
              "      <th>V17</th>\n",
              "      <th>V12</th>\n",
              "      <th>V11</th>\n",
              "      <th>V2</th>\n",
              "      <th>V10</th>\n",
              "      <th>V7</th>\n",
              "      <th>V20</th>\n",
              "      <th>V21</th>\n",
              "    </tr>\n",
              "  </thead>\n",
              "  <tbody>\n",
              "    <tr>\n",
              "      <th>0</th>\n",
              "      <td>-0.311169</td>\n",
              "      <td>1.378155</td>\n",
              "      <td>0.207971</td>\n",
              "      <td>-0.617801</td>\n",
              "      <td>-0.551600</td>\n",
              "      <td>-0.072781</td>\n",
              "      <td>0.090794</td>\n",
              "      <td>0.239599</td>\n",
              "      <td>0.251412</td>\n",
              "      <td>-0.018307</td>\n",
              "    </tr>\n",
              "    <tr>\n",
              "      <th>1</th>\n",
              "      <td>-0.143772</td>\n",
              "      <td>0.448154</td>\n",
              "      <td>-0.114805</td>\n",
              "      <td>1.065235</td>\n",
              "      <td>1.612727</td>\n",
              "      <td>0.266151</td>\n",
              "      <td>-0.166974</td>\n",
              "      <td>-0.078803</td>\n",
              "      <td>-0.069083</td>\n",
              "      <td>-0.225775</td>\n",
              "    </tr>\n",
              "    <tr>\n",
              "      <th>2</th>\n",
              "      <td>-0.165946</td>\n",
              "      <td>0.379780</td>\n",
              "      <td>1.109969</td>\n",
              "      <td>0.066084</td>\n",
              "      <td>0.624501</td>\n",
              "      <td>-1.340163</td>\n",
              "      <td>0.207643</td>\n",
              "      <td>0.791461</td>\n",
              "      <td>0.524980</td>\n",
              "      <td>0.247998</td>\n",
              "    </tr>\n",
              "    <tr>\n",
              "      <th>3</th>\n",
              "      <td>-0.287924</td>\n",
              "      <td>-0.863291</td>\n",
              "      <td>-0.684093</td>\n",
              "      <td>0.178228</td>\n",
              "      <td>-0.226487</td>\n",
              "      <td>-0.185226</td>\n",
              "      <td>-0.054952</td>\n",
              "      <td>0.237609</td>\n",
              "      <td>-0.208038</td>\n",
              "      <td>-0.108300</td>\n",
              "    </tr>\n",
              "    <tr>\n",
              "      <th>4</th>\n",
              "      <td>-1.119670</td>\n",
              "      <td>0.403034</td>\n",
              "      <td>-0.237033</td>\n",
              "      <td>0.538196</td>\n",
              "      <td>-0.822843</td>\n",
              "      <td>0.877737</td>\n",
              "      <td>0.753074</td>\n",
              "      <td>0.592941</td>\n",
              "      <td>0.408542</td>\n",
              "      <td>-0.009431</td>\n",
              "    </tr>\n",
              "  </tbody>\n",
              "</table>\n",
              "</div>"
            ],
            "text/plain": [
              "        V14        V4       V17  ...        V7       V20       V21\n",
              "0 -0.311169  1.378155  0.207971  ...  0.239599  0.251412 -0.018307\n",
              "1 -0.143772  0.448154 -0.114805  ... -0.078803 -0.069083 -0.225775\n",
              "2 -0.165946  0.379780  1.109969  ...  0.791461  0.524980  0.247998\n",
              "3 -0.287924 -0.863291 -0.684093  ...  0.237609 -0.208038 -0.108300\n",
              "4 -1.119670  0.403034 -0.237033  ...  0.592941  0.408542 -0.009431\n",
              "\n",
              "[5 rows x 10 columns]"
            ]
          },
          "metadata": {
            "tags": []
          },
          "execution_count": 358
        }
      ]
    },
    {
      "cell_type": "code",
      "metadata": {
        "colab_type": "code",
        "id": "M67VBZ9CjLv-",
        "colab": {}
      },
      "source": [
        "X4_train, X4_test, y4_train, y4_test = train_test_split(X4, y, test_size=0.2, random_state=1, stratify=y)\n",
        "X4_train, X4_val, y4_train, y4_val = train_test_split(X4_train, y4_train, test_size=0.25, random_state=1, stratify=y4_train)"
      ],
      "execution_count": 0,
      "outputs": []
    },
    {
      "cell_type": "code",
      "metadata": {
        "colab_type": "code",
        "outputId": "48cd9314-a8d1-42b5-eaef-8b4511863152",
        "id": "R6q76RIsjLwq",
        "colab": {
          "base_uri": "https://localhost:8080/",
          "height": 35
        }
      },
      "source": [
        "print(len(X4_train),len(X4_val),len(X4_test))"
      ],
      "execution_count": 360,
      "outputs": [
        {
          "output_type": "stream",
          "text": [
            "170883 56962 56962\n"
          ],
          "name": "stdout"
        }
      ]
    },
    {
      "cell_type": "code",
      "metadata": {
        "colab_type": "code",
        "id": "1_rsLn1LjLx2",
        "colab": {}
      },
      "source": [
        "y4train_ab = y4_train[y4_train==1]\n",
        "y4val_ab = y4_val[y4_val==1]\n",
        "y4test_ab = y4_test[y4_test==1]"
      ],
      "execution_count": 0,
      "outputs": []
    },
    {
      "cell_type": "code",
      "metadata": {
        "colab_type": "code",
        "id": "lyz7MLVbjLyK",
        "colab": {}
      },
      "source": [
        "y_test4 = np.array(y4_test)\n",
        "y_train4=np.array(y4_train)\n",
        "y_val4 = np.array(y4_val)"
      ],
      "execution_count": 0,
      "outputs": []
    },
    {
      "cell_type": "code",
      "metadata": {
        "colab_type": "code",
        "outputId": "41cfdd04-2ed1-4898-d69c-87b96190517a",
        "id": "7Aj6BWppjLye",
        "colab": {
          "base_uri": "https://localhost:8080/",
          "height": 55
        }
      },
      "source": [
        "th_train4=len(y4train_ab)/len(y4_train)\n",
        "th_test4=len(y4test_ab)/len(y4_test)\n",
        "th_val4=len(y4val_ab)/len(y4_val)\n",
        "print('threshold train =',th_train4, 'threshold test =', th_test4,'threshold val =', th_val4)"
      ],
      "execution_count": 363,
      "outputs": [
        {
          "output_type": "stream",
          "text": [
            "threshold train = 0.0017263273701889597 threshold test = 0.0017204452090867595 threshold val = 0.0017380007724447878\n"
          ],
          "name": "stdout"
        }
      ]
    },
    {
      "cell_type": "code",
      "metadata": {
        "colab_type": "code",
        "outputId": "ff97e589-9ef0-42e2-dd5d-c43adb23747d",
        "id": "sf-cQE5TjLyz",
        "colab": {
          "base_uri": "https://localhost:8080/",
          "height": 74
        }
      },
      "source": [
        "ifo4 = iForest(X4_train, 100, 256, th_train4)"
      ],
      "execution_count": 364,
      "outputs": [
        {
          "output_type": "stream",
          "text": [
            "/usr/local/lib/python3.6/dist-packages/sklearn/ensemble/iforest.py:247: FutureWarning: behaviour=\"old\" is deprecated and will be removed in version 0.22. Please use behaviour=\"new\", which makes the decision_function change to match other anomaly detection algorithm API.\n",
            "  FutureWarning)\n"
          ],
          "name": "stderr"
        }
      ]
    },
    {
      "cell_type": "code",
      "metadata": {
        "colab_type": "code",
        "outputId": "1099bf55-3688-47b8-9725-8798733fae3c",
        "id": "nMaDA_b0jLy_",
        "colab": {
          "base_uri": "https://localhost:8080/",
          "height": 501
        }
      },
      "source": [
        "model_evaluate(ifo4,X4_val,y_val4)"
      ],
      "execution_count": 365,
      "outputs": [
        {
          "output_type": "stream",
          "text": [
            "/usr/local/lib/python3.6/dist-packages/sklearn/ensemble/iforest.py:415: DeprecationWarning: threshold_ attribute is deprecated in 0.20 and will be removed in 0.22.\n",
            "  \" be removed in 0.22.\", DeprecationWarning)\n"
          ],
          "name": "stderr"
        },
        {
          "output_type": "stream",
          "text": [
            "time :  1.5152463912963867\n",
            "accuracy :  0.9978055545802464\n",
            "sensitivity :  0.3939393939393939\n",
            "specifity :  0.998856901675958\n",
            "precision :  0.375\n",
            "recall :  0.3939393939393939\n",
            "f1 score :  0.3842364532019704\n",
            "Confusion matrix\n",
            "TP =  39 FP =  65 FN =  60 TN =  56798\n"
          ],
          "name": "stdout"
        },
        {
          "output_type": "display_data",
          "data": {
            "image/png": "[encoded data removed]",
            "text/plain": [
              "<Figure size 576x288 with 2 Axes>"
            ]
          },
          "metadata": {
            "tags": []
          }
        }
      ]
    },
    {
      "cell_type": "code",
      "metadata": {
        "colab_type": "code",
        "outputId": "bbb0c4e4-cca0-4d8a-bbe2-96598ebbfa7d",
        "id": "qy_v4HZ2jLzN",
        "colab": {
          "base_uri": "https://localhost:8080/",
          "height": 501
        }
      },
      "source": [
        "model_evaluate(ifo4, X4_test, y_test4)"
      ],
      "execution_count": 366,
      "outputs": [
        {
          "output_type": "stream",
          "text": [
            "/usr/local/lib/python3.6/dist-packages/sklearn/ensemble/iforest.py:415: DeprecationWarning: threshold_ attribute is deprecated in 0.20 and will be removed in 0.22.\n",
            "  \" be removed in 0.22.\", DeprecationWarning)\n"
          ],
          "name": "stderr"
        },
        {
          "output_type": "stream",
          "text": [
            "time :  1.4931588172912598\n",
            "accuracy :  0.9976826656367402\n",
            "sensitivity :  0.4489795918367347\n",
            "specifity :  0.9986283061339336\n",
            "precision :  0.36065573770491804\n",
            "recall :  0.4489795918367347\n",
            "f1 score :  0.4\n",
            "Confusion matrix\n",
            "TP =  44 FP =  78 FN =  54 TN =  56786\n"
          ],
          "name": "stdout"
        },
        {
          "output_type": "display_data",
          "data": {
            "image/png": "[encoded data removed]",
            "text/plain": [
              "<Figure size 576x288 with 2 Axes>"
            ]
          },
          "metadata": {
            "tags": []
          }
        }
      ]
    },
    {
      "cell_type": "code",
      "metadata": {
        "colab_type": "code",
        "id": "45RH-NhZjLzd",
        "colab": {}
      },
      "source": [
        ""
      ],
      "execution_count": 0,
      "outputs": []
    }
  ]
}